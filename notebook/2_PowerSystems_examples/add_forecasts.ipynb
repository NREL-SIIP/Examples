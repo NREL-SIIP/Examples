{
 "cells": [
  {
   "cell_type": "markdown",
   "metadata": {},
   "source": [
    "# Add time series to `System`"
   ]
  },
  {
   "cell_type": "markdown",
   "metadata": {},
   "source": [
    "**Originally Contributed by**: Clayton Barrows"
   ]
  },
  {
   "cell_type": "markdown",
   "metadata": {},
   "source": [
    "## Introduction"
   ]
  },
  {
   "cell_type": "markdown",
   "metadata": {},
   "source": [
    "An example of how to parse add time series data to a `System` using [PowerSystems.jl](github.com/NREL-SIIP/PowerSystems.jl)\n",
    "\n",
    "For example, a `System` created by [parsing a MATPOWER file](../../notebook/2_PowerSystems_examples/parse_matpower.ipynb)\n",
    "doesn't contain any time series data. So a user may want to add time series to the `System`\n",
    "### Dependencies\n",
    "Let's use the 5-bus dataset we parsed in the MATPOWER example"
   ]
  },
  {
   "cell_type": "code",
   "execution_count": 1,
   "metadata": {},
   "outputs": [
    {
     "name": "stderr",
     "output_type": "stream",
     "text": [
      "┌ Info: Precompiling SIIPExamples [2c79006f-6450-48c4-b124-fbadab4f299d]\n",
      "└ @ Base loading.jl:1278\n"
     ]
    },
    {
     "name": "stdout",
     "output_type": "stream",
     "text": [
      "\u001b[36m\u001b[1mProject \u001b[22m\u001b[39mSIIPExamples v0.0.2\n",
      "\u001b[32m\u001b[1mStatus\u001b[22m\u001b[39m `~/sandboxes/SIIPExamples.jl/Project.toml`\n",
      " \u001b[90m [336ed68f] \u001b[39m\u001b[37mCSV v0.8.0\u001b[39m\n",
      " \u001b[90m [9961bab8] \u001b[39m\u001b[37mCbc v0.7.1\u001b[39m\n",
      " \u001b[90m [41994980] \u001b[39m\u001b[37mD3TypeTrees v0.1.1\u001b[39m\n",
      " \u001b[90m [a93c6f00] \u001b[39m\u001b[37mDataFrames v0.22.1\u001b[39m\n",
      " \u001b[90m [0b91fe84] \u001b[39m\u001b[37mDisplayAs v0.1.2\u001b[39m\n",
      " \u001b[90m [2cd47ed4] \u001b[39m\u001b[37mInfrastructureSystems v1.0.4\u001b[39m\n",
      " \u001b[90m [b6b21f68] \u001b[39m\u001b[37mIpopt v0.6.3\u001b[39m\n",
      " \u001b[90m [0f8b85d8] \u001b[39m\u001b[37mJSON3 v1.4.0\u001b[39m\n",
      " \u001b[90m [98b081ad] \u001b[39m\u001b[37mLiterate v2.7.0\u001b[39m\n",
      " \u001b[90m [f0f68f2c] \u001b[39m\u001b[37mPlotlyJS v0.14.0\u001b[39m\n",
      " \u001b[90m [91a5bcdd] \u001b[39m\u001b[37mPlots v1.9.1\u001b[39m\n",
      " \u001b[90m [5f7eddb3] \u001b[39m\u001b[37mPowerGraphics v0.6.1\u001b[39m\n",
      " \u001b[90m [e690365d] \u001b[39m\u001b[37mPowerSimulations v0.8.0 `https://github.com/NREL-SIIP/PowerSimulations.jl.git#master`\u001b[39m\n",
      " \u001b[90m [398b2ede] \u001b[39m\u001b[37mPowerSimulationsDynamics v0.3.0 `https://github.com/NREL-SIIP/PowerSimulationsDynamics.jl.git#master`\u001b[39m\n",
      " \u001b[90m [bcd98974] \u001b[39m\u001b[37mPowerSystems v1.0.2\u001b[39m\n",
      " \u001b[90m [c3572dad] \u001b[39m\u001b[37mSundials v4.3.0\u001b[39m\n",
      " \u001b[90m [9e3dc215] \u001b[39m\u001b[37mTimeSeries v0.19.1\u001b[39m\n",
      " \u001b[90m [f269a46b] \u001b[39m\u001b[37mTimeZones v1.5.1\u001b[39m\n",
      " \u001b[90m [0f1e0344] \u001b[39m\u001b[37mWebIO v0.8.15\u001b[39m\n",
      " \u001b[90m [ade2ca70] \u001b[39m\u001b[37mDates\u001b[39m\n",
      " \u001b[90m [56ddb016] \u001b[39m\u001b[37mLogging\u001b[39m\n",
      " \u001b[90m [44cfe95a] \u001b[39m\u001b[37mPkg\u001b[39m\n",
      " \u001b[90m [9a3f8284] \u001b[39m\u001b[37mRandom\u001b[39m\n",
      " \u001b[90m [10745b16] \u001b[39m\u001b[37mStatistics\u001b[39m\n",
      " \u001b[90m [8dfed614] \u001b[39m\u001b[37mTest\u001b[39m\n"
     ]
    },
    {
     "data": {
      "text/html": [
       "<h1>System</h1>\n",
       "<p><b>Base Power</b>: 100.0</p>\n",
       "<h2>Components</h2>\n",
       "<p><b>Num components</b>: 30</p>\n",
       "<table class=\"data-frame\"><thead><tr><th></th><th>ConcreteType</th><th>SuperTypes</th><th>Count</th></tr><tr><th></th><th>String</th><th>String</th><th>Int64</th></tr></thead><tbody><p>9 rows × 3 columns</p><tr><th>1</th><td>Arc</td><td>Topology &lt;: Component &lt;: InfrastructureSystemsComponent &lt;: InfrastructureSystemsType &lt;: Any</td><td>6</td></tr><tr><th>2</th><td>Area</td><td>AggregationTopology &lt;: Topology &lt;: Component &lt;: InfrastructureSystemsComponent &lt;: InfrastructureSystemsType &lt;: Any</td><td>1</td></tr><tr><th>3</th><td>Bus</td><td>Topology &lt;: Component &lt;: InfrastructureSystemsComponent &lt;: InfrastructureSystemsType &lt;: Any</td><td>5</td></tr><tr><th>4</th><td>Line</td><td>ACBranch &lt;: Branch &lt;: Device &lt;: Component &lt;: InfrastructureSystemsComponent &lt;: InfrastructureSystemsType &lt;: Any</td><td>5</td></tr><tr><th>5</th><td>LoadZone</td><td>AggregationTopology &lt;: Topology &lt;: Component &lt;: InfrastructureSystemsComponent &lt;: InfrastructureSystemsType &lt;: Any</td><td>1</td></tr><tr><th>6</th><td>PhaseShiftingTransformer</td><td>ACBranch &lt;: Branch &lt;: Device &lt;: Component &lt;: InfrastructureSystemsComponent &lt;: InfrastructureSystemsType &lt;: Any</td><td>2</td></tr><tr><th>7</th><td>PowerLoad</td><td>StaticLoad &lt;: ElectricLoad &lt;: StaticInjection &lt;: Device &lt;: Component &lt;: InfrastructureSystemsComponent &lt;: InfrastructureSystemsType &lt;: Any</td><td>3</td></tr><tr><th>8</th><td>RenewableDispatch</td><td>RenewableGen &lt;: Generator &lt;: StaticInjection &lt;: Device &lt;: Component &lt;: InfrastructureSystemsComponent &lt;: InfrastructureSystemsType &lt;: Any</td><td>2</td></tr><tr><th>9</th><td>ThermalStandard</td><td>ThermalGen &lt;: Generator &lt;: StaticInjection &lt;: Device &lt;: Component &lt;: InfrastructureSystemsComponent &lt;: InfrastructureSystemsType &lt;: Any</td><td>5</td></tr></tbody></table>\n",
       "\n",
       "<h2>TimeSeriesContainer</h2>\n",
       "<p><b>Components with time series data</b>: 0</p>\n",
       "<p><b>Total StaticTimeSeries</b>: 0</p>\n",
       "<p><b>Total Forecasts</b>: 0</p>\n",
       "<p><b>Resolution</b>: 0 seconds</p>\n"
      ],
      "text/plain": [
       "System\n",
       "======\n",
       "System Units Base: SYSTEM_BASE\n",
       "Base Power: 100.0\n",
       "Base Frequency: 60.0\n",
       "\n",
       "Components\n",
       "==========\n",
       "Num components: 30\n",
       "\n",
       "\u001b[1m9×3 DataFrame\u001b[0m\n",
       "\u001b[1m Row \u001b[0m│\u001b[1m ConcreteType             \u001b[0m\u001b[1m SuperTypes                        \u001b[0m\u001b[1m Count \u001b[0m\n",
       "\u001b[1m     \u001b[0m│\u001b[90m String                   \u001b[0m\u001b[90m String                            \u001b[0m\u001b[90m Int64 \u001b[0m\n",
       "─────┼────────────────────────────────────────────────────────────────────\n",
       "   1 │ Arc                       Topology <: Component <: Infrast…      6\n",
       "   2 │ Area                      AggregationTopology <: Topology …      1\n",
       "   3 │ Bus                       Topology <: Component <: Infrast…      5\n",
       "   4 │ Line                      ACBranch <: Branch <: Device <: …      5\n",
       "   5 │ LoadZone                  AggregationTopology <: Topology …      1\n",
       "   6 │ PhaseShiftingTransformer  ACBranch <: Branch <: Device <: …      2\n",
       "   7 │ PowerLoad                 StaticLoad <: ElectricLoad <: St…      3\n",
       "   8 │ RenewableDispatch         RenewableGen <: Generator <: Sta…      2\n",
       "   9 │ ThermalStandard           ThermalGen <: Generator <: Stati…      5\n",
       "\n",
       "TimeSeriesContainer\n",
       "===================\n",
       "Components with time series data: 0\n",
       "Total StaticTimeSeries: 0\n",
       "Total Forecasts: 0\n"
      ]
     },
     "execution_count": 1,
     "metadata": {},
     "output_type": "execute_result"
    }
   ],
   "source": [
    "using SIIPExamples\n",
    "using PowerSystems\n",
    "import JSON3\n",
    "using Logging\n",
    "logger = configure_logging(console_level = Logging.Error, file_level = Logging.Info, filename = \"ex.log\")\n",
    "pkgpath = dirname(dirname(pathof(SIIPExamples)))\n",
    "include(joinpath(pkgpath, \"test\", \"2_PowerSystems_examples\", \"parse_matpower.jl\"))"
   ]
  },
  {
   "cell_type": "markdown",
   "metadata": {},
   "source": [
    "### Define pointers to time series files\n",
    "For example, if we want to add a bunch of time series files, say one for each load and\n",
    "one for each renewable generator, we need to define pointers to each .csv file containing\n",
    "the time series in the following format (PowerSystems.jl also supports a CSV format for this file)"
   ]
  },
  {
   "cell_type": "code",
   "execution_count": 5,
   "metadata": {},
   "outputs": [
    {
     "name": "stdout",
     "output_type": "stream",
     "text": [
      "[\n",
      "  {\n",
      "                       \"component_name\": \"SolarBusC\",\n",
      "                 \"normalization_factor\": 1,\n",
      "                                 \"name\": \"max_active_power\",\n",
      "     \"scaling_factor_multiplier_module\": \"PowerSystems\",\n",
      "                            \"data_file\": \"./gen/Renewable/PV/da_solar5.csv\",\n",
      "                           \"resolution\": 3600,\n",
      "                               \"module\": \"InfrastructureSystems\",\n",
      "                             \"category\": \"Generator\",\n",
      "            \"scaling_factor_multiplier\": \"get_max_active_power\",\n",
      "                           \"simulation\": \"DAY_AHEAD\",\n",
      "                                 \"type\": \"SingleTimeSeries\"\n",
      "  },\n",
      "  {\n",
      "                       \"component_name\": \"WindBusA\",\n",
      "                 \"normalization_factor\": 1,\n",
      "                                 \"name\": \"max_active_power\",\n",
      "     \"scaling_factor_multiplier_module\": \"PowerSystems\",\n",
      "                            \"data_file\": \"./gen/Renewable/WIND/da_wind5.csv\",\n",
      "                           \"resolution\": 3600,\n",
      "                               \"module\": \"InfrastructureSystems\",\n",
      "                             \"category\": \"Generator\",\n",
      "            \"scaling_factor_multiplier\": \"get_max_active_power\",\n",
      "                           \"simulation\": \"DAY_AHEAD\",\n",
      "                                 \"type\": \"SingleTimeSeries\"\n",
      "  },\n",
      "  {\n",
      "                       \"component_name\": \"bus2\",\n",
      "                 \"normalization_factor\": 1,\n",
      "                                 \"name\": \"max_active_power\",\n",
      "     \"scaling_factor_multiplier_module\": \"PowerSystems\",\n",
      "                            \"data_file\": \"./load/da_load5.csv\",\n",
      "                           \"resolution\": 3600,\n",
      "                               \"module\": \"InfrastructureSystems\",\n",
      "                             \"category\": \"ElectricLoad\",\n",
      "            \"scaling_factor_multiplier\": \"get_max_active_power\",\n",
      "                           \"simulation\": \"DAY_AHEAD\",\n",
      "                                 \"type\": \"SingleTimeSeries\"\n",
      "  },\n",
      "  {\n",
      "                       \"component_name\": \"bus3\",\n",
      "                 \"normalization_factor\": 1,\n",
      "                                 \"name\": \"max_active_power\",\n",
      "     \"scaling_factor_multiplier_module\": \"PowerSystems\",\n",
      "                            \"data_file\": \"./load/da_load5.csv\",\n",
      "                           \"resolution\": 3600,\n",
      "                               \"module\": \"InfrastructureSystems\",\n",
      "                             \"category\": \"ElectricLoad\",\n",
      "            \"scaling_factor_multiplier\": \"get_max_active_power\",\n",
      "                           \"simulation\": \"DAY_AHEAD\",\n",
      "                                 \"type\": \"SingleTimeSeries\"\n",
      "  },\n",
      "  {\n",
      "                       \"component_name\": \"bus4\",\n",
      "                 \"normalization_factor\": 1,\n",
      "                                 \"name\": \"max_active_power\",\n",
      "     \"scaling_factor_multiplier_module\": \"PowerSystems\",\n",
      "                            \"data_file\": \"./load/da_load5.csv\",\n",
      "                           \"resolution\": 3600,\n",
      "                               \"module\": \"InfrastructureSystems\",\n",
      "                             \"category\": \"ElectricLoad\",\n",
      "            \"scaling_factor_multiplier\": \"get_max_active_power\",\n",
      "                           \"simulation\": \"DAY_AHEAD\",\n",
      "                                 \"type\": \"SingleTimeSeries\"\n",
      "  }\n",
      "]"
     ]
    }
   ],
   "source": [
    "FORECASTS_DIR = joinpath(base_dir, \"forecasts\", \"5bus_ts\")\n",
    "fname = joinpath(FORECASTS_DIR, \"timeseries_pointers_da.json\")\n",
    "\n",
    "open(fname, \"r\") do f\n",
    "    JSON3.@pretty JSON3.read(f)\n",
    "end"
   ]
  },
  {
   "cell_type": "markdown",
   "metadata": {},
   "source": [
    "### Read the pointers"
   ]
  },
  {
   "cell_type": "code",
   "execution_count": null,
   "metadata": {},
   "outputs": [],
   "source": [
    "ts_pointers = PowerSystems.IS.read_time_series_file_metadata(fname)"
   ]
  },
  {
   "cell_type": "markdown",
   "metadata": {},
   "source": [
    "### Read and assign time series to `System` using the `ts_pointers` struct"
   ]
  },
  {
   "cell_type": "code",
   "execution_count": 6,
   "metadata": {},
   "outputs": [
    {
     "data": {
      "text/html": [
       "<h1>System</h1>\n",
       "<p><b>Base Power</b>: 100.0</p>\n",
       "<h2>Components</h2>\n",
       "<p><b>Num components</b>: 30</p>\n",
       "<table class=\"data-frame\"><thead><tr><th></th><th>ConcreteType</th><th>SuperTypes</th><th>Count</th></tr><tr><th></th><th>String</th><th>String</th><th>Int64</th></tr></thead><tbody><p>9 rows × 3 columns</p><tr><th>1</th><td>Arc</td><td>Topology &lt;: Component &lt;: InfrastructureSystemsComponent &lt;: InfrastructureSystemsType &lt;: Any</td><td>6</td></tr><tr><th>2</th><td>Area</td><td>AggregationTopology &lt;: Topology &lt;: Component &lt;: InfrastructureSystemsComponent &lt;: InfrastructureSystemsType &lt;: Any</td><td>1</td></tr><tr><th>3</th><td>Bus</td><td>Topology &lt;: Component &lt;: InfrastructureSystemsComponent &lt;: InfrastructureSystemsType &lt;: Any</td><td>5</td></tr><tr><th>4</th><td>Line</td><td>ACBranch &lt;: Branch &lt;: Device &lt;: Component &lt;: InfrastructureSystemsComponent &lt;: InfrastructureSystemsType &lt;: Any</td><td>5</td></tr><tr><th>5</th><td>LoadZone</td><td>AggregationTopology &lt;: Topology &lt;: Component &lt;: InfrastructureSystemsComponent &lt;: InfrastructureSystemsType &lt;: Any</td><td>1</td></tr><tr><th>6</th><td>PhaseShiftingTransformer</td><td>ACBranch &lt;: Branch &lt;: Device &lt;: Component &lt;: InfrastructureSystemsComponent &lt;: InfrastructureSystemsType &lt;: Any</td><td>2</td></tr><tr><th>7</th><td>PowerLoad</td><td>StaticLoad &lt;: ElectricLoad &lt;: StaticInjection &lt;: Device &lt;: Component &lt;: InfrastructureSystemsComponent &lt;: InfrastructureSystemsType &lt;: Any</td><td>3</td></tr><tr><th>8</th><td>RenewableDispatch</td><td>RenewableGen &lt;: Generator &lt;: StaticInjection &lt;: Device &lt;: Component &lt;: InfrastructureSystemsComponent &lt;: InfrastructureSystemsType &lt;: Any</td><td>2</td></tr><tr><th>9</th><td>ThermalStandard</td><td>ThermalGen &lt;: Generator &lt;: StaticInjection &lt;: Device &lt;: Component &lt;: InfrastructureSystemsComponent &lt;: InfrastructureSystemsType &lt;: Any</td><td>5</td></tr></tbody></table>\n",
       "\n",
       "<h2>TimeSeriesContainer</h2>\n",
       "<p><b>Components with time series data</b>: 5</p>\n",
       "<p><b>Total StaticTimeSeries</b>: 5</p>\n",
       "<p><b>Total Forecasts</b>: 0</p>\n",
       "<p><b>Resolution</b>: 60 minutes</p>\n"
      ],
      "text/plain": [
       "System\n",
       "======\n",
       "System Units Base: SYSTEM_BASE\n",
       "Base Power: 100.0\n",
       "Base Frequency: 60.0\n",
       "\n",
       "Components\n",
       "==========\n",
       "Num components: 30\n",
       "\n",
       "\u001b[1m9×3 DataFrame\u001b[0m\n",
       "\u001b[1m Row \u001b[0m│\u001b[1m ConcreteType             \u001b[0m\u001b[1m SuperTypes                        \u001b[0m\u001b[1m Count \u001b[0m\n",
       "\u001b[1m     \u001b[0m│\u001b[90m String                   \u001b[0m\u001b[90m String                            \u001b[0m\u001b[90m Int64 \u001b[0m\n",
       "─────┼────────────────────────────────────────────────────────────────────\n",
       "   1 │ Arc                       Topology <: Component <: Infrast…      6\n",
       "   2 │ Area                      AggregationTopology <: Topology …      1\n",
       "   3 │ Bus                       Topology <: Component <: Infrast…      5\n",
       "   4 │ Line                      ACBranch <: Branch <: Device <: …      5\n",
       "   5 │ LoadZone                  AggregationTopology <: Topology …      1\n",
       "   6 │ PhaseShiftingTransformer  ACBranch <: Branch <: Device <: …      2\n",
       "   7 │ PowerLoad                 StaticLoad <: ElectricLoad <: St…      3\n",
       "   8 │ RenewableDispatch         RenewableGen <: Generator <: Sta…      2\n",
       "   9 │ ThermalStandard           ThermalGen <: Generator <: Stati…      5\n",
       "\n",
       "TimeSeriesContainer\n",
       "===================\n",
       "Components with time series data: 5\n",
       "Total StaticTimeSeries: 5\n",
       "Total Forecasts: 0\n",
       "Resolution: 60 minutes\n"
      ]
     },
     "execution_count": 6,
     "metadata": {},
     "output_type": "execute_result"
    }
   ],
   "source": [
    "add_time_series!(sys, fname)\n",
    "sys"
   ]
  },
  {
   "cell_type": "markdown",
   "metadata": {},
   "source": [
    "---\n",
    "\n",
    "*This notebook was generated using [Literate.jl](https://github.com/fredrikekre/Literate.jl).*"
   ]
  }
 ],
 "metadata": {
  "kernelspec": {
   "display_name": "Julia 1.5.3",
   "language": "julia",
   "name": "julia-1.5"
  },
  "language_info": {
   "file_extension": ".jl",
   "mimetype": "application/julia",
   "name": "julia",
   "version": "1.5.3"
  }
 },
 "nbformat": 4,
 "nbformat_minor": 3
}
