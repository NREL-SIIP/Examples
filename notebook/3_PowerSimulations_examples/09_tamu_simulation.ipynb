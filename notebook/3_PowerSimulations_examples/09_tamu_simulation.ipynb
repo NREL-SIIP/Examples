{
 "cells": [
  {
   "cell_type": "markdown",
   "source": [
    "# Simulations with TAMU data and [PowerSimulations.jl](https://github.com/NREL/PowerSimulations.jl)"
   ],
   "metadata": {}
  },
  {
   "cell_type": "markdown",
   "source": [
    "**Originally Contributed by**: Clayton Barrows"
   ],
   "metadata": {}
  },
  {
   "cell_type": "markdown",
   "source": [
    "## Introduction"
   ],
   "metadata": {}
  },
  {
   "cell_type": "markdown",
   "source": [
    "This is a basic simulation example using the [TAMU Cases](https://electricgrids.engr.tamu.edu/)."
   ],
   "metadata": {}
  },
  {
   "cell_type": "markdown",
   "source": [
    "## Dependencies"
   ],
   "metadata": {}
  },
  {
   "outputs": [],
   "cell_type": "code",
   "source": [
    "using SIIPExamples\n",
    "pkgpath = dirname(dirname(pathof(SIIPExamples)))\n",
    "using Dates"
   ],
   "metadata": {},
   "execution_count": 1
  },
  {
   "cell_type": "markdown",
   "source": [
    "### Modeling Packages"
   ],
   "metadata": {}
  },
  {
   "outputs": [],
   "cell_type": "code",
   "source": [
    "using PowerSystems\n",
    "using PowerSimulations"
   ],
   "metadata": {},
   "execution_count": 2
  },
  {
   "cell_type": "markdown",
   "source": [
    "### Optimization packages\n",
    "For this simple example, we can use the Cbc solver with a relatively relaxed tolerance."
   ],
   "metadata": {}
  },
  {
   "outputs": [
    {
     "output_type": "execute_result",
     "data": {
      "text/plain": "MathOptInterface.OptimizerWithAttributes(Cbc.Optimizer, Pair{MathOptInterface.AbstractOptimizerAttribute,Any}[MathOptInterface.RawParameter(\"logLevel\") => 1, MathOptInterface.RawParameter(\"ratioGap\") => 0.5])"
     },
     "metadata": {},
     "execution_count": 3
    }
   ],
   "cell_type": "code",
   "source": [
    "using Cbc #solver\n",
    "solver = optimizer_with_attributes(Cbc.Optimizer, \"logLevel\" => 1, \"ratioGap\" => 0.5)"
   ],
   "metadata": {},
   "execution_count": 3
  },
  {
   "cell_type": "markdown",
   "source": [
    "### Create a `System` from TAMU data\n",
    "We have included some of the TAMU cases (with truncated time series info)\n",
    "in the [PowerSystemsTestData](https://github.com/nrel-siip/powersystemstestdata)\n",
    "repository for testing, so we can just use that."
   ],
   "metadata": {}
  },
  {
   "outputs": [],
   "cell_type": "code",
   "source": [
    "PowerSystems.download(PowerSystems.TestData; branch = \"master\") # *note* add `force=true` to get a fresh copy\n",
    "base_dir = dirname(dirname(pathof(PowerSystems)));"
   ],
   "metadata": {},
   "execution_count": 4
  },
  {
   "cell_type": "markdown",
   "source": [
    "The TAMU data format relies on a folder containing `.m` or `.raw` files and `.csv`\n",
    "files for the time series data. We have provided a parser for the TAMU data format with\n",
    "the `TamuSystem()` fuction."
   ],
   "metadata": {}
  },
  {
   "outputs": [
    {
     "name": "stdout",
     "output_type": "stream",
     "text": [
      "┌ Info: The PSS(R)E parser currently supports buses, loads, shunts, generators, branches, transformers, and dc lines\n",
      "└ @ PowerSystems /Users/cbarrows/.julia/packages/PowerSystems/r86iN/src/parsers/pm_io/common.jl:25\n",
      "┌ Info: Switched shunt converted to fixed shunt, with default value gs=0.0\n",
      "└ @ PowerSystems /Users/cbarrows/.julia/packages/PowerSystems/r86iN/src/parsers/pm_io/psse.jl:312\n",
      "┌ Info: angmin and angmax values are 0, widening these values on branch 2243 to +/- 60.0 deg.\n",
      "└ @ PowerSystems /Users/cbarrows/.julia/packages/PowerSystems/r86iN/src/parsers/pm_io/data.jl:1057\n",
      "┌ Info: angmin and angmax values are 0, widening these values on branch 1881 to +/- 60.0 deg.\n",
      "└ @ PowerSystems /Users/cbarrows/.julia/packages/PowerSystems/r86iN/src/parsers/pm_io/data.jl:1057\n",
      "┌ Info: angmin and angmax values are 0, widening these values on branch 1907 to +/- 60.0 deg.\n",
      "└ @ PowerSystems /Users/cbarrows/.julia/packages/PowerSystems/r86iN/src/parsers/pm_io/data.jl:1057\n",
      "┌ Info: angmin and angmax values are 0, widening these values on branch 2923 to +/- 60.0 deg.\n",
      "└ @ PowerSystems /Users/cbarrows/.julia/packages/PowerSystems/r86iN/src/parsers/pm_io/data.jl:1057\n",
      "┌ Info: angmin and angmax values are 0, widening these values on branch 599 to +/- 60.0 deg.\n",
      "└ @ PowerSystems /Users/cbarrows/.julia/packages/PowerSystems/r86iN/src/parsers/pm_io/data.jl:1057\n",
      "┌ Info: angmin and angmax values are 0, widening these values on branch 2491 to +/- 60.0 deg.\n",
      "└ @ PowerSystems /Users/cbarrows/.julia/packages/PowerSystems/r86iN/src/parsers/pm_io/data.jl:1057\n",
      "┌ Info: angmin and angmax values are 0, widening these values on branch 228 to +/- 60.0 deg.\n",
      "└ @ PowerSystems /Users/cbarrows/.julia/packages/PowerSystems/r86iN/src/parsers/pm_io/data.jl:1057\n",
      "┌ Info: angmin and angmax values are 0, widening these values on branch 2590 to +/- 60.0 deg.\n",
      "└ @ PowerSystems /Users/cbarrows/.julia/packages/PowerSystems/r86iN/src/parsers/pm_io/data.jl:1057\n",
      "┌ Info: angmin and angmax values are 0, widening these values on branch 2579 to +/- 60.0 deg.\n",
      "└ @ PowerSystems /Users/cbarrows/.julia/packages/PowerSystems/r86iN/src/parsers/pm_io/data.jl:1057\n",
      "┌ Info: angmin and angmax values are 0, widening these values on branch 1880 to +/- 60.0 deg.\n",
      "└ @ PowerSystems /Users/cbarrows/.julia/packages/PowerSystems/r86iN/src/parsers/pm_io/data.jl:1057\n",
      "┌ Info: angmin and angmax values are 0, widening these values on branch 2562 to +/- 60.0 deg.\n",
      "└ @ PowerSystems /Users/cbarrows/.julia/packages/PowerSystems/r86iN/src/parsers/pm_io/data.jl:1057\n",
      "┌ Info: angmin and angmax values are 0, widening these values on branch 1106 to +/- 60.0 deg.\n",
      "└ @ PowerSystems /Users/cbarrows/.julia/packages/PowerSystems/r86iN/src/parsers/pm_io/data.jl:1057\n",
      "┌ Info: angmin and angmax values are 0, widening these values on branch 2366 to +/- 60.0 deg.\n",
      "└ @ PowerSystems /Users/cbarrows/.julia/packages/PowerSystems/r86iN/src/parsers/pm_io/data.jl:1057\n",
      "┌ Info: angmin and angmax values are 0, widening these values on branch 3196 to +/- 60.0 deg.\n",
      "└ @ PowerSystems /Users/cbarrows/.julia/packages/PowerSystems/r86iN/src/parsers/pm_io/data.jl:1057\n",
      "┌ Info: angmin and angmax values are 0, widening these values on branch 1783 to +/- 60.0 deg.\n",
      "└ @ PowerSystems /Users/cbarrows/.julia/packages/PowerSystems/r86iN/src/parsers/pm_io/data.jl:1057\n",
      "┌ Info: angmin and angmax values are 0, widening these values on branch 928 to +/- 60.0 deg.\n",
      "└ @ PowerSystems /Users/cbarrows/.julia/packages/PowerSystems/r86iN/src/parsers/pm_io/data.jl:1057\n",
      "┌ Info: angmin and angmax values are 0, widening these values on branch 859 to +/- 60.0 deg.\n",
      "└ @ PowerSystems /Users/cbarrows/.julia/packages/PowerSystems/r86iN/src/parsers/pm_io/data.jl:1057\n",
      "┌ Info: angmin and angmax values are 0, widening these values on branch 1863 to +/- 60.0 deg.\n",
      "└ @ PowerSystems /Users/cbarrows/.julia/packages/PowerSystems/r86iN/src/parsers/pm_io/data.jl:1057\n",
      "┌ Info: angmin and angmax values are 0, widening these values on branch 561 to +/- 60.0 deg.\n",
      "└ @ PowerSystems /Users/cbarrows/.julia/packages/PowerSystems/r86iN/src/parsers/pm_io/data.jl:1057\n",
      "┌ Info: angmin and angmax values are 0, widening these values on branch 1825 to +/- 60.0 deg.\n",
      "└ @ PowerSystems /Users/cbarrows/.julia/packages/PowerSystems/r86iN/src/parsers/pm_io/data.jl:1057\n",
      "┌ Info: angmin and angmax values are 0, widening these values on branch 2631 to +/- 60.0 deg.\n",
      "└ @ PowerSystems /Users/cbarrows/.julia/packages/PowerSystems/r86iN/src/parsers/pm_io/data.jl:1057\n",
      "┌ Info: angmin and angmax values are 0, widening these values on branch 2714 to +/- 60.0 deg.\n",
      "└ @ PowerSystems /Users/cbarrows/.julia/packages/PowerSystems/r86iN/src/parsers/pm_io/data.jl:1057\n",
      "┌ Info: angmin and angmax values are 0, widening these values on branch 3157 to +/- 60.0 deg.\n",
      "└ @ PowerSystems /Users/cbarrows/.julia/packages/PowerSystems/r86iN/src/parsers/pm_io/data.jl:1057\n",
      "┌ Info: angmin and angmax values are 0, widening these values on branch 815 to +/- 60.0 deg.\n",
      "└ @ PowerSystems /Users/cbarrows/.julia/packages/PowerSystems/r86iN/src/parsers/pm_io/data.jl:1057\n",
      "┌ Info: angmin and angmax values are 0, widening these values on branch 981 to +/- 60.0 deg.\n",
      "└ @ PowerSystems /Users/cbarrows/.julia/packages/PowerSystems/r86iN/src/parsers/pm_io/data.jl:1057\n",
      "┌ Info: angmin and angmax values are 0, widening these values on branch 1429 to +/- 60.0 deg.\n",
      "└ @ PowerSystems /Users/cbarrows/.julia/packages/PowerSystems/r86iN/src/parsers/pm_io/data.jl:1057\n",
      "┌ Info: angmin and angmax values are 0, widening these values on branch 39 to +/- 60.0 deg.\n",
      "└ @ PowerSystems /Users/cbarrows/.julia/packages/PowerSystems/r86iN/src/parsers/pm_io/data.jl:1057\n",
      "┌ Info: angmin and angmax values are 0, widening these values on branch 2713 to +/- 60.0 deg.\n",
      "└ @ PowerSystems /Users/cbarrows/.julia/packages/PowerSystems/r86iN/src/parsers/pm_io/data.jl:1057\n",
      "┌ Info: angmin and angmax values are 0, widening these values on branch 112 to +/- 60.0 deg.\n",
      "└ @ PowerSystems /Users/cbarrows/.julia/packages/PowerSystems/r86iN/src/parsers/pm_io/data.jl:1057\n",
      "┌ Info: angmin and angmax values are 0, widening these values on branch 3153 to +/- 60.0 deg.\n",
      "└ @ PowerSystems /Users/cbarrows/.julia/packages/PowerSystems/r86iN/src/parsers/pm_io/data.jl:1057\n",
      "┌ Info: angmin and angmax values are 0, widening these values on branch 1665 to +/- 60.0 deg.\n",
      "└ @ PowerSystems /Users/cbarrows/.julia/packages/PowerSystems/r86iN/src/parsers/pm_io/data.jl:1057\n",
      "┌ Info: angmin and angmax values are 0, widening these values on branch 590 to +/- 60.0 deg.\n",
      "└ @ PowerSystems /Users/cbarrows/.julia/packages/PowerSystems/r86iN/src/parsers/pm_io/data.jl:1057\n",
      "┌ Info: angmin and angmax values are 0, widening these values on branch 17 to +/- 60.0 deg.\n",
      "└ @ PowerSystems /Users/cbarrows/.julia/packages/PowerSystems/r86iN/src/parsers/pm_io/data.jl:1057\n",
      "┌ Info: angmin and angmax values are 0, widening these values on branch 333 to +/- 60.0 deg.\n",
      "└ @ PowerSystems /Users/cbarrows/.julia/packages/PowerSystems/r86iN/src/parsers/pm_io/data.jl:1057\n",
      "┌ Info: angmin and angmax values are 0, widening these values on branch 550 to +/- 60.0 deg.\n",
      "└ @ PowerSystems /Users/cbarrows/.julia/packages/PowerSystems/r86iN/src/parsers/pm_io/data.jl:1057\n",
      "┌ Info: angmin and angmax values are 0, widening these values on branch 341 to +/- 60.0 deg.\n",
      "└ @ PowerSystems /Users/cbarrows/.julia/packages/PowerSystems/r86iN/src/parsers/pm_io/data.jl:1057\n",
      "┌ Info: angmin and angmax values are 0, widening these values on branch 664 to +/- 60.0 deg.\n",
      "└ @ PowerSystems /Users/cbarrows/.julia/packages/PowerSystems/r86iN/src/parsers/pm_io/data.jl:1057\n",
      "┌ Info: angmin and angmax values are 0, widening these values on branch 912 to +/- 60.0 deg.\n",
      "└ @ PowerSystems /Users/cbarrows/.julia/packages/PowerSystems/r86iN/src/parsers/pm_io/data.jl:1057\n",
      "┌ Info: angmin and angmax values are 0, widening these values on branch 1598 to +/- 60.0 deg.\n",
      "└ @ PowerSystems /Users/cbarrows/.julia/packages/PowerSystems/r86iN/src/parsers/pm_io/data.jl:1057\n",
      "┌ Info: angmin and angmax values are 0, widening these values on branch 2509 to +/- 60.0 deg.\n",
      "└ @ PowerSystems /Users/cbarrows/.julia/packages/PowerSystems/r86iN/src/parsers/pm_io/data.jl:1057\n",
      "┌ Info: angmin and angmax values are 0, widening these values on branch 598 to +/- 60.0 deg.\n",
      "└ @ PowerSystems /Users/cbarrows/.julia/packages/PowerSystems/r86iN/src/parsers/pm_io/data.jl:1057\n",
      "┌ Info: angmin and angmax values are 0, widening these values on branch 14 to +/- 60.0 deg.\n",
      "└ @ PowerSystems /Users/cbarrows/.julia/packages/PowerSystems/r86iN/src/parsers/pm_io/data.jl:1057\n",
      "┌ Info: angmin and angmax values are 0, widening these values on branch 613 to +/- 60.0 deg.\n",
      "└ @ PowerSystems /Users/cbarrows/.julia/packages/PowerSystems/r86iN/src/parsers/pm_io/data.jl:1057\n",
      "┌ Info: angmin and angmax values are 0, widening these values on branch 1052 to +/- 60.0 deg.\n",
      "└ @ PowerSystems /Users/cbarrows/.julia/packages/PowerSystems/r86iN/src/parsers/pm_io/data.jl:1057\n",
      "┌ Info: angmin and angmax values are 0, widening these values on branch 2334 to +/- 60.0 deg.\n",
      "└ @ PowerSystems /Users/cbarrows/.julia/packages/PowerSystems/r86iN/src/parsers/pm_io/data.jl:1057\n",
      "┌ Info: angmin and angmax values are 0, widening these values on branch 510 to +/- 60.0 deg.\n",
      "└ @ PowerSystems /Users/cbarrows/.julia/packages/PowerSystems/r86iN/src/parsers/pm_io/data.jl:1057\n",
      "┌ Info: angmin and angmax values are 0, widening these values on branch 2166 to +/- 60.0 deg.\n",
      "└ @ PowerSystems /Users/cbarrows/.julia/packages/PowerSystems/r86iN/src/parsers/pm_io/data.jl:1057\n",
      "┌ Info: angmin and angmax values are 0, widening these values on branch 2585 to +/- 60.0 deg.\n",
      "└ @ PowerSystems /Users/cbarrows/.julia/packages/PowerSystems/r86iN/src/parsers/pm_io/data.jl:1057\n",
      "┌ Info: angmin and angmax values are 0, widening these values on branch 2127 to +/- 60.0 deg.\n",
      "└ @ PowerSystems /Users/cbarrows/.julia/packages/PowerSystems/r86iN/src/parsers/pm_io/data.jl:1057\n",
      "┌ Info: angmin and angmax values are 0, widening these values on branch 197 to +/- 60.0 deg.\n",
      "└ @ PowerSystems /Users/cbarrows/.julia/packages/PowerSystems/r86iN/src/parsers/pm_io/data.jl:1057\n",
      "┌ Info: reversing the orientation of branch 36 (1071, 1019) to be consistent with other parallel branches\n",
      "└ @ PowerSystems /Users/cbarrows/.julia/packages/PowerSystems/r86iN/src/parsers/pm_io/data.jl:1222\n",
      "┌ Info: no active generators found at bus 6144, updating to bus type from 2 to 1\n",
      "└ @ PowerSystems /Users/cbarrows/.julia/packages/PowerSystems/r86iN/src/parsers/pm_io/data.jl:1674\n",
      "┌ Info: no active generators found at bus 8070, updating to bus type from 2 to 1\n",
      "└ @ PowerSystems /Users/cbarrows/.julia/packages/PowerSystems/r86iN/src/parsers/pm_io/data.jl:1674\n",
      "┌ Info: no active generators found at bus 6273, updating to bus type from 2 to 1\n",
      "└ @ PowerSystems /Users/cbarrows/.julia/packages/PowerSystems/r86iN/src/parsers/pm_io/data.jl:1674\n",
      "┌ Info: no active generators found at bus 4096, updating to bus type from 2 to 1\n",
      "└ @ PowerSystems /Users/cbarrows/.julia/packages/PowerSystems/r86iN/src/parsers/pm_io/data.jl:1674\n",
      "┌ Info: no active generators found at bus 4098, updating to bus type from 2 to 1\n",
      "└ @ PowerSystems /Users/cbarrows/.julia/packages/PowerSystems/r86iN/src/parsers/pm_io/data.jl:1674\n",
      "┌ Info: no active generators found at bus 4138, updating to bus type from 2 to 1\n",
      "└ @ PowerSystems /Users/cbarrows/.julia/packages/PowerSystems/r86iN/src/parsers/pm_io/data.jl:1674\n",
      "┌ Info: no active generators found at bus 2084, updating to bus type from 2 to 1\n",
      "└ @ PowerSystems /Users/cbarrows/.julia/packages/PowerSystems/r86iN/src/parsers/pm_io/data.jl:1674\n",
      "┌ Info: no active generators found at bus 5089, updating to bus type from 2 to 1\n",
      "└ @ PowerSystems /Users/cbarrows/.julia/packages/PowerSystems/r86iN/src/parsers/pm_io/data.jl:1674\n",
      "┌ Info: no active generators found at bus 5023, updating to bus type from 2 to 1\n",
      "└ @ PowerSystems /Users/cbarrows/.julia/packages/PowerSystems/r86iN/src/parsers/pm_io/data.jl:1674\n",
      "┌ Info: no active generators found at bus 1049, updating to bus type from 2 to 1\n",
      "└ @ PowerSystems /Users/cbarrows/.julia/packages/PowerSystems/r86iN/src/parsers/pm_io/data.jl:1674\n",
      "┌ Info: no active generators found at bus 2005, updating to bus type from 2 to 1\n",
      "└ @ PowerSystems /Users/cbarrows/.julia/packages/PowerSystems/r86iN/src/parsers/pm_io/data.jl:1674\n",
      "┌ Info: no active generators found at bus 3044, updating to bus type from 2 to 1\n",
      "└ @ PowerSystems /Users/cbarrows/.julia/packages/PowerSystems/r86iN/src/parsers/pm_io/data.jl:1674\n",
      "┌ Info: no active generators found at bus 8060, updating to bus type from 2 to 1\n",
      "└ @ PowerSystems /Users/cbarrows/.julia/packages/PowerSystems/r86iN/src/parsers/pm_io/data.jl:1674\n",
      "┌ Info: no active generators found at bus 6271, updating to bus type from 2 to 1\n",
      "└ @ PowerSystems /Users/cbarrows/.julia/packages/PowerSystems/r86iN/src/parsers/pm_io/data.jl:1674\n",
      "┌ Info: no active generators found at bus 1081, updating to bus type from 2 to 1\n",
      "└ @ PowerSystems /Users/cbarrows/.julia/packages/PowerSystems/r86iN/src/parsers/pm_io/data.jl:1674\n",
      "┌ Info: no active generators found at bus 5107, updating to bus type from 2 to 1\n",
      "└ @ PowerSystems /Users/cbarrows/.julia/packages/PowerSystems/r86iN/src/parsers/pm_io/data.jl:1674\n",
      "┌ Info: no active generators found at bus 8033, updating to bus type from 2 to 1\n",
      "└ @ PowerSystems /Users/cbarrows/.julia/packages/PowerSystems/r86iN/src/parsers/pm_io/data.jl:1674\n",
      "┌ Info: no active generators found at bus 2104, updating to bus type from 2 to 1\n",
      "└ @ PowerSystems /Users/cbarrows/.julia/packages/PowerSystems/r86iN/src/parsers/pm_io/data.jl:1674\n",
      "┌ Info: no active generators found at bus 7121, updating to bus type from 2 to 1\n",
      "└ @ PowerSystems /Users/cbarrows/.julia/packages/PowerSystems/r86iN/src/parsers/pm_io/data.jl:1674\n",
      "┌ Info: no active generators found at bus 2095, updating to bus type from 2 to 1\n",
      "└ @ PowerSystems /Users/cbarrows/.julia/packages/PowerSystems/r86iN/src/parsers/pm_io/data.jl:1674\n",
      "┌ Info: no active generators found at bus 3043, updating to bus type from 2 to 1\n",
      "└ @ PowerSystems /Users/cbarrows/.julia/packages/PowerSystems/r86iN/src/parsers/pm_io/data.jl:1674\n",
      "┌ Info: no active generators found at bus 2006, updating to bus type from 2 to 1\n",
      "└ @ PowerSystems /Users/cbarrows/.julia/packages/PowerSystems/r86iN/src/parsers/pm_io/data.jl:1674\n",
      "┌ Info: no active generators found at bus 2056, updating to bus type from 2 to 1\n",
      "└ @ PowerSystems /Users/cbarrows/.julia/packages/PowerSystems/r86iN/src/parsers/pm_io/data.jl:1674\n",
      "┌ Info: no active generators found at bus 8115, updating to bus type from 2 to 1\n",
      "└ @ PowerSystems /Users/cbarrows/.julia/packages/PowerSystems/r86iN/src/parsers/pm_io/data.jl:1674\n",
      "┌ Info: no active generators found at bus 8047, updating to bus type from 2 to 1\n",
      "└ @ PowerSystems /Users/cbarrows/.julia/packages/PowerSystems/r86iN/src/parsers/pm_io/data.jl:1674\n",
      "┌ Info: no active generators found at bus 6272, updating to bus type from 2 to 1\n",
      "└ @ PowerSystems /Users/cbarrows/.julia/packages/PowerSystems/r86iN/src/parsers/pm_io/data.jl:1674\n",
      "┌ Info: no active generators found at bus 8036, updating to bus type from 2 to 1\n",
      "└ @ PowerSystems /Users/cbarrows/.julia/packages/PowerSystems/r86iN/src/parsers/pm_io/data.jl:1674\n",
      "┌ Info: no active generators found at bus 5035, updating to bus type from 2 to 1\n",
      "└ @ PowerSystems /Users/cbarrows/.julia/packages/PowerSystems/r86iN/src/parsers/pm_io/data.jl:1674\n",
      "┌ Info: no active generators found at bus 6007, updating to bus type from 2 to 1\n",
      "└ @ PowerSystems /Users/cbarrows/.julia/packages/PowerSystems/r86iN/src/parsers/pm_io/data.jl:1674\n",
      "┌ Info: no active generators found at bus 6259, updating to bus type from 2 to 1\n",
      "└ @ PowerSystems /Users/cbarrows/.julia/packages/PowerSystems/r86iN/src/parsers/pm_io/data.jl:1674\n",
      "┌ Info: no active generators found at bus 7122, updating to bus type from 2 to 1\n",
      "└ @ PowerSystems /Users/cbarrows/.julia/packages/PowerSystems/r86iN/src/parsers/pm_io/data.jl:1674\n",
      "┌ Info: no active generators found at bus 7284, updating to bus type from 2 to 1\n",
      "└ @ PowerSystems /Users/cbarrows/.julia/packages/PowerSystems/r86iN/src/parsers/pm_io/data.jl:1674\n",
      "┌ Info: no active generators found at bus 3133, updating to bus type from 2 to 1\n",
      "└ @ PowerSystems /Users/cbarrows/.julia/packages/PowerSystems/r86iN/src/parsers/pm_io/data.jl:1674\n",
      "┌ Info: no active generators found at bus 4137, updating to bus type from 2 to 1\n",
      "└ @ PowerSystems /Users/cbarrows/.julia/packages/PowerSystems/r86iN/src/parsers/pm_io/data.jl:1674\n",
      "┌ Info: no active generators found at bus 1076, updating to bus type from 2 to 1\n",
      "└ @ PowerSystems /Users/cbarrows/.julia/packages/PowerSystems/r86iN/src/parsers/pm_io/data.jl:1674\n",
      "┌ Info: no active generators found at bus 4163, updating to bus type from 2 to 1\n",
      "└ @ PowerSystems /Users/cbarrows/.julia/packages/PowerSystems/r86iN/src/parsers/pm_io/data.jl:1674\n",
      "┌ Info: no active generators found at bus 8152, updating to bus type from 2 to 1\n",
      "└ @ PowerSystems /Users/cbarrows/.julia/packages/PowerSystems/r86iN/src/parsers/pm_io/data.jl:1674\n",
      "┌ Info: no active generators found at bus 1059, updating to bus type from 2 to 1\n",
      "└ @ PowerSystems /Users/cbarrows/.julia/packages/PowerSystems/r86iN/src/parsers/pm_io/data.jl:1674\n",
      "┌ Info: no active generators found at bus 8061, updating to bus type from 2 to 1\n",
      "└ @ PowerSystems /Users/cbarrows/.julia/packages/PowerSystems/r86iN/src/parsers/pm_io/data.jl:1674\n",
      "┌ Info: no active generators found at bus 8051, updating to bus type from 2 to 1\n",
      "└ @ PowerSystems /Users/cbarrows/.julia/packages/PowerSystems/r86iN/src/parsers/pm_io/data.jl:1674\n",
      "┌ Info: no active generators found at bus 1057, updating to bus type from 2 to 1\n",
      "└ @ PowerSystems /Users/cbarrows/.julia/packages/PowerSystems/r86iN/src/parsers/pm_io/data.jl:1674\n",
      "┌ Info: no active generators found at bus 8034, updating to bus type from 2 to 1\n",
      "└ @ PowerSystems /Users/cbarrows/.julia/packages/PowerSystems/r86iN/src/parsers/pm_io/data.jl:1674\n",
      "┌ Info: no active generators found at bus 1062, updating to bus type from 2 to 1\n",
      "└ @ PowerSystems /Users/cbarrows/.julia/packages/PowerSystems/r86iN/src/parsers/pm_io/data.jl:1674\n",
      "┌ Info: no active generators found at bus 5066, updating to bus type from 2 to 1\n",
      "└ @ PowerSystems /Users/cbarrows/.julia/packages/PowerSystems/r86iN/src/parsers/pm_io/data.jl:1674\n",
      "┌ Info: no active generators found at bus 1048, updating to bus type from 2 to 1\n",
      "└ @ PowerSystems /Users/cbarrows/.julia/packages/PowerSystems/r86iN/src/parsers/pm_io/data.jl:1674\n",
      "┌ Info: no active generators found at bus 1077, updating to bus type from 2 to 1\n",
      "└ @ PowerSystems /Users/cbarrows/.julia/packages/PowerSystems/r86iN/src/parsers/pm_io/data.jl:1674\n",
      "┌ Info: no active generators found at bus 6052, updating to bus type from 2 to 1\n",
      "└ @ PowerSystems /Users/cbarrows/.julia/packages/PowerSystems/r86iN/src/parsers/pm_io/data.jl:1674\n",
      "┌ Info: no active generators found at bus 8147, updating to bus type from 2 to 1\n",
      "└ @ PowerSystems /Users/cbarrows/.julia/packages/PowerSystems/r86iN/src/parsers/pm_io/data.jl:1674\n",
      "┌ Info: no active generators found at bus 7034, updating to bus type from 2 to 1\n",
      "└ @ PowerSystems /Users/cbarrows/.julia/packages/PowerSystems/r86iN/src/parsers/pm_io/data.jl:1674\n",
      "┌ Info: no active generators found at bus 7025, updating to bus type from 2 to 1\n",
      "└ @ PowerSystems /Users/cbarrows/.julia/packages/PowerSystems/r86iN/src/parsers/pm_io/data.jl:1674\n",
      "┌ Info: the voltage setpoint on generator 306 does not match the value at bus 6166\n",
      "└ @ PowerSystems /Users/cbarrows/.julia/packages/PowerSystems/r86iN/src/parsers/pm_io/data.jl:1779\n",
      "┌ Info: the voltage setpoint on generator 407 does not match the value at bus 7166\n",
      "└ @ PowerSystems /Users/cbarrows/.julia/packages/PowerSystems/r86iN/src/parsers/pm_io/data.jl:1779\n",
      "┌ Info: the voltage setpoint on generator 1 does not match the value at bus 1004\n",
      "└ @ PowerSystems /Users/cbarrows/.julia/packages/PowerSystems/r86iN/src/parsers/pm_io/data.jl:1779\n",
      "┌ Info: the voltage setpoint on generator 54 does not match the value at bus 2076\n",
      "└ @ PowerSystems /Users/cbarrows/.julia/packages/PowerSystems/r86iN/src/parsers/pm_io/data.jl:1779\n",
      "┌ Info: the voltage setpoint on generator 519 does not match the value at bus 8050\n",
      "└ @ PowerSystems /Users/cbarrows/.julia/packages/PowerSystems/r86iN/src/parsers/pm_io/data.jl:1779\n",
      "┌ Info: the voltage setpoint on generator 101 does not match the value at bus 3095\n",
      "└ @ PowerSystems /Users/cbarrows/.julia/packages/PowerSystems/r86iN/src/parsers/pm_io/data.jl:1779\n",
      "┌ Info: the voltage setpoint on generator 371 does not match the value at bus 7063\n",
      "└ @ PowerSystems /Users/cbarrows/.julia/packages/PowerSystems/r86iN/src/parsers/pm_io/data.jl:1779\n",
      "┌ Info: the voltage setpoint on generator 41 does not match the value at bus 2004\n",
      "└ @ PowerSystems /Users/cbarrows/.julia/packages/PowerSystems/r86iN/src/parsers/pm_io/data.jl:1779\n",
      "┌ Info: the voltage setpoint on generator 464 does not match the value at bus 7361\n",
      "└ @ PowerSystems /Users/cbarrows/.julia/packages/PowerSystems/r86iN/src/parsers/pm_io/data.jl:1779\n",
      "┌ Info: the voltage setpoint on generator 65 does not match the value at bus 2104\n",
      "└ @ PowerSystems /Users/cbarrows/.julia/packages/PowerSystems/r86iN/src/parsers/pm_io/data.jl:1779\n",
      "┌ Info: the voltage setpoint on generator 475 does not match the value at bus 7379\n",
      "└ @ PowerSystems /Users/cbarrows/.julia/packages/PowerSystems/r86iN/src/parsers/pm_io/data.jl:1779\n",
      "┌ Info: the voltage setpoint on generator 447 does not match the value at bus 7325\n",
      "└ @ PowerSystems /Users/cbarrows/.julia/packages/PowerSystems/r86iN/src/parsers/pm_io/data.jl:1779\n",
      "┌ Info: the voltage setpoint on generator 335 does not match the value at bus 6297\n",
      "└ @ PowerSystems /Users/cbarrows/.julia/packages/PowerSystems/r86iN/src/parsers/pm_io/data.jl:1779\n",
      "┌ Info: the voltage setpoint on generator 362 does not match the value at bus 7025\n",
      "└ @ PowerSystems /Users/cbarrows/.julia/packages/PowerSystems/r86iN/src/parsers/pm_io/data.jl:1779\n",
      "┌ Info: the voltage setpoint on generator 505 does not match the value at bus 7428\n",
      "└ @ PowerSystems /Users/cbarrows/.julia/packages/PowerSystems/r86iN/src/parsers/pm_io/data.jl:1779\n",
      "┌ Info: the voltage setpoint on generator 491 does not match the value at bus 7422\n",
      "└ @ PowerSystems /Users/cbarrows/.julia/packages/PowerSystems/r86iN/src/parsers/pm_io/data.jl:1779\n",
      "┌ Info: the voltage setpoint on generator 326 does not match the value at bus 6268\n",
      "└ @ PowerSystems /Users/cbarrows/.julia/packages/PowerSystems/r86iN/src/parsers/pm_io/data.jl:1779\n",
      "┌ Info: the voltage setpoint on generator 543 does not match the value at bus 8158\n",
      "└ @ PowerSystems /Users/cbarrows/.julia/packages/PowerSystems/r86iN/src/parsers/pm_io/data.jl:1779\n",
      "┌ Info: the voltage setpoint on generator 299 does not match the value at bus 6145\n",
      "└ @ PowerSystems /Users/cbarrows/.julia/packages/PowerSystems/r86iN/src/parsers/pm_io/data.jl:1779\n",
      "┌ Info: the voltage setpoint on generator 168 does not match the value at bus 4181\n",
      "└ @ PowerSystems /Users/cbarrows/.julia/packages/PowerSystems/r86iN/src/parsers/pm_io/data.jl:1779\n",
      "┌ Info: the voltage setpoint on generator 159 does not match the value at bus 4138\n",
      "└ @ PowerSystems /Users/cbarrows/.julia/packages/PowerSystems/r86iN/src/parsers/pm_io/data.jl:1779\n",
      "┌ Info: the voltage setpoint on generator 403 does not match the value at bus 7162\n",
      "└ @ PowerSystems /Users/cbarrows/.julia/packages/PowerSystems/r86iN/src/parsers/pm_io/data.jl:1779\n",
      "┌ Info: the voltage setpoint on generator 228 does not match the value at bus 5325\n",
      "└ @ PowerSystems /Users/cbarrows/.julia/packages/PowerSystems/r86iN/src/parsers/pm_io/data.jl:1779\n",
      "┌ Info: the voltage setpoint on generator 332 does not match the value at bus 6274\n",
      "└ @ PowerSystems /Users/cbarrows/.julia/packages/PowerSystems/r86iN/src/parsers/pm_io/data.jl:1779\n",
      "┌ Info: the voltage setpoint on generator 190 does not match the value at bus 5041\n",
      "└ @ PowerSystems /Users/cbarrows/.julia/packages/PowerSystems/r86iN/src/parsers/pm_io/data.jl:1779\n",
      "┌ Info: the voltage setpoint on generator 227 does not match the value at bus 5324\n",
      "└ @ PowerSystems /Users/cbarrows/.julia/packages/PowerSystems/r86iN/src/parsers/pm_io/data.jl:1779\n",
      "┌ Info: the voltage setpoint on generator 270 does not match the value at bus 6049\n",
      "└ @ PowerSystems /Users/cbarrows/.julia/packages/PowerSystems/r86iN/src/parsers/pm_io/data.jl:1779\n",
      "┌ Info: the voltage setpoint on generator 536 does not match the value at bus 8130\n",
      "└ @ PowerSystems /Users/cbarrows/.julia/packages/PowerSystems/r86iN/src/parsers/pm_io/data.jl:1779\n",
      "┌ Info: the voltage setpoint on generator 476 does not match the value at bus 7389\n",
      "└ @ PowerSystems /Users/cbarrows/.julia/packages/PowerSystems/r86iN/src/parsers/pm_io/data.jl:1779\n",
      "┌ Info: the voltage setpoint on generator 223 does not match the value at bus 5303\n",
      "└ @ PowerSystems /Users/cbarrows/.julia/packages/PowerSystems/r86iN/src/parsers/pm_io/data.jl:1779\n",
      "┌ Info: the voltage setpoint on generator 453 does not match the value at bus 7350\n",
      "└ @ PowerSystems /Users/cbarrows/.julia/packages/PowerSystems/r86iN/src/parsers/pm_io/data.jl:1779\n",
      "┌ Info: the voltage setpoint on generator 531 does not match the value at bus 8099\n",
      "└ @ PowerSystems /Users/cbarrows/.julia/packages/PowerSystems/r86iN/src/parsers/pm_io/data.jl:1779\n",
      "┌ Info: the voltage setpoint on generator 88 does not match the value at bus 3060\n",
      "└ @ PowerSystems /Users/cbarrows/.julia/packages/PowerSystems/r86iN/src/parsers/pm_io/data.jl:1779\n",
      "┌ Info: the voltage setpoint on generator 467 does not match the value at bus 7371\n",
      "└ @ PowerSystems /Users/cbarrows/.julia/packages/PowerSystems/r86iN/src/parsers/pm_io/data.jl:1779\n",
      "┌ Info: the voltage setpoint on generator 297 does not match the value at bus 6111\n",
      "└ @ PowerSystems /Users/cbarrows/.julia/packages/PowerSystems/r86iN/src/parsers/pm_io/data.jl:1779\n",
      "┌ Info: the voltage setpoint on generator 26 does not match the value at bus 1072\n",
      "└ @ PowerSystems /Users/cbarrows/.julia/packages/PowerSystems/r86iN/src/parsers/pm_io/data.jl:1779\n",
      "┌ Info: the voltage setpoint on generator 289 does not match the value at bus 6087\n",
      "└ @ PowerSystems /Users/cbarrows/.julia/packages/PowerSystems/r86iN/src/parsers/pm_io/data.jl:1779\n",
      "┌ Info: the voltage setpoint on generator 250 does not match the value at bus 5418\n",
      "└ @ PowerSystems /Users/cbarrows/.julia/packages/PowerSystems/r86iN/src/parsers/pm_io/data.jl:1779\n",
      "┌ Info: the voltage setpoint on generator 77 does not match the value at bus 3020\n",
      "└ @ PowerSystems /Users/cbarrows/.julia/packages/PowerSystems/r86iN/src/parsers/pm_io/data.jl:1779\n",
      "┌ Info: the voltage setpoint on generator 230 does not match the value at bus 5342\n",
      "└ @ PowerSystems /Users/cbarrows/.julia/packages/PowerSystems/r86iN/src/parsers/pm_io/data.jl:1779\n",
      "┌ Info: the voltage setpoint on generator 449 does not match the value at bus 7329\n",
      "└ @ PowerSystems /Users/cbarrows/.julia/packages/PowerSystems/r86iN/src/parsers/pm_io/data.jl:1779\n",
      "┌ Info: the voltage setpoint on generator 394 does not match the value at bus 7135\n",
      "└ @ PowerSystems /Users/cbarrows/.julia/packages/PowerSystems/r86iN/src/parsers/pm_io/data.jl:1779\n",
      "┌ Info: the voltage setpoint on generator 258 does not match the value at bus 5444\n",
      "└ @ PowerSystems /Users/cbarrows/.julia/packages/PowerSystems/r86iN/src/parsers/pm_io/data.jl:1779\n",
      "┌ Info: the voltage setpoint on generator 328 does not match the value at bus 6270\n",
      "└ @ PowerSystems /Users/cbarrows/.julia/packages/PowerSystems/r86iN/src/parsers/pm_io/data.jl:1779\n",
      "┌ Info: the voltage setpoint on generator 204 does not match the value at bus 5167\n",
      "└ @ PowerSystems /Users/cbarrows/.julia/packages/PowerSystems/r86iN/src/parsers/pm_io/data.jl:1779\n",
      "┌ Info: the voltage setpoint on generator 387 does not match the value at bus 7113\n",
      "└ @ PowerSystems /Users/cbarrows/.julia/packages/PowerSystems/r86iN/src/parsers/pm_io/data.jl:1779\n",
      "┌ Info: the voltage setpoint on generator 23 does not match the value at bus 1063\n",
      "└ @ PowerSystems /Users/cbarrows/.julia/packages/PowerSystems/r86iN/src/parsers/pm_io/data.jl:1779\n",
      "┌ Info: the voltage setpoint on generator 160 does not match the value at bus 4142\n",
      "└ @ PowerSystems /Users/cbarrows/.julia/packages/PowerSystems/r86iN/src/parsers/pm_io/data.jl:1779\n",
      "┌ Info: the voltage setpoint on generator 416 does not match the value at bus 7193\n",
      "└ @ PowerSystems /Users/cbarrows/.julia/packages/PowerSystems/r86iN/src/parsers/pm_io/data.jl:1779\n",
      "┌ Info: the voltage setpoint on generator 450 does not match the value at bus 7334\n",
      "└ @ PowerSystems /Users/cbarrows/.julia/packages/PowerSystems/r86iN/src/parsers/pm_io/data.jl:1779\n",
      "┌ Info: Constructing System from Power Models\n",
      "│   data[\"name\"] = activsg2000\n",
      "│   data[\"source_type\"] = pti\n",
      "└ @ PowerSystems /Users/cbarrows/.julia/packages/PowerSystems/r86iN/src/parsers/power_models_data.jl:52\n",
      "┌ Info: Reading bus data\n",
      "└ @ PowerSystems /Users/cbarrows/.julia/packages/PowerSystems/r86iN/src/parsers/power_models_data.jl:173\n",
      "┌ Info: Reading generator data\n",
      "└ @ PowerSystems /Users/cbarrows/.julia/packages/PowerSystems/r86iN/src/parsers/power_models_data.jl:482\n",
      "┌ Info: Reading branch data\n",
      "└ @ PowerSystems /Users/cbarrows/.julia/packages/PowerSystems/r86iN/src/parsers/power_models_data.jl:626\n",
      "┌ Info: Reading branch data\n",
      "└ @ PowerSystems /Users/cbarrows/.julia/packages/PowerSystems/r86iN/src/parsers/power_models_data.jl:688\n",
      "┌ Info: Reading DC Line data\n",
      "└ @ PowerSystems /Users/cbarrows/.julia/packages/PowerSystems/r86iN/src/parsers/power_models_data.jl:660\n",
      "┌ Info: Reading storage data\n",
      "└ @ PowerSystems /Users/cbarrows/.julia/packages/PowerSystems/r86iN/src/parsers/power_models_data.jl:707\n"
     ]
    }
   ],
   "cell_type": "code",
   "source": [
    "TAMU_DIR = joinpath(base_dir, \"data\", \"ACTIVSg2000\");\n",
    "sys = TamuSystem(TAMU_DIR)\n",
    "horizon = 24;\n",
    "interval = Dates.Hour(24);\n",
    "transform_single_time_series!(sys, horizon, interval);"
   ],
   "metadata": {},
   "execution_count": 5
  },
  {
   "cell_type": "markdown",
   "source": [
    "## Run a PCM\n",
    "note that the TAMU data doesn't contain startup and shutdown costs, or minimum up/down\n",
    "time limits, so a UC problem merely respects minmum generation levels."
   ],
   "metadata": {}
  },
  {
   "outputs": [
    {
     "name": "stdout",
     "output_type": "stream",
     "text": [
      "┌ Warning: No Feedforward Chronologies have been defined. This configuration assummes that there is no information passing between stages\n",
      "└ @ PowerSimulations /Users/cbarrows/.julia/packages/PowerSimulations/If05p/src/core/simulation_sequence.jl:138\n"
     ]
    },
    {
     "output_type": "execute_result",
     "data": {
      "text/plain": "Feed Forward Chronology\n-----------------------\n\nInitial Condition Chronology\n----------------------------\n\n1\n\n"
     },
     "metadata": {},
     "execution_count": 6
    }
   ],
   "cell_type": "code",
   "source": [
    "sim_folder = mkpath(joinpath(pkgpath, \"TAMU-sim\"))\n",
    "stages_definition = Dict(\n",
    "    \"UC\" => Stage(\n",
    "        GenericOpProblem,\n",
    "        template_unit_commitment(network = CopperPlatePowerModel),\n",
    "        sys,\n",
    "        solver,\n",
    "    ),\n",
    ")\n",
    "order = Dict(1 => \"UC\")\n",
    "horizons = Dict(\"UC\" => 24)\n",
    "intervals = Dict(\"UC\" => (Hour(24), Consecutive()))\n",
    "DA_sequence = SimulationSequence(\n",
    "    step_resolution = Hour(24),\n",
    "    order = order,\n",
    "    horizons = horizons,\n",
    "    intervals = intervals,\n",
    "    ini_cond_chronology = IntraStageChronology(),\n",
    ")"
   ],
   "metadata": {},
   "execution_count": 6
  },
  {
   "cell_type": "markdown",
   "source": [
    "### Define and build a simulation"
   ],
   "metadata": {}
  },
  {
   "outputs": [
    {
     "output_type": "execute_result",
     "data": {
      "text/plain": "PowerSimulations.BuildStatusModule.BuildStatus.BUILT = 0"
     },
     "metadata": {},
     "execution_count": 7
    }
   ],
   "cell_type": "code",
   "source": [
    "sim = Simulation(\n",
    "    name = \"TAMU-test\",\n",
    "    steps = 3,\n",
    "    stages = stages_definition,\n",
    "    stages_sequence = DA_sequence,\n",
    "    simulation_folder = sim_folder,\n",
    ")\n",
    "\n",
    "build!(sim)"
   ],
   "metadata": {},
   "execution_count": 7
  },
  {
   "cell_type": "markdown",
   "source": [
    "### Execute the simulation"
   ],
   "metadata": {}
  },
  {
   "outputs": [
    {
     "name": "stdout",
     "output_type": "stream",
     "text": [
      "\rProgress:  33%|█████████████▋                           |  ETA: 0:00:32\u001b[K\r\n",
      "  Step:                  1\u001b[K\r\n",
      "  Stage:                 UC\u001b[K\r\n",
      "  Simulation Timestamp:  2016-01-01T00:00:00\u001b[K\r\u001b[A\r\u001b[A\r\u001b[AWelcome to the CBC MILP Solver \n",
      "Version: 2.10.3 \n",
      "Build Date: Nov  9 2020 \n",
      "\n",
      "command line - Cbc_C_Interface -ratioGap 0.5 -logLevel 1 -solve -quit (default strategy 1)\n",
      "ratioGap was changed from 0 to 0.5\n",
      "Continuous objective value is 1.05921e+08 - 0.49 seconds\n",
      "Cgl0004I processed model has 50536 rows, 51112 columns (38080 integer (38080 of which binary)) and 152112 elements\n",
      "Cbc0045I Trying just fixing integer variables (and fixingish SOS).\n",
      "Cbc0045I MIPStart solution provided values for 26088 of 38080 integer variables, 644 variables are still fractional.\n",
      "Cbc0038I Full problem 50536 rows 51112 columns, reduced to 0 rows 0 columns\n",
      "Cbc0045I Mini branch and bound defined values for remaining variables in 0.16 seconds.\n",
      "Cbc0045I MIPStart provided solution with cost 1.05921e+08\n",
      "Cbc0012I Integer solution of 1.0592117e+08 found by Reduced search after 0 iterations and 0 nodes (2.73 seconds)\n",
      "Cbc0006I The LP relaxation is infeasible or too expensive\n",
      "Cbc0045I Solution of 1.05921e+08 already found by heuristic\n",
      "Cuts at root node changed objective from 1.79769e+308 to -1.79769e+308\n",
      "Probing was tried 0 times and created 0 cuts of which 0 were active after adding rounds of cuts (0.000 seconds)\n",
      "Gomory was tried 0 times and created 0 cuts of which 0 were active after adding rounds of cuts (0.000 seconds)\n",
      "Knapsack was tried 0 times and created 0 cuts of which 0 were active after adding rounds of cuts (0.000 seconds)\n",
      "Clique was tried 0 times and created 0 cuts of which 0 were active after adding rounds of cuts (0.000 seconds)\n",
      "MixedIntegerRounding2 was tried 0 times and created 0 cuts of which 0 were active after adding rounds of cuts (0.000 seconds)\n",
      "FlowCover was tried 0 times and created 0 cuts of which 0 were active after adding rounds of cuts (0.000 seconds)\n",
      "TwoMirCuts was tried 0 times and created 0 cuts of which 0 were active after adding rounds of cuts (0.000 seconds)\n",
      "ZeroHalf was tried 0 times and created 0 cuts of which 0 were active after adding rounds of cuts (0.000 seconds)\n",
      "\n",
      "Result - Optimal solution found\n",
      "\n",
      "Objective value:                105921171.22492711\n",
      "Enumerated nodes:               0\n",
      "Total iterations:               0\n",
      "Time (CPU seconds):             3.85\n",
      "Time (Wallclock seconds):       4.41\n",
      "\n",
      "Total time (CPU seconds):       3.85   (Wallclock seconds):       4.41\n",
      "\n",
      "\n",
      "\n",
      "\n",
      "\r\u001b[K\u001b[A\r\u001b[K\u001b[A\r\u001b[K\u001b[A\rProgress:  67%|███████████████████████████▍             |  ETA: 0:00:11\u001b[K\r\n",
      "  Step:                  2\u001b[K\r\n",
      "  Stage:                 UC\u001b[K\r\n",
      "  Simulation Timestamp:  2016-01-02T00:00:00\u001b[K\r\u001b[A\r\u001b[A\r\u001b[AWelcome to the CBC MILP Solver \n",
      "Version: 2.10.3 \n",
      "Build Date: Nov  9 2020 \n",
      "\n",
      "command line - Cbc_C_Interface -ratioGap 0.5 -logLevel 1 -solve -quit (default strategy 1)\n",
      "ratioGap was changed from 0 to 0.5\n",
      "Continuous objective value is 1.07345e+08 - 0.50 seconds\n",
      "Cgl0004I processed model has 50536 rows, 51112 columns (38080 integer (38080 of which binary)) and 152112 elements\n",
      "Cbc0045I Trying just fixing integer variables (and fixingish SOS).\n",
      "Cbc0045I MIPStart provided solution with cost 1.07345e+08\n",
      "Cbc0012I Integer solution of 1.073446e+08 found by Reduced search after 0 iterations and 0 nodes (2.40 seconds)\n",
      "Cbc0006I The LP relaxation is infeasible or too expensive\n",
      "Cbc0045I Solution of 1.07345e+08 already found by heuristic\n",
      "Cuts at root node changed objective from 1.79769e+308 to -1.79769e+308\n",
      "Probing was tried 0 times and created 0 cuts of which 0 were active after adding rounds of cuts (0.000 seconds)\n",
      "Gomory was tried 0 times and created 0 cuts of which 0 were active after adding rounds of cuts (0.000 seconds)\n",
      "Knapsack was tried 0 times and created 0 cuts of which 0 were active after adding rounds of cuts (0.000 seconds)\n",
      "Clique was tried 0 times and created 0 cuts of which 0 were active after adding rounds of cuts (0.000 seconds)\n",
      "MixedIntegerRounding2 was tried 0 times and created 0 cuts of which 0 were active after adding rounds of cuts (0.000 seconds)\n",
      "FlowCover was tried 0 times and created 0 cuts of which 0 were active after adding rounds of cuts (0.000 seconds)\n",
      "TwoMirCuts was tried 0 times and created 0 cuts of which 0 were active after adding rounds of cuts (0.000 seconds)\n",
      "ZeroHalf was tried 0 times and created 0 cuts of which 0 were active after adding rounds of cuts (0.000 seconds)\n",
      "\n",
      "Result - Optimal solution found\n",
      "\n",
      "Objective value:                107344603.15164851\n",
      "Enumerated nodes:               0\n",
      "Total iterations:               0\n",
      "Time (CPU seconds):             3.58\n",
      "Time (Wallclock seconds):       4.10\n",
      "\n",
      "Total time (CPU seconds):       3.58   (Wallclock seconds):       4.10\n",
      "\n",
      "\n",
      "\n",
      "\n",
      "\r\u001b[K\u001b[A\r\u001b[K\u001b[A\r\u001b[K\u001b[A\rProgress: 100%|█████████████████████████████████████████| Time: 0:00:27\u001b[K\r\n",
      "  Step:                  3\u001b[K\r\n",
      "  Stage:                 UC\u001b[K\r\n",
      "  Simulation Timestamp:  2016-01-03T00:00:00\u001b[K\n"
     ]
    },
    {
     "output_type": "execute_result",
     "data": {
      "text/plain": "PowerSimulations.RunStatusModule.RunStatus.SUCCESSFUL = 0"
     },
     "metadata": {},
     "execution_count": 8
    }
   ],
   "cell_type": "code",
   "source": [
    "execute!(sim)"
   ],
   "metadata": {},
   "execution_count": 8
  },
  {
   "cell_type": "markdown",
   "source": [
    "### Load and analyze results"
   ],
   "metadata": {}
  },
  {
   "outputs": [
    {
     "name": "stdout",
     "output_type": "stream",
     "text": [
      "┌ Info: checking integrity of /Users/cbarrows/Documents/repos/SIIPExamples.jl/TAMU-sim/TAMU-test/5/data_store/simulation_store.h5\n",
      "└ @ PowerSimulations /Users/cbarrows/.julia/packages/PowerSimulations/If05p/src/utils.jl:386\n",
      "┌ Info: Loaded time series from storage file existing=system-69c22ff2-721a-48bc-8cf9-af14c2052314_time_series_storage.h5 new=/var/folders/27/2jr8c7gn4j72fvrg4qt81zrw8w_711/T/jl_7rkHRR\n",
      "└ @ InfrastructureSystems /Users/cbarrows/.julia/packages/InfrastructureSystems/i88mL/src/hdf5_time_series_storage.jl:82\n",
      "┌ Info: reading variables from data store\n",
      "└ @ PowerSimulations /Users/cbarrows/.julia/packages/PowerSimulations/If05p/src/core/simulation_results.jl:210\n"
     ]
    },
    {
     "output_type": "execute_result",
     "data": {
      "text/plain": "\u001b[1m72×544 DataFrame\u001b[0m\n\u001b[1m Row \u001b[0m│\u001b[1m generator-1004-1 \u001b[0m\u001b[1m generator-1006-1 \u001b[0m\u001b[1m generator-1009-1 \u001b[0m\u001b[1m generator-1011-1 \u001b[0m\u001b[1m\u001b[0m ⋯\n\u001b[1m     \u001b[0m│\u001b[90m Float64          \u001b[0m\u001b[90m Float64          \u001b[0m\u001b[90m Float64          \u001b[0m\u001b[90m Float64          \u001b[0m\u001b[90m\u001b[0m ⋯\n─────┼──────────────────────────────────────────────────────────────────────────\n   1 │              1.0               1.0               1.0               1.0  ⋯\n   2 │              1.0               1.0               1.0               1.0\n   3 │              1.0               1.0               1.0               1.0\n   4 │              1.0               1.0               1.0               1.0\n   5 │              1.0               1.0               1.0               1.0  ⋯\n   6 │              1.0               1.0               1.0               1.0\n   7 │              1.0               1.0               1.0               1.0\n   8 │              1.0               1.0               1.0               1.0\n  ⋮  │        ⋮                 ⋮                 ⋮                 ⋮          ⋱\n  66 │              1.0               1.0               1.0               1.0  ⋯\n  67 │              1.0               1.0               1.0               1.0\n  68 │              1.0               1.0               1.0               1.0\n  69 │              1.0               1.0               1.0               1.0\n  70 │              1.0               1.0               1.0               1.0  ⋯\n  71 │              1.0               1.0               1.0               1.0\n  72 │              1.0               1.0               1.0               1.0\n\u001b[31m                                                 540 columns and 57 rows omitted\u001b[0m",
      "text/html": [
       "<table class=\"data-frame\"><thead><tr><th></th><th>generator-1004-1</th><th>generator-1006-1</th><th>generator-1009-1</th><th>generator-1011-1</th><th>generator-1021-1</th></tr><tr><th></th><th>Float64</th><th>Float64</th><th>Float64</th><th>Float64</th><th>Float64</th></tr></thead><tbody><p>72 rows × 544 columns (omitted printing of 539 columns)</p><tr><th>1</th><td>1.0</td><td>1.0</td><td>1.0</td><td>1.0</td><td>1.0</td></tr><tr><th>2</th><td>1.0</td><td>1.0</td><td>1.0</td><td>1.0</td><td>1.0</td></tr><tr><th>3</th><td>1.0</td><td>1.0</td><td>1.0</td><td>1.0</td><td>1.0</td></tr><tr><th>4</th><td>1.0</td><td>1.0</td><td>1.0</td><td>1.0</td><td>1.0</td></tr><tr><th>5</th><td>1.0</td><td>1.0</td><td>1.0</td><td>1.0</td><td>1.0</td></tr><tr><th>6</th><td>1.0</td><td>1.0</td><td>1.0</td><td>1.0</td><td>1.0</td></tr><tr><th>7</th><td>1.0</td><td>1.0</td><td>1.0</td><td>1.0</td><td>1.0</td></tr><tr><th>8</th><td>1.0</td><td>1.0</td><td>1.0</td><td>1.0</td><td>1.0</td></tr><tr><th>9</th><td>1.0</td><td>1.0</td><td>1.0</td><td>1.0</td><td>1.0</td></tr><tr><th>10</th><td>1.0</td><td>1.0</td><td>1.0</td><td>1.0</td><td>1.0</td></tr><tr><th>11</th><td>1.0</td><td>1.0</td><td>1.0</td><td>1.0</td><td>1.0</td></tr><tr><th>12</th><td>1.0</td><td>1.0</td><td>1.0</td><td>1.0</td><td>1.0</td></tr><tr><th>13</th><td>1.0</td><td>1.0</td><td>1.0</td><td>1.0</td><td>1.0</td></tr><tr><th>14</th><td>1.0</td><td>1.0</td><td>1.0</td><td>1.0</td><td>1.0</td></tr><tr><th>15</th><td>1.0</td><td>1.0</td><td>1.0</td><td>1.0</td><td>1.0</td></tr><tr><th>16</th><td>1.0</td><td>1.0</td><td>1.0</td><td>1.0</td><td>1.0</td></tr><tr><th>17</th><td>1.0</td><td>1.0</td><td>1.0</td><td>1.0</td><td>1.0</td></tr><tr><th>18</th><td>1.0</td><td>1.0</td><td>1.0</td><td>1.0</td><td>1.0</td></tr><tr><th>19</th><td>1.0</td><td>1.0</td><td>1.0</td><td>1.0</td><td>1.0</td></tr><tr><th>20</th><td>1.0</td><td>1.0</td><td>1.0</td><td>1.0</td><td>1.0</td></tr><tr><th>21</th><td>1.0</td><td>1.0</td><td>1.0</td><td>1.0</td><td>1.0</td></tr><tr><th>22</th><td>1.0</td><td>1.0</td><td>1.0</td><td>1.0</td><td>1.0</td></tr><tr><th>23</th><td>1.0</td><td>1.0</td><td>1.0</td><td>1.0</td><td>1.0</td></tr><tr><th>24</th><td>1.0</td><td>1.0</td><td>1.0</td><td>1.0</td><td>1.0</td></tr><tr><th>&vellip;</th><td>&vellip;</td><td>&vellip;</td><td>&vellip;</td><td>&vellip;</td><td>&vellip;</td></tr></tbody></table>"
      ]
     },
     "metadata": {},
     "execution_count": 9
    }
   ],
   "cell_type": "code",
   "source": [
    "sim_results = SimulationResults(sim);\n",
    "uc_results = get_stage_results(sim_results, \"UC\")\n",
    "read_realized_variables(uc_results, names = [:On__ThermalStandard])[:On__ThermalStandard]"
   ],
   "metadata": {},
   "execution_count": 9
  },
  {
   "cell_type": "markdown",
   "source": [
    "---\n",
    "\n",
    "*This notebook was generated using [Literate.jl](https://github.com/fredrikekre/Literate.jl).*"
   ],
   "metadata": {}
  }
 ],
 "nbformat_minor": 3,
 "metadata": {
  "language_info": {
   "file_extension": ".jl",
   "mimetype": "application/julia",
   "name": "julia",
   "version": "1.5.2"
  },
  "kernelspec": {
   "name": "julia-1.5",
   "display_name": "Julia 1.5.2",
   "language": "julia"
  }
 },
 "nbformat": 4
}
