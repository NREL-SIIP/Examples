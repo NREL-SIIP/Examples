{
 "cells": [
  {
   "cell_type": "markdown",
   "metadata": {},
   "source": [
    "# Time-varying bid problems with [PowerSimulations.jl](https://github.com/NREL-SIIP/PowerSimulations.jl)"
   ]
  },
  {
   "cell_type": "markdown",
   "metadata": {},
   "source": [
    "**Originally Contributed by**: Sourabh Dalvi"
   ]
  },
  {
   "cell_type": "markdown",
   "metadata": {},
   "source": [
    "## Introduction"
   ]
  },
  {
   "cell_type": "markdown",
   "metadata": {},
   "source": [
    "PowerSimulations.jl supports the construction of Operations problems in power system\n",
    "with three part cost bids for each time step. MarketBidCost allows the user to pass a\n",
    "time-series of variable cost for energy and ancillary services jointly.\n",
    "This example shows how to build a Operations problem with MarketBidCost and how to add\n",
    "the time-series data to the devices."
   ]
  },
  {
   "cell_type": "markdown",
   "metadata": {},
   "source": [
    "## Dependencies"
   ]
  },
  {
   "cell_type": "code",
   "execution_count": 1,
   "metadata": {},
   "outputs": [],
   "source": [
    "using SIIPExamples"
   ]
  },
  {
   "cell_type": "markdown",
   "metadata": {},
   "source": [
    "### Modeling Packages"
   ]
  },
  {
   "cell_type": "code",
   "execution_count": 2,
   "metadata": {},
   "outputs": [],
   "source": [
    "using PowerSystems\n",
    "using PowerSimulations\n",
    "const PSI = PowerSimulations\n",
    "using D3TypeTrees"
   ]
  },
  {
   "cell_type": "markdown",
   "metadata": {},
   "source": [
    "### Data management packages"
   ]
  },
  {
   "cell_type": "code",
   "execution_count": 3,
   "metadata": {},
   "outputs": [],
   "source": [
    "using Dates\n",
    "using DataFrames\n",
    "using TimeSeries"
   ]
  },
  {
   "cell_type": "markdown",
   "metadata": {},
   "source": [
    "### Optimization packages"
   ]
  },
  {
   "cell_type": "code",
   "execution_count": 4,
   "metadata": {},
   "outputs": [],
   "source": [
    "using Cbc #solver"
   ]
  },
  {
   "cell_type": "markdown",
   "metadata": {},
   "source": [
    "### Data\n",
    "This data depends upon the [RTS-GMLC](https://github.com/gridmod/rts-gmlc) dataset. Let's\n",
    "download and extract the data."
   ]
  },
  {
   "cell_type": "code",
   "execution_count": 5,
   "metadata": {},
   "outputs": [],
   "source": [
    "rts_dir = SIIPExamples.download(\"https://github.com/GridMod/RTS-GMLC\")\n",
    "rts_src_dir = joinpath(rts_dir, \"RTS_Data\", \"SourceData\")\n",
    "rts_siip_dir = joinpath(rts_dir, \"RTS_Data\", \"FormattedData\", \"SIIP\");"
   ]
  },
  {
   "cell_type": "markdown",
   "metadata": {},
   "source": [
    "### Create a `System` from RTS-GMLC data just like we did in the [parsing tabular data example.](../../notebook/2_PowerSystems_examples/04_parse_tabulardata.jl)"
   ]
  },
  {
   "cell_type": "code",
   "execution_count": 6,
   "metadata": {},
   "outputs": [
    {
     "name": "stderr",
     "output_type": "stream",
     "text": [
      "┌ Info: Parsing csv data in branch.csv ...\n",
      "└ @ PowerSystems /Users/cbarrows/.julia/packages/PowerSystems/r86iN/src/parsers/power_system_table_data.jl:143\n",
      "┌ Info: Successfully parsed branch.csv\n",
      "└ @ PowerSystems /Users/cbarrows/.julia/packages/PowerSystems/r86iN/src/parsers/power_system_table_data.jl:148\n",
      "┌ Info: Parsing csv data in bus.csv ...\n",
      "└ @ PowerSystems /Users/cbarrows/.julia/packages/PowerSystems/r86iN/src/parsers/power_system_table_data.jl:143\n",
      "┌ Info: Successfully parsed bus.csv\n",
      "└ @ PowerSystems /Users/cbarrows/.julia/packages/PowerSystems/r86iN/src/parsers/power_system_table_data.jl:148\n",
      "┌ Info: Parsing csv data in dc_branch.csv ...\n",
      "└ @ PowerSystems /Users/cbarrows/.julia/packages/PowerSystems/r86iN/src/parsers/power_system_table_data.jl:143\n",
      "┌ Info: Successfully parsed dc_branch.csv\n",
      "└ @ PowerSystems /Users/cbarrows/.julia/packages/PowerSystems/r86iN/src/parsers/power_system_table_data.jl:148\n",
      "┌ Info: Parsing csv data in gen.csv ...\n",
      "└ @ PowerSystems /Users/cbarrows/.julia/packages/PowerSystems/r86iN/src/parsers/power_system_table_data.jl:143\n",
      "┌ Info: Successfully parsed gen.csv\n",
      "└ @ PowerSystems /Users/cbarrows/.julia/packages/PowerSystems/r86iN/src/parsers/power_system_table_data.jl:148\n",
      "┌ Info: Parsing csv data in reserves.csv ...\n",
      "└ @ PowerSystems /Users/cbarrows/.julia/packages/PowerSystems/r86iN/src/parsers/power_system_table_data.jl:143\n",
      "┌ Info: Successfully parsed reserves.csv\n",
      "└ @ PowerSystems /Users/cbarrows/.julia/packages/PowerSystems/r86iN/src/parsers/power_system_table_data.jl:148\n",
      "┌ Info: Parsing csv data in simulation_objects.csv ...\n",
      "└ @ PowerSystems /Users/cbarrows/.julia/packages/PowerSystems/r86iN/src/parsers/power_system_table_data.jl:143\n",
      "┌ Info: Successfully parsed simulation_objects.csv\n",
      "└ @ PowerSystems /Users/cbarrows/.julia/packages/PowerSystems/r86iN/src/parsers/power_system_table_data.jl:148\n",
      "┌ Info: Parsing csv data in storage.csv ...\n",
      "└ @ PowerSystems /Users/cbarrows/.julia/packages/PowerSystems/r86iN/src/parsers/power_system_table_data.jl:143\n",
      "┌ Info: Successfully parsed storage.csv\n",
      "└ @ PowerSystems /Users/cbarrows/.julia/packages/PowerSystems/r86iN/src/parsers/power_system_table_data.jl:148\n",
      "┌ Info: Parsing csv data in timeseries_pointers.csv ...\n",
      "└ @ PowerSystems /Users/cbarrows/.julia/packages/PowerSystems/r86iN/src/parsers/power_system_table_data.jl:143\n",
      "┌ Info: Successfully parsed timeseries_pointers.csv\n",
      "└ @ PowerSystems /Users/cbarrows/.julia/packages/PowerSystems/r86iN/src/parsers/power_system_table_data.jl:148\n",
      "┌ Info: Unit System changed to InfrastructureSystems.UnitSystemModule.UnitSystem.DEVICE_BASE = 1\n",
      "└ @ PowerSystems /Users/cbarrows/.julia/packages/PowerSystems/r86iN/src/base.jl:295\n",
      "┌ Warning: Missing PowerSystems.InputCategoryModule.InputCategory.LOAD = 5 data.\n",
      "└ @ PowerSystems /Users/cbarrows/.julia/packages/PowerSystems/r86iN/src/parsers/power_system_table_data.jl:212\n",
      "┌ Warning: User-defined column name Startup Ramp Rate MW/min is not in dataframe.\n",
      "└ @ PowerSystems /Users/cbarrows/.julia/packages/PowerSystems/r86iN/src/parsers/power_system_table_data.jl:1363\n",
      "┌ Warning: User-defined column name Shutdown Ramp Rate MW/min is not in dataframe.\n",
      "└ @ PowerSystems /Users/cbarrows/.julia/packages/PowerSystems/r86iN/src/parsers/power_system_table_data.jl:1363\n",
      "┌ Warning: User-defined column name Status at Start is not in dataframe.\n",
      "└ @ PowerSystems /Users/cbarrows/.julia/packages/PowerSystems/r86iN/src/parsers/power_system_table_data.jl:1363\n",
      "┌ Warning: User-defined column name Time at Status is not in dataframe.\n",
      "└ @ PowerSystems /Users/cbarrows/.julia/packages/PowerSystems/r86iN/src/parsers/power_system_table_data.jl:1363\n",
      "┌ Warning: User-defined column name Start Cost Cold is not in dataframe.\n",
      "└ @ PowerSystems /Users/cbarrows/.julia/packages/PowerSystems/r86iN/src/parsers/power_system_table_data.jl:1363\n",
      "┌ Warning: User-defined column name Start Cost Warm is not in dataframe.\n",
      "└ @ PowerSystems /Users/cbarrows/.julia/packages/PowerSystems/r86iN/src/parsers/power_system_table_data.jl:1363\n",
      "┌ Warning: User-defined column name Start Cost Hot is not in dataframe.\n",
      "└ @ PowerSystems /Users/cbarrows/.julia/packages/PowerSystems/r86iN/src/parsers/power_system_table_data.jl:1363\n",
      "┌ Warning: User-defined column name Must Run is not in dataframe.\n",
      "└ @ PowerSystems /Users/cbarrows/.julia/packages/PowerSystems/r86iN/src/parsers/power_system_table_data.jl:1363\n",
      "┌ Warning: storage generator should have exactly 1 head storage defined: this will throw an error in v1.1.x\n",
      "└ @ PowerSystems /Users/cbarrows/.julia/packages/PowerSystems/r86iN/src/parsers/power_system_table_data.jl:1191\n",
      "┌ Warning: Missing PowerSystems.InputCategoryModule.InputCategory.LOAD = 5 data.\n",
      "└ @ PowerSystems /Users/cbarrows/.julia/packages/PowerSystems/r86iN/src/parsers/power_system_table_data.jl:212\n",
      "┌ Info: Adding contributing generators for Spin_Up_R1 by category\n",
      "└ @ PowerSystems /Users/cbarrows/.julia/packages/PowerSystems/r86iN/src/parsers/power_system_table_data.jl:675\n",
      "┌ Warning: User-defined column name Startup Ramp Rate MW/min is not in dataframe.\n",
      "└ @ PowerSystems /Users/cbarrows/.julia/packages/PowerSystems/r86iN/src/parsers/power_system_table_data.jl:1363\n",
      "┌ Warning: User-defined column name Shutdown Ramp Rate MW/min is not in dataframe.\n",
      "└ @ PowerSystems /Users/cbarrows/.julia/packages/PowerSystems/r86iN/src/parsers/power_system_table_data.jl:1363\n",
      "┌ Warning: User-defined column name Status at Start is not in dataframe.\n",
      "└ @ PowerSystems /Users/cbarrows/.julia/packages/PowerSystems/r86iN/src/parsers/power_system_table_data.jl:1363\n",
      "┌ Warning: User-defined column name Time at Status is not in dataframe.\n",
      "└ @ PowerSystems /Users/cbarrows/.julia/packages/PowerSystems/r86iN/src/parsers/power_system_table_data.jl:1363\n",
      "┌ Warning: User-defined column name Start Cost Cold is not in dataframe.\n",
      "└ @ PowerSystems /Users/cbarrows/.julia/packages/PowerSystems/r86iN/src/parsers/power_system_table_data.jl:1363\n",
      "┌ Warning: User-defined column name Start Cost Warm is not in dataframe.\n",
      "└ @ PowerSystems /Users/cbarrows/.julia/packages/PowerSystems/r86iN/src/parsers/power_system_table_data.jl:1363\n",
      "┌ Warning: User-defined column name Start Cost Hot is not in dataframe.\n",
      "└ @ PowerSystems /Users/cbarrows/.julia/packages/PowerSystems/r86iN/src/parsers/power_system_table_data.jl:1363\n",
      "┌ Warning: User-defined column name Must Run is not in dataframe.\n",
      "└ @ PowerSystems /Users/cbarrows/.julia/packages/PowerSystems/r86iN/src/parsers/power_system_table_data.jl:1363\n",
      "┌ Info: Adding contributing generators for Spin_Up_R2 by category\n",
      "└ @ PowerSystems /Users/cbarrows/.julia/packages/PowerSystems/r86iN/src/parsers/power_system_table_data.jl:675\n",
      "┌ Warning: User-defined column name Startup Ramp Rate MW/min is not in dataframe.\n",
      "└ @ PowerSystems /Users/cbarrows/.julia/packages/PowerSystems/r86iN/src/parsers/power_system_table_data.jl:1363\n",
      "┌ Warning: User-defined column name Shutdown Ramp Rate MW/min is not in dataframe.\n",
      "└ @ PowerSystems /Users/cbarrows/.julia/packages/PowerSystems/r86iN/src/parsers/power_system_table_data.jl:1363\n",
      "┌ Warning: User-defined column name Status at Start is not in dataframe.\n",
      "└ @ PowerSystems /Users/cbarrows/.julia/packages/PowerSystems/r86iN/src/parsers/power_system_table_data.jl:1363\n",
      "┌ Warning: User-defined column name Time at Status is not in dataframe.\n",
      "└ @ PowerSystems /Users/cbarrows/.julia/packages/PowerSystems/r86iN/src/parsers/power_system_table_data.jl:1363\n",
      "┌ Warning: User-defined column name Start Cost Cold is not in dataframe.\n",
      "└ @ PowerSystems /Users/cbarrows/.julia/packages/PowerSystems/r86iN/src/parsers/power_system_table_data.jl:1363\n",
      "┌ Warning: User-defined column name Start Cost Warm is not in dataframe.\n",
      "└ @ PowerSystems /Users/cbarrows/.julia/packages/PowerSystems/r86iN/src/parsers/power_system_table_data.jl:1363\n",
      "┌ Warning: User-defined column name Start Cost Hot is not in dataframe.\n",
      "└ @ PowerSystems /Users/cbarrows/.julia/packages/PowerSystems/r86iN/src/parsers/power_system_table_data.jl:1363\n",
      "┌ Warning: User-defined column name Must Run is not in dataframe.\n",
      "└ @ PowerSystems /Users/cbarrows/.julia/packages/PowerSystems/r86iN/src/parsers/power_system_table_data.jl:1363\n",
      "┌ Info: Adding contributing generators for Spin_Up_R3 by category\n",
      "└ @ PowerSystems /Users/cbarrows/.julia/packages/PowerSystems/r86iN/src/parsers/power_system_table_data.jl:675\n",
      "┌ Warning: User-defined column name Startup Ramp Rate MW/min is not in dataframe.\n",
      "└ @ PowerSystems /Users/cbarrows/.julia/packages/PowerSystems/r86iN/src/parsers/power_system_table_data.jl:1363\n",
      "┌ Warning: User-defined column name Shutdown Ramp Rate MW/min is not in dataframe.\n",
      "└ @ PowerSystems /Users/cbarrows/.julia/packages/PowerSystems/r86iN/src/parsers/power_system_table_data.jl:1363\n",
      "┌ Warning: User-defined column name Status at Start is not in dataframe.\n",
      "└ @ PowerSystems /Users/cbarrows/.julia/packages/PowerSystems/r86iN/src/parsers/power_system_table_data.jl:1363\n",
      "┌ Warning: User-defined column name Time at Status is not in dataframe.\n",
      "└ @ PowerSystems /Users/cbarrows/.julia/packages/PowerSystems/r86iN/src/parsers/power_system_table_data.jl:1363\n",
      "┌ Warning: User-defined column name Start Cost Cold is not in dataframe.\n",
      "└ @ PowerSystems /Users/cbarrows/.julia/packages/PowerSystems/r86iN/src/parsers/power_system_table_data.jl:1363\n",
      "┌ Warning: User-defined column name Start Cost Warm is not in dataframe.\n",
      "└ @ PowerSystems /Users/cbarrows/.julia/packages/PowerSystems/r86iN/src/parsers/power_system_table_data.jl:1363\n",
      "┌ Warning: User-defined column name Start Cost Hot is not in dataframe.\n",
      "└ @ PowerSystems /Users/cbarrows/.julia/packages/PowerSystems/r86iN/src/parsers/power_system_table_data.jl:1363\n",
      "┌ Warning: User-defined column name Must Run is not in dataframe.\n",
      "└ @ PowerSystems /Users/cbarrows/.julia/packages/PowerSystems/r86iN/src/parsers/power_system_table_data.jl:1363\n"
     ]
    },
    {
     "name": "stderr",
     "output_type": "stream",
     "text": [
      "┌ Info: Adding contributing generators for Flex_Up by category\n",
      "└ @ PowerSystems /Users/cbarrows/.julia/packages/PowerSystems/r86iN/src/parsers/power_system_table_data.jl:675\n",
      "┌ Warning: User-defined column name Startup Ramp Rate MW/min is not in dataframe.\n",
      "└ @ PowerSystems /Users/cbarrows/.julia/packages/PowerSystems/r86iN/src/parsers/power_system_table_data.jl:1363\n",
      "┌ Warning: User-defined column name Shutdown Ramp Rate MW/min is not in dataframe.\n",
      "└ @ PowerSystems /Users/cbarrows/.julia/packages/PowerSystems/r86iN/src/parsers/power_system_table_data.jl:1363\n",
      "┌ Warning: User-defined column name Status at Start is not in dataframe.\n",
      "└ @ PowerSystems /Users/cbarrows/.julia/packages/PowerSystems/r86iN/src/parsers/power_system_table_data.jl:1363\n",
      "┌ Warning: User-defined column name Time at Status is not in dataframe.\n",
      "└ @ PowerSystems /Users/cbarrows/.julia/packages/PowerSystems/r86iN/src/parsers/power_system_table_data.jl:1363\n",
      "┌ Warning: User-defined column name Start Cost Cold is not in dataframe.\n",
      "└ @ PowerSystems /Users/cbarrows/.julia/packages/PowerSystems/r86iN/src/parsers/power_system_table_data.jl:1363\n",
      "┌ Warning: User-defined column name Start Cost Warm is not in dataframe.\n",
      "└ @ PowerSystems /Users/cbarrows/.julia/packages/PowerSystems/r86iN/src/parsers/power_system_table_data.jl:1363\n",
      "┌ Warning: User-defined column name Start Cost Hot is not in dataframe.\n",
      "└ @ PowerSystems /Users/cbarrows/.julia/packages/PowerSystems/r86iN/src/parsers/power_system_table_data.jl:1363\n",
      "┌ Warning: User-defined column name Must Run is not in dataframe.\n",
      "└ @ PowerSystems /Users/cbarrows/.julia/packages/PowerSystems/r86iN/src/parsers/power_system_table_data.jl:1363\n",
      "┌ Info: Adding contributing generators for Flex_Down by category\n",
      "└ @ PowerSystems /Users/cbarrows/.julia/packages/PowerSystems/r86iN/src/parsers/power_system_table_data.jl:675\n",
      "┌ Warning: User-defined column name Startup Ramp Rate MW/min is not in dataframe.\n",
      "└ @ PowerSystems /Users/cbarrows/.julia/packages/PowerSystems/r86iN/src/parsers/power_system_table_data.jl:1363\n",
      "┌ Warning: User-defined column name Shutdown Ramp Rate MW/min is not in dataframe.\n",
      "└ @ PowerSystems /Users/cbarrows/.julia/packages/PowerSystems/r86iN/src/parsers/power_system_table_data.jl:1363\n",
      "┌ Warning: User-defined column name Status at Start is not in dataframe.\n",
      "└ @ PowerSystems /Users/cbarrows/.julia/packages/PowerSystems/r86iN/src/parsers/power_system_table_data.jl:1363\n",
      "┌ Warning: User-defined column name Time at Status is not in dataframe.\n",
      "└ @ PowerSystems /Users/cbarrows/.julia/packages/PowerSystems/r86iN/src/parsers/power_system_table_data.jl:1363\n",
      "┌ Warning: User-defined column name Start Cost Cold is not in dataframe.\n",
      "└ @ PowerSystems /Users/cbarrows/.julia/packages/PowerSystems/r86iN/src/parsers/power_system_table_data.jl:1363\n",
      "┌ Warning: User-defined column name Start Cost Warm is not in dataframe.\n",
      "└ @ PowerSystems /Users/cbarrows/.julia/packages/PowerSystems/r86iN/src/parsers/power_system_table_data.jl:1363\n",
      "┌ Warning: User-defined column name Start Cost Hot is not in dataframe.\n",
      "└ @ PowerSystems /Users/cbarrows/.julia/packages/PowerSystems/r86iN/src/parsers/power_system_table_data.jl:1363\n",
      "┌ Warning: User-defined column name Must Run is not in dataframe.\n",
      "└ @ PowerSystems /Users/cbarrows/.julia/packages/PowerSystems/r86iN/src/parsers/power_system_table_data.jl:1363\n",
      "┌ Info: Adding contributing generators for Reg_Up by category\n",
      "└ @ PowerSystems /Users/cbarrows/.julia/packages/PowerSystems/r86iN/src/parsers/power_system_table_data.jl:675\n",
      "┌ Warning: User-defined column name Startup Ramp Rate MW/min is not in dataframe.\n",
      "└ @ PowerSystems /Users/cbarrows/.julia/packages/PowerSystems/r86iN/src/parsers/power_system_table_data.jl:1363\n",
      "┌ Warning: User-defined column name Shutdown Ramp Rate MW/min is not in dataframe.\n",
      "└ @ PowerSystems /Users/cbarrows/.julia/packages/PowerSystems/r86iN/src/parsers/power_system_table_data.jl:1363\n",
      "┌ Warning: User-defined column name Status at Start is not in dataframe.\n",
      "└ @ PowerSystems /Users/cbarrows/.julia/packages/PowerSystems/r86iN/src/parsers/power_system_table_data.jl:1363\n",
      "┌ Warning: User-defined column name Time at Status is not in dataframe.\n",
      "└ @ PowerSystems /Users/cbarrows/.julia/packages/PowerSystems/r86iN/src/parsers/power_system_table_data.jl:1363\n",
      "┌ Warning: User-defined column name Start Cost Cold is not in dataframe.\n",
      "└ @ PowerSystems /Users/cbarrows/.julia/packages/PowerSystems/r86iN/src/parsers/power_system_table_data.jl:1363\n",
      "┌ Warning: User-defined column name Start Cost Warm is not in dataframe.\n",
      "└ @ PowerSystems /Users/cbarrows/.julia/packages/PowerSystems/r86iN/src/parsers/power_system_table_data.jl:1363\n",
      "┌ Warning: User-defined column name Start Cost Hot is not in dataframe.\n",
      "└ @ PowerSystems /Users/cbarrows/.julia/packages/PowerSystems/r86iN/src/parsers/power_system_table_data.jl:1363\n",
      "┌ Warning: User-defined column name Must Run is not in dataframe.\n",
      "└ @ PowerSystems /Users/cbarrows/.julia/packages/PowerSystems/r86iN/src/parsers/power_system_table_data.jl:1363\n",
      "┌ Info: Adding contributing generators for Reg_Down by category\n",
      "└ @ PowerSystems /Users/cbarrows/.julia/packages/PowerSystems/r86iN/src/parsers/power_system_table_data.jl:675\n",
      "┌ Warning: User-defined column name Startup Ramp Rate MW/min is not in dataframe.\n",
      "└ @ PowerSystems /Users/cbarrows/.julia/packages/PowerSystems/r86iN/src/parsers/power_system_table_data.jl:1363\n",
      "┌ Warning: User-defined column name Shutdown Ramp Rate MW/min is not in dataframe.\n",
      "└ @ PowerSystems /Users/cbarrows/.julia/packages/PowerSystems/r86iN/src/parsers/power_system_table_data.jl:1363\n",
      "┌ Warning: User-defined column name Status at Start is not in dataframe.\n",
      "└ @ PowerSystems /Users/cbarrows/.julia/packages/PowerSystems/r86iN/src/parsers/power_system_table_data.jl:1363\n",
      "┌ Warning: User-defined column name Time at Status is not in dataframe.\n",
      "└ @ PowerSystems /Users/cbarrows/.julia/packages/PowerSystems/r86iN/src/parsers/power_system_table_data.jl:1363\n",
      "┌ Warning: User-defined column name Start Cost Cold is not in dataframe.\n",
      "└ @ PowerSystems /Users/cbarrows/.julia/packages/PowerSystems/r86iN/src/parsers/power_system_table_data.jl:1363\n",
      "┌ Warning: User-defined column name Start Cost Warm is not in dataframe.\n",
      "└ @ PowerSystems /Users/cbarrows/.julia/packages/PowerSystems/r86iN/src/parsers/power_system_table_data.jl:1363\n",
      "┌ Warning: User-defined column name Start Cost Hot is not in dataframe.\n",
      "└ @ PowerSystems /Users/cbarrows/.julia/packages/PowerSystems/r86iN/src/parsers/power_system_table_data.jl:1363\n",
      "┌ Warning: User-defined column name Must Run is not in dataframe.\n",
      "└ @ PowerSystems /Users/cbarrows/.julia/packages/PowerSystems/r86iN/src/parsers/power_system_table_data.jl:1363\n"
     ]
    }
   ],
   "source": [
    "rawsys = PowerSystems.PowerSystemTableData(\n",
    "    rts_src_dir,\n",
    "    100.0,\n",
    "    joinpath(rts_siip_dir, \"user_descriptors.yaml\"),\n",
    "    timeseries_metadata_file = joinpath(rts_siip_dir, \"timeseries_pointers.json\"),\n",
    "    generator_mapping_file = joinpath(rts_siip_dir, \"generator_mapping.yaml\"),\n",
    ");\n",
    "sys = System(rawsys; time_series_resolution = Dates.Hour(1));"
   ]
  },
  {
   "cell_type": "markdown",
   "metadata": {},
   "source": [
    "### Creating the Time Series data for Energy bid"
   ]
  },
  {
   "cell_type": "code",
   "execution_count": 7,
   "metadata": {},
   "outputs": [],
   "source": [
    "MultiDay = collect(\n",
    "    DateTime(\"2020-01-01T00:00:00\"):Hour(1):(DateTime(\"2020-01-01T00:00:00\") + Hour(8783)),\n",
    ");"
   ]
  },
  {
   "cell_type": "markdown",
   "metadata": {},
   "source": [
    "### Replacing existing ThreePartCost with MarketBidCost\n",
    "Here we replace the existing ThreePartCost with MarketBidCost, and add the energy bid\n",
    "time series to the system. The TimeSeriesData that holds the energy bid data can be of any\n",
    "type (i.e. `SingleTimeSeries` or `Deterministic`) and bid data should be of type\n",
    "`Array{Float64}`,`Array{Tuple{Float64, Float64}}` or `Array{Array{Tuple{Float64,Float64}}`."
   ]
  },
  {
   "cell_type": "code",
   "execution_count": 8,
   "metadata": {},
   "outputs": [],
   "source": [
    "for gen in get_components(ThermalGen, sys)\n",
    "    varcost = get_operation_cost(gen)\n",
    "    market_bid_cost = MarketBidCost(;\n",
    "        variable = nothing,\n",
    "        no_load = get_fixed(varcost),\n",
    "        start_up = (hot = get_start_up(varcost), warm = 0.0, cold = 0.0),\n",
    "        shut_down = get_shut_down(varcost),\n",
    "        ancillary_services = Vector{Service}(),\n",
    "    )\n",
    "    set_operation_cost!(gen, market_bid_cost)\n",
    "\n",
    "    data = TimeArray(MultiDay, repeat([get_cost(get_variable(varcost))], 8784))\n",
    "    _time_series = SingleTimeSeries(\"variable_cost\", data)\n",
    "    set_variable_cost!(sys, gen, _time_series)\n",
    "end"
   ]
  },
  {
   "cell_type": "markdown",
   "metadata": {},
   "source": [
    "### Transforming SingleTimeSeries into Deterministic"
   ]
  },
  {
   "cell_type": "code",
   "execution_count": 9,
   "metadata": {},
   "outputs": [],
   "source": [
    "horizon = 24;\n",
    "interval = Dates.Hour(24);\n",
    "transform_single_time_series!(sys, horizon, interval)"
   ]
  },
  {
   "cell_type": "markdown",
   "metadata": {},
   "source": [
    "In the [OperationsProblem example](../../notebook/3_PowerSimulations_examples/1_operations_problems.ipynb)\n",
    "we defined a unit-commitment problem with a copper plate representation of the network.\n",
    "Here, we want do define unit-commitment problem  with ThermalMultiStartUnitCommitment\n",
    "formulation for thermal device representation."
   ]
  },
  {
   "cell_type": "markdown",
   "metadata": {},
   "source": [
    "For now, let's just choose a standard ACOPF formulation."
   ]
  },
  {
   "cell_type": "code",
   "execution_count": 10,
   "metadata": {},
   "outputs": [
    {
     "data": {
      "text/plain": [
       "\n",
       "Operations Problem Specification\n",
       "============================================\n",
       "\n",
       "  transmission:  CopperPlatePowerModel\n",
       "============================================\n",
       "  devices: \n",
       "      ILoads:\n",
       "        device_type = InterruptibleLoad\n",
       "        formulation = InterruptiblePowerLoad\n",
       "      HydroROR:\n",
       "        device_type = HydroDispatch\n",
       "        formulation = HydroDispatchRunOfRiver\n",
       "      Generators:\n",
       "        device_type = ThermalStandard\n",
       "        formulation = ThermalBasicUnitCommitment\n",
       "      DistRE:\n",
       "        device_type = RenewableFix\n",
       "        formulation = FixedOutput\n",
       "      Hydro:\n",
       "        device_type = HydroEnergyReservoir\n",
       "        formulation = HydroDispatchRunOfRiver\n",
       "      Loads:\n",
       "        device_type = PowerLoad\n",
       "        formulation = StaticPowerLoad\n",
       "      RE:\n",
       "        device_type = RenewableDispatch\n",
       "        formulation = RenewableFullDispatch\n",
       "============================================\n",
       "  branches: \n",
       "      T:\n",
       "        device_type = Transformer2W\n",
       "        formulation = StaticTransformer\n",
       "      TT:\n",
       "        device_type = TapTransformer\n",
       "        formulation = StaticTransformer\n",
       "      L:\n",
       "        device_type = Line\n",
       "        formulation = StaticLine\n",
       "      DC:\n",
       "        device_type = HVDCLine\n",
       "        formulation = HVDCDispatch\n",
       "============================================\n",
       "  services: \n",
       "      ReserveDown:\n",
       "        service_type = VariableReserve{ReserveDown}\n",
       "        formulation = RangeReserve\n",
       "      ReserveUp:\n",
       "        service_type = VariableReserve{ReserveUp}\n",
       "        formulation = RangeReserve\n",
       "============================================\n"
      ]
     },
     "execution_count": 10,
     "metadata": {},
     "output_type": "execute_result"
    }
   ],
   "source": [
    "uc_template = template_unit_commitment(network = CopperPlatePowerModel)"
   ]
  },
  {
   "cell_type": "markdown",
   "metadata": {},
   "source": [
    "Currently  energy budget data isn't stored in the RTS-GMLC dataset."
   ]
  },
  {
   "cell_type": "code",
   "execution_count": 11,
   "metadata": {},
   "outputs": [
    {
     "data": {
      "text/plain": [
       "MathOptInterface.OptimizerWithAttributes(Cbc.Optimizer, Pair{MathOptInterface.AbstractOptimizerAttribute,Any}[MathOptInterface.RawParameter(\"logLevel\") => 1, MathOptInterface.RawParameter(\"ratioGap\") => 0.5])"
      ]
     },
     "execution_count": 11,
     "metadata": {},
     "output_type": "execute_result"
    }
   ],
   "source": [
    "uc_template.devices[:Generators] =\n",
    "    DeviceModel(ThermalStandard, ThermalMultiStartUnitCommitment)\n",
    "\n",
    "solver = optimizer_with_attributes(Cbc.Optimizer, \"logLevel\" => 1, \"ratioGap\" => 0.5)"
   ]
  },
  {
   "cell_type": "markdown",
   "metadata": {},
   "source": [
    "Now we can build a 4-hour economic dispatch / ACOPF problem with the RTS data."
   ]
  },
  {
   "cell_type": "code",
   "execution_count": 12,
   "metadata": {},
   "outputs": [
    {
     "name": "stderr",
     "output_type": "stream",
     "text": [
      "┌ Info: Unit System changed to InfrastructureSystems.UnitSystemModule.UnitSystem.SYSTEM_BASE = 0\n",
      "└ @ PowerSystems /Users/cbarrows/.julia/packages/PowerSystems/r86iN/src/base.jl:289\n",
      "┌ Warning: The data doesn't include devices of type InterruptibleLoad, consider changing the device models\n",
      "└ @ PowerSimulations /Users/cbarrows/.julia/packages/PowerSimulations/If05p/src/devices_models/device_constructors/common/constructor_validations.jl:3\n",
      "┌ Warning: No variable cost defined for 201_HYDRO_4\n",
      "└ @ PowerSimulations /Users/cbarrows/.julia/packages/PowerSimulations/If05p/src/devices_models/devices/common/cost_functions.jl:346\n",
      "┌ Warning: Data doesn't contain generators with ramp limits, consider adjusting your formulation\n",
      "└ @ PowerSimulations /Users/cbarrows/.julia/packages/PowerSimulations/If05p/src/devices_models/devices/thermal_generation.jl:497\n"
     ]
    },
    {
     "data": {
      "text/plain": [
       "\n",
       "Operations Problem Specification\n",
       "============================================\n",
       "\n",
       "  transmission:  CopperPlatePowerModel\n",
       "============================================\n",
       "  devices: \n",
       "      ILoads:\n",
       "        device_type = InterruptibleLoad\n",
       "        formulation = InterruptiblePowerLoad\n",
       "      HydroROR:\n",
       "        device_type = HydroDispatch\n",
       "        formulation = HydroDispatchRunOfRiver\n",
       "      Generators:\n",
       "        device_type = ThermalStandard\n",
       "        formulation = ThermalMultiStartUnitCommitment\n",
       "      DistRE:\n",
       "        device_type = RenewableFix\n",
       "        formulation = FixedOutput\n",
       "      Hydro:\n",
       "        device_type = HydroEnergyReservoir\n",
       "        formulation = HydroDispatchRunOfRiver\n",
       "      Loads:\n",
       "        device_type = PowerLoad\n",
       "        formulation = StaticPowerLoad\n",
       "      RE:\n",
       "        device_type = RenewableDispatch\n",
       "        formulation = RenewableFullDispatch\n",
       "============================================\n",
       "  branches: \n",
       "      T:\n",
       "        device_type = Transformer2W\n",
       "        formulation = StaticTransformer\n",
       "      TT:\n",
       "        device_type = TapTransformer\n",
       "        formulation = StaticTransformer\n",
       "      L:\n",
       "        device_type = Line\n",
       "        formulation = StaticLine\n",
       "      DC:\n",
       "        device_type = HVDCLine\n",
       "        formulation = HVDCDispatch\n",
       "============================================\n",
       "  services: \n",
       "      ReserveDown:\n",
       "        service_type = VariableReserve{ReserveDown}\n",
       "        formulation = RangeReserve\n",
       "      ReserveUp:\n",
       "        service_type = VariableReserve{ReserveUp}\n",
       "        formulation = RangeReserve\n",
       "============================================\n"
      ]
     },
     "execution_count": 12,
     "metadata": {},
     "output_type": "execute_result"
    }
   ],
   "source": [
    "problem = OperationsProblem(\n",
    "    EconomicDispatchProblem,\n",
    "    uc_template,\n",
    "    sys,\n",
    "    horizon = 4,\n",
    "    optimizer = solver,\n",
    "    balance_slack_variables = true,\n",
    ")"
   ]
  },
  {
   "cell_type": "markdown",
   "metadata": {},
   "source": [
    "And solve it ..."
   ]
  },
  {
   "cell_type": "code",
   "execution_count": 13,
   "metadata": {},
   "outputs": [
    {
     "name": "stdout",
     "output_type": "stream",
     "text": [
      "Welcome to the CBC MILP Solver \n",
      "Version: 2.10.3 \n",
      "Build Date: Nov  9 2020 \n",
      "\n",
      "command line - Cbc_C_Interface -ratioGap 0.5 -logLevel 1 -solve -quit (default strategy 1)\n",
      "ratioGap was changed from 0 to 0.5\n",
      "Continuous objective value is 61235.2 - 0.02 seconds\n",
      "Cgl0003I 142 fixed, 0 tightened bounds, 210 strengthened rows, 0 substitutions\n",
      "Cgl0003I 0 fixed, 0 tightened bounds, 7 strengthened rows, 0 substitutions\n",
      "Cgl0003I 0 fixed, 0 tightened bounds, 149 strengthened rows, 0 substitutions\n",
      "Cgl0003I 0 fixed, 0 tightened bounds, 80 strengthened rows, 0 substitutions\n",
      "Cgl0003I 0 fixed, 0 tightened bounds, 44 strengthened rows, 0 substitutions\n",
      "Cgl0003I 0 fixed, 0 tightened bounds, 16 strengthened rows, 0 substitutions\n",
      "Cgl0003I 0 fixed, 0 tightened bounds, 3 strengthened rows, 0 substitutions\n",
      "Cgl0004I processed model has 1413 rows, 3500 columns (612 integer (612 of which binary)) and 7788 elements\n",
      "Cbc0045I Trying just fixing integer variables (and fixingish SOS).\n",
      "Cbc0045I MIPStart provided solution with cost 2.37248e+07\n",
      "Cbc0012I Integer solution of 23724828 found by Reduced search after 0 iterations and 0 nodes (0.17 seconds)\n",
      "Cbc0012I Integer solution of 454489.14 found by DiveCoefficient after 0 iterations and 0 nodes (0.19 seconds)\n",
      "Cbc0038I Full problem 1413 rows 3500 columns, reduced to 164 rows 436 columns\n",
      "Cbc0031I 57 added rows had average density of 6.4561404\n",
      "Cbc0013I At root node, 57 cuts changed objective from 61235.222 to 62117.574 in 7 passes\n",
      "Cbc0014I Cut generator 0 (Probing) - 93 row cuts average 2.9 elements, 0 column cuts (0 active)  in 0.198 seconds - new frequency is 1\n",
      "Cbc0014I Cut generator 1 (Gomory) - 25 row cuts average 76.3 elements, 0 column cuts (0 active)  in 0.007 seconds - new frequency is 1\n",
      "Cbc0014I Cut generator 2 (Knapsack) - 0 row cuts average 0.0 elements, 0 column cuts (0 active)  in 0.012 seconds - new frequency is -100\n",
      "Cbc0014I Cut generator 3 (Clique) - 0 row cuts average 0.0 elements, 0 column cuts (0 active)  in 0.000 seconds - new frequency is -100\n",
      "Cbc0014I Cut generator 4 (MixedIntegerRounding2) - 1 row cuts average 3.0 elements, 0 column cuts (0 active)  in 0.004 seconds - new frequency is -100\n",
      "Cbc0014I Cut generator 5 (FlowCover) - 0 row cuts average 0.0 elements, 0 column cuts (0 active)  in 0.010 seconds - new frequency is -100\n",
      "Cbc0014I Cut generator 6 (TwoMirCuts) - 76 row cuts average 40.9 elements, 0 column cuts (0 active)  in 0.011 seconds - new frequency is 1\n",
      "Cbc0010I After 0 nodes, 1 on tree, 454489.14 best solution, best possible 62117.574 (0.53 seconds)\n",
      "Cbc0012I Integer solution of 64337.954 found by DiveCoefficient after 395 iterations and 1 nodes (0.62 seconds)\n",
      "Cbc0011I Exiting as integer gap of 2220.3802 less than 1e-10 or 50%\n",
      "Cbc0001I Search completed - best objective 64337.95425921596, took 401 iterations and 2 nodes (0.70 seconds)\n",
      "Cbc0032I Strong branching done 40 times (717 iterations), fathomed 0 nodes and fixed 0 variables\n",
      "Cbc0035I Maximum depth 2, 8 variables fixed on reduced cost\n",
      "Cuts at root node changed objective from 61235.2 to 62117.6\n",
      "Probing was tried 9 times and created 94 cuts of which 0 were active after adding rounds of cuts (0.199 seconds)\n",
      "Gomory was tried 9 times and created 25 cuts of which 0 were active after adding rounds of cuts (0.008 seconds)\n",
      "Knapsack was tried 7 times and created 0 cuts of which 0 were active after adding rounds of cuts (0.012 seconds)\n",
      "Clique was tried 7 times and created 0 cuts of which 0 were active after adding rounds of cuts (0.000 seconds)\n",
      "MixedIntegerRounding2 was tried 7 times and created 1 cuts of which 0 were active after adding rounds of cuts (0.004 seconds)\n",
      "FlowCover was tried 7 times and created 0 cuts of which 0 were active after adding rounds of cuts (0.010 seconds)\n",
      "TwoMirCuts was tried 9 times and created 76 cuts of which 0 were active after adding rounds of cuts (0.013 seconds)\n",
      "ZeroHalf was tried 1 times and created 0 cuts of which 0 were active after adding rounds of cuts (0.000 seconds)\n",
      "\n",
      "Result - Optimal solution found (within gap tolerance)\n",
      "\n",
      "Objective value:                64337.95425922\n",
      "Lower bound:                    62117.574\n",
      "Gap:                            0.04\n",
      "Enumerated nodes:               2\n",
      "Total iterations:               401\n",
      "Time (CPU seconds):             0.74\n",
      "Time (Wallclock seconds):       0.79\n",
      "\n",
      "Total time (CPU seconds):       0.74   (Wallclock seconds):       0.79\n",
      "\n"
     ]
    },
    {
     "data": {
      "text/plain": [
       "PowerSimulations.OperationsProblemResults(100.0, Dict{Symbol,DataFrame}(:P__ThermalStandard => \u001b[1m4×76 DataFrame\u001b[0m\n",
       "\u001b[1m Row \u001b[0m│\u001b[1m 322_CT_6 \u001b[0m\u001b[1m 321_CC_1 \u001b[0m\u001b[1m 202_STEAM_3 \u001b[0m\u001b[1m 315_STEAM_1 \u001b[0m\u001b[1m 223_CT_4 \u001b[0m\u001b[1m 223_CT_6 \u001b[0m\u001b[1m 313_C\u001b[0m ⋯\n",
       "\u001b[1m     \u001b[0m│\u001b[90m Float64  \u001b[0m\u001b[90m Float64  \u001b[0m\u001b[90m Float64     \u001b[0m\u001b[90m Float64     \u001b[0m\u001b[90m Float64  \u001b[0m\u001b[90m Float64  \u001b[0m\u001b[90m Float\u001b[0m ⋯\n",
       "─────┼──────────────────────────────────────────────────────────────────────────\n",
       "   1 │      0.0       0.0          0.0          0.0       0.0       0.0        ⋯\n",
       "   2 │      0.0       0.0          0.0          0.0       0.0       0.0\n",
       "   3 │      0.0       0.0          0.0          0.0       0.0       0.0\n",
       "   4 │      0.0       0.0          0.0          0.0       0.0       0.0\n",
       "\u001b[31m                                                              70 columns omitted\u001b[0m,:P__RenewableDispatch => \u001b[1m4×30 DataFrame\u001b[0m\n",
       "\u001b[1m Row \u001b[0m│\u001b[1m 122_WIND_1 \u001b[0m\u001b[1m 324_PV_3 \u001b[0m\u001b[1m 312_PV_1 \u001b[0m\u001b[1m 102_PV_1 \u001b[0m\u001b[1m 101_PV_1 \u001b[0m\u001b[1m 324_PV_2 \u001b[0m\u001b[1m 313_PV_2 \u001b[0m\u001b[1m\u001b[0m ⋯\n",
       "\u001b[1m     \u001b[0m│\u001b[90m Float64    \u001b[0m\u001b[90m Float64  \u001b[0m\u001b[90m Float64  \u001b[0m\u001b[90m Float64  \u001b[0m\u001b[90m Float64  \u001b[0m\u001b[90m Float64  \u001b[0m\u001b[90m Float64  \u001b[0m\u001b[90m\u001b[0m ⋯\n",
       "─────┼──────────────────────────────────────────────────────────────────────────\n",
       "   1 │      7.132       0.0       0.0       0.0       0.0       0.0       0.0  ⋯\n",
       "   2 │      7.128       0.0       0.0       0.0       0.0       0.0       0.0\n",
       "   3 │      7.084       0.0       0.0       0.0       0.0       0.0       0.0\n",
       "   4 │      7.107       0.0       0.0       0.0       0.0       0.0       0.0\n",
       "\u001b[31m                                                              23 columns omitted\u001b[0m,:Reg_Down__VariableReserve_ReserveDown => \u001b[1m4×102 DataFrame\u001b[0m\n",
       "\u001b[1m Row \u001b[0m│\u001b[1m 122_WIND_1 \u001b[0m\u001b[1m 324_PV_3 \u001b[0m\u001b[1m 312_PV_1 \u001b[0m\u001b[1m 102_PV_1 \u001b[0m\u001b[1m 101_PV_1 \u001b[0m\u001b[1m 324_PV_2 \u001b[0m\u001b[1m 313_PV_2 \u001b[0m\u001b[1m\u001b[0m ⋯\n",
       "\u001b[1m     \u001b[0m│\u001b[90m Float64    \u001b[0m\u001b[90m Float64  \u001b[0m\u001b[90m Float64  \u001b[0m\u001b[90m Float64  \u001b[0m\u001b[90m Float64  \u001b[0m\u001b[90m Float64  \u001b[0m\u001b[90m Float64  \u001b[0m\u001b[90m\u001b[0m ⋯\n",
       "─────┼──────────────────────────────────────────────────────────────────────────\n",
       "   1 │       0.0        0.0       0.0       0.0       0.0       0.0       0.0  ⋯\n",
       "   2 │       0.0        0.0       0.0       0.0       0.0       0.0       0.0\n",
       "   3 │       0.54       0.0       0.0       0.0       0.0       0.0       0.0\n",
       "   4 │       0.56       0.0       0.0       0.0       0.0       0.0       0.0\n",
       "\u001b[31m                                                              95 columns omitted\u001b[0m,:P__HydroEnergyReservoir => \u001b[1m4×19 DataFrame\u001b[0m\n",
       "\u001b[1m Row \u001b[0m│\u001b[1m 215_HYDRO_3 \u001b[0m\u001b[1m 215_HYDRO_2 \u001b[0m\u001b[1m 222_HYDRO_5 \u001b[0m\u001b[1m 122_HYDRO_2 \u001b[0m\u001b[1m 322_HYDRO_2 \u001b[0m\u001b[1m 222_HY\u001b[0m ⋯\n",
       "\u001b[1m     \u001b[0m│\u001b[90m Float64     \u001b[0m\u001b[90m Float64     \u001b[0m\u001b[90m Float64     \u001b[0m\u001b[90m Float64     \u001b[0m\u001b[90m Float64     \u001b[0m\u001b[90m Float6\u001b[0m ⋯\n",
       "─────┼──────────────────────────────────────────────────────────────────────────\n",
       "   1 │   0.0885754    0.0885754    0.0885754    0.0400018     0.15715     0.08 ⋯\n",
       "   2 │   0.0904803    0.0904803    0.0904803    0.0361921     0.193342    0.09\n",
       "   3 │   0.0885754    0.0885754    0.0885754    0.0361921     0.114291    0.08\n",
       "   4 │   0.0904803    0.0904803    0.0904803    0.0400018     0.113338    0.09\n",
       "\u001b[31m                                                              14 columns omitted\u001b[0m,:γ⁺__P => \u001b[1m4×1 DataFrame\u001b[0m\n",
       "\u001b[1m Row \u001b[0m│\u001b[1m 101     \u001b[0m\n",
       "\u001b[1m     \u001b[0m│\u001b[90m Float64 \u001b[0m\n",
       "─────┼─────────\n",
       "   1 │     0.0\n",
       "   2 │     0.0\n",
       "   3 │     0.0\n",
       "   4 │     0.0,:Flex_Down__VariableReserve_ReserveDown => \u001b[1m4×102 DataFrame\u001b[0m\n",
       "\u001b[1m Row \u001b[0m│\u001b[1m 122_WIND_1 \u001b[0m\u001b[1m 324_PV_3 \u001b[0m\u001b[1m 312_PV_1 \u001b[0m\u001b[1m 102_PV_1 \u001b[0m\u001b[1m 101_PV_1 \u001b[0m\u001b[1m 324_PV_2 \u001b[0m\u001b[1m 313_PV_2 \u001b[0m\u001b[1m\u001b[0m ⋯\n",
       "\u001b[1m     \u001b[0m│\u001b[90m Float64    \u001b[0m\u001b[90m Float64  \u001b[0m\u001b[90m Float64  \u001b[0m\u001b[90m Float64  \u001b[0m\u001b[90m Float64  \u001b[0m\u001b[90m Float64  \u001b[0m\u001b[90m Float64  \u001b[0m\u001b[90m\u001b[0m ⋯\n",
       "─────┼──────────────────────────────────────────────────────────────────────────\n",
       "   1 │       0.0        0.0       0.0       0.0       0.0       0.0       0.0  ⋯\n",
       "   2 │       0.46       0.0       0.0       0.0       0.0       0.0       0.0\n",
       "   3 │       0.0        0.0       0.0       0.0       0.0       0.0       0.0\n",
       "   4 │       0.69       0.0       0.0       0.0       0.0       0.0       0.0\n",
       "\u001b[31m                                                              95 columns omitted\u001b[0m,:Reg_Up__VariableReserve_ReserveUp => \u001b[1m4×102 DataFrame\u001b[0m\n",
       "\u001b[1m Row \u001b[0m│\u001b[1m 122_WIND_1 \u001b[0m\u001b[1m 324_PV_3 \u001b[0m\u001b[1m 312_PV_1 \u001b[0m\u001b[1m 102_PV_1 \u001b[0m\u001b[1m 101_PV_1 \u001b[0m\u001b[1m 324_PV_2 \u001b[0m\u001b[1m 313_PV_2 \u001b[0m\u001b[1m\u001b[0m ⋯\n",
       "\u001b[1m     \u001b[0m│\u001b[90m Float64    \u001b[0m\u001b[90m Float64  \u001b[0m\u001b[90m Float64  \u001b[0m\u001b[90m Float64  \u001b[0m\u001b[90m Float64  \u001b[0m\u001b[90m Float64  \u001b[0m\u001b[90m Float64  \u001b[0m\u001b[90m\u001b[0m ⋯\n",
       "─────┼──────────────────────────────────────────────────────────────────────────\n",
       "   1 │        0.0       0.0       0.0       0.0       0.0       0.0       0.0  ⋯\n",
       "   2 │        0.0       0.0       0.0       0.0       0.0       0.0       0.0\n",
       "   3 │        0.0       0.0       0.0       0.0       0.0       0.0       0.0\n",
       "   4 │        0.0       0.0       0.0       0.0       0.0       0.0       0.0\n",
       "\u001b[31m                                                              95 columns omitted\u001b[0m,:P__HydroDispatch => \u001b[1m4×1 DataFrame\u001b[0m\n",
       "\u001b[1m Row \u001b[0m│\u001b[1m 201_HYDRO_4 \u001b[0m\n",
       "\u001b[1m     \u001b[0m│\u001b[90m Float64     \u001b[0m\n",
       "─────┼─────────────\n",
       "   1 │   0.0885754\n",
       "   2 │   0.0904803\n",
       "   3 │   0.0885754\n",
       "   4 │   0.0904803,:Spin_Up_R2__VariableReserve_ReserveUp => \u001b[1m4×25 DataFrame\u001b[0m\n",
       "\u001b[1m Row \u001b[0m│\u001b[1m 212_CSP_1 \u001b[0m\u001b[1m 215_PV_1 \u001b[0m\u001b[1m 202_STEAM_3 \u001b[0m\u001b[1m 223_CT_4 \u001b[0m\u001b[1m 213_CT_1 \u001b[0m\u001b[1m 223_CT_6 \u001b[0m\u001b[1m 202_CT_\u001b[0m ⋯\n",
       "\u001b[1m     \u001b[0m│\u001b[90m Float64   \u001b[0m\u001b[90m Float64  \u001b[0m\u001b[90m Float64     \u001b[0m\u001b[90m Float64  \u001b[0m\u001b[90m Float64  \u001b[0m\u001b[90m Float64  \u001b[0m\u001b[90m Float64\u001b[0m ⋯\n",
       "─────┼──────────────────────────────────────────────────────────────────────────\n",
       "   1 │       0.0       0.0          0.0       0.0       0.0       0.0       0. ⋯\n",
       "   2 │       0.0       0.0          0.0       0.0       0.0       0.0       0.\n",
       "   3 │       0.0       0.0          0.0       0.0       0.0       0.0       0.\n",
       "   4 │       0.0       0.0          0.0       0.0       0.0       0.0       0.\n",
       "\u001b[31m                                                              19 columns omitted\u001b[0m,:On__ThermalStandard => \u001b[1m4×76 DataFrame\u001b[0m\n",
       "\u001b[1m Row \u001b[0m│\u001b[1m 322_CT_6 \u001b[0m\u001b[1m 321_CC_1 \u001b[0m\u001b[1m 202_STEAM_3 \u001b[0m\u001b[1m 315_STEAM_1 \u001b[0m\u001b[1m 223_CT_4 \u001b[0m\u001b[1m 223_CT_6 \u001b[0m\u001b[1m 313_C\u001b[0m ⋯\n",
       "\u001b[1m     \u001b[0m│\u001b[90m Float64  \u001b[0m\u001b[90m Float64  \u001b[0m\u001b[90m Float64     \u001b[0m\u001b[90m Float64     \u001b[0m\u001b[90m Float64  \u001b[0m\u001b[90m Float64  \u001b[0m\u001b[90m Float\u001b[0m ⋯\n",
       "─────┼──────────────────────────────────────────────────────────────────────────\n",
       "   1 │      0.0       0.0          0.0          0.0       0.0       0.0        ⋯\n",
       "   2 │      0.0       0.0          0.0          0.0       0.0       0.0\n",
       "   3 │      0.0       0.0          0.0          0.0       0.0       0.0\n",
       "   4 │      0.0       0.0          0.0          0.0       0.0       0.0\n",
       "\u001b[31m                                                              70 columns omitted\u001b[0m…), Dict(:OBJECTIVE_FUNCTION => 64337.954259215956), Dict{Symbol,Any}(:timed_solve_time => 16.701665432,:solve_bytes_alloc => 2611101971,:solve_time => 0.7964460849761963,:obj_value => 64337.954259215956,:solver => \"COIN Branch-and-Cut (Cbc)\",:sec_in_gc => 1.185231498,:dual_status => MathOptInterface.NO_SOLUTION,:primal_status => MathOptInterface.FEASIBLE_POINT,:termination_status => MathOptInterface.OPTIMAL), \u001b[1m4×1 DataFrame\u001b[0m\n",
       "\u001b[1m Row \u001b[0m│\u001b[1m Range               \u001b[0m\n",
       "\u001b[1m     \u001b[0m│\u001b[90m DateTime            \u001b[0m\n",
       "─────┼─────────────────────\n",
       "   1 │ 2020-01-01T00:00:00\n",
       "   2 │ 2020-01-01T01:00:00\n",
       "   3 │ 2020-01-01T02:00:00\n",
       "   4 │ 2020-01-01T03:00:00, Dict{Symbol,DataFrame}(), Dict{Symbol,DataFrame}())"
      ]
     },
     "execution_count": 13,
     "metadata": {},
     "output_type": "execute_result"
    }
   ],
   "source": [
    "solve!(problem)"
   ]
  },
  {
   "cell_type": "markdown",
   "metadata": {},
   "source": [
    "---\n",
    "\n",
    "*This notebook was generated using [Literate.jl](https://github.com/fredrikekre/Literate.jl).*"
   ]
  }
 ],
 "metadata": {
  "kernelspec": {
   "display_name": "Julia 1.5.2",
   "language": "julia",
   "name": "julia-1.5"
  },
  "language_info": {
   "file_extension": ".jl",
   "mimetype": "application/julia",
   "name": "julia",
   "version": "1.5.2"
  }
 },
 "nbformat": 4,
 "nbformat_minor": 3
}
