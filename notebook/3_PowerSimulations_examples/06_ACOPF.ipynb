{
 "cells": [
  {
   "cell_type": "markdown",
   "source": [
    "# ACOPF with [PowerSimulations.jl](https://github.com/NREL-SIIP/PowerSimulations.jl) using [PowerModels.jl](https://github.com/lanl-ansi/PowerModels.jl)"
   ],
   "metadata": {}
  },
  {
   "cell_type": "markdown",
   "source": [
    "**Originally Contributed by**: Clayton Barrows"
   ],
   "metadata": {}
  },
  {
   "cell_type": "markdown",
   "source": [
    "## Introduction"
   ],
   "metadata": {}
  },
  {
   "cell_type": "markdown",
   "source": [
    "PowerSimulations.jl supports non-linear AC optimal power flow through a deep integration\n",
    "with [PowerModels.jl](https://github.com/lanl-ansi/PowerModels.jl). This example shows a\n",
    "single multi-period optimization of economic dispatch with a full representation of\n",
    "AC optimal power flow."
   ],
   "metadata": {}
  },
  {
   "cell_type": "markdown",
   "source": [
    "## Dependencies\n",
    "We can use the same RTS data and some of the initialization as in\n",
    "[OperationsProblem example](../../notebook/3_PowerSimulations_examples/1_operations_problems.ipynb)\n",
    "by sourcing it as a dependency."
   ],
   "metadata": {}
  },
  {
   "outputs": [],
   "cell_type": "code",
   "source": [
    "using SIIPExamples\n",
    "using Dates\n",
    "\n",
    "base_dir = PowerSystems.download(PowerSystems.TestData; branch = \"master\");\n",
    "sys = System(joinpath(base_dir, \"matpower\", \"RTS_GMLC.m\"))\n",
    "tsp = joinpath(base_dir, \"RTS_GMLC\", \"timeseries_pointers.json\")\n",
    "add_time_series!(sys, tsp, resolution = Hour(1))"
   ],
   "metadata": {},
   "execution_count": null
  },
  {
   "cell_type": "markdown",
   "source": [
    "pkgpath = dirname(dirname(pathof(SIIPExamples)))\n",
    "include(joinpath(\n",
    "    pkgpath,\n",
    "    \"test\",\n",
    "    \"3_PowerSimulations_examples\",\n",
    "    \"01_operations_problems.jl\",\n",
    "));"
   ],
   "metadata": {}
  },
  {
   "outputs": [],
   "cell_type": "code",
   "source": [
    "transform_single_time_series!(sys, 2, Hour(1))"
   ],
   "metadata": {},
   "execution_count": null
  },
  {
   "cell_type": "markdown",
   "source": [
    "Since we'll be doing non-linear optimization, we need a solver that supports non-linear\n",
    "problems. Ipopt is quite good."
   ],
   "metadata": {}
  },
  {
   "outputs": [],
   "cell_type": "code",
   "source": [
    "using Ipopt\n",
    "solver = optimizer_with_attributes(Ipopt.Optimizer)"
   ],
   "metadata": {},
   "execution_count": null
  },
  {
   "cell_type": "markdown",
   "source": [
    "In the [OperationsProblem example](../../notebook/3_PowerSimulations_examples/1_operations_problems.ipynb)\n",
    "we defined a unit-commitment problem with a copper plate representation of the network.\n",
    "Here, we want do define an economic dispatch (linear generation decisions) with an ACOPF\n",
    "network representation.\n",
    "So, starting with the network, we can select from _almost_ any of the endpoints on this\n",
    "tree:"
   ],
   "metadata": {}
  },
  {
   "outputs": [],
   "cell_type": "code",
   "source": [
    "TypeTree(PSI.PM.AbstractPowerModel,  init_expand = 10, scopesep=\"\\n\")"
   ],
   "metadata": {},
   "execution_count": null
  },
  {
   "cell_type": "markdown",
   "source": [
    "For now, let's just choose a standard ACOPF formulation."
   ],
   "metadata": {}
  },
  {
   "outputs": [],
   "cell_type": "code",
   "source": [
    "devices = Dict(\n",
    "        :Generators => DeviceModel(ThermalStandard, ThermalDispatch),\n",
    "        :Ren => DeviceModel(RenewableDispatch, RenewableFullDispatch),\n",
    "        :Loads => DeviceModel(PowerLoad, StaticPowerLoad),\n",
    "        #:HydroROR => DeviceModel(HydroDispatch, HydroDispatchRunOfRiver),\n",
    "        #:Hydro => DeviceModel(HydroEnergyReservoir, FixedOutput),\n",
    "        #:RenFx => DeviceModel(RenewableFix, FixedOutput),\n",
    "    )\n",
    "ed_template = template_economic_dispatch(network = ACPPowerModel, devices = devices)"
   ],
   "metadata": {},
   "execution_count": null
  },
  {
   "cell_type": "markdown",
   "source": [
    "Currently  energy budget data isn't stored in the RTS-GMLC dataset."
   ],
   "metadata": {}
  },
  {
   "outputs": [],
   "cell_type": "code",
   "source": [
    "#ed_template.devices[:Hydro] = DeviceModel(HydroEnergyReservoir, HydroDispatchRunOfRiver)"
   ],
   "metadata": {},
   "execution_count": null
  },
  {
   "cell_type": "markdown",
   "source": [
    "The ACOPF with linear dispatch decisions is infeasible for many of the 8760 time periods.\n",
    "The data and baseline commitment pattern is based on a peak load flow case, so it's worth\n",
    "selecting a peak period to analyze."
   ],
   "metadata": {}
  },
  {
   "outputs": [],
   "cell_type": "code",
   "source": [
    "loads = get_components(PowerLoad, sys)\n",
    "timerange = range(\n",
    "    get_forecast_initial_timestamp(sys),\n",
    "    step = get_time_series_resolution(sys),\n",
    "    stop =  get_forecast_initial_timestamp(sys) + get_forecast_total_period(sys)\n",
    "    )\n",
    "\n",
    "load_ts = []\n",
    "for (ix, load) in enumerate(loads)\n",
    "    push!(load_ts, get_time_series_values(SingleTimeSeries, load, \"max_active_power\"))\n",
    "end\n",
    "load_ts = Matrix(hcat(load_ts...))\n",
    "(peak_load, hour_id) = findmax(sum(load_ts, dims = 2))\n",
    "\n",
    "peak_time = timerange[hour_id,1]"
   ],
   "metadata": {},
   "execution_count": null
  },
  {
   "cell_type": "markdown",
   "source": [
    "Now we can build a 4-hour economic dispatch / ACOPF problem with the RTS data."
   ],
   "metadata": {}
  },
  {
   "outputs": [],
   "cell_type": "code",
   "source": [
    "problem = OperationsProblem(\n",
    "    EconomicDispatchProblem,\n",
    "    ed_template,\n",
    "    sys,\n",
    "    horizon = 1,\n",
    "    optimizer = solver,\n",
    "    balance_slack_variables = false,\n",
    "    initial_time = peak_time\n",
    ")"
   ],
   "metadata": {},
   "execution_count": null
  },
  {
   "cell_type": "markdown",
   "source": [
    "And solve it ..."
   ],
   "metadata": {}
  },
  {
   "outputs": [],
   "cell_type": "code",
   "source": [
    "solve!(problem)"
   ],
   "metadata": {},
   "execution_count": null
  },
  {
   "cell_type": "markdown",
   "source": [
    "---\n",
    "\n",
    "*This notebook was generated using [Literate.jl](https://github.com/fredrikekre/Literate.jl).*"
   ],
   "metadata": {}
  }
 ],
 "nbformat_minor": 3,
 "metadata": {
  "language_info": {
   "file_extension": ".jl",
   "mimetype": "application/julia",
   "name": "julia",
   "version": "1.5.2"
  },
  "kernelspec": {
   "name": "julia-1.5",
   "display_name": "Julia 1.5.2",
   "language": "julia"
  }
 },
 "nbformat": 4
}
