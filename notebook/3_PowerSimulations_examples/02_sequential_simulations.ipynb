{
 "cells": [
  {
   "cell_type": "markdown",
   "source": [
    "# Sequential Simulations with [PowerSimulations.jl](https://github.com/NREL-SIIP/PowerSimulations.jl)"
   ],
   "metadata": {}
  },
  {
   "cell_type": "markdown",
   "source": [
    "**Originally Contributed by**: Clayton Barrows"
   ],
   "metadata": {}
  },
  {
   "cell_type": "markdown",
   "source": [
    "## Introduction"
   ],
   "metadata": {}
  },
  {
   "cell_type": "markdown",
   "source": [
    "PowerSimulations.jl supports simulations that consist of sequential optimization problems\n",
    "where results from previous problems inform subsequent problems in a variety of ways. This\n",
    "example demonstrates some of these capabilities to represent electricity market clearing."
   ],
   "metadata": {}
  },
  {
   "cell_type": "markdown",
   "source": [
    "## Dependencies\n",
    "Since the `OperatiotnsProblem` is the fundamental building block of a sequential\n",
    "simulation in PowerSimulations, we will build on the [OperationsProblem example](../../notebook/3_PowerSimulations_examples/1_operations_problems.ipynb)\n",
    "by sourcing it as a dependency."
   ],
   "metadata": {}
  },
  {
   "outputs": [
    {
     "name": "stdout",
     "output_type": "stream",
     "text": [
      "┌ Info: Parsing csv data in branch.csv ...\n",
      "└ @ PowerSystems /Users/cbarrows/.julia/packages/PowerSystems/qbCqK/src/parsers/power_system_table_data.jl:143\n",
      "┌ Info: Successfully parsed branch.csv\n",
      "└ @ PowerSystems /Users/cbarrows/.julia/packages/PowerSystems/qbCqK/src/parsers/power_system_table_data.jl:148\n",
      "┌ Info: Parsing csv data in bus.csv ...\n",
      "└ @ PowerSystems /Users/cbarrows/.julia/packages/PowerSystems/qbCqK/src/parsers/power_system_table_data.jl:143\n",
      "┌ Info: Successfully parsed bus.csv\n",
      "└ @ PowerSystems /Users/cbarrows/.julia/packages/PowerSystems/qbCqK/src/parsers/power_system_table_data.jl:148\n",
      "┌ Info: Parsing csv data in dc_branch.csv ...\n",
      "└ @ PowerSystems /Users/cbarrows/.julia/packages/PowerSystems/qbCqK/src/parsers/power_system_table_data.jl:143\n",
      "┌ Info: Successfully parsed dc_branch.csv\n",
      "└ @ PowerSystems /Users/cbarrows/.julia/packages/PowerSystems/qbCqK/src/parsers/power_system_table_data.jl:148\n",
      "┌ Info: Parsing csv data in gen.csv ...\n",
      "└ @ PowerSystems /Users/cbarrows/.julia/packages/PowerSystems/qbCqK/src/parsers/power_system_table_data.jl:143\n",
      "┌ Info: Successfully parsed gen.csv\n",
      "└ @ PowerSystems /Users/cbarrows/.julia/packages/PowerSystems/qbCqK/src/parsers/power_system_table_data.jl:148\n",
      "┌ Info: Parsing csv data in reserves.csv ...\n",
      "└ @ PowerSystems /Users/cbarrows/.julia/packages/PowerSystems/qbCqK/src/parsers/power_system_table_data.jl:143\n",
      "┌ Info: Successfully parsed reserves.csv\n",
      "└ @ PowerSystems /Users/cbarrows/.julia/packages/PowerSystems/qbCqK/src/parsers/power_system_table_data.jl:148\n",
      "┌ Info: Parsing csv data in simulation_objects.csv ...\n",
      "└ @ PowerSystems /Users/cbarrows/.julia/packages/PowerSystems/qbCqK/src/parsers/power_system_table_data.jl:143\n",
      "┌ Info: Successfully parsed simulation_objects.csv\n",
      "└ @ PowerSystems /Users/cbarrows/.julia/packages/PowerSystems/qbCqK/src/parsers/power_system_table_data.jl:148\n",
      "┌ Info: Parsing csv data in storage.csv ...\n",
      "└ @ PowerSystems /Users/cbarrows/.julia/packages/PowerSystems/qbCqK/src/parsers/power_system_table_data.jl:143\n",
      "┌ Info: Successfully parsed storage.csv\n",
      "└ @ PowerSystems /Users/cbarrows/.julia/packages/PowerSystems/qbCqK/src/parsers/power_system_table_data.jl:148\n",
      "┌ Info: Parsing csv data in timeseries_pointers.csv ...\n",
      "└ @ PowerSystems /Users/cbarrows/.julia/packages/PowerSystems/qbCqK/src/parsers/power_system_table_data.jl:143\n",
      "┌ Info: Successfully parsed timeseries_pointers.csv\n",
      "└ @ PowerSystems /Users/cbarrows/.julia/packages/PowerSystems/qbCqK/src/parsers/power_system_table_data.jl:148\n",
      "┌ Info: Unit System changed to DEVICE_BASE\n",
      "└ @ PowerSystems /Users/cbarrows/.julia/packages/PowerSystems/qbCqK/src/base.jl:293\n",
      "┌ Warning: Missing LOAD data.\n",
      "└ @ PowerSystems /Users/cbarrows/.julia/packages/PowerSystems/qbCqK/src/parsers/power_system_table_data.jl:212\n",
      "┌ Warning: User-defined column name Startup Ramp Rate MW/min is not in dataframe.\n",
      "└ @ PowerSystems /Users/cbarrows/.julia/packages/PowerSystems/qbCqK/src/parsers/power_system_table_data.jl:1364\n",
      "┌ Warning: User-defined column name Shutdown Ramp Rate MW/min is not in dataframe.\n",
      "└ @ PowerSystems /Users/cbarrows/.julia/packages/PowerSystems/qbCqK/src/parsers/power_system_table_data.jl:1364\n",
      "┌ Warning: User-defined column name Status at Start is not in dataframe.\n",
      "└ @ PowerSystems /Users/cbarrows/.julia/packages/PowerSystems/qbCqK/src/parsers/power_system_table_data.jl:1364\n",
      "┌ Warning: User-defined column name Time at Status is not in dataframe.\n",
      "└ @ PowerSystems /Users/cbarrows/.julia/packages/PowerSystems/qbCqK/src/parsers/power_system_table_data.jl:1364\n",
      "┌ Warning: User-defined column name Start Cost Cold is not in dataframe.\n",
      "└ @ PowerSystems /Users/cbarrows/.julia/packages/PowerSystems/qbCqK/src/parsers/power_system_table_data.jl:1364\n",
      "┌ Warning: User-defined column name Start Cost Warm is not in dataframe.\n",
      "└ @ PowerSystems /Users/cbarrows/.julia/packages/PowerSystems/qbCqK/src/parsers/power_system_table_data.jl:1364\n",
      "┌ Warning: User-defined column name Start Cost Hot is not in dataframe.\n",
      "└ @ PowerSystems /Users/cbarrows/.julia/packages/PowerSystems/qbCqK/src/parsers/power_system_table_data.jl:1364\n",
      "┌ Warning: User-defined column name Must Run is not in dataframe.\n",
      "└ @ PowerSystems /Users/cbarrows/.julia/packages/PowerSystems/qbCqK/src/parsers/power_system_table_data.jl:1364\n",
      "┌ Warning: storage generator should have exactly 1 head storage defined: this will throw an error in v1.1.x\n",
      "└ @ PowerSystems /Users/cbarrows/.julia/packages/PowerSystems/qbCqK/src/parsers/power_system_table_data.jl:1192\n",
      "┌ Warning: Missing LOAD data.\n",
      "└ @ PowerSystems /Users/cbarrows/.julia/packages/PowerSystems/qbCqK/src/parsers/power_system_table_data.jl:212\n",
      "┌ Info: Adding contributing generators for Spin_Up_R1 by category\n",
      "└ @ PowerSystems /Users/cbarrows/.julia/packages/PowerSystems/qbCqK/src/parsers/power_system_table_data.jl:676\n",
      "┌ Warning: User-defined column name Startup Ramp Rate MW/min is not in dataframe.\n",
      "└ @ PowerSystems /Users/cbarrows/.julia/packages/PowerSystems/qbCqK/src/parsers/power_system_table_data.jl:1364\n",
      "┌ Warning: User-defined column name Shutdown Ramp Rate MW/min is not in dataframe.\n",
      "└ @ PowerSystems /Users/cbarrows/.julia/packages/PowerSystems/qbCqK/src/parsers/power_system_table_data.jl:1364\n",
      "┌ Warning: User-defined column name Status at Start is not in dataframe.\n",
      "└ @ PowerSystems /Users/cbarrows/.julia/packages/PowerSystems/qbCqK/src/parsers/power_system_table_data.jl:1364\n",
      "┌ Warning: User-defined column name Time at Status is not in dataframe.\n",
      "└ @ PowerSystems /Users/cbarrows/.julia/packages/PowerSystems/qbCqK/src/parsers/power_system_table_data.jl:1364\n",
      "┌ Warning: User-defined column name Start Cost Cold is not in dataframe.\n",
      "└ @ PowerSystems /Users/cbarrows/.julia/packages/PowerSystems/qbCqK/src/parsers/power_system_table_data.jl:1364\n",
      "┌ Warning: User-defined column name Start Cost Warm is not in dataframe.\n",
      "└ @ PowerSystems /Users/cbarrows/.julia/packages/PowerSystems/qbCqK/src/parsers/power_system_table_data.jl:1364\n",
      "┌ Warning: User-defined column name Start Cost Hot is not in dataframe.\n",
      "└ @ PowerSystems /Users/cbarrows/.julia/packages/PowerSystems/qbCqK/src/parsers/power_system_table_data.jl:1364\n",
      "┌ Warning: User-defined column name Must Run is not in dataframe.\n",
      "└ @ PowerSystems /Users/cbarrows/.julia/packages/PowerSystems/qbCqK/src/parsers/power_system_table_data.jl:1364\n",
      "┌ Info: Adding contributing generators for Spin_Up_R2 by category\n",
      "└ @ PowerSystems /Users/cbarrows/.julia/packages/PowerSystems/qbCqK/src/parsers/power_system_table_data.jl:676\n",
      "┌ Warning: User-defined column name Startup Ramp Rate MW/min is not in dataframe.\n",
      "└ @ PowerSystems /Users/cbarrows/.julia/packages/PowerSystems/qbCqK/src/parsers/power_system_table_data.jl:1364\n",
      "┌ Warning: User-defined column name Shutdown Ramp Rate MW/min is not in dataframe.\n",
      "└ @ PowerSystems /Users/cbarrows/.julia/packages/PowerSystems/qbCqK/src/parsers/power_system_table_data.jl:1364\n",
      "┌ Warning: User-defined column name Status at Start is not in dataframe.\n",
      "└ @ PowerSystems /Users/cbarrows/.julia/packages/PowerSystems/qbCqK/src/parsers/power_system_table_data.jl:1364\n",
      "┌ Warning: User-defined column name Time at Status is not in dataframe.\n",
      "└ @ PowerSystems /Users/cbarrows/.julia/packages/PowerSystems/qbCqK/src/parsers/power_system_table_data.jl:1364\n",
      "┌ Warning: User-defined column name Start Cost Cold is not in dataframe.\n",
      "└ @ PowerSystems /Users/cbarrows/.julia/packages/PowerSystems/qbCqK/src/parsers/power_system_table_data.jl:1364\n",
      "┌ Warning: User-defined column name Start Cost Warm is not in dataframe.\n",
      "└ @ PowerSystems /Users/cbarrows/.julia/packages/PowerSystems/qbCqK/src/parsers/power_system_table_data.jl:1364\n",
      "┌ Warning: User-defined column name Start Cost Hot is not in dataframe.\n",
      "└ @ PowerSystems /Users/cbarrows/.julia/packages/PowerSystems/qbCqK/src/parsers/power_system_table_data.jl:1364\n",
      "┌ Warning: User-defined column name Must Run is not in dataframe.\n",
      "└ @ PowerSystems /Users/cbarrows/.julia/packages/PowerSystems/qbCqK/src/parsers/power_system_table_data.jl:1364\n",
      "┌ Info: Adding contributing generators for Spin_Up_R3 by category\n",
      "└ @ PowerSystems /Users/cbarrows/.julia/packages/PowerSystems/qbCqK/src/parsers/power_system_table_data.jl:676\n",
      "┌ Warning: User-defined column name Startup Ramp Rate MW/min is not in dataframe.\n",
      "└ @ PowerSystems /Users/cbarrows/.julia/packages/PowerSystems/qbCqK/src/parsers/power_system_table_data.jl:1364\n",
      "┌ Warning: User-defined column name Shutdown Ramp Rate MW/min is not in dataframe.\n",
      "└ @ PowerSystems /Users/cbarrows/.julia/packages/PowerSystems/qbCqK/src/parsers/power_system_table_data.jl:1364\n",
      "┌ Warning: User-defined column name Status at Start is not in dataframe.\n",
      "└ @ PowerSystems /Users/cbarrows/.julia/packages/PowerSystems/qbCqK/src/parsers/power_system_table_data.jl:1364\n",
      "┌ Warning: User-defined column name Time at Status is not in dataframe.\n",
      "└ @ PowerSystems /Users/cbarrows/.julia/packages/PowerSystems/qbCqK/src/parsers/power_system_table_data.jl:1364\n",
      "┌ Warning: User-defined column name Start Cost Cold is not in dataframe.\n",
      "└ @ PowerSystems /Users/cbarrows/.julia/packages/PowerSystems/qbCqK/src/parsers/power_system_table_data.jl:1364\n",
      "┌ Warning: User-defined column name Start Cost Warm is not in dataframe.\n",
      "└ @ PowerSystems /Users/cbarrows/.julia/packages/PowerSystems/qbCqK/src/parsers/power_system_table_data.jl:1364\n",
      "┌ Warning: User-defined column name Start Cost Hot is not in dataframe.\n",
      "└ @ PowerSystems /Users/cbarrows/.julia/packages/PowerSystems/qbCqK/src/parsers/power_system_table_data.jl:1364\n",
      "┌ Warning: User-defined column name Must Run is not in dataframe.\n",
      "└ @ PowerSystems /Users/cbarrows/.julia/packages/PowerSystems/qbCqK/src/parsers/power_system_table_data.jl:1364\n",
      "┌ Info: Adding contributing generators for Flex_Up by category\n",
      "└ @ PowerSystems /Users/cbarrows/.julia/packages/PowerSystems/qbCqK/src/parsers/power_system_table_data.jl:676\n",
      "┌ Warning: User-defined column name Startup Ramp Rate MW/min is not in dataframe.\n",
      "└ @ PowerSystems /Users/cbarrows/.julia/packages/PowerSystems/qbCqK/src/parsers/power_system_table_data.jl:1364\n",
      "┌ Warning: User-defined column name Shutdown Ramp Rate MW/min is not in dataframe.\n",
      "└ @ PowerSystems /Users/cbarrows/.julia/packages/PowerSystems/qbCqK/src/parsers/power_system_table_data.jl:1364\n",
      "┌ Warning: User-defined column name Status at Start is not in dataframe.\n",
      "└ @ PowerSystems /Users/cbarrows/.julia/packages/PowerSystems/qbCqK/src/parsers/power_system_table_data.jl:1364\n",
      "┌ Warning: User-defined column name Time at Status is not in dataframe.\n",
      "└ @ PowerSystems /Users/cbarrows/.julia/packages/PowerSystems/qbCqK/src/parsers/power_system_table_data.jl:1364\n",
      "┌ Warning: User-defined column name Start Cost Cold is not in dataframe.\n",
      "└ @ PowerSystems /Users/cbarrows/.julia/packages/PowerSystems/qbCqK/src/parsers/power_system_table_data.jl:1364\n",
      "┌ Warning: User-defined column name Start Cost Warm is not in dataframe.\n",
      "└ @ PowerSystems /Users/cbarrows/.julia/packages/PowerSystems/qbCqK/src/parsers/power_system_table_data.jl:1364\n",
      "┌ Warning: User-defined column name Start Cost Hot is not in dataframe.\n",
      "└ @ PowerSystems /Users/cbarrows/.julia/packages/PowerSystems/qbCqK/src/parsers/power_system_table_data.jl:1364\n",
      "┌ Warning: User-defined column name Must Run is not in dataframe.\n",
      "└ @ PowerSystems /Users/cbarrows/.julia/packages/PowerSystems/qbCqK/src/parsers/power_system_table_data.jl:1364\n",
      "┌ Info: Adding contributing generators for Flex_Down by category\n",
      "└ @ PowerSystems /Users/cbarrows/.julia/packages/PowerSystems/qbCqK/src/parsers/power_system_table_data.jl:676\n",
      "┌ Warning: User-defined column name Startup Ramp Rate MW/min is not in dataframe.\n",
      "└ @ PowerSystems /Users/cbarrows/.julia/packages/PowerSystems/qbCqK/src/parsers/power_system_table_data.jl:1364\n",
      "┌ Warning: User-defined column name Shutdown Ramp Rate MW/min is not in dataframe.\n",
      "└ @ PowerSystems /Users/cbarrows/.julia/packages/PowerSystems/qbCqK/src/parsers/power_system_table_data.jl:1364\n",
      "┌ Warning: User-defined column name Status at Start is not in dataframe.\n",
      "└ @ PowerSystems /Users/cbarrows/.julia/packages/PowerSystems/qbCqK/src/parsers/power_system_table_data.jl:1364\n",
      "┌ Warning: User-defined column name Time at Status is not in dataframe.\n",
      "└ @ PowerSystems /Users/cbarrows/.julia/packages/PowerSystems/qbCqK/src/parsers/power_system_table_data.jl:1364\n",
      "┌ Warning: User-defined column name Start Cost Cold is not in dataframe.\n",
      "└ @ PowerSystems /Users/cbarrows/.julia/packages/PowerSystems/qbCqK/src/parsers/power_system_table_data.jl:1364\n",
      "┌ Warning: User-defined column name Start Cost Warm is not in dataframe.\n",
      "└ @ PowerSystems /Users/cbarrows/.julia/packages/PowerSystems/qbCqK/src/parsers/power_system_table_data.jl:1364\n",
      "┌ Warning: User-defined column name Start Cost Hot is not in dataframe.\n",
      "└ @ PowerSystems /Users/cbarrows/.julia/packages/PowerSystems/qbCqK/src/parsers/power_system_table_data.jl:1364\n",
      "┌ Warning: User-defined column name Must Run is not in dataframe.\n",
      "└ @ PowerSystems /Users/cbarrows/.julia/packages/PowerSystems/qbCqK/src/parsers/power_system_table_data.jl:1364\n",
      "┌ Info: Adding contributing generators for Reg_Up by category\n",
      "└ @ PowerSystems /Users/cbarrows/.julia/packages/PowerSystems/qbCqK/src/parsers/power_system_table_data.jl:676\n",
      "┌ Warning: User-defined column name Startup Ramp Rate MW/min is not in dataframe.\n",
      "└ @ PowerSystems /Users/cbarrows/.julia/packages/PowerSystems/qbCqK/src/parsers/power_system_table_data.jl:1364\n",
      "┌ Warning: User-defined column name Shutdown Ramp Rate MW/min is not in dataframe.\n",
      "└ @ PowerSystems /Users/cbarrows/.julia/packages/PowerSystems/qbCqK/src/parsers/power_system_table_data.jl:1364\n",
      "┌ Warning: User-defined column name Status at Start is not in dataframe.\n",
      "└ @ PowerSystems /Users/cbarrows/.julia/packages/PowerSystems/qbCqK/src/parsers/power_system_table_data.jl:1364\n",
      "┌ Warning: User-defined column name Time at Status is not in dataframe.\n",
      "└ @ PowerSystems /Users/cbarrows/.julia/packages/PowerSystems/qbCqK/src/parsers/power_system_table_data.jl:1364\n",
      "┌ Warning: User-defined column name Start Cost Cold is not in dataframe.\n",
      "└ @ PowerSystems /Users/cbarrows/.julia/packages/PowerSystems/qbCqK/src/parsers/power_system_table_data.jl:1364\n",
      "┌ Warning: User-defined column name Start Cost Warm is not in dataframe.\n",
      "└ @ PowerSystems /Users/cbarrows/.julia/packages/PowerSystems/qbCqK/src/parsers/power_system_table_data.jl:1364\n",
      "┌ Warning: User-defined column name Start Cost Hot is not in dataframe.\n",
      "└ @ PowerSystems /Users/cbarrows/.julia/packages/PowerSystems/qbCqK/src/parsers/power_system_table_data.jl:1364\n",
      "┌ Warning: User-defined column name Must Run is not in dataframe.\n",
      "└ @ PowerSystems /Users/cbarrows/.julia/packages/PowerSystems/qbCqK/src/parsers/power_system_table_data.jl:1364\n",
      "┌ Info: Adding contributing generators for Reg_Down by category\n",
      "└ @ PowerSystems /Users/cbarrows/.julia/packages/PowerSystems/qbCqK/src/parsers/power_system_table_data.jl:676\n",
      "┌ Warning: User-defined column name Startup Ramp Rate MW/min is not in dataframe.\n",
      "└ @ PowerSystems /Users/cbarrows/.julia/packages/PowerSystems/qbCqK/src/parsers/power_system_table_data.jl:1364\n",
      "┌ Warning: User-defined column name Shutdown Ramp Rate MW/min is not in dataframe.\n",
      "└ @ PowerSystems /Users/cbarrows/.julia/packages/PowerSystems/qbCqK/src/parsers/power_system_table_data.jl:1364\n",
      "┌ Warning: User-defined column name Status at Start is not in dataframe.\n",
      "└ @ PowerSystems /Users/cbarrows/.julia/packages/PowerSystems/qbCqK/src/parsers/power_system_table_data.jl:1364\n",
      "┌ Warning: User-defined column name Time at Status is not in dataframe.\n",
      "└ @ PowerSystems /Users/cbarrows/.julia/packages/PowerSystems/qbCqK/src/parsers/power_system_table_data.jl:1364\n",
      "┌ Warning: User-defined column name Start Cost Cold is not in dataframe.\n",
      "└ @ PowerSystems /Users/cbarrows/.julia/packages/PowerSystems/qbCqK/src/parsers/power_system_table_data.jl:1364\n",
      "┌ Warning: User-defined column name Start Cost Warm is not in dataframe.\n",
      "└ @ PowerSystems /Users/cbarrows/.julia/packages/PowerSystems/qbCqK/src/parsers/power_system_table_data.jl:1364\n",
      "┌ Warning: User-defined column name Start Cost Hot is not in dataframe.\n",
      "└ @ PowerSystems /Users/cbarrows/.julia/packages/PowerSystems/qbCqK/src/parsers/power_system_table_data.jl:1364\n",
      "┌ Warning: User-defined column name Must Run is not in dataframe.\n",
      "└ @ PowerSystems /Users/cbarrows/.julia/packages/PowerSystems/qbCqK/src/parsers/power_system_table_data.jl:1364\n",
      "┌ Info: Unit System changed to SYSTEM_BASE\n",
      "└ @ PowerSystems /Users/cbarrows/.julia/packages/PowerSystems/qbCqK/src/base.jl:287\n",
      "┌ Warning: The data doesn't include devices of type InterruptibleLoad, consider changing the device models\n",
      "└ @ PowerSimulations /Users/cbarrows/.julia/packages/PowerSimulations/uqxkd/src/devices_models/device_constructors/common/constructor_validations.jl:3\n",
      "┌ Warning: Data doesn't contain generators with ramp limits, consider adjusting your formulation\n",
      "└ @ PowerSimulations /Users/cbarrows/.julia/packages/PowerSimulations/uqxkd/src/devices_models/devices/thermal_generation.jl:478\n"
     ]
    },
    {
     "output_type": "execute_result",
     "data": {
      "text/plain": "\nOperations Problem Specification\n============================================\n\n  transmission:  CopperPlatePowerModel\n============================================\n  devices: \n      ILoads:\n        device_type = InterruptibleLoad\n        formulation = InterruptiblePowerLoad\n      HydroROR:\n        device_type = HydroDispatch\n        formulation = FixedOutput\n      Generators:\n        device_type = ThermalStandard\n        formulation = ThermalStandardUnitCommitment\n      Ren:\n        device_type = RenewableDispatch\n        formulation = RenewableFullDispatch\n      Hydro:\n        device_type = HydroEnergyReservoir\n        formulation = HydroDispatchRunOfRiver\n      Loads:\n        device_type = PowerLoad\n        formulation = StaticPowerLoad\n      RenFx:\n        device_type = RenewableFix\n        formulation = FixedOutput\n============================================\n  branches: \n      T:\n        device_type = Transformer2W\n        formulation = StaticTransformer\n      TT:\n        device_type = TapTransformer\n        formulation = StaticTransformer\n      L:\n        device_type = Line\n        formulation = StaticLine\n============================================\n  services: \n      ReserveDown:\n        service_type = VariableReserve{ReserveDown}\n        formulation = RangeReserve\n      ReserveUp:\n        service_type = VariableReserve{ReserveUp}\n        formulation = RangeReserve\n============================================\n"
     },
     "metadata": {},
     "execution_count": 1
    }
   ],
   "cell_type": "code",
   "source": [
    "using SIIPExamples\n",
    "pkgpath = dirname(dirname(pathof(SIIPExamples)))\n",
    "include(\n",
    "    joinpath(pkgpath, \"test\", \"3_PowerSimulations_examples\", \"01_operations_problems.jl\"),\n",
    ")"
   ],
   "metadata": {},
   "execution_count": 1
  },
  {
   "cell_type": "markdown",
   "source": [
    "### 5-Minute system\n",
    "We had already created a `sys::System` from hourly RTS data in the OperationsProblem example.\n",
    "The RTS data also includes 5-minute resolution time series data. So, we can create another\n",
    "`System`:"
   ],
   "metadata": {}
  },
  {
   "outputs": [
    {
     "name": "stdout",
     "output_type": "stream",
     "text": [
      "┌ Info: Unit System changed to DEVICE_BASE\n",
      "└ @ PowerSystems /Users/cbarrows/.julia/packages/PowerSystems/qbCqK/src/base.jl:293\n",
      "┌ Warning: Missing LOAD data.\n",
      "└ @ PowerSystems /Users/cbarrows/.julia/packages/PowerSystems/qbCqK/src/parsers/power_system_table_data.jl:212\n",
      "┌ Warning: User-defined column name Startup Ramp Rate MW/min is not in dataframe.\n",
      "└ @ PowerSystems /Users/cbarrows/.julia/packages/PowerSystems/qbCqK/src/parsers/power_system_table_data.jl:1364\n",
      "┌ Warning: User-defined column name Shutdown Ramp Rate MW/min is not in dataframe.\n",
      "└ @ PowerSystems /Users/cbarrows/.julia/packages/PowerSystems/qbCqK/src/parsers/power_system_table_data.jl:1364\n",
      "┌ Warning: User-defined column name Status at Start is not in dataframe.\n",
      "└ @ PowerSystems /Users/cbarrows/.julia/packages/PowerSystems/qbCqK/src/parsers/power_system_table_data.jl:1364\n",
      "┌ Warning: User-defined column name Time at Status is not in dataframe.\n",
      "└ @ PowerSystems /Users/cbarrows/.julia/packages/PowerSystems/qbCqK/src/parsers/power_system_table_data.jl:1364\n",
      "┌ Warning: User-defined column name Start Cost Cold is not in dataframe.\n",
      "└ @ PowerSystems /Users/cbarrows/.julia/packages/PowerSystems/qbCqK/src/parsers/power_system_table_data.jl:1364\n",
      "┌ Warning: User-defined column name Start Cost Warm is not in dataframe.\n",
      "└ @ PowerSystems /Users/cbarrows/.julia/packages/PowerSystems/qbCqK/src/parsers/power_system_table_data.jl:1364\n",
      "┌ Warning: User-defined column name Start Cost Hot is not in dataframe.\n",
      "└ @ PowerSystems /Users/cbarrows/.julia/packages/PowerSystems/qbCqK/src/parsers/power_system_table_data.jl:1364\n",
      "┌ Warning: User-defined column name Must Run is not in dataframe.\n",
      "└ @ PowerSystems /Users/cbarrows/.julia/packages/PowerSystems/qbCqK/src/parsers/power_system_table_data.jl:1364\n",
      "┌ Warning: storage generator should have exactly 1 head storage defined: this will throw an error in v1.1.x\n",
      "└ @ PowerSystems /Users/cbarrows/.julia/packages/PowerSystems/qbCqK/src/parsers/power_system_table_data.jl:1192\n",
      "┌ Warning: Missing LOAD data.\n",
      "└ @ PowerSystems /Users/cbarrows/.julia/packages/PowerSystems/qbCqK/src/parsers/power_system_table_data.jl:212\n",
      "┌ Info: Adding contributing generators for Spin_Up_R1 by category\n",
      "└ @ PowerSystems /Users/cbarrows/.julia/packages/PowerSystems/qbCqK/src/parsers/power_system_table_data.jl:676\n",
      "┌ Warning: User-defined column name Startup Ramp Rate MW/min is not in dataframe.\n",
      "└ @ PowerSystems /Users/cbarrows/.julia/packages/PowerSystems/qbCqK/src/parsers/power_system_table_data.jl:1364\n",
      "┌ Warning: User-defined column name Shutdown Ramp Rate MW/min is not in dataframe.\n",
      "└ @ PowerSystems /Users/cbarrows/.julia/packages/PowerSystems/qbCqK/src/parsers/power_system_table_data.jl:1364\n",
      "┌ Warning: User-defined column name Status at Start is not in dataframe.\n",
      "└ @ PowerSystems /Users/cbarrows/.julia/packages/PowerSystems/qbCqK/src/parsers/power_system_table_data.jl:1364\n",
      "┌ Warning: User-defined column name Time at Status is not in dataframe.\n",
      "└ @ PowerSystems /Users/cbarrows/.julia/packages/PowerSystems/qbCqK/src/parsers/power_system_table_data.jl:1364\n",
      "┌ Warning: User-defined column name Start Cost Cold is not in dataframe.\n",
      "└ @ PowerSystems /Users/cbarrows/.julia/packages/PowerSystems/qbCqK/src/parsers/power_system_table_data.jl:1364\n",
      "┌ Warning: User-defined column name Start Cost Warm is not in dataframe.\n",
      "└ @ PowerSystems /Users/cbarrows/.julia/packages/PowerSystems/qbCqK/src/parsers/power_system_table_data.jl:1364\n",
      "┌ Warning: User-defined column name Start Cost Hot is not in dataframe.\n",
      "└ @ PowerSystems /Users/cbarrows/.julia/packages/PowerSystems/qbCqK/src/parsers/power_system_table_data.jl:1364\n",
      "┌ Warning: User-defined column name Must Run is not in dataframe.\n",
      "└ @ PowerSystems /Users/cbarrows/.julia/packages/PowerSystems/qbCqK/src/parsers/power_system_table_data.jl:1364\n",
      "┌ Info: Adding contributing generators for Spin_Up_R2 by category\n",
      "└ @ PowerSystems /Users/cbarrows/.julia/packages/PowerSystems/qbCqK/src/parsers/power_system_table_data.jl:676\n",
      "┌ Warning: User-defined column name Startup Ramp Rate MW/min is not in dataframe.\n",
      "└ @ PowerSystems /Users/cbarrows/.julia/packages/PowerSystems/qbCqK/src/parsers/power_system_table_data.jl:1364\n",
      "┌ Warning: User-defined column name Shutdown Ramp Rate MW/min is not in dataframe.\n",
      "└ @ PowerSystems /Users/cbarrows/.julia/packages/PowerSystems/qbCqK/src/parsers/power_system_table_data.jl:1364\n",
      "┌ Warning: User-defined column name Status at Start is not in dataframe.\n",
      "└ @ PowerSystems /Users/cbarrows/.julia/packages/PowerSystems/qbCqK/src/parsers/power_system_table_data.jl:1364\n",
      "┌ Warning: User-defined column name Time at Status is not in dataframe.\n",
      "└ @ PowerSystems /Users/cbarrows/.julia/packages/PowerSystems/qbCqK/src/parsers/power_system_table_data.jl:1364\n",
      "┌ Warning: User-defined column name Start Cost Cold is not in dataframe.\n",
      "└ @ PowerSystems /Users/cbarrows/.julia/packages/PowerSystems/qbCqK/src/parsers/power_system_table_data.jl:1364\n",
      "┌ Warning: User-defined column name Start Cost Warm is not in dataframe.\n",
      "└ @ PowerSystems /Users/cbarrows/.julia/packages/PowerSystems/qbCqK/src/parsers/power_system_table_data.jl:1364\n",
      "┌ Warning: User-defined column name Start Cost Hot is not in dataframe.\n",
      "└ @ PowerSystems /Users/cbarrows/.julia/packages/PowerSystems/qbCqK/src/parsers/power_system_table_data.jl:1364\n",
      "┌ Warning: User-defined column name Must Run is not in dataframe.\n",
      "└ @ PowerSystems /Users/cbarrows/.julia/packages/PowerSystems/qbCqK/src/parsers/power_system_table_data.jl:1364\n",
      "┌ Info: Adding contributing generators for Spin_Up_R3 by category\n",
      "└ @ PowerSystems /Users/cbarrows/.julia/packages/PowerSystems/qbCqK/src/parsers/power_system_table_data.jl:676\n",
      "┌ Warning: User-defined column name Startup Ramp Rate MW/min is not in dataframe.\n",
      "└ @ PowerSystems /Users/cbarrows/.julia/packages/PowerSystems/qbCqK/src/parsers/power_system_table_data.jl:1364\n",
      "┌ Warning: User-defined column name Shutdown Ramp Rate MW/min is not in dataframe.\n",
      "└ @ PowerSystems /Users/cbarrows/.julia/packages/PowerSystems/qbCqK/src/parsers/power_system_table_data.jl:1364\n",
      "┌ Warning: User-defined column name Status at Start is not in dataframe.\n",
      "└ @ PowerSystems /Users/cbarrows/.julia/packages/PowerSystems/qbCqK/src/parsers/power_system_table_data.jl:1364\n",
      "┌ Warning: User-defined column name Time at Status is not in dataframe.\n",
      "└ @ PowerSystems /Users/cbarrows/.julia/packages/PowerSystems/qbCqK/src/parsers/power_system_table_data.jl:1364\n",
      "┌ Warning: User-defined column name Start Cost Cold is not in dataframe.\n",
      "└ @ PowerSystems /Users/cbarrows/.julia/packages/PowerSystems/qbCqK/src/parsers/power_system_table_data.jl:1364\n",
      "┌ Warning: User-defined column name Start Cost Warm is not in dataframe.\n",
      "└ @ PowerSystems /Users/cbarrows/.julia/packages/PowerSystems/qbCqK/src/parsers/power_system_table_data.jl:1364\n",
      "┌ Warning: User-defined column name Start Cost Hot is not in dataframe.\n",
      "└ @ PowerSystems /Users/cbarrows/.julia/packages/PowerSystems/qbCqK/src/parsers/power_system_table_data.jl:1364\n",
      "┌ Warning: User-defined column name Must Run is not in dataframe.\n",
      "└ @ PowerSystems /Users/cbarrows/.julia/packages/PowerSystems/qbCqK/src/parsers/power_system_table_data.jl:1364\n",
      "┌ Info: Adding contributing generators for Flex_Up by category\n",
      "└ @ PowerSystems /Users/cbarrows/.julia/packages/PowerSystems/qbCqK/src/parsers/power_system_table_data.jl:676\n",
      "┌ Warning: User-defined column name Startup Ramp Rate MW/min is not in dataframe.\n",
      "└ @ PowerSystems /Users/cbarrows/.julia/packages/PowerSystems/qbCqK/src/parsers/power_system_table_data.jl:1364\n",
      "┌ Warning: User-defined column name Shutdown Ramp Rate MW/min is not in dataframe.\n",
      "└ @ PowerSystems /Users/cbarrows/.julia/packages/PowerSystems/qbCqK/src/parsers/power_system_table_data.jl:1364\n",
      "┌ Warning: User-defined column name Status at Start is not in dataframe.\n",
      "└ @ PowerSystems /Users/cbarrows/.julia/packages/PowerSystems/qbCqK/src/parsers/power_system_table_data.jl:1364\n",
      "┌ Warning: User-defined column name Time at Status is not in dataframe.\n",
      "└ @ PowerSystems /Users/cbarrows/.julia/packages/PowerSystems/qbCqK/src/parsers/power_system_table_data.jl:1364\n",
      "┌ Warning: User-defined column name Start Cost Cold is not in dataframe.\n",
      "└ @ PowerSystems /Users/cbarrows/.julia/packages/PowerSystems/qbCqK/src/parsers/power_system_table_data.jl:1364\n",
      "┌ Warning: User-defined column name Start Cost Warm is not in dataframe.\n",
      "└ @ PowerSystems /Users/cbarrows/.julia/packages/PowerSystems/qbCqK/src/parsers/power_system_table_data.jl:1364\n",
      "┌ Warning: User-defined column name Start Cost Hot is not in dataframe.\n",
      "└ @ PowerSystems /Users/cbarrows/.julia/packages/PowerSystems/qbCqK/src/parsers/power_system_table_data.jl:1364\n",
      "┌ Warning: User-defined column name Must Run is not in dataframe.\n",
      "└ @ PowerSystems /Users/cbarrows/.julia/packages/PowerSystems/qbCqK/src/parsers/power_system_table_data.jl:1364\n",
      "┌ Info: Adding contributing generators for Flex_Down by category\n",
      "└ @ PowerSystems /Users/cbarrows/.julia/packages/PowerSystems/qbCqK/src/parsers/power_system_table_data.jl:676\n",
      "┌ Warning: User-defined column name Startup Ramp Rate MW/min is not in dataframe.\n",
      "└ @ PowerSystems /Users/cbarrows/.julia/packages/PowerSystems/qbCqK/src/parsers/power_system_table_data.jl:1364\n",
      "┌ Warning: User-defined column name Shutdown Ramp Rate MW/min is not in dataframe.\n",
      "└ @ PowerSystems /Users/cbarrows/.julia/packages/PowerSystems/qbCqK/src/parsers/power_system_table_data.jl:1364\n",
      "┌ Warning: User-defined column name Status at Start is not in dataframe.\n",
      "└ @ PowerSystems /Users/cbarrows/.julia/packages/PowerSystems/qbCqK/src/parsers/power_system_table_data.jl:1364\n",
      "┌ Warning: User-defined column name Time at Status is not in dataframe.\n",
      "└ @ PowerSystems /Users/cbarrows/.julia/packages/PowerSystems/qbCqK/src/parsers/power_system_table_data.jl:1364\n",
      "┌ Warning: User-defined column name Start Cost Cold is not in dataframe.\n",
      "└ @ PowerSystems /Users/cbarrows/.julia/packages/PowerSystems/qbCqK/src/parsers/power_system_table_data.jl:1364\n",
      "┌ Warning: User-defined column name Start Cost Warm is not in dataframe.\n",
      "└ @ PowerSystems /Users/cbarrows/.julia/packages/PowerSystems/qbCqK/src/parsers/power_system_table_data.jl:1364\n",
      "┌ Warning: User-defined column name Start Cost Hot is not in dataframe.\n",
      "└ @ PowerSystems /Users/cbarrows/.julia/packages/PowerSystems/qbCqK/src/parsers/power_system_table_data.jl:1364\n",
      "┌ Warning: User-defined column name Must Run is not in dataframe.\n",
      "└ @ PowerSystems /Users/cbarrows/.julia/packages/PowerSystems/qbCqK/src/parsers/power_system_table_data.jl:1364\n",
      "┌ Info: Adding contributing generators for Reg_Up by category\n",
      "└ @ PowerSystems /Users/cbarrows/.julia/packages/PowerSystems/qbCqK/src/parsers/power_system_table_data.jl:676\n",
      "┌ Warning: User-defined column name Startup Ramp Rate MW/min is not in dataframe.\n",
      "└ @ PowerSystems /Users/cbarrows/.julia/packages/PowerSystems/qbCqK/src/parsers/power_system_table_data.jl:1364\n",
      "┌ Warning: User-defined column name Shutdown Ramp Rate MW/min is not in dataframe.\n",
      "└ @ PowerSystems /Users/cbarrows/.julia/packages/PowerSystems/qbCqK/src/parsers/power_system_table_data.jl:1364\n",
      "┌ Warning: User-defined column name Status at Start is not in dataframe.\n",
      "└ @ PowerSystems /Users/cbarrows/.julia/packages/PowerSystems/qbCqK/src/parsers/power_system_table_data.jl:1364\n",
      "┌ Warning: User-defined column name Time at Status is not in dataframe.\n",
      "└ @ PowerSystems /Users/cbarrows/.julia/packages/PowerSystems/qbCqK/src/parsers/power_system_table_data.jl:1364\n",
      "┌ Warning: User-defined column name Start Cost Cold is not in dataframe.\n",
      "└ @ PowerSystems /Users/cbarrows/.julia/packages/PowerSystems/qbCqK/src/parsers/power_system_table_data.jl:1364\n",
      "┌ Warning: User-defined column name Start Cost Warm is not in dataframe.\n",
      "└ @ PowerSystems /Users/cbarrows/.julia/packages/PowerSystems/qbCqK/src/parsers/power_system_table_data.jl:1364\n",
      "┌ Warning: User-defined column name Start Cost Hot is not in dataframe.\n",
      "└ @ PowerSystems /Users/cbarrows/.julia/packages/PowerSystems/qbCqK/src/parsers/power_system_table_data.jl:1364\n",
      "┌ Warning: User-defined column name Must Run is not in dataframe.\n",
      "└ @ PowerSystems /Users/cbarrows/.julia/packages/PowerSystems/qbCqK/src/parsers/power_system_table_data.jl:1364\n",
      "┌ Info: Adding contributing generators for Reg_Down by category\n",
      "└ @ PowerSystems /Users/cbarrows/.julia/packages/PowerSystems/qbCqK/src/parsers/power_system_table_data.jl:676\n",
      "┌ Warning: User-defined column name Startup Ramp Rate MW/min is not in dataframe.\n",
      "└ @ PowerSystems /Users/cbarrows/.julia/packages/PowerSystems/qbCqK/src/parsers/power_system_table_data.jl:1364\n",
      "┌ Warning: User-defined column name Shutdown Ramp Rate MW/min is not in dataframe.\n",
      "└ @ PowerSystems /Users/cbarrows/.julia/packages/PowerSystems/qbCqK/src/parsers/power_system_table_data.jl:1364\n",
      "┌ Warning: User-defined column name Status at Start is not in dataframe.\n",
      "└ @ PowerSystems /Users/cbarrows/.julia/packages/PowerSystems/qbCqK/src/parsers/power_system_table_data.jl:1364\n",
      "┌ Warning: User-defined column name Time at Status is not in dataframe.\n",
      "└ @ PowerSystems /Users/cbarrows/.julia/packages/PowerSystems/qbCqK/src/parsers/power_system_table_data.jl:1364\n",
      "┌ Warning: User-defined column name Start Cost Cold is not in dataframe.\n",
      "└ @ PowerSystems /Users/cbarrows/.julia/packages/PowerSystems/qbCqK/src/parsers/power_system_table_data.jl:1364\n",
      "┌ Warning: User-defined column name Start Cost Warm is not in dataframe.\n",
      "└ @ PowerSystems /Users/cbarrows/.julia/packages/PowerSystems/qbCqK/src/parsers/power_system_table_data.jl:1364\n",
      "┌ Warning: User-defined column name Start Cost Hot is not in dataframe.\n",
      "└ @ PowerSystems /Users/cbarrows/.julia/packages/PowerSystems/qbCqK/src/parsers/power_system_table_data.jl:1364\n",
      "┌ Warning: User-defined column name Must Run is not in dataframe.\n",
      "└ @ PowerSystems /Users/cbarrows/.julia/packages/PowerSystems/qbCqK/src/parsers/power_system_table_data.jl:1364\n"
     ]
    }
   ],
   "cell_type": "code",
   "source": [
    "sys_RT = System(rawsys; time_series_resolution = Dates.Minute(5))\n",
    "transform_single_time_series!(sys_RT, 12, Hour(1))"
   ],
   "metadata": {},
   "execution_count": 2
  },
  {
   "cell_type": "markdown",
   "source": [
    "## `OperationsProblemTemplate`s define `Stage`s\n",
    "Sequential simulations in PowerSimulations are created by defining `OperationsProblems`\n",
    "that represent `Stages`, and how information flows between executions of a `Stage` and\n",
    "between different `Stage`s.\n",
    "\n",
    "Let's start by defining a two stage simulation that might look like a typical day-Ahead\n",
    "and real-time electricity market clearing process."
   ],
   "metadata": {}
  },
  {
   "cell_type": "markdown",
   "source": [
    "### Define the reference model for the day-ahead unit commitment"
   ],
   "metadata": {}
  },
  {
   "outputs": [
    {
     "output_type": "execute_result",
     "data": {
      "text/plain": "\nOperations Problem Specification\n============================================\n\n  transmission:  CopperPlatePowerModel\n============================================\n  devices: \n      HydroROR:\n        device_type = HydroDispatch\n        formulation = FixedOutput\n      Generators:\n        device_type = ThermalStandard\n        formulation = ThermalStandardUnitCommitment\n      Ren:\n        device_type = RenewableDispatch\n        formulation = RenewableFullDispatch\n      Hydro:\n        device_type = HydroEnergyReservoir\n        formulation = HydroDispatchRunOfRiver\n      Loads:\n        device_type = PowerLoad\n        formulation = StaticPowerLoad\n      RenFx:\n        device_type = RenewableFix\n        formulation = FixedOutput\n============================================\n  branches: \n      T:\n        device_type = Transformer2W\n        formulation = StaticTransformer\n      TT:\n        device_type = TapTransformer\n        formulation = StaticTransformer\n      L:\n        device_type = Line\n        formulation = StaticLine\n      DC:\n        device_type = HVDCLine\n        formulation = HVDCDispatch\n============================================\n  services: \n      ReserveDown:\n        service_type = VariableReserve{ReserveDown}\n        formulation = RangeReserve\n      ReserveUp:\n        service_type = VariableReserve{ReserveUp}\n        formulation = RangeReserve\n============================================\n"
     },
     "metadata": {},
     "execution_count": 3
    }
   ],
   "cell_type": "code",
   "source": [
    "devices = Dict(\n",
    "    :Generators => DeviceModel(ThermalStandard, ThermalStandardUnitCommitment),\n",
    "    :Ren => DeviceModel(RenewableDispatch, RenewableFullDispatch),\n",
    "    :Loads => DeviceModel(PowerLoad, StaticPowerLoad),\n",
    "    :HydroROR => DeviceModel(HydroDispatch, FixedOutput),\n",
    "    :Hydro => DeviceModel(HydroEnergyReservoir, HydroDispatchRunOfRiver),\n",
    "    :RenFx => DeviceModel(RenewableFix, FixedOutput),\n",
    ")\n",
    "template_uc = template_unit_commitment(devices = devices)"
   ],
   "metadata": {},
   "execution_count": 3
  },
  {
   "cell_type": "markdown",
   "source": [
    "### Define the reference model for the real-time economic dispatch"
   ],
   "metadata": {}
  },
  {
   "outputs": [
    {
     "output_type": "execute_result",
     "data": {
      "text/plain": "\nOperations Problem Specification\n============================================\n\n  transmission:  CopperPlatePowerModel\n============================================\n  devices: \n      HydroROR:\n        device_type = HydroDispatch\n        formulation = FixedOutput\n      Generators:\n        device_type = ThermalStandard\n        formulation = ThermalDispatch\n      Ren:\n        device_type = RenewableDispatch\n        formulation = RenewableFullDispatch\n      Hydro:\n        device_type = HydroEnergyReservoir\n        formulation = HydroDispatchRunOfRiver\n      Loads:\n        device_type = PowerLoad\n        formulation = StaticPowerLoad\n      RenFx:\n        device_type = RenewableFix\n        formulation = FixedOutput\n============================================\n  branches: \n      T:\n        device_type = Transformer2W\n        formulation = StaticTransformer\n      TT:\n        device_type = TapTransformer\n        formulation = StaticTransformer\n      L:\n        device_type = Line\n        formulation = StaticLine\n      DC:\n        device_type = HVDCLine\n        formulation = HVDCDispatch\n============================================\n  services: \n============================================\n"
     },
     "metadata": {},
     "execution_count": 4
    }
   ],
   "cell_type": "code",
   "source": [
    "devices = Dict(\n",
    "    :Generators => DeviceModel(ThermalStandard, ThermalDispatch),\n",
    "    :Ren => DeviceModel(RenewableDispatch, RenewableFullDispatch),\n",
    "    :Loads => DeviceModel(PowerLoad, StaticPowerLoad),\n",
    "    :HydroROR => DeviceModel(HydroDispatch, FixedOutput),\n",
    "    :Hydro => DeviceModel(HydroEnergyReservoir, HydroDispatchRunOfRiver),\n",
    "    :RenFx => DeviceModel(RenewableFix, FixedOutput),\n",
    ")\n",
    "template_ed = template_economic_dispatch(devices = devices)"
   ],
   "metadata": {},
   "execution_count": 4
  },
  {
   "cell_type": "markdown",
   "source": [
    "### Define the `Stage`s\n",
    "Stages define models. The actual problem will change as the stage gets updated to represent\n",
    "different time periods, but the formulations applied to the components is constant within\n",
    "a stage. In this case, we want to define two stages with the `OperationsProblemTemplate`s\n",
    "and the `System`s that we've already created."
   ],
   "metadata": {}
  },
  {
   "outputs": [
    {
     "output_type": "execute_result",
     "data": {
      "text/plain": "Dict{String,Stage{GenericOpProblem}} with 2 entries:\n  \"ED\" => Stage()…\n  \"UC\" => Stage()…"
     },
     "metadata": {},
     "execution_count": 5
    }
   ],
   "cell_type": "code",
   "source": [
    "stages_definition = Dict(\n",
    "    \"UC\" => Stage(GenericOpProblem, template_uc, sys, solver),\n",
    "    \"ED\" => Stage(\n",
    "        GenericOpProblem,\n",
    "        template_ed,\n",
    "        sys_RT,\n",
    "        solver,\n",
    "        balance_slack_variables = true,\n",
    "    ),\n",
    ")"
   ],
   "metadata": {},
   "execution_count": 5
  },
  {
   "cell_type": "markdown",
   "source": [
    "Note that the \"ED\" stage has a `balance_slack_variables = true` argument. This adds slack\n",
    "variables with a default penalty of 1e6 to the nodal energy balance constraint and helps\n",
    "ensure feasibility with some performance impacts."
   ],
   "metadata": {}
  },
  {
   "cell_type": "markdown",
   "source": [
    "### `SimulationSequence`\n",
    "Similar to an `OperationsProblemTemplate`, the `SimulationSequence` provides a template of\n",
    "how to execute a sequential set of operations problems."
   ],
   "metadata": {}
  },
  {
   "cell_type": "markdown",
   "source": [
    "print_struct(SimulationSequence)"
   ],
   "metadata": {}
  },
  {
   "cell_type": "markdown",
   "source": [
    "Let's review some of the `SimulationSequence` arguments."
   ],
   "metadata": {}
  },
  {
   "cell_type": "markdown",
   "source": [
    "### Chronologies\n",
    "In PowerSimulations, chronologies define where information is flowing. There are two types\n",
    "of chronologies.\n",
    " - inter-stage chronologies: Define how information flows between stages. e.g. day-ahead\n",
    "solutions are used to inform economic dispatch problems\n",
    " - intra-stage chronologies: Define how information flows between multiple executions of a\n",
    "single stage. e.g. the dispatch setpoints of the first period of an economic dispatch problem\n",
    "are constrained by the ramping limits from setpoints in the final period of the previous problem."
   ],
   "metadata": {}
  },
  {
   "cell_type": "markdown",
   "source": [
    "Let's define an inter-stage chronology that synchronizes information from 24 periods of\n",
    "the first stage with a set of executions of the second stage:"
   ],
   "metadata": {}
  },
  {
   "outputs": [
    {
     "output_type": "execute_result",
     "data": {
      "text/plain": "Dict{Pair{String,String},Synchronize} with 1 entry:\n  \"UC\"=>\"ED\" => Synchronize(24, 0, UpdateTrigger(-1, -1))"
     },
     "metadata": {},
     "execution_count": 6
    }
   ],
   "cell_type": "code",
   "source": [
    "feedforward_chronologies = Dict((\"UC\" => \"ED\") => Synchronize(periods = 24))"
   ],
   "metadata": {},
   "execution_count": 6
  },
  {
   "cell_type": "markdown",
   "source": [
    "### `FeedForward` and `Cache`\n",
    "The definition of exactly what information is passed using the defined chronologies is\n",
    "accomplished with `FeedForward` and `Cache` objects. Specifically, `FeedForward` is used\n",
    "to define what to do with information being passed with an inter-stage chronology. Let's\n",
    "define a `FeedForward` that affects the semi-continuous range constraints of thermal generators\n",
    "in the economic dispatch problems based on the value of the unit-commitment variables."
   ],
   "metadata": {}
  },
  {
   "outputs": [
    {
     "output_type": "execute_result",
     "data": {
      "text/plain": "Dict{Tuple{String,Symbol,Symbol},SemiContinuousFF} with 1 entry:\n  (\"ED\", :devices, :Generators) => SemiContinuousFF(:On, [:P], nothing)"
     },
     "metadata": {},
     "execution_count": 7
    }
   ],
   "cell_type": "code",
   "source": [
    "feedforward = Dict(\n",
    "    (\"ED\", :devices, :Generators) => SemiContinuousFF(\n",
    "        binary_source_stage = PSI.ON,\n",
    "        affected_variables = [PSI.ACTIVE_POWER],\n",
    "    ),\n",
    ")"
   ],
   "metadata": {},
   "execution_count": 7
  },
  {
   "cell_type": "markdown",
   "source": [
    "### Sequencing\n",
    "The stage problem length, look-ahead, and other details surrounding the temporal Sequencing\n",
    "of stages are controlled using the `order`, `horizons`, and `intervals` arguments.\n",
    " - order::Dict(Int, String) : the hierarchical order of stages in the simulation\n",
    " - horizons::Dict(String, Int) : defines the number of time periods in each stage (problem length)\n",
    " - intervals::Dict(String, Dates.Period) : defines the interval with which stage problems\n",
    "advance after each execution. e.g. day-ahead problems have an interval of 24-hours\n",
    "\n",
    "So, to define a typical day-ahead - real-time sequence, we can define the following:\n",
    " - Day ahead problems should represent 48 hours, advancing 24 hours after each execution (24-hour look-ahead)\n",
    " - Real time problems should represent 1 hour (12 5-minute periods), advancing 1 hour after each execution (no look-ahead)"
   ],
   "metadata": {}
  },
  {
   "outputs": [
    {
     "output_type": "execute_result",
     "data": {
      "text/plain": "Dict{String,Tuple{Hour,Consecutive}} with 2 entries:\n  \"ED\" => (Hour(1), Consecutive(UpdateTrigger(-1, -1)))\n  \"UC\" => (Hour(24), Consecutive(UpdateTrigger(-1, -1)))"
     },
     "metadata": {},
     "execution_count": 8
    }
   ],
   "cell_type": "code",
   "source": [
    "order = Dict(1 => \"UC\", 2 => \"ED\")\n",
    "horizons = Dict(\"UC\" => 24, \"ED\" => 12)\n",
    "intervals = Dict(\"UC\" => (Hour(24), Consecutive()), \"ED\" => (Hour(1), Consecutive()))"
   ],
   "metadata": {},
   "execution_count": 8
  },
  {
   "cell_type": "markdown",
   "source": [
    "Finally, we can put it all together:"
   ],
   "metadata": {}
  },
  {
   "outputs": [
    {
     "output_type": "execute_result",
     "data": {
      "text/plain": "Feed Forward Chronology\n-----------------------\n\nED: SemiContinuousFF -> Generators\n\n                     UC--┐ from : On\n                         |\n┌----┬----┬----┬----┬----┼----┬----┬----┬----┬----┬----┐\n|    |    |    |    |    |    |    |    |    |    |    |\n|    |    |    |    |    |    |    |    |    |    |    |\n└─ED └─ED └─ED └─ED └─ED └─ED └─ED └─ED └─ED └─ED └─ED └─ED ... (x24) to : [\"P\"]\n\nInitial Condition Chronology\n----------------------------\n\n1\n|\n|\n2 --> 2 ... (x24)   \n"
     },
     "metadata": {},
     "execution_count": 9
    }
   ],
   "cell_type": "code",
   "source": [
    "DA_RT_sequence = SimulationSequence(\n",
    "    step_resolution = Hour(24),\n",
    "    order = order,\n",
    "    horizons = horizons,\n",
    "    intervals = intervals,\n",
    "    ini_cond_chronology = InterStageChronology(),\n",
    "    feedforward_chronologies = feedforward_chronologies,\n",
    "    feedforward = feedforward,\n",
    ")"
   ],
   "metadata": {},
   "execution_count": 9
  },
  {
   "cell_type": "markdown",
   "source": [
    "## `Simulation`\n",
    "Now, we can build and execute a simulation using the `SimulationSequence` and `Stage`s\n",
    "that we've defined."
   ],
   "metadata": {}
  },
  {
   "outputs": [
    {
     "output_type": "execute_result",
     "data": {
      "text/plain": "Simulation()\n"
     },
     "metadata": {},
     "execution_count": 10
    }
   ],
   "cell_type": "code",
   "source": [
    "sim = Simulation(\n",
    "    name = \"rts-test\",\n",
    "    steps = 1,\n",
    "    stages = stages_definition,\n",
    "    stages_sequence = DA_RT_sequence,\n",
    "    simulation_folder = rts_dir,\n",
    ")"
   ],
   "metadata": {},
   "execution_count": 10
  },
  {
   "cell_type": "markdown",
   "source": [
    "### Build simulation"
   ],
   "metadata": {}
  },
  {
   "outputs": [
    {
     "output_type": "execute_result",
     "data": {
      "text/plain": "BUILT::BuildStatus = 0"
     },
     "metadata": {},
     "execution_count": 11
    }
   ],
   "cell_type": "code",
   "source": [
    "build!(sim)"
   ],
   "metadata": {},
   "execution_count": 11
  },
  {
   "cell_type": "markdown",
   "source": [
    "### Execute simulation\n",
    "the following command returns the status of the simulation (0: is proper execution) and\n",
    "stores the results in a set of HDF5 files on disk."
   ],
   "metadata": {}
  },
  {
   "outputs": [
    {
     "name": "stdout",
     "output_type": "stream",
     "text": [
      "Welcome to the CBC MILP Solver \n",
      "Version: 2.10.3 \n",
      "Build Date: Nov  9 2020 \n",
      "\n",
      "command line - Cbc_C_Interface -ratioGap 0.5 -logLevel 1 -solve -quit (default strategy 1)\n",
      "ratioGap was changed from 0 to 0.5\n",
      "Continuous objective value is 1.0694e+06 - 0.40 seconds\n",
      "Cgl0003I 58 fixed, 0 tightened bounds, 1450 strengthened rows, 0 substitutions\n",
      "Cgl0003I 0 fixed, 0 tightened bounds, 103 strengthened rows, 0 substitutions\n",
      "Cgl0003I 0 fixed, 0 tightened bounds, 1392 strengthened rows, 0 substitutions\n",
      "Cgl0003I 0 fixed, 0 tightened bounds, 1311 strengthened rows, 0 substitutions\n",
      "Cgl0003I 0 fixed, 0 tightened bounds, 1195 strengthened rows, 0 substitutions\n",
      "Cgl0003I 0 fixed, 0 tightened bounds, 545 strengthened rows, 0 substitutions\n",
      "Cgl0003I 0 fixed, 0 tightened bounds, 483 strengthened rows, 0 substitutions\n",
      "Cgl0003I 0 fixed, 0 tightened bounds, 462 strengthened rows, 0 substitutions\n",
      "Cgl0003I 0 fixed, 0 tightened bounds, 450 strengthened rows, 0 substitutions\n",
      "Cgl0003I 0 fixed, 0 tightened bounds, 399 strengthened rows, 0 substitutions\n",
      "Cgl0004I processed model has 11658 rows, 23629 columns (5005 integer (5005 of which binary)) and 67388 elements\n",
      "Cbc0045I Trying just fixing integer variables (and fixingish SOS).\n",
      "Cbc0045I Warning: mipstart values could not be used to build a solution.\n",
      "Cbc0012I Integer solution of 1089764.2 found by DiveCoefficient after 0 iterations and 0 nodes (2.71 seconds)\n",
      "Cbc0011I Exiting as integer gap of 20362.165 less than 1e-10 or 50%\n",
      "Cbc0001I Search completed - best objective 1089764.188226817, took 0 iterations and 0 nodes (2.72 seconds)\n",
      "Cbc0035I Maximum depth 0, 0 variables fixed on reduced cost\n",
      "Cuts at root node changed objective from 1.0694e+06 to 1.0694e+06\n",
      "Probing was tried 0 times and created 0 cuts of which 0 were active after adding rounds of cuts (0.000 seconds)\n",
      "Gomory was tried 0 times and created 0 cuts of which 0 were active after adding rounds of cuts (0.000 seconds)\n",
      "Knapsack was tried 0 times and created 0 cuts of which 0 were active after adding rounds of cuts (0.000 seconds)\n",
      "Clique was tried 0 times and created 0 cuts of which 0 were active after adding rounds of cuts (0.000 seconds)\n",
      "MixedIntegerRounding2 was tried 0 times and created 0 cuts of which 0 were active after adding rounds of cuts (0.000 seconds)\n",
      "FlowCover was tried 0 times and created 0 cuts of which 0 were active after adding rounds of cuts (0.000 seconds)\n",
      "TwoMirCuts was tried 0 times and created 0 cuts of which 0 were active after adding rounds of cuts (0.000 seconds)\n",
      "ZeroHalf was tried 0 times and created 0 cuts of which 0 were active after adding rounds of cuts (0.000 seconds)\n",
      "\n",
      "Result - Optimal solution found (within gap tolerance)\n",
      "\n",
      "Objective value:                1089764.18822693\n",
      "Lower bound:                    1069402.024\n",
      "Gap:                            0.02\n",
      "Enumerated nodes:               0\n",
      "Total iterations:               0\n",
      "Time (CPU seconds):             3.17\n",
      "Time (Wallclock seconds):       3.57\n",
      "\n",
      "Total time (CPU seconds):       3.17   (Wallclock seconds):       3.57\n",
      "\n",
      "Welcome to the CBC MILP Solver \n",
      "Version: 2.10.3 \n",
      "Build Date: Nov  9 2020 \n",
      "\n",
      "command line - Cbc_C_Interface -ratioGap 0.5 -logLevel 1 -solve -quit (default strategy 1)\n",
      "ratioGap was changed from 0 to 0.5\n",
      "Presolve 180 (-3120) rows, 804 (-4224) columns and 972 (-7344) elements\n",
      "Perturbing problem by 0.001% of 1000000 - largest nonzero change 0.1034718 ( 0.0082657072%) - largest zero change 0.094618663\n",
      "0  Obj 6.1499274 Primal inf 99.839832 (168)\n",
      "78  Obj 10880.808 Primal inf 32.75991 (90)\n",
      "156  Obj 15378.857 Primal inf 3.599988 (12)\n",
      "168  Obj 15961.906\n",
      "Optimal - objective value 15955.018\n",
      "After Postsolve, objective 15955.018, infeasibilities - dual 0 (0), primal 0 (0)\n",
      "Optimal objective 15955.0182 - 168 iterations time 0.002, Presolve 0.00\n",
      "Total time (CPU seconds):       0.00   (Wallclock seconds):       0.00\n",
      "\n",
      "Welcome to the CBC MILP Solver \n",
      "Version: 2.10.3 \n",
      "Build Date: Nov  9 2020 \n",
      "\n",
      "command line - Cbc_C_Interface -ratioGap 0.5 -logLevel 1 -solve -quit (default strategy 1)\n",
      "ratioGap was changed from 0 to 0.5\n",
      "Presolve 180 (-3120) rows, 804 (-4224) columns and 972 (-7344) elements\n",
      "Perturbing problem by 0.001% of 1000000 - largest nonzero change 0.1034718 ( 0.0082657072%) - largest zero change 0.094618663\n",
      "0  Obj 6.1499274 Primal inf 99.839832 (168)\n",
      "78  Obj 10880.808 Primal inf 32.75991 (90)\n",
      "156  Obj 15378.857 Primal inf 3.599988 (12)\n",
      "168  Obj 15961.906\n",
      "Optimal - objective value 15955.018\n",
      "After Postsolve, objective 15955.018, infeasibilities - dual 0 (0), primal 0 (0)\n",
      "Optimal objective 15955.0182 - 168 iterations time 0.002, Presolve 0.00\n",
      "Total time (CPU seconds):       0.00   (Wallclock seconds):       0.00\n",
      "\n",
      "Welcome to the CBC MILP Solver \n",
      "Version: 2.10.3 \n",
      "Build Date: Nov  9 2020 \n",
      "\n",
      "command line - Cbc_C_Interface -ratioGap 0.5 -logLevel 1 -solve -quit (default strategy 1)\n",
      "ratioGap was changed from 0 to 0.5\n",
      "Presolve 180 (-3120) rows, 804 (-4224) columns and 972 (-7344) elements\n",
      "Perturbing problem by 0.001% of 1000000 - largest nonzero change 0.1034718 ( 0.0082657072%) - largest zero change 0.094618663\n",
      "0  Obj 6.1499274 Primal inf 99.839832 (168)\n",
      "78  Obj 10880.808 Primal inf 32.75991 (90)\n",
      "156  Obj 15378.857 Primal inf 3.599988 (12)\n",
      "168  Obj 15961.906\n",
      "Optimal - objective value 15955.018\n",
      "After Postsolve, objective 15955.018, infeasibilities - dual 0 (0), primal 0 (0)\n",
      "Optimal objective 15955.0182 - 168 iterations time 0.002, Presolve 0.00\n",
      "Total time (CPU seconds):       0.00   (Wallclock seconds):       0.00\n",
      "\n",
      "Welcome to the CBC MILP Solver \n",
      "Version: 2.10.3 \n",
      "Build Date: Nov  9 2020 \n",
      "\n",
      "command line - Cbc_C_Interface -ratioGap 0.5 -logLevel 1 -solve -quit (default strategy 1)\n",
      "ratioGap was changed from 0 to 0.5\n",
      "Presolve 180 (-3120) rows, 804 (-4224) columns and 972 (-7344) elements\n",
      "Perturbing problem by 0.001% of 1000000 - largest nonzero change 0.1034718 ( 0.0082657072%) - largest zero change 0.094618663\n",
      "0  Obj 6.1499274 Primal inf 99.839832 (168)\n",
      "78  Obj 10880.808 Primal inf 32.75991 (90)\n",
      "156  Obj 15378.857 Primal inf 3.599988 (12)\n",
      "168  Obj 15961.906\n",
      "Optimal - objective value 15955.018\n",
      "After Postsolve, objective 15955.018, infeasibilities - dual 0 (0), primal 0 (0)\n",
      "Optimal objective 15955.0182 - 168 iterations time 0.002, Presolve 0.00\n",
      "Total time (CPU seconds):       0.00   (Wallclock seconds):       0.00\n",
      "\n",
      "Welcome to the CBC MILP Solver \n",
      "Version: 2.10.3 \n",
      "Build Date: Nov  9 2020 \n",
      "\n",
      "command line - Cbc_C_Interface -ratioGap 0.5 -logLevel 1 -solve -quit (default strategy 1)\n",
      "ratioGap was changed from 0 to 0.5\n",
      "Presolve 180 (-3120) rows, 804 (-4224) columns and 972 (-7344) elements\n",
      "Perturbing problem by 0.001% of 1000000 - largest nonzero change 0.1034718 ( 0.0082657072%) - largest zero change 0.094618663\n",
      "0  Obj 6.1499274 Primal inf 99.839832 (168)\n",
      "78  Obj 10880.808 Primal inf 32.75991 (90)\n",
      "156  Obj 15378.857 Primal inf 3.599988 (12)\n",
      "168  Obj 15961.906\n",
      "Optimal - objective value 15955.018\n",
      "After Postsolve, objective 15955.018, infeasibilities - dual 0 (0), primal 0 (0)\n",
      "Optimal objective 15955.0182 - 168 iterations time 0.002, Presolve 0.00\n",
      "Total time (CPU seconds):       0.00   (Wallclock seconds):       0.00\n",
      "\n",
      "Welcome to the CBC MILP Solver \n",
      "Version: 2.10.3 \n",
      "Build Date: Nov  9 2020 \n",
      "\n",
      "command line - Cbc_C_Interface -ratioGap 0.5 -logLevel 1 -solve -quit (default strategy 1)\n",
      "ratioGap was changed from 0 to 0.5\n",
      "Presolve 180 (-3120) rows, 804 (-4224) columns and 972 (-7344) elements\n",
      "Perturbing problem by 0.001% of 1000000 - largest nonzero change 0.1034718 ( 0.0082657072%) - largest zero change 0.094618663\n",
      "0  Obj 6.1499274 Primal inf 99.839832 (168)\n",
      "78  Obj 10880.808 Primal inf 32.75991 (90)\n",
      "156  Obj 15378.857 Primal inf 3.599988 (12)\n",
      "168  Obj 15961.906\n",
      "Optimal - objective value 15955.018\n",
      "After Postsolve, objective 15955.018, infeasibilities - dual 0 (0), primal 0 (0)\n",
      "Optimal objective 15955.0182 - 168 iterations time 0.002, Presolve 0.00\n",
      "Total time (CPU seconds):       0.00   (Wallclock seconds):       0.00\n",
      "\n",
      "Welcome to the CBC MILP Solver \n",
      "Version: 2.10.3 \n",
      "Build Date: Nov  9 2020 \n",
      "\n",
      "command line - Cbc_C_Interface -ratioGap 0.5 -logLevel 1 -solve -quit (default strategy 1)\n",
      "ratioGap was changed from 0 to 0.5\n",
      "Presolve 180 (-3120) rows, 804 (-4224) columns and 972 (-7344) elements\n",
      "Perturbing problem by 0.001% of 1000000 - largest nonzero change 0.1034718 ( 0.0082657072%) - largest zero change 0.094618663\n",
      "0  Obj 6.1499274 Primal inf 106.69483 (178)\n",
      "78  Obj 9415.3339 Primal inf 61.90777 (122)\n",
      "156  Obj 15044.329 Primal inf 19.438929 (58)\n",
      "228  Obj 16882.746\n",
      "Optimal - objective value 16875.37\n",
      "After Postsolve, objective 16875.37, infeasibilities - dual 33640.487 (231), primal 0 (0)\n",
      "Presolved model was optimal, full model needs cleaning up\n",
      "0  Obj 16875.37\n",
      "Optimal - objective value 16875.37\n",
      "Optimal objective 16875.37012 - 228 iterations time 0.012, Presolve 0.00\n",
      "Total time (CPU seconds):       0.01   (Wallclock seconds):       0.01\n",
      "\n",
      "Welcome to the CBC MILP Solver \n",
      "Version: 2.10.3 \n",
      "Build Date: Nov  9 2020 \n",
      "\n",
      "command line - Cbc_C_Interface -ratioGap 0.5 -logLevel 1 -solve -quit (default strategy 1)\n",
      "ratioGap was changed from 0 to 0.5\n",
      "Presolve 180 (-3120) rows, 804 (-4224) columns and 972 (-7344) elements\n",
      "Perturbing problem by 0.001% of 1000000 - largest nonzero change 0.1034718 ( 0.0082657072%) - largest zero change 0.094618663\n",
      "0  Obj 6.1499274 Primal inf 101.98387 (172)\n",
      "78  Obj 9946.8417 Primal inf 42.028772 (103)\n",
      "156  Obj 15196.904 Primal inf 8.3640016 (31)\n",
      "190  Obj 16248.055\n",
      "Optimal - objective value 16241.026\n",
      "After Postsolve, objective 16241.026, infeasibilities - dual 17044.996 (122), primal 0 (0)\n",
      "Presolved model was optimal, full model needs cleaning up\n",
      "0  Obj 16241.026\n",
      "Optimal - objective value 16241.026\n",
      "Optimal objective 16241.0262 - 190 iterations time 0.002, Presolve 0.00\n",
      "Total time (CPU seconds):       0.00   (Wallclock seconds):       0.01\n",
      "\n",
      "Welcome to the CBC MILP Solver \n",
      "Version: 2.10.3 \n",
      "Build Date: Nov  9 2020 \n",
      "\n",
      "command line - Cbc_C_Interface -ratioGap 0.5 -logLevel 1 -solve -quit (default strategy 1)\n",
      "ratioGap was changed from 0 to 0.5\n",
      "Presolve 180 (-3120) rows, 806 (-4222) columns and 974 (-7342) elements\n",
      "Perturbing problem by 0.001% of 1000000 - largest nonzero change 0.10690343 ( 0.0082657072%) - largest zero change 0.09433608\n",
      "0  Obj 6.0704477 Primal inf 99.839832 (168)\n",
      "78  Obj 10884.821 Primal inf 32.75991 (90)\n",
      "156  Obj 15392.045 Primal inf 3.599988 (12)\n",
      "168  Obj 15961.828\n",
      "Optimal - objective value 15955.018\n",
      "After Postsolve, objective 15955.018, infeasibilities - dual 0 (0), primal 0 (0)\n",
      "Optimal objective 15955.0182 - 168 iterations time 0.002, Presolve 0.00\n",
      "Total time (CPU seconds):       0.00   (Wallclock seconds):       0.00\n",
      "\n",
      "Welcome to the CBC MILP Solver \n",
      "Version: 2.10.3 \n",
      "Build Date: Nov  9 2020 \n",
      "\n",
      "command line - Cbc_C_Interface -ratioGap 0.5 -logLevel 1 -solve -quit (default strategy 1)\n",
      "ratioGap was changed from 0 to 0.5\n",
      "Presolve 180 (-3120) rows, 804 (-4224) columns and 972 (-7344) elements\n",
      "Perturbing problem by 0.001% of 1000000 - largest nonzero change 0.1034718 ( 0.0082657072%) - largest zero change 0.094618663\n",
      "0  Obj 6.1499274 Primal inf 99.839832 (168)\n",
      "78  Obj 10880.808 Primal inf 32.75991 (90)\n",
      "156  Obj 15378.857 Primal inf 3.599988 (12)\n",
      "168  Obj 15961.906\n",
      "Optimal - objective value 15955.018\n",
      "After Postsolve, objective 15955.018, infeasibilities - dual 0 (0), primal 0 (0)\n",
      "Optimal objective 15955.0182 - 168 iterations time 0.002, Presolve 0.00\n",
      "Total time (CPU seconds):       0.00   (Wallclock seconds):       0.00\n",
      "\n",
      "Welcome to the CBC MILP Solver \n",
      "Version: 2.10.3 \n",
      "Build Date: Nov  9 2020 \n",
      "\n",
      "command line - Cbc_C_Interface -ratioGap 0.5 -logLevel 1 -solve -quit (default strategy 1)\n",
      "ratioGap was changed from 0 to 0.5\n",
      "Presolve 180 (-3120) rows, 804 (-4224) columns and 972 (-7344) elements\n",
      "Perturbing problem by 0.001% of 1000000 - largest nonzero change 0.1034718 ( 0.0082657072%) - largest zero change 0.094618663\n",
      "0  Obj 6.1499274 Primal inf 99.839832 (168)\n",
      "78  Obj 10880.808 Primal inf 32.75991 (90)\n",
      "156  Obj 15378.857 Primal inf 3.599988 (12)\n",
      "168  Obj 15961.906\n",
      "Optimal - objective value 15955.018\n",
      "After Postsolve, objective 15955.018, infeasibilities - dual 0 (0), primal 0 (0)\n",
      "Optimal objective 15955.0182 - 168 iterations time 0.002, Presolve 0.00\n",
      "Total time (CPU seconds):       0.00   (Wallclock seconds):       0.00\n",
      "\n",
      "Welcome to the CBC MILP Solver \n",
      "Version: 2.10.3 \n",
      "Build Date: Nov  9 2020 \n",
      "\n",
      "command line - Cbc_C_Interface -ratioGap 0.5 -logLevel 1 -solve -quit (default strategy 1)\n",
      "ratioGap was changed from 0 to 0.5\n",
      "Presolve 180 (-3120) rows, 804 (-4224) columns and 972 (-7344) elements\n",
      "Perturbing problem by 0.001% of 1000000 - largest nonzero change 0.1034718 ( 0.0082657072%) - largest zero change 0.094618663\n",
      "0  Obj 6.1499274 Primal inf 108.15439 (175)\n",
      "78  Obj 9362.4485 Primal inf 60.876327 (119)\n",
      "156  Obj 15500.973 Primal inf 12.976613 (46)\n",
      "207  Obj 17149.675\n",
      "Optimal - objective value 17142.191\n",
      "After Postsolve, objective 17142.191, infeasibilities - dual 50587.922 (342), primal 0 (0)\n",
      "Presolved model was optimal, full model needs cleaning up\n",
      "0  Obj 17142.191\n",
      "Optimal - objective value 17142.191\n",
      "Optimal objective 17142.19078 - 207 iterations time 0.002, Presolve 0.00\n",
      "Total time (CPU seconds):       0.00   (Wallclock seconds):       0.01\n",
      "\n",
      "Welcome to the CBC MILP Solver \n",
      "Version: 2.10.3 \n",
      "Build Date: Nov  9 2020 \n",
      "\n",
      "command line - Cbc_C_Interface -ratioGap 0.5 -logLevel 1 -solve -quit (default strategy 1)\n",
      "ratioGap was changed from 0 to 0.5\n",
      "Presolve 180 (-3120) rows, 806 (-4222) columns and 974 (-7342) elements\n",
      "Perturbing problem by 0.001% of 1000000 - largest nonzero change 0.10690343 ( 0.0082657072%) - largest zero change 0.09433608\n",
      "0  Obj 6.0704477 Primal inf 150.89719 (180)\n",
      "78  Obj 7224.6486 Primal inf 137.13346 (134)\n",
      "156  Obj 18731.803 Primal inf 56.328207 (79)\n",
      "234  Obj 23863.816 Primal inf 6.5756032 (17)\n",
      "255  Obj 23888.511\n",
      "Optimal - objective value 23878.192\n",
      "After Postsolve, objective 23878.192, infeasibilities - dual 96363.275 (576), primal 0 (0)\n",
      "Presolved model was optimal, full model needs cleaning up\n",
      "0  Obj 23878.192\n",
      "Optimal - objective value 23878.192\n",
      "Optimal objective 23878.19153 - 255 iterations time 0.012, Presolve 0.00\n",
      "Total time (CPU seconds):       0.01   (Wallclock seconds):       0.01\n",
      "\n",
      "Welcome to the CBC MILP Solver \n",
      "Version: 2.10.3 \n",
      "Build Date: Nov  9 2020 \n",
      "\n",
      "command line - Cbc_C_Interface -ratioGap 0.5 -logLevel 1 -solve -quit (default strategy 1)\n",
      "ratioGap was changed from 0 to 0.5\n",
      "Presolve 180 (-3120) rows, 806 (-4222) columns and 974 (-7342) elements\n",
      "Perturbing problem by 0.001% of 1000000 - largest nonzero change 0.10690343 ( 0.0082657072%) - largest zero change 0.09433608\n",
      "0  Obj 6.0704477 Primal inf 174.8868 (180)\n",
      "78  Obj 10812.592 Primal inf 133.17172 (131)\n",
      "156  Obj 22067.233 Primal inf 62.845416 (82)\n",
      "234  Obj 27974.71 Primal inf 16.022747 (24)\n",
      "264  Obj 28007.973\n",
      "Optimal - objective value 27996.002\n",
      "After Postsolve, objective 27996.002, infeasibilities - dual 101467.29 (576), primal 0 (0)\n",
      "Presolved model was optimal, full model needs cleaning up\n",
      "0  Obj 27996.002\n",
      "Optimal - objective value 27996.002\n",
      "Optimal objective 27996.00203 - 264 iterations time 0.012, Presolve 0.00\n",
      "Total time (CPU seconds):       0.01   (Wallclock seconds):       0.01\n",
      "\n",
      "Welcome to the CBC MILP Solver \n",
      "Version: 2.10.3 \n",
      "Build Date: Nov  9 2020 \n",
      "\n",
      "command line - Cbc_C_Interface -ratioGap 0.5 -logLevel 1 -solve -quit (default strategy 1)\n",
      "ratioGap was changed from 0 to 0.5\n",
      "Presolve 192 (-3108) rows, 853 (-4175) columns and 1033 (-7283) elements\n",
      "Perturbing problem by 0.001% of 1000000 - largest nonzero change 0.10828131 ( 0.008441679%) - largest zero change 0.089002244\n",
      "0  Obj 535.29779 Primal inf 178.57453 (192)\n",
      "78  Obj 8828.3068 Primal inf 155.16053 (147)\n",
      "156  Obj 20134.816 Primal inf 72.738687 (98)\n",
      "234  Obj 27549.678 Primal inf 37.584017 (39)\n",
      "276  Obj 28179.582\n",
      "Optimal - objective value 28168.277\n",
      "After Postsolve, objective 28168.277, infeasibilities - dual 97109.936 (576), primal 0 (0)\n",
      "Presolved model was optimal, full model needs cleaning up\n",
      "0  Obj 28168.277\n",
      "Optimal - objective value 28168.277\n",
      "Optimal objective 28168.27722 - 276 iterations time 0.012, Presolve 0.00\n",
      "Total time (CPU seconds):       0.01   (Wallclock seconds):       0.01\n",
      "\n",
      "Welcome to the CBC MILP Solver \n",
      "Version: 2.10.3 \n",
      "Build Date: Nov  9 2020 \n",
      "\n",
      "command line - Cbc_C_Interface -ratioGap 0.5 -logLevel 1 -solve -quit (default strategy 1)\n",
      "ratioGap was changed from 0 to 0.5\n",
      "Presolve 204 (-3096) rows, 912 (-4116) columns and 1104 (-7212) elements\n",
      "Perturbing problem by 0.001% of 1000000 - largest nonzero change 0.10572368 ( 0.0084526381%) - largest zero change 0.083532505\n",
      "0  Obj 583.91432 Primal inf 207.78754 (204)\n",
      "79  Obj 11001.518 Primal inf 165.65186 (161)\n",
      "158  Obj 25267.755 Primal inf 83.133382 (110)\n",
      "237  Obj 31878.41 Primal inf 33.987595 (53)\n",
      "304  Obj 33676.462\n",
      "Optimal - objective value 33664.184\n",
      "After Postsolve, objective 33664.184, infeasibilities - dual 99205.323 (576), primal 0 (0)\n",
      "Presolved model was optimal, full model needs cleaning up\n",
      "0  Obj 33664.184\n",
      "Optimal - objective value 33664.184\n",
      "Optimal objective 33664.18357 - 304 iterations time 0.012, Presolve 0.00\n",
      "Total time (CPU seconds):       0.01   (Wallclock seconds):       0.01\n",
      "\n",
      "Welcome to the CBC MILP Solver \n",
      "Version: 2.10.3 \n",
      "Build Date: Nov  9 2020 \n",
      "\n",
      "command line - Cbc_C_Interface -ratioGap 0.5 -logLevel 1 -solve -quit (default strategy 1)\n",
      "ratioGap was changed from 0 to 0.5\n",
      "Presolve 228 (-3072) rows, 1020 (-4008) columns and 1236 (-7080) elements\n",
      "Perturbing problem by 0.001% of 1000000 - largest nonzero change 0.10783133 ( 0.0084223733%) - largest zero change 0.074195516\n",
      "0  Obj 1418.4246 Primal inf 289.12002 (228)\n",
      "79  Obj 18774.678 Primal inf 240.09979 (183)\n",
      "158  Obj 36438.294 Primal inf 130.17774 (124)\n",
      "237  Obj 44724.886 Primal inf 49.423401 (68)\n",
      "315  Obj 49554.979\n",
      "Optimal - objective value 49539.608\n",
      "After Postsolve, objective 49539.608, infeasibilities - dual 69205.589 (373), primal 0 (0)\n",
      "Presolved model was optimal, full model needs cleaning up\n",
      "0  Obj 49539.608\n",
      "Optimal - objective value 49539.608\n",
      "Optimal objective 49539.60846 - 315 iterations time 0.012, Presolve 0.00\n",
      "Total time (CPU seconds):       0.01   (Wallclock seconds):       0.01\n",
      "\n",
      "Welcome to the CBC MILP Solver \n",
      "Version: 2.10.3 \n",
      "Build Date: Nov  9 2020 \n",
      "\n",
      "command line - Cbc_C_Interface -ratioGap 0.5 -logLevel 1 -solve -quit (default strategy 1)\n",
      "ratioGap was changed from 0 to 0.5\n",
      "Presolve 252 (-3048) rows, 1141 (-3887) columns and 1381 (-6935) elements\n",
      "Perturbing problem by 0.001% of 1000000 - largest nonzero change 0.10533655 ( 0.0084314668%) - largest zero change 0.067174309\n",
      "0  Obj 1417.8113 Primal inf 340.47043 (252)\n",
      "80  Obj 26609.411 Primal inf 268.63389 (208)\n",
      "160  Obj 45859.511 Primal inf 127.33335 (151)\n",
      "240  Obj 53882.338 Primal inf 59.82379 (88)\n",
      "320  Obj 60196.715 Primal inf 1.6220817 (10)\n",
      "329  Obj 60742.338\n",
      "Optimal - objective value 60725.737\n",
      "After Postsolve, objective 60725.737, infeasibilities - dual 57912.38 (276), primal 0 (0)\n",
      "Presolved model was optimal, full model needs cleaning up\n",
      "0  Obj 60725.737\n",
      "Optimal - objective value 60725.737\n",
      "Optimal objective 60725.737 - 329 iterations time 0.012, Presolve 0.00\n",
      "Total time (CPU seconds):       0.01   (Wallclock seconds):       0.01\n",
      "\n",
      "Welcome to the CBC MILP Solver \n",
      "Version: 2.10.3 \n",
      "Build Date: Nov  9 2020 \n",
      "\n",
      "command line - Cbc_C_Interface -ratioGap 0.5 -logLevel 1 -solve -quit (default strategy 1)\n",
      "ratioGap was changed from 0 to 0.5\n",
      "Presolve 228 (-3072) rows, 1020 (-4008) columns and 1236 (-7080) elements\n",
      "Perturbing problem by 0.001% of 1000000 - largest nonzero change 0.10783133 ( 0.0084223733%) - largest zero change 0.074195516\n",
      "0  Obj 1418.4246 Primal inf 336.5209 (228)\n",
      "79  Obj 26316.442 Primal inf 267.91618 (184)\n",
      "158  Obj 46643.583 Primal inf 118.21538 (121)\n",
      "237  Obj 54380.05 Primal inf 54.0078 (60)\n",
      "291  Obj 58733.779\n",
      "Optimal - objective value 58716.05\n",
      "After Postsolve, objective 58716.05, infeasibilities - dual 57857.171 (276), primal 0 (0)\n",
      "Presolved model was optimal, full model needs cleaning up\n",
      "0  Obj 58716.05\n",
      "Optimal - objective value 58716.05\n",
      "Optimal objective 58716.0498 - 291 iterations time 0.012, Presolve 0.00\n",
      "Total time (CPU seconds):       0.01   (Wallclock seconds):       0.01\n",
      "\n",
      "Welcome to the CBC MILP Solver \n",
      "Version: 2.10.3 \n",
      "Build Date: Nov  9 2020 \n",
      "\n",
      "command line - Cbc_C_Interface -ratioGap 0.5 -logLevel 1 -solve -quit (default strategy 1)\n",
      "ratioGap was changed from 0 to 0.5\n",
      "Presolve 228 (-3072) rows, 1020 (-4008) columns and 1236 (-7080) elements\n",
      "Perturbing problem by 0.001% of 1000000 - largest nonzero change 0.10783133 ( 0.0084223733%) - largest zero change 0.074195516\n",
      "0  Obj 1418.4246 Primal inf 314.02596 (228)\n",
      "79  Obj 19723.832 Primal inf 253.6228 (179)\n",
      "158  Obj 41058.833 Primal inf 136.00337 (130)\n",
      "237  Obj 48806.649 Primal inf 58.476588 (80)\n",
      "316  Obj 54259.091 Primal inf 4.9083196 (8)\n",
      "325  Obj 54269.586\n",
      "Optimal - objective value 54252.978\n",
      "After Postsolve, objective 54252.978, infeasibilities - dual 53583.503 (276), primal 0 (0)\n",
      "Presolved model was optimal, full model needs cleaning up\n",
      "0  Obj 54252.978\n",
      "Optimal - objective value 54252.978\n",
      "Optimal objective 54252.97781 - 325 iterations time 0.012, Presolve 0.00\n",
      "Total time (CPU seconds):       0.01   (Wallclock seconds):       0.01\n",
      "\n",
      "Welcome to the CBC MILP Solver \n",
      "Version: 2.10.3 \n",
      "Build Date: Nov  9 2020 \n",
      "\n",
      "command line - Cbc_C_Interface -ratioGap 0.5 -logLevel 1 -solve -quit (default strategy 1)\n",
      "ratioGap was changed from 0 to 0.5\n",
      "Presolve 216 (-3084) rows, 972 (-4056) columns and 1176 (-7140) elements\n",
      "Perturbing problem by 0.001% of 1000000 - largest nonzero change 0.10964203 ( 0.0084223733%) - largest zero change 0.078534384\n",
      "0  Obj 1418.7485 Primal inf 283.37359 (216)\n",
      "79  Obj 18929.428 Primal inf 224.51568 (174)\n",
      "158  Obj 36886.535 Primal inf 115.94346 (115)\n",
      "237  Obj 45836.197 Primal inf 39.826288 (57)\n",
      "304  Obj 48519.931\n",
      "Optimal - objective value 48504.208\n",
      "After Postsolve, objective 48504.208, infeasibilities - dual 52157.312 (276), primal 0 (0)\n",
      "Presolved model was optimal, full model needs cleaning up\n",
      "0  Obj 48504.208\n",
      "Optimal - objective value 48504.208\n",
      "Optimal objective 48504.20788 - 304 iterations time 0.012, Presolve 0.00\n",
      "Total time (CPU seconds):       0.01   (Wallclock seconds):       0.01\n",
      "\n",
      "Welcome to the CBC MILP Solver \n",
      "Version: 2.10.3 \n",
      "Build Date: Nov  9 2020 \n",
      "\n",
      "command line - Cbc_C_Interface -ratioGap 0.5 -logLevel 1 -solve -quit (default strategy 1)\n",
      "ratioGap was changed from 0 to 0.5\n",
      "Presolve 180 (-3120) rows, 817 (-4211) columns and 985 (-7331) elements\n",
      "Perturbing problem by 0.001% of 1000000 - largest nonzero change 0.10690343 ( 0.008458935%) - largest zero change 0.092441989\n",
      "0  Obj 1419.2495 Primal inf 247.23101 (180)\n",
      "78  Obj 18353.202 Primal inf 184.19042 (136)\n",
      "156  Obj 36486.645 Primal inf 66.381224 (83)\n",
      "234  Obj 42578.388 Primal inf 20.153257 (22)\n",
      "258  Obj 42640.655\n",
      "Optimal - objective value 42623.599\n",
      "After Postsolve, objective 42623.599, infeasibilities - dual 53504.088 (276), primal 0 (0)\n",
      "Presolved model was optimal, full model needs cleaning up\n",
      "0  Obj 42623.599\n",
      "Optimal - objective value 42623.599\n",
      "Optimal objective 42623.59859 - 258 iterations time 0.012, Presolve 0.00\n",
      "Total time (CPU seconds):       0.01   (Wallclock seconds):       0.01\n",
      "\n",
      "Welcome to the CBC MILP Solver \n",
      "Version: 2.10.3 \n",
      "Build Date: Nov  9 2020 \n",
      "\n",
      "command line - Cbc_C_Interface -ratioGap 0.5 -logLevel 1 -solve -quit (default strategy 1)\n",
      "ratioGap was changed from 0 to 0.5\n",
      "Presolve 168 (-3132) rows, 768 (-4260) columns and 924 (-7392) elements\n",
      "Perturbing problem by 0.001% of 1000000 - largest nonzero change 0.10854379 ( 0.008377309%) - largest zero change 0.098045255\n",
      "0  Obj 841.86599 Primal inf 237.9198 (168)\n",
      "78  Obj 22992.985 Primal inf 141.03566 (122)\n",
      "156  Obj 36876.827 Primal inf 53.104112 (64)\n",
      "218  Obj 41827.748\n",
      "Optimal - objective value 41810.315\n",
      "After Postsolve, objective 41810.315, infeasibilities - dual 56257.237 (276), primal 0 (0)\n",
      "Presolved model was optimal, full model needs cleaning up\n",
      "0  Obj 41810.315\n",
      "Optimal - objective value 41810.315\n",
      "Optimal objective 41810.31455 - 218 iterations time 0.012, Presolve 0.00\n",
      "Total time (CPU seconds):       0.01   (Wallclock seconds):       0.01\n",
      "\n",
      "Welcome to the CBC MILP Solver \n",
      "Version: 2.10.3 \n",
      "Build Date: Nov  9 2020 \n",
      "\n",
      "command line - Cbc_C_Interface -ratioGap 0.5 -logLevel 1 -solve -quit (default strategy 1)\n",
      "ratioGap was changed from 0 to 0.5\n",
      "Presolve 156 (-3144) rows, 708 (-4320) columns and 852 (-7464) elements\n",
      "Perturbing problem by 0.001% of 1000000 - largest nonzero change 0.107699 ( 0.0080622579%) - largest zero change 0.10618892\n",
      "0  Obj 841.75397 Primal inf 197.86429 (156)\n",
      "78  Obj 17763.714 Primal inf 118.94677 (111)\n",
      "156  Obj 31071.858 Primal inf 35.773738 (50)\n",
      "205  Obj 34146.664\n",
      "Optimal - objective value 34129.959\n",
      "After Postsolve, objective 34129.959, infeasibilities - dual 53844.549 (275), primal 0 (0)\n",
      "Presolved model was optimal, full model needs cleaning up\n",
      "0  Obj 34129.959\n",
      "Optimal - objective value 34129.959\n",
      "Optimal objective 34129.95865 - 205 iterations time 0.002, Presolve 0.00\n",
      "Total time (CPU seconds):       0.01   (Wallclock seconds):       0.01\n",
      "\n"
     ]
    },
    {
     "output_type": "execute_result",
     "data": {
      "text/plain": "SUCCESSFUL::RunStatus = 0"
     },
     "metadata": {},
     "execution_count": 12
    }
   ],
   "cell_type": "code",
   "source": [
    "execute!(sim)"
   ],
   "metadata": {},
   "execution_count": 12
  },
  {
   "cell_type": "markdown",
   "source": [
    "## Results\n",
    "To access the results, we need to load the simulation result metadata and then make\n",
    "requests to the specific data of interest. This allows you to efficiently access the\n",
    "results of interest without overloading resources."
   ],
   "metadata": {}
  },
  {
   "outputs": [
    {
     "name": "stdout",
     "output_type": "stream",
     "text": [
      "┌ Info: checking integrity of /Users/cbarrows/Documents/repos/SIIPExamples.jl/RTS-GMLC-master/rts-test/5/data_store/simulation_store.h5\n",
      "└ @ PowerSimulations /Users/cbarrows/.julia/packages/PowerSimulations/uqxkd/src/utils.jl:380\n",
      "┌ Info: Loaded time series from storage file existing=system-b45d2d52-5b1c-471b-bcbd-bcbffa5febc7_time_series_storage.h5 new=/var/folders/27/2jr8c7gn4j72fvrg4qt81zrw8w_711/T/jl_6cGd4t\n",
      "└ @ InfrastructureSystems /Users/cbarrows/.julia/packages/InfrastructureSystems/Es1dj/src/hdf5_time_series_storage.jl:82\n",
      "┌ Info: Loaded time series from storage file existing=system-3839d933-c2eb-414f-887c-691d2c97d945_time_series_storage.h5 new=/var/folders/27/2jr8c7gn4j72fvrg4qt81zrw8w_711/T/jl_rc4uZp\n",
      "└ @ InfrastructureSystems /Users/cbarrows/.julia/packages/InfrastructureSystems/Es1dj/src/hdf5_time_series_storage.jl:82\n"
     ]
    }
   ],
   "cell_type": "code",
   "source": [
    "results = SimulationResults(sim)\n",
    "uc_results = get_stage_results(results, \"UC\"); # UC stage result metadata\n",
    "ed_results = get_stage_results(results, \"ED\"); # ED stage result metadata"
   ],
   "metadata": {},
   "execution_count": 13
  },
  {
   "cell_type": "markdown",
   "source": [
    "Now we can read the specific results of interest for a specific stage, time window (optional),\n",
    "and set of variables, duals, or parameters (optional)"
   ],
   "metadata": {}
  },
  {
   "outputs": [
    {
     "name": "stdout",
     "output_type": "stream",
     "text": [
      "┌ Info: reading variables from data store\n",
      "└ @ PowerSimulations /Users/cbarrows/.julia/packages/PowerSimulations/uqxkd/src/core/simulation_results.jl:212\n"
     ]
    },
    {
     "output_type": "execute_result",
     "data": {
      "text/plain": "Dict{Symbol,DataStructures.SortedDict{DateTime,DataFrame,Ord} where Ord<:Base.Order.Ordering} with 2 entries:\n  :P__ThermalStandard   => DataStructures.SortedDict{DateTime,DataFrame,Base.Or…\n  :P__RenewableDispatch => DataStructures.SortedDict{DateTime,DataFrame,Base.Or…"
     },
     "metadata": {},
     "execution_count": 14
    }
   ],
   "cell_type": "code",
   "source": [
    "read_variables(uc_results, names = [:P__ThermalStandard, :P__RenewableDispatch])"
   ],
   "metadata": {},
   "execution_count": 14
  },
  {
   "cell_type": "markdown",
   "source": [
    "Or if we want the result of just one variable, parameter, or dual (must be defined in the\n",
    "stage definition), we can use:"
   ],
   "metadata": {}
  },
  {
   "outputs": [
    {
     "name": "stdout",
     "output_type": "stream",
     "text": [
      "┌ Info: reading parameters from data store\n",
      "└ @ PowerSimulations /Users/cbarrows/.julia/packages/PowerSimulations/uqxkd/src/core/simulation_results.jl:295\n"
     ]
    },
    {
     "output_type": "execute_result",
     "data": {
      "text/plain": "DataStructures.SortedDict{DateTime,DataFrame,Base.Order.ForwardOrdering} with 5 entries:\n  DateTime(\"2020-01-01T06:00:00\") => \u001b[1m12×32 DataFrame\u001b[0m…\n  DateTime(\"2020-01-01T07:00:00\") => \u001b[1m12×32 DataFrame\u001b[0m…\n  DateTime(\"2020-01-01T08:00:00\") => \u001b[1m12×32 DataFrame\u001b[0m…\n  DateTime(\"2020-01-01T09:00:00\") => \u001b[1m12×32 DataFrame\u001b[0m…\n  DateTime(\"2020-01-01T10:00:00\") => \u001b[1m12×32 DataFrame\u001b[0m…"
     },
     "metadata": {},
     "execution_count": 15
    }
   ],
   "cell_type": "code",
   "source": [
    "read_parameter(\n",
    "    ed_results,\n",
    "    :P__max_active_power__RenewableFix,\n",
    "    initial_time = DateTime(\"2020-01-01T06:00:00\"),\n",
    "    count = 5,\n",
    ")"
   ],
   "metadata": {},
   "execution_count": 15
  },
  {
   "cell_type": "markdown",
   "source": [
    "* note that this returns the results of each execution step in a separate dataframe *\n",
    "If you want the realized results (without lookahead periods), you can call `read_realized_*`:"
   ],
   "metadata": {}
  },
  {
   "outputs": [
    {
     "name": "stdout",
     "output_type": "stream",
     "text": [
      "┌ Info: reading variables from data store\n",
      "└ @ PowerSimulations /Users/cbarrows/.julia/packages/PowerSimulations/uqxkd/src/core/simulation_results.jl:212\n"
     ]
    },
    {
     "output_type": "execute_result",
     "data": {
      "text/plain": "Dict{Symbol,DataFrame} with 2 entries:\n  :P__ThermalStandard   => \u001b[1m24×76 DataFrame\u001b[0m…\n  :P__RenewableDispatch => \u001b[1m24×30 DataFrame\u001b[0m…"
     },
     "metadata": {},
     "execution_count": 16
    }
   ],
   "cell_type": "code",
   "source": [
    "read_realized_variables(uc_results, names = [:P__ThermalStandard, :P__RenewableDispatch])"
   ],
   "metadata": {},
   "execution_count": 16
  },
  {
   "cell_type": "markdown",
   "source": [
    "## Plotting\n",
    "Take a look at the examples in [the plotting folder.](../../notebook/3_PowerSimulations_examples/Plotting)"
   ],
   "metadata": {}
  },
  {
   "cell_type": "markdown",
   "source": [
    "---\n",
    "\n",
    "*This notebook was generated using [Literate.jl](https://github.com/fredrikekre/Literate.jl).*"
   ],
   "metadata": {}
  }
 ],
 "nbformat_minor": 3,
 "metadata": {
  "language_info": {
   "file_extension": ".jl",
   "mimetype": "application/julia",
   "name": "julia",
   "version": "1.5.2"
  },
  "kernelspec": {
   "name": "julia-1.5",
   "display_name": "Julia 1.5.2",
   "language": "julia"
  }
 },
 "nbformat": 4
}
