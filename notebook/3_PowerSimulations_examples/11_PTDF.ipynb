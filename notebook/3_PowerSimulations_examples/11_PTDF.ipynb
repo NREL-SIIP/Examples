{
 "cells": [
  {
   "cell_type": "markdown",
   "source": [
    "# PTDF with [PowerSimulations.jl](https://github.com/NREL-SIIP/PowerSimulations.jl)"
   ],
   "metadata": {}
  },
  {
   "cell_type": "markdown",
   "source": [
    "**Originally Contributed by**: Sourabh Dalvi"
   ],
   "metadata": {}
  },
  {
   "cell_type": "markdown",
   "source": [
    "## Introduction"
   ],
   "metadata": {}
  },
  {
   "cell_type": "markdown",
   "source": [
    "PowerSimulations.jl supports linear PTDF optimal power flow formulation. This example shows a\n",
    "single multi-period optimization of economic dispatch with a linearized DC-OPF representation of\n",
    "using PTDF power flow and how to extract duals values or locational marginal prices for energy."
   ],
   "metadata": {}
  },
  {
   "cell_type": "markdown",
   "source": [
    "## Dependencies\n",
    "We can use the same RTS data and some of the initialization as in\n",
    "[OperationsProblem example](../../notebook/3_PowerSimulations_examples/1_operations_problems.ipynb)\n",
    "by sourcing it as a dependency."
   ],
   "metadata": {}
  },
  {
   "outputs": [
    {
     "name": "stdout",
     "output_type": "stream",
     "text": [
      "┌ Info: Parsing csv data in branch.csv ...\n",
      "└ @ PowerSystems /Users/cbarrows/.julia/packages/PowerSystems/qbCqK/src/parsers/power_system_table_data.jl:143\n",
      "┌ Info: Successfully parsed branch.csv\n",
      "└ @ PowerSystems /Users/cbarrows/.julia/packages/PowerSystems/qbCqK/src/parsers/power_system_table_data.jl:148\n",
      "┌ Info: Parsing csv data in bus.csv ...\n",
      "└ @ PowerSystems /Users/cbarrows/.julia/packages/PowerSystems/qbCqK/src/parsers/power_system_table_data.jl:143\n",
      "┌ Info: Successfully parsed bus.csv\n",
      "└ @ PowerSystems /Users/cbarrows/.julia/packages/PowerSystems/qbCqK/src/parsers/power_system_table_data.jl:148\n",
      "┌ Info: Parsing csv data in dc_branch.csv ...\n",
      "└ @ PowerSystems /Users/cbarrows/.julia/packages/PowerSystems/qbCqK/src/parsers/power_system_table_data.jl:143\n",
      "┌ Info: Successfully parsed dc_branch.csv\n",
      "└ @ PowerSystems /Users/cbarrows/.julia/packages/PowerSystems/qbCqK/src/parsers/power_system_table_data.jl:148\n",
      "┌ Info: Parsing csv data in gen.csv ...\n",
      "└ @ PowerSystems /Users/cbarrows/.julia/packages/PowerSystems/qbCqK/src/parsers/power_system_table_data.jl:143\n",
      "┌ Info: Successfully parsed gen.csv\n",
      "└ @ PowerSystems /Users/cbarrows/.julia/packages/PowerSystems/qbCqK/src/parsers/power_system_table_data.jl:148\n",
      "┌ Info: Parsing csv data in reserves.csv ...\n",
      "└ @ PowerSystems /Users/cbarrows/.julia/packages/PowerSystems/qbCqK/src/parsers/power_system_table_data.jl:143\n",
      "┌ Info: Successfully parsed reserves.csv\n",
      "└ @ PowerSystems /Users/cbarrows/.julia/packages/PowerSystems/qbCqK/src/parsers/power_system_table_data.jl:148\n",
      "┌ Info: Parsing csv data in simulation_objects.csv ...\n",
      "└ @ PowerSystems /Users/cbarrows/.julia/packages/PowerSystems/qbCqK/src/parsers/power_system_table_data.jl:143\n",
      "┌ Info: Successfully parsed simulation_objects.csv\n",
      "└ @ PowerSystems /Users/cbarrows/.julia/packages/PowerSystems/qbCqK/src/parsers/power_system_table_data.jl:148\n",
      "┌ Info: Parsing csv data in storage.csv ...\n",
      "└ @ PowerSystems /Users/cbarrows/.julia/packages/PowerSystems/qbCqK/src/parsers/power_system_table_data.jl:143\n",
      "┌ Info: Successfully parsed storage.csv\n",
      "└ @ PowerSystems /Users/cbarrows/.julia/packages/PowerSystems/qbCqK/src/parsers/power_system_table_data.jl:148\n",
      "┌ Info: Parsing csv data in timeseries_pointers.csv ...\n",
      "└ @ PowerSystems /Users/cbarrows/.julia/packages/PowerSystems/qbCqK/src/parsers/power_system_table_data.jl:143\n",
      "┌ Info: Successfully parsed timeseries_pointers.csv\n",
      "└ @ PowerSystems /Users/cbarrows/.julia/packages/PowerSystems/qbCqK/src/parsers/power_system_table_data.jl:148\n",
      "┌ Info: Unit System changed to DEVICE_BASE\n",
      "└ @ PowerSystems /Users/cbarrows/.julia/packages/PowerSystems/qbCqK/src/base.jl:293\n",
      "┌ Warning: Missing LOAD data.\n",
      "└ @ PowerSystems /Users/cbarrows/.julia/packages/PowerSystems/qbCqK/src/parsers/power_system_table_data.jl:212\n",
      "┌ Warning: User-defined column name Startup Ramp Rate MW/min is not in dataframe.\n",
      "└ @ PowerSystems /Users/cbarrows/.julia/packages/PowerSystems/qbCqK/src/parsers/power_system_table_data.jl:1364\n",
      "┌ Warning: User-defined column name Shutdown Ramp Rate MW/min is not in dataframe.\n",
      "└ @ PowerSystems /Users/cbarrows/.julia/packages/PowerSystems/qbCqK/src/parsers/power_system_table_data.jl:1364\n",
      "┌ Warning: User-defined column name Status at Start is not in dataframe.\n",
      "└ @ PowerSystems /Users/cbarrows/.julia/packages/PowerSystems/qbCqK/src/parsers/power_system_table_data.jl:1364\n",
      "┌ Warning: User-defined column name Time at Status is not in dataframe.\n",
      "└ @ PowerSystems /Users/cbarrows/.julia/packages/PowerSystems/qbCqK/src/parsers/power_system_table_data.jl:1364\n",
      "┌ Warning: User-defined column name Start Cost Cold is not in dataframe.\n",
      "└ @ PowerSystems /Users/cbarrows/.julia/packages/PowerSystems/qbCqK/src/parsers/power_system_table_data.jl:1364\n",
      "┌ Warning: User-defined column name Start Cost Warm is not in dataframe.\n",
      "└ @ PowerSystems /Users/cbarrows/.julia/packages/PowerSystems/qbCqK/src/parsers/power_system_table_data.jl:1364\n",
      "┌ Warning: User-defined column name Start Cost Hot is not in dataframe.\n",
      "└ @ PowerSystems /Users/cbarrows/.julia/packages/PowerSystems/qbCqK/src/parsers/power_system_table_data.jl:1364\n",
      "┌ Warning: User-defined column name Must Run is not in dataframe.\n",
      "└ @ PowerSystems /Users/cbarrows/.julia/packages/PowerSystems/qbCqK/src/parsers/power_system_table_data.jl:1364\n",
      "┌ Warning: storage generator should have exactly 1 head storage defined: this will throw an error in v1.1.x\n",
      "└ @ PowerSystems /Users/cbarrows/.julia/packages/PowerSystems/qbCqK/src/parsers/power_system_table_data.jl:1192\n",
      "┌ Warning: Missing LOAD data.\n",
      "└ @ PowerSystems /Users/cbarrows/.julia/packages/PowerSystems/qbCqK/src/parsers/power_system_table_data.jl:212\n",
      "┌ Info: Adding contributing generators for Spin_Up_R1 by category\n",
      "└ @ PowerSystems /Users/cbarrows/.julia/packages/PowerSystems/qbCqK/src/parsers/power_system_table_data.jl:676\n",
      "┌ Warning: User-defined column name Startup Ramp Rate MW/min is not in dataframe.\n",
      "└ @ PowerSystems /Users/cbarrows/.julia/packages/PowerSystems/qbCqK/src/parsers/power_system_table_data.jl:1364\n",
      "┌ Warning: User-defined column name Shutdown Ramp Rate MW/min is not in dataframe.\n",
      "└ @ PowerSystems /Users/cbarrows/.julia/packages/PowerSystems/qbCqK/src/parsers/power_system_table_data.jl:1364\n",
      "┌ Warning: User-defined column name Status at Start is not in dataframe.\n",
      "└ @ PowerSystems /Users/cbarrows/.julia/packages/PowerSystems/qbCqK/src/parsers/power_system_table_data.jl:1364\n",
      "┌ Warning: User-defined column name Time at Status is not in dataframe.\n",
      "└ @ PowerSystems /Users/cbarrows/.julia/packages/PowerSystems/qbCqK/src/parsers/power_system_table_data.jl:1364\n",
      "┌ Warning: User-defined column name Start Cost Cold is not in dataframe.\n",
      "└ @ PowerSystems /Users/cbarrows/.julia/packages/PowerSystems/qbCqK/src/parsers/power_system_table_data.jl:1364\n",
      "┌ Warning: User-defined column name Start Cost Warm is not in dataframe.\n",
      "└ @ PowerSystems /Users/cbarrows/.julia/packages/PowerSystems/qbCqK/src/parsers/power_system_table_data.jl:1364\n",
      "┌ Warning: User-defined column name Start Cost Hot is not in dataframe.\n",
      "└ @ PowerSystems /Users/cbarrows/.julia/packages/PowerSystems/qbCqK/src/parsers/power_system_table_data.jl:1364\n",
      "┌ Warning: User-defined column name Must Run is not in dataframe.\n",
      "└ @ PowerSystems /Users/cbarrows/.julia/packages/PowerSystems/qbCqK/src/parsers/power_system_table_data.jl:1364\n",
      "┌ Info: Adding contributing generators for Spin_Up_R2 by category\n",
      "└ @ PowerSystems /Users/cbarrows/.julia/packages/PowerSystems/qbCqK/src/parsers/power_system_table_data.jl:676\n",
      "┌ Warning: User-defined column name Startup Ramp Rate MW/min is not in dataframe.\n",
      "└ @ PowerSystems /Users/cbarrows/.julia/packages/PowerSystems/qbCqK/src/parsers/power_system_table_data.jl:1364\n",
      "┌ Warning: User-defined column name Shutdown Ramp Rate MW/min is not in dataframe.\n",
      "└ @ PowerSystems /Users/cbarrows/.julia/packages/PowerSystems/qbCqK/src/parsers/power_system_table_data.jl:1364\n",
      "┌ Warning: User-defined column name Status at Start is not in dataframe.\n",
      "└ @ PowerSystems /Users/cbarrows/.julia/packages/PowerSystems/qbCqK/src/parsers/power_system_table_data.jl:1364\n",
      "┌ Warning: User-defined column name Time at Status is not in dataframe.\n",
      "└ @ PowerSystems /Users/cbarrows/.julia/packages/PowerSystems/qbCqK/src/parsers/power_system_table_data.jl:1364\n",
      "┌ Warning: User-defined column name Start Cost Cold is not in dataframe.\n",
      "└ @ PowerSystems /Users/cbarrows/.julia/packages/PowerSystems/qbCqK/src/parsers/power_system_table_data.jl:1364\n",
      "┌ Warning: User-defined column name Start Cost Warm is not in dataframe.\n",
      "└ @ PowerSystems /Users/cbarrows/.julia/packages/PowerSystems/qbCqK/src/parsers/power_system_table_data.jl:1364\n",
      "┌ Warning: User-defined column name Start Cost Hot is not in dataframe.\n",
      "└ @ PowerSystems /Users/cbarrows/.julia/packages/PowerSystems/qbCqK/src/parsers/power_system_table_data.jl:1364\n",
      "┌ Warning: User-defined column name Must Run is not in dataframe.\n",
      "└ @ PowerSystems /Users/cbarrows/.julia/packages/PowerSystems/qbCqK/src/parsers/power_system_table_data.jl:1364\n",
      "┌ Info: Adding contributing generators for Spin_Up_R3 by category\n",
      "└ @ PowerSystems /Users/cbarrows/.julia/packages/PowerSystems/qbCqK/src/parsers/power_system_table_data.jl:676\n",
      "┌ Warning: User-defined column name Startup Ramp Rate MW/min is not in dataframe.\n",
      "└ @ PowerSystems /Users/cbarrows/.julia/packages/PowerSystems/qbCqK/src/parsers/power_system_table_data.jl:1364\n",
      "┌ Warning: User-defined column name Shutdown Ramp Rate MW/min is not in dataframe.\n",
      "└ @ PowerSystems /Users/cbarrows/.julia/packages/PowerSystems/qbCqK/src/parsers/power_system_table_data.jl:1364\n",
      "┌ Warning: User-defined column name Status at Start is not in dataframe.\n",
      "└ @ PowerSystems /Users/cbarrows/.julia/packages/PowerSystems/qbCqK/src/parsers/power_system_table_data.jl:1364\n",
      "┌ Warning: User-defined column name Time at Status is not in dataframe.\n",
      "└ @ PowerSystems /Users/cbarrows/.julia/packages/PowerSystems/qbCqK/src/parsers/power_system_table_data.jl:1364\n",
      "┌ Warning: User-defined column name Start Cost Cold is not in dataframe.\n",
      "└ @ PowerSystems /Users/cbarrows/.julia/packages/PowerSystems/qbCqK/src/parsers/power_system_table_data.jl:1364\n",
      "┌ Warning: User-defined column name Start Cost Warm is not in dataframe.\n",
      "└ @ PowerSystems /Users/cbarrows/.julia/packages/PowerSystems/qbCqK/src/parsers/power_system_table_data.jl:1364\n",
      "┌ Warning: User-defined column name Start Cost Hot is not in dataframe.\n",
      "└ @ PowerSystems /Users/cbarrows/.julia/packages/PowerSystems/qbCqK/src/parsers/power_system_table_data.jl:1364\n",
      "┌ Warning: User-defined column name Must Run is not in dataframe.\n",
      "└ @ PowerSystems /Users/cbarrows/.julia/packages/PowerSystems/qbCqK/src/parsers/power_system_table_data.jl:1364\n",
      "┌ Info: Adding contributing generators for Flex_Up by category\n",
      "└ @ PowerSystems /Users/cbarrows/.julia/packages/PowerSystems/qbCqK/src/parsers/power_system_table_data.jl:676\n",
      "┌ Warning: User-defined column name Startup Ramp Rate MW/min is not in dataframe.\n",
      "└ @ PowerSystems /Users/cbarrows/.julia/packages/PowerSystems/qbCqK/src/parsers/power_system_table_data.jl:1364\n",
      "┌ Warning: User-defined column name Shutdown Ramp Rate MW/min is not in dataframe.\n",
      "└ @ PowerSystems /Users/cbarrows/.julia/packages/PowerSystems/qbCqK/src/parsers/power_system_table_data.jl:1364\n",
      "┌ Warning: User-defined column name Status at Start is not in dataframe.\n",
      "└ @ PowerSystems /Users/cbarrows/.julia/packages/PowerSystems/qbCqK/src/parsers/power_system_table_data.jl:1364\n",
      "┌ Warning: User-defined column name Time at Status is not in dataframe.\n",
      "└ @ PowerSystems /Users/cbarrows/.julia/packages/PowerSystems/qbCqK/src/parsers/power_system_table_data.jl:1364\n",
      "┌ Warning: User-defined column name Start Cost Cold is not in dataframe.\n",
      "└ @ PowerSystems /Users/cbarrows/.julia/packages/PowerSystems/qbCqK/src/parsers/power_system_table_data.jl:1364\n",
      "┌ Warning: User-defined column name Start Cost Warm is not in dataframe.\n",
      "└ @ PowerSystems /Users/cbarrows/.julia/packages/PowerSystems/qbCqK/src/parsers/power_system_table_data.jl:1364\n",
      "┌ Warning: User-defined column name Start Cost Hot is not in dataframe.\n",
      "└ @ PowerSystems /Users/cbarrows/.julia/packages/PowerSystems/qbCqK/src/parsers/power_system_table_data.jl:1364\n",
      "┌ Warning: User-defined column name Must Run is not in dataframe.\n",
      "└ @ PowerSystems /Users/cbarrows/.julia/packages/PowerSystems/qbCqK/src/parsers/power_system_table_data.jl:1364\n",
      "┌ Info: Adding contributing generators for Flex_Down by category\n",
      "└ @ PowerSystems /Users/cbarrows/.julia/packages/PowerSystems/qbCqK/src/parsers/power_system_table_data.jl:676\n",
      "┌ Warning: User-defined column name Startup Ramp Rate MW/min is not in dataframe.\n",
      "└ @ PowerSystems /Users/cbarrows/.julia/packages/PowerSystems/qbCqK/src/parsers/power_system_table_data.jl:1364\n",
      "┌ Warning: User-defined column name Shutdown Ramp Rate MW/min is not in dataframe.\n",
      "└ @ PowerSystems /Users/cbarrows/.julia/packages/PowerSystems/qbCqK/src/parsers/power_system_table_data.jl:1364\n",
      "┌ Warning: User-defined column name Status at Start is not in dataframe.\n",
      "└ @ PowerSystems /Users/cbarrows/.julia/packages/PowerSystems/qbCqK/src/parsers/power_system_table_data.jl:1364\n",
      "┌ Warning: User-defined column name Time at Status is not in dataframe.\n",
      "└ @ PowerSystems /Users/cbarrows/.julia/packages/PowerSystems/qbCqK/src/parsers/power_system_table_data.jl:1364\n",
      "┌ Warning: User-defined column name Start Cost Cold is not in dataframe.\n",
      "└ @ PowerSystems /Users/cbarrows/.julia/packages/PowerSystems/qbCqK/src/parsers/power_system_table_data.jl:1364\n",
      "┌ Warning: User-defined column name Start Cost Warm is not in dataframe.\n",
      "└ @ PowerSystems /Users/cbarrows/.julia/packages/PowerSystems/qbCqK/src/parsers/power_system_table_data.jl:1364\n",
      "┌ Warning: User-defined column name Start Cost Hot is not in dataframe.\n",
      "└ @ PowerSystems /Users/cbarrows/.julia/packages/PowerSystems/qbCqK/src/parsers/power_system_table_data.jl:1364\n",
      "┌ Warning: User-defined column name Must Run is not in dataframe.\n",
      "└ @ PowerSystems /Users/cbarrows/.julia/packages/PowerSystems/qbCqK/src/parsers/power_system_table_data.jl:1364\n",
      "┌ Info: Adding contributing generators for Reg_Up by category\n",
      "└ @ PowerSystems /Users/cbarrows/.julia/packages/PowerSystems/qbCqK/src/parsers/power_system_table_data.jl:676\n",
      "┌ Warning: User-defined column name Startup Ramp Rate MW/min is not in dataframe.\n",
      "└ @ PowerSystems /Users/cbarrows/.julia/packages/PowerSystems/qbCqK/src/parsers/power_system_table_data.jl:1364\n",
      "┌ Warning: User-defined column name Shutdown Ramp Rate MW/min is not in dataframe.\n",
      "└ @ PowerSystems /Users/cbarrows/.julia/packages/PowerSystems/qbCqK/src/parsers/power_system_table_data.jl:1364\n",
      "┌ Warning: User-defined column name Status at Start is not in dataframe.\n",
      "└ @ PowerSystems /Users/cbarrows/.julia/packages/PowerSystems/qbCqK/src/parsers/power_system_table_data.jl:1364\n",
      "┌ Warning: User-defined column name Time at Status is not in dataframe.\n",
      "└ @ PowerSystems /Users/cbarrows/.julia/packages/PowerSystems/qbCqK/src/parsers/power_system_table_data.jl:1364\n",
      "┌ Warning: User-defined column name Start Cost Cold is not in dataframe.\n",
      "└ @ PowerSystems /Users/cbarrows/.julia/packages/PowerSystems/qbCqK/src/parsers/power_system_table_data.jl:1364\n",
      "┌ Warning: User-defined column name Start Cost Warm is not in dataframe.\n",
      "└ @ PowerSystems /Users/cbarrows/.julia/packages/PowerSystems/qbCqK/src/parsers/power_system_table_data.jl:1364\n",
      "┌ Warning: User-defined column name Start Cost Hot is not in dataframe.\n",
      "└ @ PowerSystems /Users/cbarrows/.julia/packages/PowerSystems/qbCqK/src/parsers/power_system_table_data.jl:1364\n",
      "┌ Warning: User-defined column name Must Run is not in dataframe.\n",
      "└ @ PowerSystems /Users/cbarrows/.julia/packages/PowerSystems/qbCqK/src/parsers/power_system_table_data.jl:1364\n",
      "┌ Info: Adding contributing generators for Reg_Down by category\n",
      "└ @ PowerSystems /Users/cbarrows/.julia/packages/PowerSystems/qbCqK/src/parsers/power_system_table_data.jl:676\n",
      "┌ Warning: User-defined column name Startup Ramp Rate MW/min is not in dataframe.\n",
      "└ @ PowerSystems /Users/cbarrows/.julia/packages/PowerSystems/qbCqK/src/parsers/power_system_table_data.jl:1364\n",
      "┌ Warning: User-defined column name Shutdown Ramp Rate MW/min is not in dataframe.\n",
      "└ @ PowerSystems /Users/cbarrows/.julia/packages/PowerSystems/qbCqK/src/parsers/power_system_table_data.jl:1364\n",
      "┌ Warning: User-defined column name Status at Start is not in dataframe.\n",
      "└ @ PowerSystems /Users/cbarrows/.julia/packages/PowerSystems/qbCqK/src/parsers/power_system_table_data.jl:1364\n",
      "┌ Warning: User-defined column name Time at Status is not in dataframe.\n",
      "└ @ PowerSystems /Users/cbarrows/.julia/packages/PowerSystems/qbCqK/src/parsers/power_system_table_data.jl:1364\n",
      "┌ Warning: User-defined column name Start Cost Cold is not in dataframe.\n",
      "└ @ PowerSystems /Users/cbarrows/.julia/packages/PowerSystems/qbCqK/src/parsers/power_system_table_data.jl:1364\n",
      "┌ Warning: User-defined column name Start Cost Warm is not in dataframe.\n",
      "└ @ PowerSystems /Users/cbarrows/.julia/packages/PowerSystems/qbCqK/src/parsers/power_system_table_data.jl:1364\n",
      "┌ Warning: User-defined column name Start Cost Hot is not in dataframe.\n",
      "└ @ PowerSystems /Users/cbarrows/.julia/packages/PowerSystems/qbCqK/src/parsers/power_system_table_data.jl:1364\n",
      "┌ Warning: User-defined column name Must Run is not in dataframe.\n",
      "└ @ PowerSystems /Users/cbarrows/.julia/packages/PowerSystems/qbCqK/src/parsers/power_system_table_data.jl:1364\n",
      "┌ Info: Unit System changed to SYSTEM_BASE\n",
      "└ @ PowerSystems /Users/cbarrows/.julia/packages/PowerSystems/qbCqK/src/base.jl:287\n",
      "┌ Warning: The data doesn't include devices of type InterruptibleLoad, consider changing the device models\n",
      "└ @ PowerSimulations /Users/cbarrows/.julia/packages/PowerSimulations/uqxkd/src/devices_models/device_constructors/common/constructor_validations.jl:3\n",
      "┌ Warning: Data doesn't contain generators with ramp limits, consider adjusting your formulation\n",
      "└ @ PowerSimulations /Users/cbarrows/.julia/packages/PowerSimulations/uqxkd/src/devices_models/devices/thermal_generation.jl:478\n"
     ]
    }
   ],
   "cell_type": "code",
   "source": [
    "using SIIPExamples\n",
    "pkgpath = dirname(dirname(pathof(SIIPExamples)))\n",
    "include(\n",
    "    joinpath(pkgpath, \"test\", \"3_PowerSimulations_examples\", \"01_operations_problems.jl\"),\n",
    ");"
   ],
   "metadata": {},
   "execution_count": 1
  },
  {
   "cell_type": "markdown",
   "source": [
    "Since we'll be retrieving duals, we need a solver that returns duals values\n",
    "here we use Ipopt."
   ],
   "metadata": {}
  },
  {
   "outputs": [
    {
     "output_type": "execute_result",
     "data": {
      "text/plain": "MathOptInterface.OptimizerWithAttributes(Ipopt.Optimizer, Pair{MathOptInterface.AbstractOptimizerAttribute,Any}[])"
     },
     "metadata": {},
     "execution_count": 2
    }
   ],
   "cell_type": "code",
   "source": [
    "using Ipopt\n",
    "solver = optimizer_with_attributes(Ipopt.Optimizer)"
   ],
   "metadata": {},
   "execution_count": 2
  },
  {
   "cell_type": "markdown",
   "source": [
    "In the [OperationsProblem example](../../notebook/3_PowerSimulations_examples/1_operations_problems.ipynb)\n",
    "we defined a unit-commitment problem with a copper plate representation of the network.\n",
    "Here, we want do define an economic dispatch (linear generation decisions) with\n",
    "linear DC-OPF using PTDF network representation.\n",
    "So, starting with the network, we can select from _almost_ any of the endpoints on this\n",
    "tree:"
   ],
   "metadata": {}
  },
  {
   "outputs": [
    {
     "output_type": "execute_result",
     "data": {
      "text/plain": "PowerModels\nAbstractPowerModel\n├──PowerModels\n│  AbstractACRModel\n│  ├──ACRPowerModel\n│  └──PowerModels\n│     AbstractIVRModel\n│     └──PowerModels\n│        IVRPowerModel (0 children)\n├──PowerModels\n│  AbstractACPModel\n│  └──ACPPowerModel\n├──PowerModels\n│  AbstractConicModel\n│  ├──PowerModels\n│  │  AbstractWRConicModel\n│  │  └──PowerModels\n│  │     AbstractSOCWRConicModel (1 children)\n│  └──PowerModels\n│     AbstractWRMModel\n│     └──PowerModels\n│        AbstractSDPWRMModel (2 children)\n├──PowerModels\n│  AbstractWRModel\n│  ├──PowerModels\n│  │  AbstractQCWRModel\n│  │  ├──PowerModels\n│  │  │  AbstractQCRMPowerModel (1 children)\n│  │  └──PowerModels\n│  │     AbstractQCLSModel (1 children)\n│  └──PowerModels\n│     AbstractSOCWRModel\n│     └──SOCWRPowerModel (0 children)\n├──PowerModels\n│  AbstractLPACModel\n│  └──PowerModels\n│     AbstractLPACCModel\n│     └──LPACCPowerModel (0 children)\n├──PowerModels\n│  AbstractBFModel\n│  ├──PowerModels\n│  │  AbstractBFAModel\n│  │  └──PowerModels\n│  │     BFAPowerModel (0 children)\n│  ├──PowerModels\n│  │  AbstractBFConicModel\n│  │  └──PowerModels\n│  │     AbstractSOCBFConicModel (1 children)\n│  └──PowerModels\n│     AbstractBFQPModel\n│     └──PowerModels\n│        AbstractSOCBFModel (1 children)\n├──PowerModels\n│  AbstractActivePowerModel\n│  ├──PowerModels\n│  │  AbstractDCPModel\n│  │  ├──PowerModels\n│  │  │  AbstractDCPLLModel (1 children)\n│  │  ├──StandardPTDFModel (0 children)\n│  │  ├──PowerModels\n│  │  │  AbstractNFAModel (1 children)\n│  │  ├──PowerModels\n│  │  │  AbstractDCMPPModel (1 children)\n│  │  └──DCPPowerModel (0 children)\n│  ├──CopperPlatePowerModel\n│  └──AreaBalancePowerModel\n└──PowerModels\n   AbstractACTModel\n   └──ACTPowerModel\n",
      "text/html": [
       "    <!DOCTYPE html>\n",
       "    <html>\n",
       "    <head>\n",
       "        <meta charset=\"UTF-8\">\n",
       "        <title>Julia D3Tree</title>\n",
       "    </head>\n",
       "    <body>\n",
       "    <div id=\"treevisNux4Eyy9\">\n",
       "    <style>\n",
       "        \n",
       ".node {\n",
       "    cursor: pointer;\n",
       "}\n",
       "\n",
       ".node circle {\n",
       "\t  fill: #fff;\n",
       "\t  stroke: steelblue;\n",
       "\t  stroke-width: 3px;\n",
       "      r: 10;\n",
       "}\n",
       "\n",
       ".node rect {\n",
       "\t  fill: #fff;\n",
       "\t  stroke: steelblue;\n",
       "\t  stroke-width: 3px;\n",
       "      x: -10;\n",
       "      y: -10;\n",
       "      width: 20;\n",
       "      height: 20;\n",
       "}\n",
       "\n",
       ".node path {\n",
       "    fill: #ffffff;\n",
       "    /* stroke: steelblue; */\n",
       "    stroke-width: 2px;\n",
       "}\n",
       ".node text {\n",
       "    font-family: Arial, Helvetica, sans-serif;\n",
       "    font-style: normal;\n",
       "    font-size: 12px;\n",
       "}\n",
       ".link /* path */ {\n",
       "    fill: none;\n",
       "    stroke: #cccccc;\n",
       "    stroke-width: 2px;\n",
       "}\n",
       ".link text {\n",
       "    font-family: Arial, Helvetica, sans-serif;\n",
       "    font-style: normal;\n",
       "    font-size: 12px;\n",
       "}\n",
       ".hover text{\n",
       "    font-family: Arial, Helvetica, sans-serif;\n",
       "    font-style: normal;\n",
       "    font-size: 12px;\n",
       "}\n",
       "\n",
       "/*\n",
       ".svg-container {\n",
       "    display: inline-block;\n",
       "    position: relative;\n",
       "    width: 100%;\n",
       "    padding-bottom: 100%;\n",
       "    vertical-align: top;\n",
       "    overflow: hidden;\n",
       "}\n",
       ".svg-content-responsive {\n",
       "    display: inline-block;\n",
       "    position: absolute;\n",
       "    top: 10px;\n",
       "    left: 0;\n",
       "}\n",
       "*/\n",
       "\n",
       "    </style>\n",
       "    <script>\n",
       "       (function(){\n",
       "        var treeData = {\"children\":[[2,6,8,17,25,28,37,49],[3,4],[],[5],[],[7],[],[9,12],[10],[11],[],[13],[14,15],[],[16],[],[18,23],[19,21],[20],[],[22],[],[24],[],[26],[27],[],[29,31,34],[30],[],[32],[33],[],[35],[36],[],[38,47,48],[39,41,42,44,46],[40],[],[],[43],[],[45],[],[],[],[],[50],[]],\"text\":[\"PowerModels\\nAbstractPowerModel\",\"PowerModels\\nAbstractACRModel\",\"ACRPowerModel\",\"PowerModels\\nAbstractIVRModel\",\"PowerModels\\nIVRPowerModel\",\"PowerModels\\nAbstractACPModel\",\"ACPPowerModel\",\"PowerModels\\nAbstractConicModel\",\"PowerModels\\nAbstractWRConicModel\",\"PowerModels\\nAbstractSOCWRConicModel\",\"SOCWRConicPowerModel\",\"PowerModels\\nAbstractWRMModel\",\"PowerModels\\nAbstractSDPWRMModel\",\"PowerModels\\nSDPWRMPowerModel\",\"PowerModels\\nAbstractSparseSDPWRMModel\",\"PowerModels\\nSparseSDPWRMPowerModel\",\"PowerModels\\nAbstractWRModel\",\"PowerModels\\nAbstractQCWRModel\",\"PowerModels\\nAbstractQCRMPowerModel\",\"QCRMPowerModel\",\"PowerModels\\nAbstractQCLSModel\",\"QCLSPowerModel\",\"PowerModels\\nAbstractSOCWRModel\",\"SOCWRPowerModel\",\"PowerModels\\nAbstractLPACModel\",\"PowerModels\\nAbstractLPACCModel\",\"LPACCPowerModel\",\"PowerModels\\nAbstractBFModel\",\"PowerModels\\nAbstractBFAModel\",\"PowerModels\\nBFAPowerModel\",\"PowerModels\\nAbstractBFConicModel\",\"PowerModels\\nAbstractSOCBFConicModel\",\"PowerModels\\nSOCBFConicPowerModel\",\"PowerModels\\nAbstractBFQPModel\",\"PowerModels\\nAbstractSOCBFModel\",\"PowerModels\\nSOCBFPowerModel\",\"PowerModels\\nAbstractActivePowerModel\",\"PowerModels\\nAbstractDCPModel\",\"PowerModels\\nAbstractDCPLLModel\",\"DCPLLPowerModel\",\"StandardPTDFModel\",\"PowerModels\\nAbstractNFAModel\",\"NFAPowerModel\",\"PowerModels\\nAbstractDCMPPModel\",\"PowerModels\\nDCMPPowerModel\",\"DCPPowerModel\",\"CopperPlatePowerModel\",\"AreaBalancePowerModel\",\"PowerModels\\nAbstractACTModel\",\"ACTPowerModel\"],\"tooltip\":[\"Abstract\",\"Abstract\",\"model\\ndata\\nsetting\\nsolution\\nref\\nvar\\ncon\\nsol\\nsol_proc\\ncnw\\next\",\"Abstract\",\"model\\ndata\\nsetting\\nsolution\\nref\\nvar\\ncon\\nsol\\nsol_proc\\ncnw\\next\",\"Abstract\",\"model\\ndata\\nsetting\\nsolution\\nref\\nvar\\ncon\\nsol\\nsol_proc\\ncnw\\next\",\"Abstract\",\"Abstract\",\"Abstract\",\"model\\ndata\\nsetting\\nsolution\\nref\\nvar\\ncon\\nsol\\nsol_proc\\ncnw\\next\",\"Abstract\",\"Abstract\",\"model\\ndata\\nsetting\\nsolution\\nref\\nvar\\ncon\\nsol\\nsol_proc\\ncnw\\next\",\"Abstract\",\"model\\ndata\\nsetting\\nsolution\\nref\\nvar\\ncon\\nsol\\nsol_proc\\ncnw\\next\",\"Abstract\",\"Abstract\",\"Abstract\",\"model\\ndata\\nsetting\\nsolution\\nref\\nvar\\ncon\\nsol\\nsol_proc\\ncnw\\next\",\"Abstract\",\"model\\ndata\\nsetting\\nsolution\\nref\\nvar\\ncon\\nsol\\nsol_proc\\ncnw\\next\",\"Abstract\",\"model\\ndata\\nsetting\\nsolution\\nref\\nvar\\ncon\\nsol\\nsol_proc\\ncnw\\next\",\"Abstract\",\"Abstract\",\"model\\ndata\\nsetting\\nsolution\\nref\\nvar\\ncon\\nsol\\nsol_proc\\ncnw\\next\",\"Abstract\",\"Abstract\",\"model\\ndata\\nsetting\\nsolution\\nref\\nvar\\ncon\\nsol\\nsol_proc\\ncnw\\next\",\"Abstract\",\"Abstract\",\"model\\ndata\\nsetting\\nsolution\\nref\\nvar\\ncon\\nsol\\nsol_proc\\ncnw\\next\",\"Abstract\",\"Abstract\",\"model\\ndata\\nsetting\\nsolution\\nref\\nvar\\ncon\\nsol\\nsol_proc\\ncnw\\next\",\"Abstract\",\"Abstract\",\"Abstract\",\"model\\ndata\\nsetting\\nsolution\\nref\\nvar\\ncon\\nsol\\nsol_proc\\ncnw\\next\",\"\",\"Abstract\",\"model\\ndata\\nsetting\\nsolution\\nref\\nvar\\ncon\\nsol\\nsol_proc\\ncnw\\next\",\"Abstract\",\"model\\ndata\\nsetting\\nsolution\\nref\\nvar\\ncon\\nsol\\nsol_proc\\ncnw\\next\",\"model\\ndata\\nsetting\\nsolution\\nref\\nvar\\ncon\\nsol\\nsol_proc\\ncnw\\next\",\"\",\"\",\"Abstract\",\"model\\ndata\\nsetting\\nsolution\\nref\\nvar\\ncon\\nsol\\nsol_proc\\ncnw\\next\"],\"style\":[\"\",\"\",\"\",\"\",\"\",\"\",\"\",\"\",\"\",\"\",\"\",\"\",\"\",\"\",\"\",\"\",\"\",\"\",\"\",\"\",\"\",\"\",\"\",\"\",\"\",\"\",\"\",\"\",\"\",\"\",\"\",\"\",\"\",\"\",\"\",\"\",\"\",\"\",\"\",\"\",\"\",\"\",\"\",\"\",\"\",\"\",\"\",\"\",\"\",\"\"],\"link_style\":[\"\",\"\",\"\",\"\",\"\",\"\",\"\",\"\",\"\",\"\",\"\",\"\",\"\",\"\",\"\",\"\",\"\",\"\",\"\",\"\",\"\",\"\",\"\",\"\",\"\",\"\",\"\",\"\",\"\",\"\",\"\",\"\",\"\",\"\",\"\",\"\",\"\",\"\",\"\",\"\",\"\",\"\",\"\",\"\",\"\",\"\",\"\",\"\",\"\",\"\"],\"title\":\"Julia D3Tree\",\"options\":{\"tooltip\":[\"Abstract\",\"Abstract\",\"model\\ndata\\nsetting\\nsolution\\nref\\nvar\\ncon\\nsol\\nsol_proc\\ncnw\\next\",\"Abstract\",\"model\\ndata\\nsetting\\nsolution\\nref\\nvar\\ncon\\nsol\\nsol_proc\\ncnw\\next\",\"Abstract\",\"model\\ndata\\nsetting\\nsolution\\nref\\nvar\\ncon\\nsol\\nsol_proc\\ncnw\\next\",\"Abstract\",\"Abstract\",\"Abstract\",\"model\\ndata\\nsetting\\nsolution\\nref\\nvar\\ncon\\nsol\\nsol_proc\\ncnw\\next\",\"Abstract\",\"Abstract\",\"model\\ndata\\nsetting\\nsolution\\nref\\nvar\\ncon\\nsol\\nsol_proc\\ncnw\\next\",\"Abstract\",\"model\\ndata\\nsetting\\nsolution\\nref\\nvar\\ncon\\nsol\\nsol_proc\\ncnw\\next\",\"Abstract\",\"Abstract\",\"Abstract\",\"model\\ndata\\nsetting\\nsolution\\nref\\nvar\\ncon\\nsol\\nsol_proc\\ncnw\\next\",\"Abstract\",\"model\\ndata\\nsetting\\nsolution\\nref\\nvar\\ncon\\nsol\\nsol_proc\\ncnw\\next\",\"Abstract\",\"model\\ndata\\nsetting\\nsolution\\nref\\nvar\\ncon\\nsol\\nsol_proc\\ncnw\\next\",\"Abstract\",\"Abstract\",\"model\\ndata\\nsetting\\nsolution\\nref\\nvar\\ncon\\nsol\\nsol_proc\\ncnw\\next\",\"Abstract\",\"Abstract\",\"model\\ndata\\nsetting\\nsolution\\nref\\nvar\\ncon\\nsol\\nsol_proc\\ncnw\\next\",\"Abstract\",\"Abstract\",\"model\\ndata\\nsetting\\nsolution\\nref\\nvar\\ncon\\nsol\\nsol_proc\\ncnw\\next\",\"Abstract\",\"Abstract\",\"model\\ndata\\nsetting\\nsolution\\nref\\nvar\\ncon\\nsol\\nsol_proc\\ncnw\\next\",\"Abstract\",\"Abstract\",\"Abstract\",\"model\\ndata\\nsetting\\nsolution\\nref\\nvar\\ncon\\nsol\\nsol_proc\\ncnw\\next\",\"\",\"Abstract\",\"model\\ndata\\nsetting\\nsolution\\nref\\nvar\\ncon\\nsol\\nsol_proc\\ncnw\\next\",\"Abstract\",\"model\\ndata\\nsetting\\nsolution\\nref\\nvar\\ncon\\nsol\\nsol_proc\\ncnw\\next\",\"model\\ndata\\nsetting\\nsolution\\nref\\nvar\\ncon\\nsol\\nsol_proc\\ncnw\\next\",\"\",\"\",\"Abstract\",\"model\\ndata\\nsetting\\nsolution\\nref\\nvar\\ncon\\nsol\\nsol_proc\\ncnw\\next\"],\"text\":[\"PowerModels\\nAbstractPowerModel\",\"PowerModels\\nAbstractACRModel\",\"ACRPowerModel\",\"PowerModels\\nAbstractIVRModel\",\"PowerModels\\nIVRPowerModel\",\"PowerModels\\nAbstractACPModel\",\"ACPPowerModel\",\"PowerModels\\nAbstractConicModel\",\"PowerModels\\nAbstractWRConicModel\",\"PowerModels\\nAbstractSOCWRConicModel\",\"SOCWRConicPowerModel\",\"PowerModels\\nAbstractWRMModel\",\"PowerModels\\nAbstractSDPWRMModel\",\"PowerModels\\nSDPWRMPowerModel\",\"PowerModels\\nAbstractSparseSDPWRMModel\",\"PowerModels\\nSparseSDPWRMPowerModel\",\"PowerModels\\nAbstractWRModel\",\"PowerModels\\nAbstractQCWRModel\",\"PowerModels\\nAbstractQCRMPowerModel\",\"QCRMPowerModel\",\"PowerModels\\nAbstractQCLSModel\",\"QCLSPowerModel\",\"PowerModels\\nAbstractSOCWRModel\",\"SOCWRPowerModel\",\"PowerModels\\nAbstractLPACModel\",\"PowerModels\\nAbstractLPACCModel\",\"LPACCPowerModel\",\"PowerModels\\nAbstractBFModel\",\"PowerModels\\nAbstractBFAModel\",\"PowerModels\\nBFAPowerModel\",\"PowerModels\\nAbstractBFConicModel\",\"PowerModels\\nAbstractSOCBFConicModel\",\"PowerModels\\nSOCBFConicPowerModel\",\"PowerModels\\nAbstractBFQPModel\",\"PowerModels\\nAbstractSOCBFModel\",\"PowerModels\\nSOCBFPowerModel\",\"PowerModels\\nAbstractActivePowerModel\",\"PowerModels\\nAbstractDCPModel\",\"PowerModels\\nAbstractDCPLLModel\",\"DCPLLPowerModel\",\"StandardPTDFModel\",\"PowerModels\\nAbstractNFAModel\",\"NFAPowerModel\",\"PowerModels\\nAbstractDCMPPModel\",\"PowerModels\\nDCMPPowerModel\",\"DCPPowerModel\",\"CopperPlatePowerModel\",\"AreaBalancePowerModel\",\"PowerModels\\nAbstractACTModel\",\"ACTPowerModel\"],\"init_expand\":10}};\n",
       "        var rootID = 1-1;\n",
       "        var div = \"treevisNux4Eyy9\";\n",
       "        var initExpand = 10\n",
       "        var initDuration = 750\n",
       "        var svgHeight = 600\n",
       "        if (typeof $ === 'undefined') {\n",
       "    loadScript(\"https://code.jquery.com/jquery-3.1.1.min.js\", run);\n",
       "} else {\n",
       "    run();\n",
       "}\n",
       "\n",
       "function run() {\n",
       "    if (typeof d3 === 'undefined') {\n",
       "        loadScript(\"https://d3js.org/d3.v3.js\", showTree);\n",
       "    } else {\n",
       "        showTree();\n",
       "    }\n",
       "}\n",
       "\n",
       "function loadScript(url, callback)\n",
       "{\n",
       "    console.log(\"starting script load...\")\n",
       "    // Adding the script tag to the head as suggested before\n",
       "    var head = document.getElementsByTagName('head')[0];\n",
       "    var script = document.createElement('script');\n",
       "    script.type = 'text/javascript';\n",
       "    script.src = url;\n",
       "\n",
       "    // Then bind the event to the callback function.\n",
       "    // There are several events for cross browser compatibility.\n",
       "    script.onreadystatechange = callback;\n",
       "    script.onload = callback;\n",
       "\n",
       "    // Fire the loading\n",
       "    head.appendChild(script);\n",
       "}\n",
       "\n",
       "function showTree() {\n",
       "        \n",
       "    // var margin = {top: 20, right: 120, bottom: 20, left: 120},\n",
       "    var margin = {top: 20, right: 120, bottom: 80, left: 120},\n",
       "        width = $(\"#\"+div).width() - margin.right - margin.left,\n",
       "        height = svgHeight - margin.top - margin.bottom;\n",
       "        // TODO make height a parameter of TreeVisualizer\n",
       "\n",
       "    var i = 0,\n",
       "        root;\n",
       "\n",
       "    var tree = d3.layout.tree()\n",
       "        .size([width, height]);\n",
       "\n",
       "    var diagonal = d3.svg.diagonal();\n",
       "        //.projection(function(d) { return [d.y, d.x]; });\n",
       "        // uncomment above to make the tree go horizontally\n",
       "\n",
       "    // see http://stackoverflow.com/questions/16265123/resize-svg-when-window-is-resized-in-d3-js\n",
       "    if (d3.select(\"#\"+div+\"_svg\").empty()) {\n",
       "        $(\".d3twarn\").remove();\n",
       "        d3.select(\"#\"+div).append(\"svg\")\n",
       "            .attr(\"id\", div+\"_svg\")\n",
       "            .attr(\"width\", width + margin.right + margin.left)\n",
       "            .attr(\"height\", height + margin.top + margin.bottom);\n",
       "    }\n",
       "\n",
       "    d3.select(\"#\"+div+\"_svg\").selectAll(\"*\").remove();\n",
       "\n",
       "    var svg = d3.select(\"#\"+div+\"_svg\")\n",
       "        .append(\"g\")\n",
       "            .attr(\"transform\", \"translate(\" + margin.left + \",\" + margin.top + \")\");\n",
       "\n",
       "    // console.log(\"tree data:\");\n",
       "    // console.log(treeData[rootID]);\n",
       "    root = createDisplayNode(rootID, initExpand);\n",
       "    root.x0 = width / 2;\n",
       "    root.y0 = 0;\n",
       "\n",
       "    update(root, initDuration);\n",
       "    console.log(\"tree should appear\");\n",
       "\n",
       "    function createDisplayNode(id, expandLevel) {\n",
       "      var dnode = {\"dataID\":id,\n",
       "                   \"children\": null,\n",
       "                   \"_children\":null};\n",
       "      if (expandLevel > 0) {\n",
       "        initializeChildren(dnode, expandLevel);\n",
       "      }\n",
       "      return dnode;\n",
       "    }\n",
       "\n",
       "    function initializeChildren(d, expandLevel) {\n",
       "      // create children\n",
       "      var children = treeData.children[d.dataID];\n",
       "      d.children = [];\n",
       "      if (children) {\n",
       "        for (var i = 0; i < children.length; i++) {\n",
       "          var cid = children[i]-1;\n",
       "          d.children.push(createDisplayNode(cid, expandLevel-1));\n",
       "        }\n",
       "      }\n",
       "    }\n",
       "\n",
       "    /**\n",
       "     * Recursively called to update each node in the tree.\n",
       "     * \n",
       "     * source is a d3 node that has position, etc.\n",
       "    */\n",
       "    function update(source, duration) {\n",
       "\n",
       "      width = $(\"#\"+div).width() - margin.right - margin.left,\n",
       "      height = $(\"#\"+div).height() - margin.top - margin.bottom;\n",
       "\n",
       "      tree.size([width,height]);\n",
       "      d3.select(\"#\"+div).attr(\"width\", width + margin.right + margin.left)\n",
       "            .attr(\"height\", height + margin.top + margin.bottom);\n",
       "      d3.select(\"#\"+div+\"_svg\").attr(\"width\", width + margin.right + margin.left)\n",
       "             .attr(\"height\", height + margin.top + margin.bottom);\n",
       "\n",
       "\n",
       "      // Compute the new tree layout.\n",
       "      var nodes = tree.nodes(root).reverse(),\n",
       "          links = tree.links(nodes);\n",
       "\n",
       "\n",
       "      // Update the nodes…\n",
       "      var node = svg.selectAll(\"g.node\")\n",
       "          .data(nodes, function(d) { return d.id || (d.id = ++i); });\n",
       "\n",
       "      // Enter any new nodes at the parent's previous position.\n",
       "      var nodeEnter = node.enter().append(\"g\")\n",
       "          .attr(\"class\", \"node\")\n",
       "          .attr(\"transform\", function(d) { return \"translate(\" + source.x0 + \",\" + source.y0 + \")\"; })\n",
       "          .on(\"click\", click)\n",
       "\n",
       "      nodeEnter.append(\"circle\")\n",
       "          .attr(\"r\", \"10px\")\n",
       "          .attr(\"style\", function(d) { return treeData.style[d.dataID]; } )\n",
       "\n",
       "      var tbox = nodeEnter.append(\"text\")\n",
       "          .attr(\"y\", 25)\n",
       "          .attr(\"text-anchor\", \"middle\")\n",
       "          //.text( function(d) { return treeData.text[d.dataID]; } )\n",
       "          .style(\"fill-opacity\", 1e-6);\n",
       "\n",
       "      tbox.each( function(d) {\n",
       "          var el = d3.select(this)\n",
       "          var text = treeData.text[d.dataID];\n",
       "          var lines = text.split('\\n');\n",
       "          for (var i = 0; i < lines.length; i++) {\n",
       "              var tspan = el.append(\"tspan\").text(lines[i]);\n",
       "              if (i > 0) {\n",
       "                  tspan.attr(\"x\", 0).attr(\"dy\", \"1.2em\");\n",
       "              }\n",
       "          }\n",
       "      });\n",
       "\n",
       "      //tooltip\n",
       "      nodeEnter.append(\"title\").text( function(d) { return treeData.tooltip[d.dataID];} );\n",
       "\n",
       "      // Transition nodes to their new position.\n",
       "      var nodeUpdate = node.transition()\n",
       "          .duration(duration)\n",
       "          .attr(\"transform\", function(d) { return \"translate(\" + d.x + \",\" + d.y + \")\"; });\n",
       "\n",
       "      nodeUpdate.select(\"text\")\n",
       "          .style(\"fill-opacity\", 1);\n",
       "\n",
       "      // Transition exiting nodes to the parent's new position.\n",
       "      var nodeExit = node.exit().transition()\n",
       "          .duration(duration)\n",
       "          .attr(\"transform\", function(d) { return \"translate(\" + source.x + \",\" + source.y + \")\"; })\n",
       "          .remove();\n",
       "\n",
       "      nodeExit.select(\"text\")\n",
       "          .style(\"fill-opacity\", 1e-6);\n",
       "\n",
       "      // Update the links…\n",
       "      var link = svg.selectAll(\"path.link\")\n",
       "          .data(links, function(d) { return d.target.id; });\n",
       "\n",
       "      // Enter any new links at the parent's previous position.\n",
       "      // XXX link width should be based on transition data, not node data\n",
       "      link.enter().insert(\"path\", \"g\")\n",
       "          .attr(\"class\", \"link\")\n",
       "          .attr(\"style\", function(d) {\n",
       "              var ls = treeData.link_style[d.target.dataID];\n",
       "              return ls;\n",
       "          } )\n",
       "          .attr(\"d\", function(d) {\n",
       "            var o = {x: source.x0, y: source.y0};\n",
       "            return diagonal({source: o, target: o});\n",
       "          });\n",
       "\n",
       "      // Transition links to their new position.\n",
       "      link.transition()\n",
       "          .duration(duration)\n",
       "          .attr(\"d\", diagonal);\n",
       "\n",
       "      // Transition exiting nodes to the parent's new position.\n",
       "      link.exit().transition()\n",
       "          .duration(duration)\n",
       "          .attr(\"d\", function(d) {\n",
       "            var o = {x: source.x, y: source.y};\n",
       "            return diagonal({source: o, target: o});\n",
       "          })\n",
       "          .remove();\n",
       "\n",
       "      // Stash the old positions for transition.\n",
       "      nodes.forEach(function(d) {\n",
       "        d.x0 = d.x;\n",
       "        d.y0 = d.y;\n",
       "      });\n",
       "    }\n",
       "\n",
       "    // Toggle children on click.\n",
       "    function click(d) {\n",
       "      if (d.children) {\n",
       "        d._children = d.children;\n",
       "        d.children = null;\n",
       "      } else if (d._children) {\n",
       "        d.children = d._children;\n",
       "        d._children = null;\n",
       "      } else {\n",
       "        initializeChildren(d, 1);\n",
       "      }\n",
       "      update(d, 750);\n",
       "    }\n",
       "\n",
       "}\n",
       "\n",
       "        })();\n",
       "    </script>\n",
       "    <p class=\"d3twarn\">\n",
       "    Attempting to display the tree. If the tree is large, this may take some time.\n",
       "    </p>\n",
       "    <p class=\"d3twarn\">\n",
       "    Note: D3Trees.jl requires an internet connection. If no tree appears, please check your connection. To help fix this, please see <a href=\"https://github.com/sisl/D3Trees.jl/issues/10\">this issue</a>. You may also diagnose errors with the javascript console (Ctrl-Shift-J in chrome).\n",
       "    </p>\n",
       "    </div>\n",
       "    </body>\n",
       "    </html>\n",
       "\n"
      ]
     },
     "metadata": {},
     "execution_count": 3
    }
   ],
   "cell_type": "code",
   "source": [
    "TypeTree(PSI.PM.AbstractPowerModel,  init_expand = 10, scopesep=\"\\n\")"
   ],
   "metadata": {},
   "execution_count": 3
  },
  {
   "cell_type": "markdown",
   "source": [
    "For now, let's just choose a standard PTDF formulation."
   ],
   "metadata": {}
  },
  {
   "outputs": [
    {
     "output_type": "execute_result",
     "data": {
      "text/plain": "\nOperations Problem Specification\n============================================\n\n  transmission:  StandardPTDFModel\n============================================\n  devices: \n      ILoads:\n        device_type = InterruptibleLoad\n        formulation = InterruptiblePowerLoad\n      HydroROR:\n        device_type = HydroDispatch\n        formulation = FixedOutput\n      Generators:\n        device_type = ThermalStandard\n        formulation = ThermalRampLimited\n      DistRE:\n        device_type = RenewableFix\n        formulation = FixedOutput\n      Hydro:\n        device_type = HydroEnergyReservoir\n        formulation = HydroDispatchReservoirBudget\n      Loads:\n        device_type = PowerLoad\n        formulation = StaticPowerLoad\n      RE:\n        device_type = RenewableDispatch\n        formulation = RenewableFullDispatch\n============================================\n  branches: \n      T:\n        device_type = Transformer2W\n        formulation = StaticTransformer\n      TT:\n        device_type = TapTransformer\n        formulation = StaticTransformer\n      L:\n        device_type = Line\n        formulation = StaticLine\n      DC:\n        device_type = HVDCLine\n        formulation = HVDCDispatch\n============================================\n  services: \n============================================\n"
     },
     "metadata": {},
     "execution_count": 4
    }
   ],
   "cell_type": "code",
   "source": [
    "ed_template = template_economic_dispatch(network = StandardPTDFModel)"
   ],
   "metadata": {},
   "execution_count": 4
  },
  {
   "cell_type": "markdown",
   "source": [
    "Currently  energy budget data isn't stored in the RTS-GMLC dataset."
   ],
   "metadata": {}
  },
  {
   "outputs": [
    {
     "output_type": "execute_result",
     "data": {
      "text/plain": "DeviceModel{HydroEnergyReservoir,HydroDispatchRunOfRiver}(HydroEnergyReservoir, HydroDispatchRunOfRiver, nothing, ServiceModel[])"
     },
     "metadata": {},
     "execution_count": 5
    }
   ],
   "cell_type": "code",
   "source": [
    "ed_template.devices[:Hydro] = DeviceModel(HydroEnergyReservoir, HydroDispatchRunOfRiver)"
   ],
   "metadata": {},
   "execution_count": 5
  },
  {
   "cell_type": "markdown",
   "source": [
    "Calculate the PTDF matrix."
   ],
   "metadata": {}
  },
  {
   "outputs": [
    {
     "output_type": "execute_result",
     "data": {
      "text/plain": "PowerNetworkMatrix\n:\n  0.436221     -0.506679     0.0955772    …   0.0139213    0.0168526\n  0.242695      0.220093    -0.199576        -0.0291078   -0.0352191\n  0.321083      0.286586     0.103999         0.0151865    0.0183664\n  0.240805      0.269317     0.029752         0.00430723   0.00522632\n  0.195416      0.224003     0.0658252        0.00961407   0.0116263\n  0.0884399     0.0729336    0.422869     …   0.0616101    0.0745751\n  0.154255      0.14716      0.377554        -0.0907179   -0.109794\n  0.240805      0.269317     0.029752         0.00430723   0.00522632\n  0.321083      0.286586     0.103999         0.0151865    0.0183664\n  0.195416      0.224003     0.0658252        0.00961407   0.0116263\n  ⋮                                       ⋱               \n -0.00640688   -0.00621149  -0.0125463       -0.170422    -0.0870865\n -0.00640688   -0.00621149  -0.0125463       -0.170422    -0.0870865\n -0.0101178    -0.00980923  -0.0198131        0.129136    -0.137527\n -0.0101178    -0.00980923  -0.0198131        0.129136    -0.137527\n -0.0101178    -0.00980923  -0.0198131    …   0.129136    -0.137527\n -0.0101178    -0.00980923  -0.0198131        0.129136    -0.137527\n -0.000301309  -0.00029212  -0.000590038      0.0124161   -0.00409559\n -0.0284356    -0.0275684   -0.0556839        0.496086    -0.386515\n -0.0284356    -0.0275684   -0.0556839        0.496086     0.613485"
     },
     "metadata": {},
     "execution_count": 6
    }
   ],
   "cell_type": "code",
   "source": [
    "PTDF_matrix = PTDF(sys)"
   ],
   "metadata": {},
   "execution_count": 6
  },
  {
   "cell_type": "markdown",
   "source": [
    "Now we can build a 4-hour economic dispatch / PTDF problem with the RTS data.\n",
    "Here, we have to pass the keyword argument `constraint_duals` to OperationsProblem\n",
    "with the name of the constraint for which duals are required for them to be returned in the results."
   ],
   "metadata": {}
  },
  {
   "outputs": [
    {
     "name": "stdout",
     "output_type": "stream",
     "text": [
      "┌ Info: Unit System changed to SYSTEM_BASE\n",
      "└ @ PowerSystems /Users/cbarrows/.julia/packages/PowerSystems/qbCqK/src/base.jl:287\n",
      "┌ Warning: The data doesn't include devices of type InterruptibleLoad, consider changing the device models\n",
      "└ @ PowerSimulations /Users/cbarrows/.julia/packages/PowerSimulations/uqxkd/src/devices_models/device_constructors/common/constructor_validations.jl:3\n",
      "┌ Warning: Data doesn't contain generators with ramp limits, consider adjusting your formulation\n",
      "└ @ PowerSimulations /Users/cbarrows/.julia/packages/PowerSimulations/uqxkd/src/devices_models/devices/thermal_generation.jl:505\n",
      "┌ Warning: The data doesn't include devices of type Transformer2W, consider changing the device models\n",
      "└ @ PowerSimulations /Users/cbarrows/.julia/packages/PowerSimulations/uqxkd/src/devices_models/device_constructors/common/constructor_validations.jl:3\n"
     ]
    },
    {
     "output_type": "execute_result",
     "data": {
      "text/plain": "\nOperations Problem Specification\n============================================\n\n  transmission:  StandardPTDFModel\n============================================\n  devices: \n      ILoads:\n        device_type = InterruptibleLoad\n        formulation = InterruptiblePowerLoad\n      HydroROR:\n        device_type = HydroDispatch\n        formulation = FixedOutput\n      Generators:\n        device_type = ThermalStandard\n        formulation = ThermalRampLimited\n      DistRE:\n        device_type = RenewableFix\n        formulation = FixedOutput\n      Hydro:\n        device_type = HydroEnergyReservoir\n        formulation = HydroDispatchRunOfRiver\n      Loads:\n        device_type = PowerLoad\n        formulation = StaticPowerLoad\n      RE:\n        device_type = RenewableDispatch\n        formulation = RenewableFullDispatch\n============================================\n  branches: \n      T:\n        device_type = Transformer2W\n        formulation = StaticTransformer\n      TT:\n        device_type = TapTransformer\n        formulation = StaticTransformer\n      L:\n        device_type = Line\n        formulation = StaticLine\n      DC:\n        device_type = HVDCLine\n        formulation = HVDCDispatch\n============================================\n  services: \n============================================\n"
     },
     "metadata": {},
     "execution_count": 7
    }
   ],
   "cell_type": "code",
   "source": [
    "problem = OperationsProblem(\n",
    "    EconomicDispatchProblem,\n",
    "    ed_template,\n",
    "    sys,\n",
    "    horizon = 4,\n",
    "    optimizer = solver,\n",
    "    balance_slack_variables = true,\n",
    "    constraint_duals = [:CopperPlateBalance, :network_flow],\n",
    "    PTDF = PTDF_matrix,\n",
    ")"
   ],
   "metadata": {},
   "execution_count": 7
  },
  {
   "cell_type": "markdown",
   "source": [
    "And solve the problem and collect the results"
   ],
   "metadata": {}
  },
  {
   "outputs": [
    {
     "name": "stdout",
     "output_type": "stream",
     "text": [
      "This is Ipopt version 3.13.2, running with linear solver mumps.\n",
      "NOTE: Other linear solvers might be more efficient (see Ipopt documentation).\n",
      "\n",
      "Number of nonzeros in equality constraint Jacobian...:   128292\n",
      "Number of nonzeros in inequality constraint Jacobian.:     1748\n",
      "Number of nonzeros in Lagrangian Hessian.............:        0\n",
      "\n",
      "Total number of variables............................:     2724\n",
      "                     variables with only lower bounds:      584\n",
      "                variables with lower and upper bounds:     1656\n",
      "                     variables with only upper bounds:        0\n",
      "Total number of equality constraints.................:      776\n",
      "Total number of inequality constraints...............:     1772\n",
      "        inequality constraints with only lower bounds:      788\n",
      "   inequality constraints with lower and upper bounds:        0\n",
      "        inequality constraints with only upper bounds:      984\n",
      "\n",
      "iter    objective    inf_pr   inf_du lg(mu)  ||d||  lg(rg) alpha_du alpha_pr  ls\n",
      "   0  5.8478583e+06 5.39e+01 9.96e+01  -1.0 0.00e+00    -  0.00e+00 0.00e+00   0\n",
      "   1  1.1005963e+06 5.34e+01 9.92e+01  -1.0 3.34e+00    -  3.04e-03 9.04e-03f  1\n",
      "   2  1.2671090e+06 5.24e+01 9.76e+01  -1.0 3.95e+00    -  1.50e-02 1.88e-02f  1\n",
      "   3  3.2900205e+05 5.08e+01 9.44e+01  -1.0 3.93e+00    -  3.22e-02 3.10e-02f  1\n",
      "   4  2.1752006e+06 3.65e+01 8.01e+01  -1.0 3.84e+00    -  1.52e-01 2.81e-01f  1\n",
      "   5  5.1877278e+05 2.81e+01 3.90e+01  -1.0 2.66e+00    -  5.20e-01 2.31e-01f  1\n",
      "   6  7.7353325e+05 1.60e+01 1.83e+01  -1.0 2.08e+00    -  5.36e-01 4.29e-01f  1\n",
      "   7  8.6295446e+05 7.39e+00 2.81e+01  -1.0 1.18e+00    -  9.88e-01 5.39e-01h  1\n",
      "   8  8.7458111e+05 5.54e+00 1.17e+02  -1.0 5.34e-01    -  1.00e+00 2.51e-01h  1\n",
      "   9  9.0674183e+05 5.09e+00 1.63e+02  -1.0 3.70e-01    -  2.45e-01 8.09e-02h  1\n",
      "iter    objective    inf_pr   inf_du lg(mu)  ||d||  lg(rg) alpha_du alpha_pr  ls\n",
      "  10  1.8945614e+06 4.64e+00 1.40e+02  -1.0 3.77e-01    -  3.04e-02 8.90e-02h  1\n",
      "  11  3.4404815e+06 4.15e+00 1.27e+02  -1.0 3.44e-01    -  1.15e-01 1.05e-01h  1\n",
      "  12  8.3897065e+06 2.92e+00 9.58e+01  -1.0 3.08e-01    -  4.46e-02 2.97e-01h  1\n",
      "  13  1.4965636e+07 1.32e+00 1.49e+02  -1.0 2.63e-01    -  1.00e+00 5.47e-01h  1\n",
      "  14  1.9936931e+07 1.14e-01 6.89e+01  -1.0 9.82e-02    -  1.00e+00 9.14e-01h  1\n",
      "  15  2.0059882e+07 8.41e-02 5.58e+03  -1.0 2.11e-01    -  1.00e+00 2.60e-01h  1\n",
      "  16  2.0273162e+07 3.19e-02 5.99e+03  -1.0 3.01e-02    -  1.00e+00 6.21e-01h  1\n",
      "  17  2.0350047e+07 1.32e-02 1.36e+04  -1.0 1.18e-02    -  1.00e+00 5.85e-01h  1\n",
      "  18  2.0381814e+07 5.47e-03 3.21e+04  -1.0 4.86e-03    -  1.00e+00 5.87e-01h  1\n",
      "  19  2.0395144e+07 2.23e-03 7.56e+04  -1.0 2.01e-03    -  1.00e+00 5.92e-01h  1\n",
      "iter    objective    inf_pr   inf_du lg(mu)  ||d||  lg(rg) alpha_du alpha_pr  ls\n",
      "  20  2.0395485e+07 2.15e-03 4.21e+05  -1.0 8.19e-04    -  1.00e+00 3.75e-02f  5\n",
      "  21  2.0402420e+07 4.52e-04 1.65e+05  -1.0 7.89e-04    -  1.00e+00 7.90e-01h  1\n",
      "  22  2.0402561e+07 4.17e-04 1.48e+06  -1.0 1.66e-04    -  1.00e+00 7.62e-02f  4\n",
      "  23  2.0404035e+07 5.90e-05 3.93e+05  -1.0 1.54e-04    -  1.00e+00 8.59e-01h  1\n",
      "  24  2.0404127e+07 3.65e-05 2.55e+06  -1.0 2.16e-05    -  1.00e+00 3.81e-01f  2\n",
      "  25  2.0404276e+07 7.11e-14 1.00e-06  -1.0 1.34e-05    -  1.00e+00 1.00e+00h  1\n",
      "  26  1.9433089e+07 7.11e-14 1.14e+06  -5.7 8.67e-02    -  8.61e-01 9.84e-01f  1\n",
      "  27  1.9415808e+07 8.53e-14 4.24e+05  -5.7 3.28e-01    -  6.65e-01 9.55e-01f  1\n",
      "  28  1.9408780e+07 6.39e-14 1.36e+05  -5.7 2.57e-01    -  6.83e-01 8.52e-01f  1\n",
      "  29  1.9404010e+07 4.97e-14 4.37e+04  -5.7 1.74e-01    -  6.79e-01 8.39e-01f  1\n",
      "iter    objective    inf_pr   inf_du lg(mu)  ||d||  lg(rg) alpha_du alpha_pr  ls\n",
      "  30  1.9401508e+07 4.26e-14 1.36e+04  -5.7 2.00e-01    -  6.89e-01 8.14e-01f  1\n",
      "  31  1.9400877e+07 4.97e-14 4.04e+03  -5.7 8.80e-02    -  7.03e-01 8.58e-01f  1\n",
      "  32  1.9400808e+07 4.97e-14 1.03e+03  -5.7 4.44e-02    -  7.45e-01 8.35e-01f  1\n",
      "  33  1.9400796e+07 4.26e-14 8.97e-02  -5.7 1.14e-02    -  1.00e+00 9.27e-01f  1\n",
      "  34  1.9400796e+07 1.99e-13 1.85e-11  -5.7 5.85e-03    -  1.00e+00 1.00e+00f  1\n",
      "  35  1.9400767e+07 9.24e-14 2.74e+01  -8.6 1.08e-03    -  8.51e-01 1.00e+00f  1\n",
      "  36  1.9400767e+07 1.42e-13 5.68e-14  -8.6 5.29e-06    -  1.00e+00 1.00e+00f  1\n",
      "\n",
      "Number of Iterations....: 36\n",
      "\n",
      "                                   (scaled)                 (unscaled)\n",
      "Objective...............:   1.9400766717172296e+03    1.9400766717172295e+07\n",
      "Dual infeasibility......:   5.6843418860808015e-14    5.6843418860808015e-10\n",
      "Constraint violation....:   1.4210854715202004e-13    1.4210854715202004e-13\n",
      "Complementarity.........:   3.3848635821075839e-09    3.3848635821075835e-05\n",
      "Overall NLP error.......:   3.3848635821075839e-09    3.3848635821075835e-05\n",
      "\n",
      "\n",
      "Number of objective function evaluations             = 45\n",
      "Number of objective gradient evaluations             = 37\n",
      "Number of equality constraint evaluations            = 45\n",
      "Number of inequality constraint evaluations          = 45\n",
      "Number of equality constraint Jacobian evaluations   = 1\n",
      "Number of inequality constraint Jacobian evaluations = 1\n",
      "Number of Lagrangian Hessian evaluations             = 1\n",
      "Total CPU secs in IPOPT (w/o function evaluations)   =      2.817\n",
      "Total CPU secs in NLP function evaluations           =      0.046\n",
      "\n",
      "EXIT: Optimal Solution Found.\n"
     ]
    }
   ],
   "cell_type": "code",
   "source": [
    "res = solve!(problem);"
   ],
   "metadata": {},
   "execution_count": 8
  },
  {
   "cell_type": "markdown",
   "source": [
    "Here we collect the dual values from the results for the `CopperPlateBalance` and `network_flow`\n",
    "constraints. In the case of PTDF network formulation we need to compute the final LMP for each bus in the system by\n",
    "subtracting the duals (μ) of `network_flow` constraint multiplied by the PTDF matrix\n",
    "from the  dual (λ) of `CopperPlateBalance` constraint.\n",
    "Note:we convert the results from DataFrame to Array for ease of use."
   ],
   "metadata": {}
  },
  {
   "outputs": [
    {
     "output_type": "execute_result",
     "data": {
      "text/plain": "4×120 Array{Float64,2}:\n 7.0463e-7   -1.29409e-7  4.95498e-6  3.14463e-6  …  -1.25954e-6  -2.86259e-6\n 7.60597e-7  -3.13817e-7  4.90393e-6  3.07754e-6     -1.07287e-6  -2.45536e-6\n 7.96643e-7  -4.36166e-7  4.85931e-6  3.02045e-6     -9.46744e-7  -2.17358e-6\n 8.29101e-7  -5.66171e-7  4.77752e-6  2.93175e-6     -8.14169e-7  -1.87254e-6"
     },
     "metadata": {},
     "execution_count": 9
    }
   ],
   "cell_type": "code",
   "source": [
    "λ = convert(Array, res.dual_values[:CopperPlateBalance])\n",
    "μ = convert(Array, res.dual_values[:network_flow])"
   ],
   "metadata": {},
   "execution_count": 9
  },
  {
   "cell_type": "markdown",
   "source": [
    "Here we create Dict to store the calculate congestion component of the LMP which is a product of μ and the PTDF matrix."
   ],
   "metadata": {}
  },
  {
   "outputs": [
    {
     "output_type": "execute_result",
     "data": {
      "text/plain": "\u001b[1m4×73 DataFrame\u001b[0m\n\u001b[1m Row \u001b[0m│\u001b[1m Abel        \u001b[0m\u001b[1m Adams       \u001b[0m\u001b[1m Adler       \u001b[0m\u001b[1m Agricola    \u001b[0m\u001b[1m Aiken       \u001b[0m\u001b[1m Alber \u001b[0m ⋯\n\u001b[1m     \u001b[0m│\u001b[90m Float64     \u001b[0m\u001b[90m Float64     \u001b[0m\u001b[90m Float64     \u001b[0m\u001b[90m Float64     \u001b[0m\u001b[90m Float64     \u001b[0m\u001b[90m Float6\u001b[0m ⋯\n─────┼──────────────────────────────────────────────────────────────────────────\n   1 │ -3.41569e-8  -9.06212e-7  -2.01344e-7  -3.9962e-6   -3.85315e-6  -6.953 ⋯\n   2 │ -3.87865e-7  -1.31838e-6  -2.69864e-7  -4.35011e-6  -4.18129e-6  -7.330\n   3 │ -6.53542e-7  -1.62258e-6  -3.40933e-7  -4.60204e-6  -4.41636e-6  -7.634\n   4 │ -1.07537e-6  -2.08096e-6  -5.30728e-7  -4.97512e-6  -4.77263e-6  -8.109\n\u001b[31m                                                              68 columns omitted\u001b[0m",
      "text/html": [
       "<table class=\"data-frame\"><thead><tr><th></th><th>Abel</th><th>Adams</th><th>Adler</th><th>Agricola</th><th>Aiken</th><th>Alber</th><th>Alder</th></tr><tr><th></th><th>Float64</th><th>Float64</th><th>Float64</th><th>Float64</th><th>Float64</th><th>Float64</th><th>Float64</th></tr></thead><tbody><p>4 rows × 73 columns (omitted printing of 66 columns)</p><tr><th>1</th><td>-3.41569e-8</td><td>-9.06212e-7</td><td>-2.01344e-7</td><td>-3.9962e-6</td><td>-3.85315e-6</td><td>-6.95364e-6</td><td>9.60362e-6</td></tr><tr><th>2</th><td>-3.87865e-7</td><td>-1.31838e-6</td><td>-2.69864e-7</td><td>-4.35011e-6</td><td>-4.18129e-6</td><td>-7.33061e-6</td><td>9.56838e-6</td></tr><tr><th>3</th><td>-6.53542e-7</td><td>-1.62258e-6</td><td>-3.40933e-7</td><td>-4.60204e-6</td><td>-4.41636e-6</td><td>-7.63447e-6</td><td>9.55733e-6</td></tr><tr><th>4</th><td>-1.07537e-6</td><td>-2.08096e-6</td><td>-5.30728e-7</td><td>-4.97512e-6</td><td>-4.77263e-6</td><td>-8.10939e-6</td><td>9.65538e-6</td></tr></tbody></table>"
      ]
     },
     "metadata": {},
     "execution_count": 10
    }
   ],
   "cell_type": "code",
   "source": [
    "buses = get_components(Bus, sys)\n",
    "congestion_lmp = Dict()\n",
    "for bus in buses\n",
    "    congestion_lmp[get_name(bus)] = μ * PTDF_matrix[:, get_number(bus)]\n",
    "end\n",
    "congestion_lmp = DataFrame(congestion_lmp)"
   ],
   "metadata": {},
   "execution_count": 10
  },
  {
   "cell_type": "markdown",
   "source": [
    "Finally here we get the LMP for each node in a lossless DC-OPF using the PTDF formulation."
   ],
   "metadata": {}
  },
  {
   "outputs": [
    {
     "output_type": "execute_result",
     "data": {
      "text/plain": "\u001b[1m4×73 DataFrame\u001b[0m\n\u001b[1m Row \u001b[0m│\u001b[1m Abel    \u001b[0m\u001b[1m Adams   \u001b[0m\u001b[1m Adler   \u001b[0m\u001b[1m Agricola \u001b[0m\u001b[1m Aiken   \u001b[0m\u001b[1m Alber   \u001b[0m\u001b[1m Alder   \u001b[0m\u001b[1m Alger  \u001b[0m ⋯\n\u001b[1m     \u001b[0m│\u001b[90m Float64 \u001b[0m\u001b[90m Float64 \u001b[0m\u001b[90m Float64 \u001b[0m\u001b[90m Float64  \u001b[0m\u001b[90m Float64 \u001b[0m\u001b[90m Float64 \u001b[0m\u001b[90m Float64 \u001b[0m\u001b[90m Float64\u001b[0m ⋯\n─────┼──────────────────────────────────────────────────────────────────────────\n   1 │  -1.0e6   -1.0e6   -1.0e6    -1.0e6   -1.0e6   -1.0e6   -1.0e6   -1.0e6 ⋯\n   2 │  -1.0e6   -1.0e6   -1.0e6    -1.0e6   -1.0e6   -1.0e6   -1.0e6   -1.0e6\n   3 │  -1.0e6   -1.0e6   -1.0e6    -1.0e6   -1.0e6   -1.0e6   -1.0e6   -1.0e6\n   4 │  -1.0e6   -1.0e6   -1.0e6    -1.0e6   -1.0e6   -1.0e6   -1.0e6   -1.0e6\n\u001b[31m                                                              65 columns omitted\u001b[0m",
      "text/html": [
       "<table class=\"data-frame\"><thead><tr><th></th><th>Abel</th><th>Adams</th><th>Adler</th><th>Agricola</th><th>Aiken</th><th>Alber</th><th>Alder</th><th>Alger</th><th>Ali</th></tr><tr><th></th><th>Float64</th><th>Float64</th><th>Float64</th><th>Float64</th><th>Float64</th><th>Float64</th><th>Float64</th><th>Float64</th><th>Float64</th></tr></thead><tbody><p>4 rows × 73 columns (omitted printing of 64 columns)</p><tr><th>1</th><td>-1.0e6</td><td>-1.0e6</td><td>-1.0e6</td><td>-1.0e6</td><td>-1.0e6</td><td>-1.0e6</td><td>-1.0e6</td><td>-1.0e6</td><td>-1.0e6</td></tr><tr><th>2</th><td>-1.0e6</td><td>-1.0e6</td><td>-1.0e6</td><td>-1.0e6</td><td>-1.0e6</td><td>-1.0e6</td><td>-1.0e6</td><td>-1.0e6</td><td>-1.0e6</td></tr><tr><th>3</th><td>-1.0e6</td><td>-1.0e6</td><td>-1.0e6</td><td>-1.0e6</td><td>-1.0e6</td><td>-1.0e6</td><td>-1.0e6</td><td>-1.0e6</td><td>-1.0e6</td></tr><tr><th>4</th><td>-1.0e6</td><td>-1.0e6</td><td>-1.0e6</td><td>-1.0e6</td><td>-1.0e6</td><td>-1.0e6</td><td>-1.0e6</td><td>-1.0e6</td><td>-1.0e6</td></tr></tbody></table>"
      ]
     },
     "metadata": {},
     "execution_count": 11
    }
   ],
   "cell_type": "code",
   "source": [
    "LMP = λ .- congestion_lmp"
   ],
   "metadata": {},
   "execution_count": 11
  },
  {
   "cell_type": "markdown",
   "source": [
    "---\n",
    "\n",
    "*This notebook was generated using [Literate.jl](https://github.com/fredrikekre/Literate.jl).*"
   ],
   "metadata": {}
  }
 ],
 "nbformat_minor": 3,
 "metadata": {
  "language_info": {
   "file_extension": ".jl",
   "mimetype": "application/julia",
   "name": "julia",
   "version": "1.5.2"
  },
  "kernelspec": {
   "name": "julia-1.5",
   "display_name": "Julia 1.5.2",
   "language": "julia"
  }
 },
 "nbformat": 4
}
