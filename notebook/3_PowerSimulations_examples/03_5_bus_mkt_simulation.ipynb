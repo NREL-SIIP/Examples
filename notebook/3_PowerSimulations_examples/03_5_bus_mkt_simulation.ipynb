{
 "cells": [
  {
   "cell_type": "markdown",
   "source": [
    "# 5-bus Market simulation with [PowerSimulations.jl](https://github.com/NREL-SIIP/PowerSimulations.jl)"
   ],
   "metadata": {}
  },
  {
   "cell_type": "markdown",
   "source": [
    "**Originally Contributed by**: Clayton Barrows"
   ],
   "metadata": {}
  },
  {
   "cell_type": "markdown",
   "source": [
    "## Introduction"
   ],
   "metadata": {}
  },
  {
   "cell_type": "markdown",
   "source": [
    "PowerSimulations.jl supports simulations that consist of sequential optimization problems\n",
    "where results from previous problems inform subsequent problems in a variety of ways. This\n",
    "example demonstrates some of these capabilities to represent electricity market clearing."
   ],
   "metadata": {}
  },
  {
   "cell_type": "markdown",
   "source": [
    "## Dependencies and Data\n",
    "First, let's create `System`s to represent the Day-Ahead and Real-Time market clearing\n",
    "process with hourly, and 5-minute time series data, respectively."
   ],
   "metadata": {}
  },
  {
   "cell_type": "markdown",
   "source": [
    "### Modeling Packages"
   ],
   "metadata": {}
  },
  {
   "outputs": [
    {
     "output_type": "execute_result",
     "data": {
      "text/plain": "InfrastructureSystems"
     },
     "metadata": {},
     "execution_count": 1
    }
   ],
   "cell_type": "code",
   "source": [
    "using PowerSystems\n",
    "using PowerSimulations\n",
    "const PSI = PowerSimulations\n",
    "IS = PowerSystems.IS"
   ],
   "metadata": {},
   "execution_count": 1
  },
  {
   "cell_type": "markdown",
   "source": [
    "### Data management packages"
   ],
   "metadata": {}
  },
  {
   "outputs": [],
   "cell_type": "code",
   "source": [
    "using Dates\n",
    "using DataFrames"
   ],
   "metadata": {},
   "execution_count": 2
  },
  {
   "cell_type": "markdown",
   "source": [
    "### Optimization packages"
   ],
   "metadata": {}
  },
  {
   "outputs": [
    {
     "output_type": "execute_result",
     "data": {
      "text/plain": "MathOptInterface.OptimizerWithAttributes(Ipopt.Optimizer, Pair{MathOptInterface.AbstractOptimizerAttribute,Any}[MathOptInterface.RawParameter(\"print_level\") => 0])"
     },
     "metadata": {},
     "execution_count": 3
    }
   ],
   "cell_type": "code",
   "source": [
    "using Cbc # mip solver\n",
    "solver = optimizer_with_attributes(Cbc.Optimizer, \"logLevel\" => 1, \"ratioGap\" => 0.5)\n",
    "using Ipopt # solver that supports duals\n",
    "ipopt_solver = optimizer_with_attributes(Ipopt.Optimizer, \"print_level\" => 0)"
   ],
   "metadata": {},
   "execution_count": 3
  },
  {
   "cell_type": "markdown",
   "source": [
    "### 5-bus Data\n",
    "The five bus system data here includes hourly day-ahead data, 5-minute real-time market\n",
    "data, and 6-second actual data. We'll only use the hourly and 5-minute data for the\n",
    "example simulations below, but the 6-second data is included for future development."
   ],
   "metadata": {}
  },
  {
   "outputs": [
    {
     "name": "stdout",
     "output_type": "stream",
     "text": [
      "┌ Info: extending matpower format with data: areas 1x3\n",
      "└ @ PowerSystems /Users/cbarrows/.julia/packages/PowerSystems/r86iN/src/parsers/pm_io/matpower.jl:362\n",
      "┌ Info: extending matpower format with data: gen_name 7x4\n",
      "└ @ PowerSystems /Users/cbarrows/.julia/packages/PowerSystems/r86iN/src/parsers/pm_io/matpower.jl:362\n",
      "┌ Info: extending matpower format by appending matrix \"gen_name\" in to \"gen\"\n",
      "└ @ PowerSystems /Users/cbarrows/.julia/packages/PowerSystems/r86iN/src/parsers/pm_io/matpower.jl:703\n",
      "┌ Info: reversing the orientation of branch 6 (4, 3) to be consistent with other parallel branches\n",
      "└ @ PowerSystems /Users/cbarrows/.julia/packages/PowerSystems/r86iN/src/parsers/pm_io/data.jl:1222\n",
      "┌ Info: the voltage setpoint on generator 4 does not match the value at bus 4\n",
      "└ @ PowerSystems /Users/cbarrows/.julia/packages/PowerSystems/r86iN/src/parsers/pm_io/data.jl:1779\n",
      "┌ Info: the voltage setpoint on generator 1 does not match the value at bus 1\n",
      "└ @ PowerSystems /Users/cbarrows/.julia/packages/PowerSystems/r86iN/src/parsers/pm_io/data.jl:1779\n",
      "┌ Info: the voltage setpoint on generator 5 does not match the value at bus 10\n",
      "└ @ PowerSystems /Users/cbarrows/.julia/packages/PowerSystems/r86iN/src/parsers/pm_io/data.jl:1779\n",
      "┌ Info: the voltage setpoint on generator 2 does not match the value at bus 1\n",
      "└ @ PowerSystems /Users/cbarrows/.julia/packages/PowerSystems/r86iN/src/parsers/pm_io/data.jl:1779\n",
      "┌ Info: the voltage setpoint on generator 3 does not match the value at bus 3\n",
      "└ @ PowerSystems /Users/cbarrows/.julia/packages/PowerSystems/r86iN/src/parsers/pm_io/data.jl:1779\n",
      "┌ Info: removing 1 cost terms from generator 4: [4000.0, 0.0]\n",
      "└ @ PowerSystems /Users/cbarrows/.julia/packages/PowerSystems/r86iN/src/parsers/pm_io/data.jl:1972\n",
      "┌ Info: removing 1 cost terms from generator 1: [1400.0, 0.0]\n",
      "└ @ PowerSystems /Users/cbarrows/.julia/packages/PowerSystems/r86iN/src/parsers/pm_io/data.jl:1972\n",
      "┌ Info: removing 1 cost terms from generator 5: [1000.0, 0.0]\n",
      "└ @ PowerSystems /Users/cbarrows/.julia/packages/PowerSystems/r86iN/src/parsers/pm_io/data.jl:1972\n",
      "┌ Info: removing 1 cost terms from generator 2: [1500.0, 0.0]\n",
      "└ @ PowerSystems /Users/cbarrows/.julia/packages/PowerSystems/r86iN/src/parsers/pm_io/data.jl:1972\n",
      "┌ Info: removing 3 cost terms from generator 6: Float64[]\n",
      "└ @ PowerSystems /Users/cbarrows/.julia/packages/PowerSystems/r86iN/src/parsers/pm_io/data.jl:1972\n",
      "┌ Info: removing 3 cost terms from generator 7: Float64[]\n",
      "└ @ PowerSystems /Users/cbarrows/.julia/packages/PowerSystems/r86iN/src/parsers/pm_io/data.jl:1972\n",
      "┌ Info: removing 1 cost terms from generator 3: [3000.0, 0.0]\n",
      "└ @ PowerSystems /Users/cbarrows/.julia/packages/PowerSystems/r86iN/src/parsers/pm_io/data.jl:1972\n",
      "┌ Info: Constructing System from Power Models\n",
      "│   data[\"name\"] = nesta_case5_pjm\n",
      "│   data[\"source_type\"] = matpower\n",
      "└ @ PowerSystems /Users/cbarrows/.julia/packages/PowerSystems/r86iN/src/parsers/power_models_data.jl:52\n",
      "┌ Info: Reading bus data\n",
      "└ @ PowerSystems /Users/cbarrows/.julia/packages/PowerSystems/r86iN/src/parsers/power_models_data.jl:173\n",
      "┌ Info: Reading generator data\n",
      "└ @ PowerSystems /Users/cbarrows/.julia/packages/PowerSystems/r86iN/src/parsers/power_models_data.jl:482\n",
      "┌ Info: Reading branch data\n",
      "└ @ PowerSystems /Users/cbarrows/.julia/packages/PowerSystems/r86iN/src/parsers/power_models_data.jl:626\n",
      "┌ Info: Reading branch data\n",
      "└ @ PowerSystems /Users/cbarrows/.julia/packages/PowerSystems/r86iN/src/parsers/power_models_data.jl:688\n",
      "┌ Info: Reading DC Line data\n",
      "└ @ PowerSystems /Users/cbarrows/.julia/packages/PowerSystems/r86iN/src/parsers/power_models_data.jl:660\n",
      "┌ Info: Reading storage data\n",
      "└ @ PowerSystems /Users/cbarrows/.julia/packages/PowerSystems/r86iN/src/parsers/power_models_data.jl:707\n",
      "┌ Warning: no component category=PowerSystems.Generator name=HydroDispatch1\n",
      "└ @ InfrastructureSystems /Users/cbarrows/.julia/packages/InfrastructureSystems/i88mL/src/system_data.jl:447\n",
      "┌ Warning: no component category=PowerSystems.Generator name=HydroDispatch2\n",
      "└ @ InfrastructureSystems /Users/cbarrows/.julia/packages/InfrastructureSystems/i88mL/src/system_data.jl:447\n",
      "┌ Warning: no component category=PowerSystems.Generator name=HydroDispatch3\n",
      "└ @ InfrastructureSystems /Users/cbarrows/.julia/packages/InfrastructureSystems/i88mL/src/system_data.jl:447\n",
      "┌ Warning: no component category=PowerSystems.Generator name=HydroDispatch1\n",
      "└ @ InfrastructureSystems /Users/cbarrows/.julia/packages/InfrastructureSystems/i88mL/src/system_data.jl:447\n",
      "┌ Warning: no component category=PowerSystems.Generator name=HydroDispatch2\n",
      "└ @ InfrastructureSystems /Users/cbarrows/.julia/packages/InfrastructureSystems/i88mL/src/system_data.jl:447\n",
      "┌ Warning: no component category=PowerSystems.Generator name=HydroDispatch3\n",
      "└ @ InfrastructureSystems /Users/cbarrows/.julia/packages/InfrastructureSystems/i88mL/src/system_data.jl:447\n",
      "┌ Warning: no component category=PowerSystems.Generator name=HydroDispatch1\n",
      "└ @ InfrastructureSystems /Users/cbarrows/.julia/packages/InfrastructureSystems/i88mL/src/system_data.jl:447\n",
      "┌ Warning: no component category=PowerSystems.Generator name=HydroDispatch3\n",
      "└ @ InfrastructureSystems /Users/cbarrows/.julia/packages/InfrastructureSystems/i88mL/src/system_data.jl:447\n",
      "┌ Warning: no component category=PowerSystems.Generator name=HydroDispatch1\n",
      "└ @ InfrastructureSystems /Users/cbarrows/.julia/packages/InfrastructureSystems/i88mL/src/system_data.jl:447\n",
      "┌ Warning: no component category=PowerSystems.Generator name=HydroDispatch3\n",
      "└ @ InfrastructureSystems /Users/cbarrows/.julia/packages/InfrastructureSystems/i88mL/src/system_data.jl:447\n",
      "┌ Info: Constructing System from Power Models\n",
      "│   data[\"name\"] = nesta_case5_pjm\n",
      "│   data[\"source_type\"] = matpower\n",
      "└ @ PowerSystems /Users/cbarrows/.julia/packages/PowerSystems/r86iN/src/parsers/power_models_data.jl:52\n",
      "┌ Info: Reading bus data\n",
      "└ @ PowerSystems /Users/cbarrows/.julia/packages/PowerSystems/r86iN/src/parsers/power_models_data.jl:173\n",
      "┌ Info: Reading generator data\n",
      "└ @ PowerSystems /Users/cbarrows/.julia/packages/PowerSystems/r86iN/src/parsers/power_models_data.jl:482\n",
      "┌ Info: Reading branch data\n",
      "└ @ PowerSystems /Users/cbarrows/.julia/packages/PowerSystems/r86iN/src/parsers/power_models_data.jl:626\n",
      "┌ Info: Reading branch data\n",
      "└ @ PowerSystems /Users/cbarrows/.julia/packages/PowerSystems/r86iN/src/parsers/power_models_data.jl:688\n",
      "┌ Info: Reading DC Line data\n",
      "└ @ PowerSystems /Users/cbarrows/.julia/packages/PowerSystems/r86iN/src/parsers/power_models_data.jl:660\n",
      "┌ Info: Reading storage data\n",
      "└ @ PowerSystems /Users/cbarrows/.julia/packages/PowerSystems/r86iN/src/parsers/power_models_data.jl:707\n",
      "┌ Warning: no component category=PowerSystems.Generator name=HydroDispatch1\n",
      "└ @ InfrastructureSystems /Users/cbarrows/.julia/packages/InfrastructureSystems/i88mL/src/system_data.jl:447\n",
      "┌ Warning: no component category=PowerSystems.Generator name=HydroDispatch2\n",
      "└ @ InfrastructureSystems /Users/cbarrows/.julia/packages/InfrastructureSystems/i88mL/src/system_data.jl:447\n",
      "┌ Warning: no component category=PowerSystems.Generator name=HydroDispatch3\n",
      "└ @ InfrastructureSystems /Users/cbarrows/.julia/packages/InfrastructureSystems/i88mL/src/system_data.jl:447\n",
      "┌ Warning: no component category=PowerSystems.Generator name=HydroDispatch1\n",
      "└ @ InfrastructureSystems /Users/cbarrows/.julia/packages/InfrastructureSystems/i88mL/src/system_data.jl:447\n",
      "┌ Warning: no component category=PowerSystems.Generator name=HydroDispatch3\n",
      "└ @ InfrastructureSystems /Users/cbarrows/.julia/packages/InfrastructureSystems/i88mL/src/system_data.jl:447\n",
      "┌ Warning: no component category=PowerSystems.Generator name=HydroDispatch1\n",
      "└ @ InfrastructureSystems /Users/cbarrows/.julia/packages/InfrastructureSystems/i88mL/src/system_data.jl:447\n",
      "┌ Warning: no component category=PowerSystems.Generator name=HydroDispatch3\n",
      "└ @ InfrastructureSystems /Users/cbarrows/.julia/packages/InfrastructureSystems/i88mL/src/system_data.jl:447\n",
      "┌ Warning: no component category=PowerSystems.Generator name=HydroDispatch1\n",
      "└ @ InfrastructureSystems /Users/cbarrows/.julia/packages/InfrastructureSystems/i88mL/src/system_data.jl:447\n",
      "┌ Warning: no component category=PowerSystems.Generator name=HydroDispatch3\n",
      "└ @ InfrastructureSystems /Users/cbarrows/.julia/packages/InfrastructureSystems/i88mL/src/system_data.jl:447\n",
      "┌ Info: Constructing System from Power Models\n",
      "│   data[\"name\"] = nesta_case5_pjm\n",
      "│   data[\"source_type\"] = matpower\n",
      "└ @ PowerSystems /Users/cbarrows/.julia/packages/PowerSystems/r86iN/src/parsers/power_models_data.jl:52\n",
      "┌ Info: Reading bus data\n",
      "└ @ PowerSystems /Users/cbarrows/.julia/packages/PowerSystems/r86iN/src/parsers/power_models_data.jl:173\n",
      "┌ Info: Reading generator data\n",
      "└ @ PowerSystems /Users/cbarrows/.julia/packages/PowerSystems/r86iN/src/parsers/power_models_data.jl:482\n",
      "┌ Info: Reading branch data\n",
      "└ @ PowerSystems /Users/cbarrows/.julia/packages/PowerSystems/r86iN/src/parsers/power_models_data.jl:626\n",
      "┌ Info: Reading branch data\n",
      "└ @ PowerSystems /Users/cbarrows/.julia/packages/PowerSystems/r86iN/src/parsers/power_models_data.jl:688\n",
      "┌ Info: Reading DC Line data\n",
      "└ @ PowerSystems /Users/cbarrows/.julia/packages/PowerSystems/r86iN/src/parsers/power_models_data.jl:660\n",
      "┌ Info: Reading storage data\n",
      "└ @ PowerSystems /Users/cbarrows/.julia/packages/PowerSystems/r86iN/src/parsers/power_models_data.jl:707\n"
     ]
    }
   ],
   "cell_type": "code",
   "source": [
    "base_dir = PowerSystems.download(PowerSystems.TestData; branch = \"master\");\n",
    "pm_data = PowerSystems.PowerModelsData(joinpath(base_dir, \"matpower\", \"case5_re_uc.m\"))\n",
    "\n",
    "FORECASTS_DIR = joinpath(base_dir, \"forecasts\", \"5bus_ts\", \"7day\")\n",
    "\n",
    "tsp_da = IS.read_time_series_file_metadata(\n",
    "    joinpath(FORECASTS_DIR, \"timeseries_pointers_da_7day.json\"),\n",
    ")\n",
    "tsp_rt = IS.read_time_series_file_metadata(\n",
    "    joinpath(FORECASTS_DIR, \"timeseries_pointers_rt_7day.json\"),\n",
    ")\n",
    "tsp_agc = IS.read_time_series_file_metadata(\n",
    "    joinpath(FORECASTS_DIR, \"timeseries_pointers_agc_7day.json\"),\n",
    ")\n",
    "\n",
    "sys_DA = System(pm_data)\n",
    "reserves = [\n",
    "    VariableReserve{ReserveUp}(\"REG1\", true, 5.0, 0.1),\n",
    "    VariableReserve{ReserveUp}(\"REG2\", true, 5.0, 0.06),\n",
    "    VariableReserve{ReserveUp}(\"REG3\", true, 5.0, 0.03),\n",
    "    VariableReserve{ReserveUp}(\"REG4\", true, 5.0, 0.02),\n",
    "]\n",
    "contributing_devices = get_components(Generator, sys_DA)\n",
    "for r in reserves\n",
    "    add_service!(sys_DA, r, contributing_devices)\n",
    "end\n",
    "\n",
    "add_time_series!(sys_DA, tsp_da)\n",
    "transform_single_time_series!(sys_DA, 48, Hour(24))\n",
    "\n",
    "sys_RT = System(pm_data)\n",
    "add_time_series!(sys_RT, tsp_rt)\n",
    "transform_single_time_series!(sys_RT, 12, Hour(1))\n",
    "\n",
    "sys_AGC = System(pm_data)\n",
    "add_time_series!(sys_AGC, tsp_agc)"
   ],
   "metadata": {},
   "execution_count": 4
  },
  {
   "cell_type": "markdown",
   "source": [
    "## `OperationsProblemTemplate`s"
   ],
   "metadata": {}
  },
  {
   "outputs": [
    {
     "output_type": "execute_result",
     "data": {
      "text/plain": "\nOperations Problem Specification\n============================================\n\n  transmission:  PowerSimulations.CopperPlatePowerModel\n============================================\n  devices: \n      HydroROR:\n        device_type = PowerSystems.HydroDispatch\n        formulation = PowerSimulations.HydroDispatchRunOfRiver\n      Generators:\n        device_type = PowerSystems.ThermalStandard\n        formulation = PowerSimulations.ThermalDispatch\n      Ren:\n        device_type = PowerSystems.RenewableDispatch\n        formulation = PowerSimulations.RenewableFullDispatch\n      Loads:\n        device_type = PowerSystems.PowerLoad\n        formulation = PowerSimulations.StaticPowerLoad\n      RenFx:\n        device_type = PowerSystems.RenewableFix\n        formulation = PowerSimulations.FixedOutput\n============================================\n  branches: \n      T:\n        device_type = PowerSystems.Transformer2W\n        formulation = PowerSimulations.StaticTransformer\n      TT:\n        device_type = PowerSystems.TapTransformer\n        formulation = PowerSimulations.StaticTransformer\n      L:\n        device_type = PowerSystems.Line\n        formulation = PowerSimulations.StaticLine\n      DC:\n        device_type = PowerSystems.HVDCLine\n        formulation = PowerSimulations.HVDCDispatch\n============================================\n  services: \n============================================\n"
     },
     "metadata": {},
     "execution_count": 5
    }
   ],
   "cell_type": "code",
   "source": [
    "template_uc = template_unit_commitment()\n",
    "devices = Dict(\n",
    "    :Generators => DeviceModel(ThermalStandard, ThermalDispatch),\n",
    "    :Ren => DeviceModel(RenewableDispatch, RenewableFullDispatch),\n",
    "    :Loads => DeviceModel(PowerLoad, StaticPowerLoad),\n",
    "    :HydroROR => DeviceModel(HydroDispatch, HydroDispatchRunOfRiver),\n",
    "    :RenFx => DeviceModel(RenewableFix, FixedOutput),\n",
    ")\n",
    "template_ed = template_economic_dispatch(devices = devices)"
   ],
   "metadata": {},
   "execution_count": 5
  },
  {
   "cell_type": "markdown",
   "source": [
    "### Define the Simulation Sequence"
   ],
   "metadata": {}
  },
  {
   "outputs": [
    {
     "output_type": "execute_result",
     "data": {
      "text/plain": "Feed Forward Chronology\n-----------------------\n\nED: PowerSimulations.SemiContinuousFF -> Generators\n\n                     UC--┐ from : On\n                         |\n┌----┬----┬----┬----┬----┼----┬----┬----┬----┬----┬----┐\n|    |    |    |    |    |    |    |    |    |    |    |\n|    |    |    |    |    |    |    |    |    |    |    |\n└─ED └─ED └─ED └─ED └─ED └─ED └─ED └─ED └─ED └─ED └─ED └─ED ... (x24) to : [\"P\"]\n\nInitial Condition Chronology\n----------------------------\n\n1\n|\n|\n2 --> 2 ... (x24)   \n"
     },
     "metadata": {},
     "execution_count": 6
    }
   ],
   "cell_type": "code",
   "source": [
    "stages_definition = Dict(\n",
    "    \"UC\" => Stage(\n",
    "        GenericOpProblem,\n",
    "        template_uc,\n",
    "        sys_DA,\n",
    "        solver,\n",
    "        balance_slack_variables = true,\n",
    "    ),\n",
    "    \"ED\" => Stage(\n",
    "        GenericOpProblem,\n",
    "        template_ed,\n",
    "        sys_RT,\n",
    "        ipopt_solver,\n",
    "        constraint_duals = [:CopperPlateBalance],\n",
    "    ),\n",
    ")\n",
    "\n",
    "feedforward_chronologies = Dict((\"UC\" => \"ED\") => Synchronize(periods = 24))\n",
    "\n",
    "feedforward = Dict(\n",
    "    (\"ED\", :devices, :Generators) => SemiContinuousFF(\n",
    "        binary_source_stage = PSI.ON,\n",
    "        affected_variables = [PSI.ACTIVE_POWER],\n",
    "    ),\n",
    ")\n",
    "\n",
    "cache = Dict(\"UC\" => [TimeStatusChange(ThermalStandard, PSI.ON)])\n",
    "\n",
    "order = Dict(1 => \"UC\", 2 => \"ED\")\n",
    "horizons = Dict(\"UC\" => 48, \"ED\" => 12)\n",
    "intervals = Dict(\"UC\" => (Hour(24), Consecutive()), \"ED\" => (Hour(1), Consecutive()))\n",
    "\n",
    "DA_RT_sequence = SimulationSequence(\n",
    "    step_resolution = Hour(24),\n",
    "    order = order,\n",
    "    horizons = horizons,\n",
    "    intervals = intervals,\n",
    "    ini_cond_chronology = InterStageChronology(),\n",
    "    feedforward_chronologies = feedforward_chronologies,\n",
    "    feedforward = feedforward,\n",
    ")"
   ],
   "metadata": {},
   "execution_count": 6
  },
  {
   "cell_type": "markdown",
   "source": [
    "## `Simulation`"
   ],
   "metadata": {}
  },
  {
   "outputs": [
    {
     "output_type": "execute_result",
     "data": {
      "text/plain": "Simulation()\n"
     },
     "metadata": {},
     "execution_count": 7
    }
   ],
   "cell_type": "code",
   "source": [
    "file_path = mkpath(joinpath(\".\",\"5-bus-simulation\"))\n",
    "sim = Simulation(\n",
    "    name = \"5bus-test\",\n",
    "    steps = 1,\n",
    "    stages = stages_definition,\n",
    "    stages_sequence = DA_RT_sequence,\n",
    "    simulation_folder = file_path,\n",
    ")"
   ],
   "metadata": {},
   "execution_count": 7
  },
  {
   "cell_type": "markdown",
   "source": [
    "### Build simulation"
   ],
   "metadata": {}
  },
  {
   "outputs": [
    {
     "output_type": "execute_result",
     "data": {
      "text/plain": "PowerSimulations.BuildStatusModule.BuildStatus.BUILT = 0"
     },
     "metadata": {},
     "execution_count": 8
    }
   ],
   "cell_type": "code",
   "source": [
    "build!(sim)"
   ],
   "metadata": {},
   "execution_count": 8
  },
  {
   "cell_type": "markdown",
   "source": [
    "### Execute simulation\n",
    "```julia"
   ],
   "metadata": {}
  },
  {
   "outputs": [
    {
     "name": "stdout",
     "output_type": "stream",
     "text": [
      "Welcome to the CBC MILP Solver \n",
      "Version: 2.10.3 \n",
      "Build Date: Nov  9 2020 \n",
      "\n",
      "command line - Cbc_C_Interface -ratioGap 0.5 -logLevel 1 -solve -quit (default strategy 1)\n",
      "ratioGap was changed from 0 to 0.5\n",
      "Continuous objective value is 3.29855e+07 - 0.01 seconds\n",
      "Cgl0004I processed model has 1208 rows, 2288 columns (710 integer (710 of which binary)) and 5496 elements\n",
      "Cbc0045I MIPStart provided solution with cost 1.96663e+08\n",
      "Cbc0012I Integer solution of 72203524 found by Reduced search after 0 iterations and 0 nodes (0.03 seconds)\n",
      "Cbc0012I Integer solution of 37453229 found by DiveCoefficient after 0 iterations and 0 nodes (0.07 seconds)\n",
      "Cbc0011I Exiting as integer gap of 4467772.5 less than 1e-10 or 50%\n",
      "Cbc0001I Search completed - best objective 37453229.45153248, took 0 iterations and 0 nodes (0.07 seconds)\n",
      "Cbc0035I Maximum depth 0, 0 variables fixed on reduced cost\n",
      "Cuts at root node changed objective from 3.29855e+07 to 3.29855e+07\n",
      "Probing was tried 0 times and created 0 cuts of which 0 were active after adding rounds of cuts (0.000 seconds)\n",
      "Gomory was tried 0 times and created 0 cuts of which 0 were active after adding rounds of cuts (0.000 seconds)\n",
      "Knapsack was tried 0 times and created 0 cuts of which 0 were active after adding rounds of cuts (0.000 seconds)\n",
      "Clique was tried 0 times and created 0 cuts of which 0 were active after adding rounds of cuts (0.000 seconds)\n",
      "MixedIntegerRounding2 was tried 0 times and created 0 cuts of which 0 were active after adding rounds of cuts (0.000 seconds)\n",
      "FlowCover was tried 0 times and created 0 cuts of which 0 were active after adding rounds of cuts (0.000 seconds)\n",
      "TwoMirCuts was tried 0 times and created 0 cuts of which 0 were active after adding rounds of cuts (0.000 seconds)\n",
      "ZeroHalf was tried 0 times and created 0 cuts of which 0 were active after adding rounds of cuts (0.000 seconds)\n",
      "\n",
      "Result - Optimal solution found (within gap tolerance)\n",
      "\n",
      "Objective value:                37453229.45153248\n",
      "Lower bound:                    32985456.917\n",
      "Gap:                            0.14\n",
      "Enumerated nodes:               0\n",
      "Total iterations:               0\n",
      "Time (CPU seconds):             0.09\n",
      "Time (Wallclock seconds):       0.10\n",
      "\n",
      "Total time (CPU seconds):       0.09   (Wallclock seconds):       0.10\n",
      "\n",
      "\rProgress:  96%|███████████████████████████████████████▍ |  ETA: 0:00:00\u001b[K\r\n",
      "  Step:                  1\u001b[K\r\n",
      "  Stage:                 ED\u001b[K\r\n",
      "  Simulation Timestamp:  2020-01-01T22:00:00\u001b[K\r\u001b[A\r\u001b[A\r\u001b[A\n",
      "\n",
      "\n",
      "\r\u001b[K\u001b[A\r\u001b[K\u001b[A\r\u001b[K\u001b[A\rProgress: 100%|█████████████████████████████████████████| Time: 0:00:01\u001b[K\r\n",
      "  Step:                  1\u001b[K\r\n",
      "  Stage:                 ED\u001b[K\r\n",
      "  Simulation Timestamp:  2020-01-01T23:00:00\u001b[K\n"
     ]
    },
    {
     "output_type": "execute_result",
     "data": {
      "text/plain": "PowerSimulations.RunStatusModule.RunStatus.SUCCESSFUL = 0"
     },
     "metadata": {},
     "execution_count": 9
    }
   ],
   "cell_type": "code",
   "source": [
    "execute!(sim)"
   ],
   "metadata": {},
   "execution_count": 9
  },
  {
   "cell_type": "markdown",
   "source": [
    "```"
   ],
   "metadata": {}
  },
  {
   "outputs": [],
   "cell_type": "code",
   "source": [
    "# Results"
   ],
   "metadata": {},
   "execution_count": 10
  },
  {
   "cell_type": "markdown",
   "source": [
    "First we can load the result metadata\n",
    "```julia\n",
    "results = SimulationResults(sim);\n",
    "uc_results = get_stage_results(results, \"UC\")\n",
    "ed_results = get_stage_results(results, \"ED\");\n",
    "```"
   ],
   "metadata": {}
  },
  {
   "cell_type": "markdown",
   "source": [
    "Then we can read and examine the results of interest\n",
    "```julia\n",
    "prices = read_dual(ed_results, :CopperPlateBalance)\n",
    "```"
   ],
   "metadata": {}
  },
  {
   "cell_type": "markdown",
   "source": [
    "or if we want to look at the realized values\n",
    "```julia\n",
    "read_realized_duals(ed_results)[:CopperPlateBalance]\n",
    "```"
   ],
   "metadata": {}
  },
  {
   "cell_type": "markdown",
   "source": [
    "*note that in this simulation the prices are all equal to the balance slack\n",
    "penalty value of $100000/MWh because there is unserved energy in the result*"
   ],
   "metadata": {}
  },
  {
   "cell_type": "markdown",
   "source": [
    "---\n",
    "\n",
    "*This notebook was generated using [Literate.jl](https://github.com/fredrikekre/Literate.jl).*"
   ],
   "metadata": {}
  }
 ],
 "nbformat_minor": 3,
 "metadata": {
  "language_info": {
   "file_extension": ".jl",
   "mimetype": "application/julia",
   "name": "julia",
   "version": "1.5.2"
  },
  "kernelspec": {
   "name": "julia-1.5",
   "display_name": "Julia 1.5.2",
   "language": "julia"
  }
 },
 "nbformat": 4
}
