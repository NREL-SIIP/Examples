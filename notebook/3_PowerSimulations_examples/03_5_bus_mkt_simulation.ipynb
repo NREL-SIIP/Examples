{
 "cells": [
  {
   "cell_type": "markdown",
   "metadata": {},
   "source": [
    "# 5-bus Market simulation with [PowerSimulations.jl](https://github.com/NREL-SIIP/PowerSimulations.jl)"
   ]
  },
  {
   "cell_type": "markdown",
   "metadata": {},
   "source": [
    "**Originally Contributed by**: Clayton Barrows"
   ]
  },
  {
   "cell_type": "markdown",
   "metadata": {},
   "source": [
    "## Introduction"
   ]
  },
  {
   "cell_type": "markdown",
   "metadata": {},
   "source": [
    "PowerSimulations.jl supports simulations that consist of sequential optimization problems\n",
    "where results from previous problems inform subsequent problems in a variety of ways. This\n",
    "example demonstrates some of these capabilities to represent electricity market clearing."
   ]
  },
  {
   "cell_type": "markdown",
   "metadata": {},
   "source": [
    "## Dependencies and Data\n",
    "First, let's create `System`s to represent the Day-Ahead and Real-Time market clearing\n",
    "process with hourly, and 5-minute time series data, respectively."
   ]
  },
  {
   "cell_type": "markdown",
   "metadata": {},
   "source": [
    "### Modeling Packages"
   ]
  },
  {
   "cell_type": "code",
   "execution_count": 1,
   "metadata": {},
   "outputs": [
    {
     "data": {
      "text/plain": [
       "InfrastructureSystems"
      ]
     },
     "execution_count": 1,
     "metadata": {},
     "output_type": "execute_result"
    }
   ],
   "source": [
    "using PowerSystems\n",
    "using PowerSimulations\n",
    "const PSI = PowerSimulations\n",
    "IS = PowerSystems.IS"
   ]
  },
  {
   "cell_type": "markdown",
   "metadata": {},
   "source": [
    "### Data management packages"
   ]
  },
  {
   "cell_type": "code",
   "execution_count": 2,
   "metadata": {},
   "outputs": [],
   "source": [
    "using Dates\n",
    "using DataFrames"
   ]
  },
  {
   "cell_type": "markdown",
   "metadata": {},
   "source": [
    "### Optimization packages"
   ]
  },
  {
   "cell_type": "code",
   "execution_count": 3,
   "metadata": {},
   "outputs": [
    {
     "data": {
      "text/plain": [
       "MathOptInterface.OptimizerWithAttributes(Ipopt.Optimizer, Pair{MathOptInterface.AbstractOptimizerAttribute,Any}[])"
      ]
     },
     "execution_count": 3,
     "metadata": {},
     "output_type": "execute_result"
    }
   ],
   "source": [
    "using Cbc # mip solver\n",
    "solver = optimizer_with_attributes(Cbc.Optimizer, \"logLevel\" => 1, \"ratioGap\" => 0.5)\n",
    "using Ipopt # solver that supports duals\n",
    "ipopt_solver = optimizer_with_attributes(Ipopt.Optimizer)"
   ]
  },
  {
   "cell_type": "markdown",
   "metadata": {},
   "source": [
    "### 5-bus Data\n",
    "The five bus system data here includes hourly day-ahead data, 5-minute real-time market\n",
    "data, and 6-second actual data. We'll only use the hourly and 5-minute data for the\n",
    "example simulations below, but the 6-second data is included for future development."
   ]
  },
  {
   "cell_type": "code",
   "execution_count": 4,
   "metadata": {},
   "outputs": [
    {
     "name": "stderr",
     "output_type": "stream",
     "text": [
      "┌ Info: extending matpower format with data: areas 1x3\n",
      "└ @ PowerSystems /Users/cbarrows/.julia/packages/PowerSystems/r86iN/src/parsers/pm_io/matpower.jl:362\n",
      "┌ Info: extending matpower format with data: gen_name 7x4\n",
      "└ @ PowerSystems /Users/cbarrows/.julia/packages/PowerSystems/r86iN/src/parsers/pm_io/matpower.jl:362\n",
      "┌ Info: extending matpower format by appending matrix \"gen_name\" in to \"gen\"\n",
      "└ @ PowerSystems /Users/cbarrows/.julia/packages/PowerSystems/r86iN/src/parsers/pm_io/matpower.jl:703\n",
      "┌ Info: reversing the orientation of branch 6 (4, 3) to be consistent with other parallel branches\n",
      "└ @ PowerSystems /Users/cbarrows/.julia/packages/PowerSystems/r86iN/src/parsers/pm_io/data.jl:1222\n",
      "┌ Info: the voltage setpoint on generator 4 does not match the value at bus 4\n",
      "└ @ PowerSystems /Users/cbarrows/.julia/packages/PowerSystems/r86iN/src/parsers/pm_io/data.jl:1779\n",
      "┌ Info: the voltage setpoint on generator 1 does not match the value at bus 1\n",
      "└ @ PowerSystems /Users/cbarrows/.julia/packages/PowerSystems/r86iN/src/parsers/pm_io/data.jl:1779\n",
      "┌ Info: the voltage setpoint on generator 5 does not match the value at bus 10\n",
      "└ @ PowerSystems /Users/cbarrows/.julia/packages/PowerSystems/r86iN/src/parsers/pm_io/data.jl:1779\n",
      "┌ Info: the voltage setpoint on generator 2 does not match the value at bus 1\n",
      "└ @ PowerSystems /Users/cbarrows/.julia/packages/PowerSystems/r86iN/src/parsers/pm_io/data.jl:1779\n",
      "┌ Info: the voltage setpoint on generator 3 does not match the value at bus 3\n",
      "└ @ PowerSystems /Users/cbarrows/.julia/packages/PowerSystems/r86iN/src/parsers/pm_io/data.jl:1779\n",
      "┌ Info: removing 1 cost terms from generator 4: [4000.0, 0.0]\n",
      "└ @ PowerSystems /Users/cbarrows/.julia/packages/PowerSystems/r86iN/src/parsers/pm_io/data.jl:1972\n",
      "┌ Info: removing 1 cost terms from generator 1: [1400.0, 0.0]\n",
      "└ @ PowerSystems /Users/cbarrows/.julia/packages/PowerSystems/r86iN/src/parsers/pm_io/data.jl:1972\n",
      "┌ Info: removing 1 cost terms from generator 5: [1000.0, 0.0]\n",
      "└ @ PowerSystems /Users/cbarrows/.julia/packages/PowerSystems/r86iN/src/parsers/pm_io/data.jl:1972\n",
      "┌ Info: removing 1 cost terms from generator 2: [1500.0, 0.0]\n",
      "└ @ PowerSystems /Users/cbarrows/.julia/packages/PowerSystems/r86iN/src/parsers/pm_io/data.jl:1972\n",
      "┌ Info: removing 3 cost terms from generator 6: Float64[]\n",
      "└ @ PowerSystems /Users/cbarrows/.julia/packages/PowerSystems/r86iN/src/parsers/pm_io/data.jl:1972\n",
      "┌ Info: removing 3 cost terms from generator 7: Float64[]\n",
      "└ @ PowerSystems /Users/cbarrows/.julia/packages/PowerSystems/r86iN/src/parsers/pm_io/data.jl:1972\n",
      "┌ Info: removing 1 cost terms from generator 3: [3000.0, 0.0]\n",
      "└ @ PowerSystems /Users/cbarrows/.julia/packages/PowerSystems/r86iN/src/parsers/pm_io/data.jl:1972\n",
      "┌ Info: Constructing System from Power Models\n",
      "│   data[\"name\"] = nesta_case5_pjm\n",
      "│   data[\"source_type\"] = matpower\n",
      "└ @ PowerSystems /Users/cbarrows/.julia/packages/PowerSystems/r86iN/src/parsers/power_models_data.jl:52\n",
      "┌ Info: Reading bus data\n",
      "└ @ PowerSystems /Users/cbarrows/.julia/packages/PowerSystems/r86iN/src/parsers/power_models_data.jl:173\n",
      "┌ Info: Reading generator data\n",
      "└ @ PowerSystems /Users/cbarrows/.julia/packages/PowerSystems/r86iN/src/parsers/power_models_data.jl:482\n",
      "┌ Info: Reading branch data\n",
      "└ @ PowerSystems /Users/cbarrows/.julia/packages/PowerSystems/r86iN/src/parsers/power_models_data.jl:626\n",
      "┌ Info: Reading branch data\n",
      "└ @ PowerSystems /Users/cbarrows/.julia/packages/PowerSystems/r86iN/src/parsers/power_models_data.jl:688\n",
      "┌ Info: Reading DC Line data\n",
      "└ @ PowerSystems /Users/cbarrows/.julia/packages/PowerSystems/r86iN/src/parsers/power_models_data.jl:660\n",
      "┌ Info: Reading storage data\n",
      "└ @ PowerSystems /Users/cbarrows/.julia/packages/PowerSystems/r86iN/src/parsers/power_models_data.jl:707\n",
      "┌ Warning: no component category=Generator name=HydroDispatch1\n",
      "└ @ InfrastructureSystems /Users/cbarrows/.julia/packages/InfrastructureSystems/i88mL/src/system_data.jl:447\n",
      "┌ Warning: no component category=Generator name=HydroDispatch2\n",
      "└ @ InfrastructureSystems /Users/cbarrows/.julia/packages/InfrastructureSystems/i88mL/src/system_data.jl:447\n",
      "┌ Warning: no component category=Generator name=HydroDispatch3\n",
      "└ @ InfrastructureSystems /Users/cbarrows/.julia/packages/InfrastructureSystems/i88mL/src/system_data.jl:447\n",
      "┌ Warning: no component category=Generator name=HydroDispatch1\n",
      "└ @ InfrastructureSystems /Users/cbarrows/.julia/packages/InfrastructureSystems/i88mL/src/system_data.jl:447\n",
      "┌ Warning: no component category=Generator name=HydroDispatch2\n",
      "└ @ InfrastructureSystems /Users/cbarrows/.julia/packages/InfrastructureSystems/i88mL/src/system_data.jl:447\n",
      "┌ Warning: no component category=Generator name=HydroDispatch3\n",
      "└ @ InfrastructureSystems /Users/cbarrows/.julia/packages/InfrastructureSystems/i88mL/src/system_data.jl:447\n",
      "┌ Warning: no component category=Generator name=HydroDispatch1\n",
      "└ @ InfrastructureSystems /Users/cbarrows/.julia/packages/InfrastructureSystems/i88mL/src/system_data.jl:447\n",
      "┌ Warning: no component category=Generator name=HydroDispatch3\n",
      "└ @ InfrastructureSystems /Users/cbarrows/.julia/packages/InfrastructureSystems/i88mL/src/system_data.jl:447\n",
      "┌ Warning: no component category=Generator name=HydroDispatch1\n",
      "└ @ InfrastructureSystems /Users/cbarrows/.julia/packages/InfrastructureSystems/i88mL/src/system_data.jl:447\n",
      "┌ Warning: no component category=Generator name=HydroDispatch3\n",
      "└ @ InfrastructureSystems /Users/cbarrows/.julia/packages/InfrastructureSystems/i88mL/src/system_data.jl:447\n",
      "┌ Info: Constructing System from Power Models\n",
      "│   data[\"name\"] = nesta_case5_pjm\n",
      "│   data[\"source_type\"] = matpower\n",
      "└ @ PowerSystems /Users/cbarrows/.julia/packages/PowerSystems/r86iN/src/parsers/power_models_data.jl:52\n",
      "┌ Info: Reading bus data\n",
      "└ @ PowerSystems /Users/cbarrows/.julia/packages/PowerSystems/r86iN/src/parsers/power_models_data.jl:173\n",
      "┌ Info: Reading generator data\n",
      "└ @ PowerSystems /Users/cbarrows/.julia/packages/PowerSystems/r86iN/src/parsers/power_models_data.jl:482\n",
      "┌ Info: Reading branch data\n",
      "└ @ PowerSystems /Users/cbarrows/.julia/packages/PowerSystems/r86iN/src/parsers/power_models_data.jl:626\n",
      "┌ Info: Reading branch data\n",
      "└ @ PowerSystems /Users/cbarrows/.julia/packages/PowerSystems/r86iN/src/parsers/power_models_data.jl:688\n",
      "┌ Info: Reading DC Line data\n",
      "└ @ PowerSystems /Users/cbarrows/.julia/packages/PowerSystems/r86iN/src/parsers/power_models_data.jl:660\n",
      "┌ Info: Reading storage data\n",
      "└ @ PowerSystems /Users/cbarrows/.julia/packages/PowerSystems/r86iN/src/parsers/power_models_data.jl:707\n",
      "┌ Warning: no component category=Generator name=HydroDispatch1\n",
      "└ @ InfrastructureSystems /Users/cbarrows/.julia/packages/InfrastructureSystems/i88mL/src/system_data.jl:447\n",
      "┌ Warning: no component category=Generator name=HydroDispatch2\n",
      "└ @ InfrastructureSystems /Users/cbarrows/.julia/packages/InfrastructureSystems/i88mL/src/system_data.jl:447\n",
      "┌ Warning: no component category=Generator name=HydroDispatch3\n",
      "└ @ InfrastructureSystems /Users/cbarrows/.julia/packages/InfrastructureSystems/i88mL/src/system_data.jl:447\n",
      "┌ Warning: no component category=Generator name=HydroDispatch1\n",
      "└ @ InfrastructureSystems /Users/cbarrows/.julia/packages/InfrastructureSystems/i88mL/src/system_data.jl:447\n",
      "┌ Warning: no component category=Generator name=HydroDispatch3\n",
      "└ @ InfrastructureSystems /Users/cbarrows/.julia/packages/InfrastructureSystems/i88mL/src/system_data.jl:447\n",
      "┌ Warning: no component category=Generator name=HydroDispatch1\n",
      "└ @ InfrastructureSystems /Users/cbarrows/.julia/packages/InfrastructureSystems/i88mL/src/system_data.jl:447\n",
      "┌ Warning: no component category=Generator name=HydroDispatch3\n",
      "└ @ InfrastructureSystems /Users/cbarrows/.julia/packages/InfrastructureSystems/i88mL/src/system_data.jl:447\n",
      "┌ Warning: no component category=Generator name=HydroDispatch1\n",
      "└ @ InfrastructureSystems /Users/cbarrows/.julia/packages/InfrastructureSystems/i88mL/src/system_data.jl:447\n",
      "┌ Warning: no component category=Generator name=HydroDispatch3\n",
      "└ @ InfrastructureSystems /Users/cbarrows/.julia/packages/InfrastructureSystems/i88mL/src/system_data.jl:447\n",
      "┌ Info: Constructing System from Power Models\n",
      "│   data[\"name\"] = nesta_case5_pjm\n",
      "│   data[\"source_type\"] = matpower\n",
      "└ @ PowerSystems /Users/cbarrows/.julia/packages/PowerSystems/r86iN/src/parsers/power_models_data.jl:52\n",
      "┌ Info: Reading bus data\n",
      "└ @ PowerSystems /Users/cbarrows/.julia/packages/PowerSystems/r86iN/src/parsers/power_models_data.jl:173\n",
      "┌ Info: Reading generator data\n",
      "└ @ PowerSystems /Users/cbarrows/.julia/packages/PowerSystems/r86iN/src/parsers/power_models_data.jl:482\n",
      "┌ Info: Reading branch data\n",
      "└ @ PowerSystems /Users/cbarrows/.julia/packages/PowerSystems/r86iN/src/parsers/power_models_data.jl:626\n",
      "┌ Info: Reading branch data\n",
      "└ @ PowerSystems /Users/cbarrows/.julia/packages/PowerSystems/r86iN/src/parsers/power_models_data.jl:688\n",
      "┌ Info: Reading DC Line data\n",
      "└ @ PowerSystems /Users/cbarrows/.julia/packages/PowerSystems/r86iN/src/parsers/power_models_data.jl:660\n",
      "┌ Info: Reading storage data\n",
      "└ @ PowerSystems /Users/cbarrows/.julia/packages/PowerSystems/r86iN/src/parsers/power_models_data.jl:707\n"
     ]
    }
   ],
   "source": [
    "base_dir = PowerSystems.download(PowerSystems.TestData; branch = \"master\");\n",
    "pm_data = PowerSystems.PowerModelsData(joinpath(base_dir, \"matpower\", \"case5_re_uc.m\"))\n",
    "\n",
    "FORECASTS_DIR = joinpath(base_dir, \"forecasts\", \"5bus_ts\", \"7day\")\n",
    "\n",
    "tsp_da = IS.read_time_series_file_metadata(\n",
    "    joinpath(FORECASTS_DIR, \"timeseries_pointers_da_7day.json\"),\n",
    ")\n",
    "tsp_rt = IS.read_time_series_file_metadata(\n",
    "    joinpath(FORECASTS_DIR, \"timeseries_pointers_rt_7day.json\"),\n",
    ")\n",
    "tsp_agc = IS.read_time_series_file_metadata(\n",
    "    joinpath(FORECASTS_DIR, \"timeseries_pointers_agc_7day.json\"),\n",
    ")\n",
    "\n",
    "sys_DA = System(pm_data)\n",
    "reserves = [\n",
    "    VariableReserve{ReserveUp}(\"REG1\", true, 5.0, 0.1),\n",
    "    VariableReserve{ReserveUp}(\"REG2\", true, 5.0, 0.06),\n",
    "    VariableReserve{ReserveUp}(\"REG3\", true, 5.0, 0.03),\n",
    "    VariableReserve{ReserveUp}(\"REG4\", true, 5.0, 0.02),\n",
    "]\n",
    "contributing_devices = get_components(Generator, sys_DA)\n",
    "for r in reserves\n",
    "    add_service!(sys_DA, r, contributing_devices)\n",
    "end\n",
    "\n",
    "add_time_series!(sys_DA, tsp_da)\n",
    "transform_single_time_series!(sys_DA, 48, Hour(24))\n",
    "\n",
    "sys_RT = System(pm_data)\n",
    "add_time_series!(sys_RT, tsp_rt)\n",
    "transform_single_time_series!(sys_RT, 12, Hour(1))\n",
    "\n",
    "sys_AGC = System(pm_data)\n",
    "add_time_series!(sys_AGC, tsp_agc)"
   ]
  },
  {
   "cell_type": "markdown",
   "metadata": {},
   "source": [
    "## `OperationsProblemTemplate`s"
   ]
  },
  {
   "cell_type": "code",
   "execution_count": 5,
   "metadata": {},
   "outputs": [
    {
     "data": {
      "text/plain": [
       "\n",
       "Operations Problem Specification\n",
       "============================================\n",
       "\n",
       "  transmission:  CopperPlatePowerModel\n",
       "============================================\n",
       "  devices: \n",
       "      HydroROR:\n",
       "        device_type = HydroDispatch\n",
       "        formulation = HydroDispatchRunOfRiver\n",
       "      Generators:\n",
       "        device_type = ThermalStandard\n",
       "        formulation = ThermalDispatch\n",
       "      Ren:\n",
       "        device_type = RenewableDispatch\n",
       "        formulation = RenewableFullDispatch\n",
       "      Loads:\n",
       "        device_type = PowerLoad\n",
       "        formulation = StaticPowerLoad\n",
       "      RenFx:\n",
       "        device_type = RenewableFix\n",
       "        formulation = FixedOutput\n",
       "============================================\n",
       "  branches: \n",
       "      T:\n",
       "        device_type = Transformer2W\n",
       "        formulation = StaticTransformer\n",
       "      TT:\n",
       "        device_type = TapTransformer\n",
       "        formulation = StaticTransformer\n",
       "      L:\n",
       "        device_type = Line\n",
       "        formulation = StaticLine\n",
       "      DC:\n",
       "        device_type = HVDCLine\n",
       "        formulation = HVDCDispatch\n",
       "============================================\n",
       "  services: \n",
       "============================================\n"
      ]
     },
     "execution_count": 5,
     "metadata": {},
     "output_type": "execute_result"
    }
   ],
   "source": [
    "template_uc = template_unit_commitment()\n",
    "devices = Dict(\n",
    "    :Generators => DeviceModel(ThermalStandard, ThermalDispatch),\n",
    "    :Ren => DeviceModel(RenewableDispatch, RenewableFullDispatch),\n",
    "    :Loads => DeviceModel(PowerLoad, StaticPowerLoad),\n",
    "    :HydroROR => DeviceModel(HydroDispatch, HydroDispatchRunOfRiver),\n",
    "    :RenFx => DeviceModel(RenewableFix, FixedOutput),\n",
    ")\n",
    "template_ed = template_economic_dispatch(devices = devices)"
   ]
  },
  {
   "cell_type": "markdown",
   "metadata": {},
   "source": [
    "### Define the Simulation Sequence"
   ]
  },
  {
   "cell_type": "code",
   "execution_count": 6,
   "metadata": {},
   "outputs": [
    {
     "data": {
      "text/plain": [
       "Feed Forward Chronology\n",
       "-----------------------\n",
       "\n",
       "ED: SemiContinuousFF -> Generators\n",
       "\n",
       "                     UC--┐ from : On\n",
       "                         |\n",
       "┌----┬----┬----┬----┬----┼----┬----┬----┬----┬----┬----┐\n",
       "|    |    |    |    |    |    |    |    |    |    |    |\n",
       "|    |    |    |    |    |    |    |    |    |    |    |\n",
       "└─ED └─ED └─ED └─ED └─ED └─ED └─ED └─ED └─ED └─ED └─ED └─ED ... (x24) to : [\"P\"]\n",
       "\n",
       "Initial Condition Chronology\n",
       "----------------------------\n",
       "\n",
       "1\n",
       "|\n",
       "|\n",
       "2 --> 2 ... (x24)   \n"
      ]
     },
     "execution_count": 6,
     "metadata": {},
     "output_type": "execute_result"
    }
   ],
   "source": [
    "stages_definition = Dict(\n",
    "    \"UC\" => Stage(\n",
    "        GenericOpProblem,\n",
    "        template_uc,\n",
    "        sys_DA,\n",
    "        solver,\n",
    "        balance_slack_variables = true,\n",
    "    ),\n",
    "    \"ED\" => Stage(\n",
    "        GenericOpProblem,\n",
    "        template_ed,\n",
    "        sys_RT,\n",
    "        ipopt_solver,\n",
    "        constraint_duals = [:CopperPlateBalance],\n",
    "    ),\n",
    ")\n",
    "\n",
    "feedforward_chronologies = Dict((\"UC\" => \"ED\") => Synchronize(periods = 24))\n",
    "\n",
    "feedforward = Dict(\n",
    "    (\"ED\", :devices, :Generators) => SemiContinuousFF(\n",
    "        binary_source_stage = PSI.ON,\n",
    "        affected_variables = [PSI.ACTIVE_POWER],\n",
    "    ),\n",
    ")\n",
    "\n",
    "cache = Dict(\"UC\" => [TimeStatusChange(ThermalStandard, PSI.ON)])\n",
    "\n",
    "order = Dict(1 => \"UC\", 2 => \"ED\")\n",
    "horizons = Dict(\"UC\" => 48, \"ED\" => 12)\n",
    "intervals = Dict(\"UC\" => (Hour(24), Consecutive()), \"ED\" => (Hour(1), Consecutive()))\n",
    "\n",
    "DA_RT_sequence = SimulationSequence(\n",
    "    step_resolution = Hour(24),\n",
    "    order = order,\n",
    "    horizons = horizons,\n",
    "    intervals = intervals,\n",
    "    ini_cond_chronology = InterStageChronology(),\n",
    "    feedforward_chronologies = feedforward_chronologies,\n",
    "    feedforward = feedforward,\n",
    ")"
   ]
  },
  {
   "cell_type": "markdown",
   "metadata": {},
   "source": [
    "## `Simulation`"
   ]
  },
  {
   "cell_type": "code",
   "execution_count": 7,
   "metadata": {},
   "outputs": [
    {
     "data": {
      "text/plain": [
       "Simulation()\n"
      ]
     },
     "execution_count": 7,
     "metadata": {},
     "output_type": "execute_result"
    }
   ],
   "source": [
    "file_path = mkpath(joinpath(\".\",\"5-bus-simulation\"))\n",
    "sim = Simulation(\n",
    "    name = \"5bus-test\",\n",
    "    steps = 1,\n",
    "    stages = stages_definition,\n",
    "    stages_sequence = DA_RT_sequence,\n",
    "    simulation_folder = file_path,\n",
    ")"
   ]
  },
  {
   "cell_type": "markdown",
   "metadata": {},
   "source": [
    "### Build simulation"
   ]
  },
  {
   "cell_type": "code",
   "execution_count": 8,
   "metadata": {},
   "outputs": [
    {
     "data": {
      "text/plain": [
       "BuildStatus.BUILT = 0"
      ]
     },
     "execution_count": 8,
     "metadata": {},
     "output_type": "execute_result"
    }
   ],
   "source": [
    "build!(sim)"
   ]
  },
  {
   "cell_type": "markdown",
   "metadata": {},
   "source": [
    "### Execute simulation"
   ]
  },
  {
   "cell_type": "code",
   "execution_count": 9,
   "metadata": {},
   "outputs": [
    {
     "name": "stderr",
     "output_type": "stream",
     "text": [
      "\r",
      "\u001b[32mProgress: 100%|█████████████████████████████████████████| Time: 0:00:29\u001b[39m\r\n",
      "\u001b[34m  Step:                  1\u001b[39m\r\n",
      "\u001b[34m  Stage:                 ED\u001b[39m\r\n",
      "\u001b[34m  Simulation Timestamp:  2020-01-01T23:00:00\u001b[39m\n"
     ]
    },
    {
     "data": {
      "text/plain": [
       "RunStatus.SUCCESSFUL = 0"
      ]
     },
     "execution_count": 9,
     "metadata": {},
     "output_type": "execute_result"
    }
   ],
   "source": [
    "execute!(sim)"
   ]
  },
  {
   "cell_type": "markdown",
   "metadata": {},
   "source": [
    "## Results\n",
    "First we can load the result metadata"
   ]
  },
  {
   "cell_type": "code",
   "execution_count": 10,
   "metadata": {},
   "outputs": [
    {
     "name": "stderr",
     "output_type": "stream",
     "text": [
      "┌ Info: checking integrity of ./5-bus-simulation/5bus-test/11/data_store/simulation_store.h5\n",
      "└ @ PowerSimulations /Users/cbarrows/.julia/packages/PowerSimulations/If05p/src/utils.jl:386\n",
      "┌ Info: Loaded time series from storage file existing=system-0f7fbf78-9e9a-40b2-952b-63bfbd45f732_time_series_storage.h5 new=/var/folders/27/2jr8c7gn4j72fvrg4qt81zrw8w_711/T/jl_QCaHwV\n",
      "└ @ InfrastructureSystems /Users/cbarrows/.julia/packages/InfrastructureSystems/i88mL/src/hdf5_time_series_storage.jl:82\n",
      "┌ Info: Loaded time series from storage file existing=system-7959c483-4622-4000-bd5d-d38bb6ed1f99_time_series_storage.h5 new=/var/folders/27/2jr8c7gn4j72fvrg4qt81zrw8w_711/T/jl_q2THmU\n",
      "└ @ InfrastructureSystems /Users/cbarrows/.julia/packages/InfrastructureSystems/i88mL/src/hdf5_time_series_storage.jl:82\n"
     ]
    }
   ],
   "source": [
    "results = SimulationResults(sim)\n",
    "uc_results = get_stage_results(results, \"UC\")\n",
    "ed_results = get_stage_results(results, \"ED\");"
   ]
  },
  {
   "cell_type": "markdown",
   "metadata": {},
   "source": [
    "Then we can read and examine the results of interest"
   ]
  },
  {
   "cell_type": "code",
   "execution_count": 11,
   "metadata": {},
   "outputs": [
    {
     "data": {
      "text/plain": [
       "DataStructures.SortedDict{DateTime,DataFrame,Base.Order.ForwardOrdering} with 24 entries:\n",
       "  DateTime(\"2020-01-01T00:00:00\") => \u001b[1m12×2 DataFrame\u001b[0m…\n",
       "  DateTime(\"2020-01-01T01:00:00\") => \u001b[1m12×2 DataFrame\u001b[0m…\n",
       "  DateTime(\"2020-01-01T02:00:00\") => \u001b[1m12×2 DataFrame\u001b[0m…\n",
       "  DateTime(\"2020-01-01T03:00:00\") => \u001b[1m12×2 DataFrame\u001b[0m…\n",
       "  DateTime(\"2020-01-01T04:00:00\") => \u001b[1m12×2 DataFrame\u001b[0m…\n",
       "  DateTime(\"2020-01-01T05:00:00\") => \u001b[1m12×2 DataFrame\u001b[0m…\n",
       "  DateTime(\"2020-01-01T06:00:00\") => \u001b[1m12×2 DataFrame\u001b[0m…\n",
       "  DateTime(\"2020-01-01T07:00:00\") => \u001b[1m12×2 DataFrame\u001b[0m…\n",
       "  DateTime(\"2020-01-01T08:00:00\") => \u001b[1m12×2 DataFrame\u001b[0m…\n",
       "  DateTime(\"2020-01-01T09:00:00\") => \u001b[1m12×2 DataFrame\u001b[0m…\n",
       "  DateTime(\"2020-01-01T10:00:00\") => \u001b[1m12×2 DataFrame\u001b[0m…\n",
       "  DateTime(\"2020-01-01T11:00:00\") => \u001b[1m12×2 DataFrame\u001b[0m…\n",
       "  DateTime(\"2020-01-01T12:00:00\") => \u001b[1m12×2 DataFrame\u001b[0m…\n",
       "  DateTime(\"2020-01-01T13:00:00\") => \u001b[1m12×2 DataFrame\u001b[0m…\n",
       "  DateTime(\"2020-01-01T14:00:00\") => \u001b[1m12×2 DataFrame\u001b[0m…\n",
       "  DateTime(\"2020-01-01T15:00:00\") => \u001b[1m12×2 DataFrame\u001b[0m…\n",
       "  DateTime(\"2020-01-01T16:00:00\") => \u001b[1m12×2 DataFrame\u001b[0m…\n",
       "  DateTime(\"2020-01-01T17:00:00\") => \u001b[1m12×2 DataFrame\u001b[0m…\n",
       "  DateTime(\"2020-01-01T18:00:00\") => \u001b[1m12×2 DataFrame\u001b[0m…\n",
       "  DateTime(\"2020-01-01T19:00:00\") => \u001b[1m12×2 DataFrame\u001b[0m…\n",
       "  DateTime(\"2020-01-01T20:00:00\") => \u001b[1m12×2 DataFrame\u001b[0m…\n",
       "  DateTime(\"2020-01-01T21:00:00\") => \u001b[1m12×2 DataFrame\u001b[0m…\n",
       "  DateTime(\"2020-01-01T22:00:00\") => \u001b[1m12×2 DataFrame\u001b[0m…\n",
       "  DateTime(\"2020-01-01T23:00:00\") => \u001b[1m12×2 DataFrame\u001b[0m…"
      ]
     },
     "execution_count": 11,
     "metadata": {},
     "output_type": "execute_result"
    }
   ],
   "source": [
    "prices = read_dual(ed_results, :CopperPlateBalance)"
   ]
  },
  {
   "cell_type": "markdown",
   "metadata": {},
   "source": [
    "or if we want to look at the realized values"
   ]
  },
  {
   "cell_type": "code",
   "execution_count": 12,
   "metadata": {},
   "outputs": [
    {
     "data": {
      "text/html": [
       "<table class=\"data-frame\"><thead><tr><th></th><th>CopperPlateBalance</th></tr><tr><th></th><th>Float64</th></tr></thead><tbody><p>24 rows × 1 columns</p><tr><th>1</th><td>100000.0</td></tr><tr><th>2</th><td>100000.0</td></tr><tr><th>3</th><td>100000.0</td></tr><tr><th>4</th><td>100000.0</td></tr><tr><th>5</th><td>100000.0</td></tr><tr><th>6</th><td>100000.0</td></tr><tr><th>7</th><td>100000.0</td></tr><tr><th>8</th><td>100000.0</td></tr><tr><th>9</th><td>100000.0</td></tr><tr><th>10</th><td>100000.0</td></tr><tr><th>11</th><td>100000.0</td></tr><tr><th>12</th><td>100000.0</td></tr><tr><th>13</th><td>100000.0</td></tr><tr><th>14</th><td>100000.0</td></tr><tr><th>15</th><td>100000.0</td></tr><tr><th>16</th><td>100000.0</td></tr><tr><th>17</th><td>100000.0</td></tr><tr><th>18</th><td>100000.0</td></tr><tr><th>19</th><td>100000.0</td></tr><tr><th>20</th><td>100000.0</td></tr><tr><th>21</th><td>100000.0</td></tr><tr><th>22</th><td>100000.0</td></tr><tr><th>23</th><td>100000.0</td></tr><tr><th>24</th><td>100000.0</td></tr></tbody></table>"
      ],
      "text/latex": [
       "\\begin{tabular}{r|c}\n",
       "\t& CopperPlateBalance\\\\\n",
       "\t\\hline\n",
       "\t& Float64\\\\\n",
       "\t\\hline\n",
       "\t1 & 100000.0 \\\\\n",
       "\t2 & 100000.0 \\\\\n",
       "\t3 & 100000.0 \\\\\n",
       "\t4 & 100000.0 \\\\\n",
       "\t5 & 100000.0 \\\\\n",
       "\t6 & 100000.0 \\\\\n",
       "\t7 & 100000.0 \\\\\n",
       "\t8 & 100000.0 \\\\\n",
       "\t9 & 100000.0 \\\\\n",
       "\t10 & 100000.0 \\\\\n",
       "\t11 & 100000.0 \\\\\n",
       "\t12 & 100000.0 \\\\\n",
       "\t13 & 100000.0 \\\\\n",
       "\t14 & 100000.0 \\\\\n",
       "\t15 & 100000.0 \\\\\n",
       "\t16 & 100000.0 \\\\\n",
       "\t17 & 100000.0 \\\\\n",
       "\t18 & 100000.0 \\\\\n",
       "\t19 & 100000.0 \\\\\n",
       "\t20 & 100000.0 \\\\\n",
       "\t21 & 100000.0 \\\\\n",
       "\t22 & 100000.0 \\\\\n",
       "\t23 & 100000.0 \\\\\n",
       "\t24 & 100000.0 \\\\\n",
       "\\end{tabular}\n"
      ],
      "text/plain": [
       "\u001b[1m24×1 DataFrame\u001b[0m\n",
       "\u001b[1m Row \u001b[0m│\u001b[1m CopperPlateBalance \u001b[0m\n",
       "\u001b[1m     \u001b[0m│\u001b[90m Float64            \u001b[0m\n",
       "─────┼────────────────────\n",
       "   1 │           100000.0\n",
       "   2 │           100000.0\n",
       "   3 │           100000.0\n",
       "   4 │           100000.0\n",
       "   5 │           100000.0\n",
       "   6 │           100000.0\n",
       "   7 │           100000.0\n",
       "   8 │           100000.0\n",
       "   9 │           100000.0\n",
       "  10 │           100000.0\n",
       "  11 │           100000.0\n",
       "  ⋮  │         ⋮\n",
       "  15 │           100000.0\n",
       "  16 │           100000.0\n",
       "  17 │           100000.0\n",
       "  18 │           100000.0\n",
       "  19 │           100000.0\n",
       "  20 │           100000.0\n",
       "  21 │           100000.0\n",
       "  22 │           100000.0\n",
       "  23 │           100000.0\n",
       "  24 │           100000.0\n",
       "\u001b[31m            3 rows omitted\u001b[0m"
      ]
     },
     "execution_count": 12,
     "metadata": {},
     "output_type": "execute_result"
    }
   ],
   "source": [
    "read_realized_duals(ed_results)[:CopperPlateBalance]"
   ]
  },
  {
   "cell_type": "markdown",
   "metadata": {},
   "source": [
    "*note that in this simulation the prices are all equal to the balance slack\n",
    "penalty value of $100000/MWh because there is unserved energy in the result*"
   ]
  },
  {
   "cell_type": "markdown",
   "metadata": {},
   "source": [
    "---\n",
    "\n",
    "*This notebook was generated using [Literate.jl](https://github.com/fredrikekre/Literate.jl).*"
   ]
  }
 ],
 "metadata": {
  "kernelspec": {
   "display_name": "Julia 1.5.2",
   "language": "julia",
   "name": "julia-1.5"
  },
  "language_info": {
   "file_extension": ".jl",
   "mimetype": "application/julia",
   "name": "julia",
   "version": "1.5.2"
  }
 },
 "nbformat": 4,
 "nbformat_minor": 3
}
