{
 "cells": [
  {
   "cell_type": "markdown",
   "source": [
    "# Operations problems with [PowerSimulations.jl](https://github.com/NREL-SIIP/PowerSimulations.jl)"
   ],
   "metadata": {}
  },
  {
   "cell_type": "markdown",
   "source": [
    "**Originally Contributed by**: Clayton Barrows"
   ],
   "metadata": {}
  },
  {
   "cell_type": "markdown",
   "source": [
    "## Introduction"
   ],
   "metadata": {}
  },
  {
   "cell_type": "markdown",
   "source": [
    "PowerSimulations.jl supports the construction and solution of optimal power system\n",
    "scheduling problems (Operations Problems). Operations problems form the fundamental\n",
    "building blocks for [sequential simulations](../../notebook/PowerSimulations_examples/sequential_simulations.ipynb).\n",
    "This example shows how to specify and customize a the mathematics that will be applied to the data with\n",
    "an `OperationsProblemTemplate`, build and execute an `OperationsProblem`, and access the results."
   ],
   "metadata": {}
  },
  {
   "cell_type": "markdown",
   "source": [
    "## Dependencies"
   ],
   "metadata": {}
  },
  {
   "outputs": [],
   "cell_type": "code",
   "source": [
    "using SIIPExamples"
   ],
   "metadata": {},
   "execution_count": 1
  },
  {
   "cell_type": "markdown",
   "source": [
    "### Modeling Packages"
   ],
   "metadata": {}
  },
  {
   "outputs": [],
   "cell_type": "code",
   "source": [
    "using PowerSystems\n",
    "using PowerSimulations\n",
    "const PSI = PowerSimulations\n",
    "using D3TypeTrees"
   ],
   "metadata": {},
   "execution_count": 2
  },
  {
   "cell_type": "markdown",
   "source": [
    "### Data management packages"
   ],
   "metadata": {}
  },
  {
   "outputs": [],
   "cell_type": "code",
   "source": [
    "using Dates\n",
    "using DataFrames"
   ],
   "metadata": {},
   "execution_count": 3
  },
  {
   "cell_type": "markdown",
   "source": [
    "### Optimization packages"
   ],
   "metadata": {}
  },
  {
   "outputs": [],
   "cell_type": "code",
   "source": [
    "using JuMP\n",
    "using Cbc #solver"
   ],
   "metadata": {},
   "execution_count": 4
  },
  {
   "cell_type": "markdown",
   "source": [
    "### Data\n",
    "This data depends upon the [RTS-GMLC](https://github.com/grid-mod/rts-gmlc) dataset. Let's\n",
    "download and extract the data."
   ],
   "metadata": {}
  },
  {
   "outputs": [],
   "cell_type": "code",
   "source": [
    "rts_dir = SIIPExamples.download(\"https://github.com/GridMod/RTS-GMLC\")\n",
    "rts_src_dir = joinpath(rts_dir, \"RTS_Data\", \"SourceData\")\n",
    "rts_siip_dir = joinpath(rts_dir, \"RTS_Data\", \"FormattedData\", \"SIIP\");"
   ],
   "metadata": {},
   "execution_count": 5
  },
  {
   "cell_type": "markdown",
   "source": [
    "### Create a `System` from RTS-GMLC data just like we did in the [parsing tabular data example.](../../notebook/PowerSystems_examples/parse_tabulardata.jl)"
   ],
   "metadata": {}
  },
  {
   "outputs": [
    {
     "name": "stdout",
     "output_type": "stream",
     "text": [
      "┌ Info: Parsing csv data in branch.csv ...\n",
      "└ @ PowerSystems /Users/cbarrows/Documents/repos/PowerSystems.jl/src/parsers/power_system_table_data.jl:143\n",
      "┌ Info: Successfully parsed branch.csv\n",
      "└ @ PowerSystems /Users/cbarrows/Documents/repos/PowerSystems.jl/src/parsers/power_system_table_data.jl:148\n",
      "┌ Info: Parsing csv data in bus.csv ...\n",
      "└ @ PowerSystems /Users/cbarrows/Documents/repos/PowerSystems.jl/src/parsers/power_system_table_data.jl:143\n",
      "┌ Info: Successfully parsed bus.csv\n",
      "└ @ PowerSystems /Users/cbarrows/Documents/repos/PowerSystems.jl/src/parsers/power_system_table_data.jl:148\n",
      "┌ Info: Parsing csv data in dc_branch.csv ...\n",
      "└ @ PowerSystems /Users/cbarrows/Documents/repos/PowerSystems.jl/src/parsers/power_system_table_data.jl:143\n",
      "┌ Info: Successfully parsed dc_branch.csv\n",
      "└ @ PowerSystems /Users/cbarrows/Documents/repos/PowerSystems.jl/src/parsers/power_system_table_data.jl:148\n",
      "┌ Info: Parsing csv data in gen.csv ...\n",
      "└ @ PowerSystems /Users/cbarrows/Documents/repos/PowerSystems.jl/src/parsers/power_system_table_data.jl:143\n",
      "┌ Info: Successfully parsed gen.csv\n",
      "└ @ PowerSystems /Users/cbarrows/Documents/repos/PowerSystems.jl/src/parsers/power_system_table_data.jl:148\n",
      "┌ Info: Parsing csv data in reserves.csv ...\n",
      "└ @ PowerSystems /Users/cbarrows/Documents/repos/PowerSystems.jl/src/parsers/power_system_table_data.jl:143\n",
      "┌ Info: Successfully parsed reserves.csv\n",
      "└ @ PowerSystems /Users/cbarrows/Documents/repos/PowerSystems.jl/src/parsers/power_system_table_data.jl:148\n",
      "┌ Info: Parsing csv data in simulation_objects.csv ...\n",
      "└ @ PowerSystems /Users/cbarrows/Documents/repos/PowerSystems.jl/src/parsers/power_system_table_data.jl:143\n",
      "┌ Info: Successfully parsed simulation_objects.csv\n",
      "└ @ PowerSystems /Users/cbarrows/Documents/repos/PowerSystems.jl/src/parsers/power_system_table_data.jl:148\n",
      "┌ Info: Parsing csv data in storage.csv ...\n",
      "└ @ PowerSystems /Users/cbarrows/Documents/repos/PowerSystems.jl/src/parsers/power_system_table_data.jl:143\n",
      "┌ Info: Successfully parsed storage.csv\n",
      "└ @ PowerSystems /Users/cbarrows/Documents/repos/PowerSystems.jl/src/parsers/power_system_table_data.jl:148\n",
      "┌ Info: Parsing csv data in timeseries_pointers.csv ...\n",
      "└ @ PowerSystems /Users/cbarrows/Documents/repos/PowerSystems.jl/src/parsers/power_system_table_data.jl:143\n",
      "┌ Info: Successfully parsed timeseries_pointers.csv\n",
      "└ @ PowerSystems /Users/cbarrows/Documents/repos/PowerSystems.jl/src/parsers/power_system_table_data.jl:148\n",
      "┌ Warning: Missing LOAD data.\n",
      "└ @ PowerSystems /Users/cbarrows/Documents/repos/PowerSystems.jl/src/parsers/power_system_table_data.jl:212\n",
      "┌ Warning: Missing LOAD data.\n",
      "└ @ PowerSystems /Users/cbarrows/Documents/repos/PowerSystems.jl/src/parsers/power_system_table_data.jl:212\n",
      "┌ Info: Adding contributing generators for Spin_Up_R1 by category\n",
      "└ @ PowerSystems /Users/cbarrows/Documents/repos/PowerSystems.jl/src/parsers/power_system_table_data.jl:652\n",
      "┌ Info: Adding contributing generators for Spin_Up_R2 by category\n",
      "└ @ PowerSystems /Users/cbarrows/Documents/repos/PowerSystems.jl/src/parsers/power_system_table_data.jl:652\n",
      "┌ Info: Adding contributing generators for Spin_Up_R3 by category\n",
      "└ @ PowerSystems /Users/cbarrows/Documents/repos/PowerSystems.jl/src/parsers/power_system_table_data.jl:652\n",
      "┌ Info: Adding contributing generators for Flex_Up by category\n",
      "└ @ PowerSystems /Users/cbarrows/Documents/repos/PowerSystems.jl/src/parsers/power_system_table_data.jl:652\n",
      "┌ Info: Adding contributing generators for Flex_Down by category\n",
      "└ @ PowerSystems /Users/cbarrows/Documents/repos/PowerSystems.jl/src/parsers/power_system_table_data.jl:652\n",
      "┌ Info: Adding contributing generators for Reg_Up by category\n",
      "└ @ PowerSystems /Users/cbarrows/Documents/repos/PowerSystems.jl/src/parsers/power_system_table_data.jl:652\n",
      "┌ Info: Adding contributing generators for Reg_Down by category\n",
      "└ @ PowerSystems /Users/cbarrows/Documents/repos/PowerSystems.jl/src/parsers/power_system_table_data.jl:652\n"
     ]
    }
   ],
   "cell_type": "code",
   "source": [
    "rawsys = PowerSystems.PowerSystemTableData(\n",
    "    rts_src_dir,\n",
    "    100.0,\n",
    "    joinpath(rts_siip_dir, \"user_descriptors.yaml\"),\n",
    "    timeseries_metadata_file = joinpath(rts_siip_dir, \"timeseries_pointers.json\"),\n",
    "    generator_mapping_file = joinpath(rts_siip_dir, \"generator_mapping.yaml\"),\n",
    ");\n",
    "\n",
    "sys = System(rawsys; forecast_resolution = Dates.Hour(1));"
   ],
   "metadata": {},
   "execution_count": 6
  },
  {
   "cell_type": "markdown",
   "source": [
    "## Define a problem specification with an `OpModelTemplate`\n",
    "The `DeviceModel` constructor is to create an assignment between PowerSystems device types\n",
    "and the subtypes of `AbstractDeviceFormulation`. PowerSimulations has a variety of different\n",
    "`AbstractDeviceFormulation` subtypes that can be applied to different PowerSystems device types,\n",
    "each dispatching to different methods for populating optimization problem objectives, variables,\n",
    "and constraints."
   ],
   "metadata": {}
  },
  {
   "outputs": [
    {
     "output_type": "execute_result",
     "data": {
      "text/plain": "PowerSimulations\nAbstractDeviceFormulation\n├──PowerSimulations\n│  AbstractThermalFormulation\n│  ├──PowerSimulations\n│  │  AbstractThermalDispatchFormulation\n│  │  ├──ThermalDispatchNoMin (0 children)\n│  │  ├──ThermalDispatch (0 children)\n│  │  └──ThermalRampLimited (0 children)\n│  └──PowerSimulations\n│     AbstractThermalUnitCommitment\n│     ├──ThermalMultiStartUnitCommitment (0 children)\n│     ├──ThermalBasicUnitCommitment (0 children)\n│     └──ThermalStandardUnitCommitment (0 children)\n├──PowerSimulations\n│  AbstractBranchFormulation\n│  ├──PowerSimulations\n│  │  AbstractDCLineFormulation\n│  │  ├──HVDCUnbounded (0 children)\n│  │  ├──HVDCDispatch (0 children)\n│  │  ├──HVDCLossless (0 children)\n│  │  └──PowerSimulations\n│  │     VoltageSourceDC (0 children)\n│  ├──PowerSimulations\n│  │  AbstractBoundedBranchFormulation\n│  │  ├──StaticLineBounds (0 children)\n│  │  └──StaticTransformerBounds (0 children)\n│  ├──StaticLineUnbounded\n│  ├──StaticLine\n│  ├──StaticTransformer\n│  ├──StaticTransformerUnbounded\n│  └──FlowMonitoredLine\n├──PowerSimulations\n│  AbstractLoadFormulation\n│  ├──PowerSimulations\n│  │  AbstractControllablePowerLoadFormulation\n│  │  ├──DispatchablePowerLoad (0 children)\n│  │  └──InterruptiblePowerLoad (0 children)\n│  └──StaticPowerLoad\n├──PowerSimulations\n│  AbstractRenewableFormulation\n│  └──PowerSimulations\n│     AbstractRenewableDispatchFormulation\n│     ├──RenewableConstantPowerFactor (0 children)\n│     └──RenewableFullDispatch (0 children)\n├──FixedOutput\n├──PowerSimulations\n│  AbstractRegulationFormulation\n│  ├──DeviceLimitedRegulation\n│  └──ReserveLimitedRegulation\n├──PowerSimulations\n│  AbstractStorageFormulation\n│  ├──BookKeeping\n│  └──BookKeepingwReservation\n└──PowerSimulations\n   AbstractHydroFormulation\n   ├──PowerSimulations\n   │  AbstractHydroDispatchFormulation\n   │  ├──PowerSimulations\n   │  │  AbstractHydroReservoirFormulation (2 children)\n   │  └──HydroDispatchRunOfRiver (0 children)\n   └──PowerSimulations\n      AbstractHydroUnitCommitment\n",
      "text/html": [
       "    <!DOCTYPE html>\n",
       "    <html>\n",
       "    <head>\n",
       "        <meta charset=\"UTF-8\">\n",
       "        <title>Julia D3Tree</title>\n",
       "    </head>\n",
       "    <body>\n",
       "    <div id=\"treevisdSt4c9Ph\">\n",
       "    <style>\n",
       "        \n",
       ".node {\n",
       "    cursor: pointer;\n",
       "}\n",
       "\n",
       ".node circle {\n",
       "\t  fill: #fff;\n",
       "\t  stroke: steelblue;\n",
       "\t  stroke-width: 3px;\n",
       "      r: 10;\n",
       "}\n",
       "\n",
       ".node rect {\n",
       "\t  fill: #fff;\n",
       "\t  stroke: steelblue;\n",
       "\t  stroke-width: 3px;\n",
       "      x: -10;\n",
       "      y: -10;\n",
       "      width: 20;\n",
       "      height: 20;\n",
       "}\n",
       "\n",
       ".node path {\n",
       "    fill: #ffffff;\n",
       "    /* stroke: steelblue; */\n",
       "    stroke-width: 2px;\n",
       "}\n",
       ".node text {\n",
       "    font-family: Arial, Helvetica, sans-serif;\n",
       "    font-style: normal;\n",
       "    font-size: 12px;\n",
       "}\n",
       ".link /* path */ {\n",
       "    fill: none;\n",
       "    stroke: #cccccc;\n",
       "    stroke-width: 2px;\n",
       "}\n",
       ".link text {\n",
       "    font-family: Arial, Helvetica, sans-serif;\n",
       "    font-style: normal;\n",
       "    font-size: 12px;\n",
       "}\n",
       ".hover text{\n",
       "    font-family: Arial, Helvetica, sans-serif;\n",
       "    font-style: normal;\n",
       "    font-size: 12px;\n",
       "}\n",
       "\n",
       "/*\n",
       ".svg-container {\n",
       "    display: inline-block;\n",
       "    position: relative;\n",
       "    width: 100%;\n",
       "    padding-bottom: 100%;\n",
       "    vertical-align: top;\n",
       "    overflow: hidden;\n",
       "}\n",
       ".svg-content-responsive {\n",
       "    display: inline-block;\n",
       "    position: absolute;\n",
       "    top: 10px;\n",
       "    left: 0;\n",
       "}\n",
       "*/\n",
       "\n",
       "    </style>\n",
       "    <script>\n",
       "       (function(){\n",
       "        var treeData = {\"children\":[[2,11,25,30,34,35,38,41],[3,7],[4,5,6],[],[],[],[8,9,10],[],[],[],[12,17,20,21,22,23,24],[13,14,15,16],[],[],[],[],[18,19],[],[],[],[],[],[],[],[26,29],[27,28],[],[],[],[31],[32,33],[],[],[],[36,37],[],[],[39,40],[],[],[42,47],[43,46],[44,45],[],[],[],[]],\"text\":[\"PowerSimulations\\nAbstractDeviceFormulation\",\"PowerSimulations\\nAbstractThermalFormulation\",\"PowerSimulations\\nAbstractThermalDispatchFormulation\",\"ThermalDispatchNoMin\",\"ThermalDispatch\",\"ThermalRampLimited\",\"PowerSimulations\\nAbstractThermalUnitCommitment\",\"ThermalMultiStartUnitCommitment\",\"ThermalBasicUnitCommitment\",\"ThermalStandardUnitCommitment\",\"PowerSimulations\\nAbstractBranchFormulation\",\"PowerSimulations\\nAbstractDCLineFormulation\",\"HVDCUnbounded\",\"HVDCDispatch\",\"HVDCLossless\",\"PowerSimulations\\nVoltageSourceDC\",\"PowerSimulations\\nAbstractBoundedBranchFormulation\",\"StaticLineBounds\",\"StaticTransformerBounds\",\"StaticLineUnbounded\",\"StaticLine\",\"StaticTransformer\",\"StaticTransformerUnbounded\",\"FlowMonitoredLine\",\"PowerSimulations\\nAbstractLoadFormulation\",\"PowerSimulations\\nAbstractControllablePowerLoadFormulation\",\"DispatchablePowerLoad\",\"InterruptiblePowerLoad\",\"StaticPowerLoad\",\"PowerSimulations\\nAbstractRenewableFormulation\",\"PowerSimulations\\nAbstractRenewableDispatchFormulation\",\"RenewableConstantPowerFactor\",\"RenewableFullDispatch\",\"FixedOutput\",\"PowerSimulations\\nAbstractRegulationFormulation\",\"DeviceLimitedRegulation\",\"ReserveLimitedRegulation\",\"PowerSimulations\\nAbstractStorageFormulation\",\"BookKeeping\",\"BookKeepingwReservation\",\"PowerSimulations\\nAbstractHydroFormulation\",\"PowerSimulations\\nAbstractHydroDispatchFormulation\",\"PowerSimulations\\nAbstractHydroReservoirFormulation\",\"HydroDispatchReservoirFlow\",\"HydroDispatchReservoirStorage\",\"HydroDispatchRunOfRiver\",\"PowerSimulations\\nAbstractHydroUnitCommitment\"],\"tooltip\":[\"Abstract\",\"Abstract\",\"Abstract\",\"\",\"\",\"\",\"Abstract\",\"\",\"\",\"\",\"Abstract\",\"Abstract\",\"\",\"\",\"\",\"\",\"Abstract\",\"\",\"\",\"\",\"\",\"\",\"\",\"\",\"Abstract\",\"Abstract\",\"\",\"\",\"\",\"Abstract\",\"Abstract\",\"\",\"\",\"\",\"Abstract\",\"\",\"\",\"Abstract\",\"\",\"\",\"Abstract\",\"Abstract\",\"Abstract\",\"\",\"\",\"\",\"\"],\"style\":[\"\",\"\",\"\",\"\",\"\",\"\",\"\",\"\",\"\",\"\",\"\",\"\",\"\",\"\",\"\",\"\",\"\",\"\",\"\",\"\",\"\",\"\",\"\",\"\",\"\",\"\",\"\",\"\",\"\",\"\",\"\",\"\",\"\",\"\",\"\",\"\",\"\",\"\",\"\",\"\",\"\",\"\",\"\",\"\",\"\",\"\",\"\"],\"link_style\":[\"\",\"\",\"\",\"\",\"\",\"\",\"\",\"\",\"\",\"\",\"\",\"\",\"\",\"\",\"\",\"\",\"\",\"\",\"\",\"\",\"\",\"\",\"\",\"\",\"\",\"\",\"\",\"\",\"\",\"\",\"\",\"\",\"\",\"\",\"\",\"\",\"\",\"\",\"\",\"\",\"\",\"\",\"\",\"\",\"\",\"\",\"\"],\"title\":\"Julia D3Tree\",\"options\":{\"tooltip\":[\"Abstract\",\"Abstract\",\"Abstract\",\"\",\"\",\"\",\"Abstract\",\"\",\"\",\"\",\"Abstract\",\"Abstract\",\"\",\"\",\"\",\"\",\"Abstract\",\"\",\"\",\"\",\"\",\"\",\"\",\"\",\"Abstract\",\"Abstract\",\"\",\"\",\"\",\"Abstract\",\"Abstract\",\"\",\"\",\"\",\"Abstract\",\"\",\"\",\"Abstract\",\"\",\"\",\"Abstract\",\"Abstract\",\"Abstract\",\"\",\"\",\"\",\"\"],\"text\":[\"PowerSimulations\\nAbstractDeviceFormulation\",\"PowerSimulations\\nAbstractThermalFormulation\",\"PowerSimulations\\nAbstractThermalDispatchFormulation\",\"ThermalDispatchNoMin\",\"ThermalDispatch\",\"ThermalRampLimited\",\"PowerSimulations\\nAbstractThermalUnitCommitment\",\"ThermalMultiStartUnitCommitment\",\"ThermalBasicUnitCommitment\",\"ThermalStandardUnitCommitment\",\"PowerSimulations\\nAbstractBranchFormulation\",\"PowerSimulations\\nAbstractDCLineFormulation\",\"HVDCUnbounded\",\"HVDCDispatch\",\"HVDCLossless\",\"PowerSimulations\\nVoltageSourceDC\",\"PowerSimulations\\nAbstractBoundedBranchFormulation\",\"StaticLineBounds\",\"StaticTransformerBounds\",\"StaticLineUnbounded\",\"StaticLine\",\"StaticTransformer\",\"StaticTransformerUnbounded\",\"FlowMonitoredLine\",\"PowerSimulations\\nAbstractLoadFormulation\",\"PowerSimulations\\nAbstractControllablePowerLoadFormulation\",\"DispatchablePowerLoad\",\"InterruptiblePowerLoad\",\"StaticPowerLoad\",\"PowerSimulations\\nAbstractRenewableFormulation\",\"PowerSimulations\\nAbstractRenewableDispatchFormulation\",\"RenewableConstantPowerFactor\",\"RenewableFullDispatch\",\"FixedOutput\",\"PowerSimulations\\nAbstractRegulationFormulation\",\"DeviceLimitedRegulation\",\"ReserveLimitedRegulation\",\"PowerSimulations\\nAbstractStorageFormulation\",\"BookKeeping\",\"BookKeepingwReservation\",\"PowerSimulations\\nAbstractHydroFormulation\",\"PowerSimulations\\nAbstractHydroDispatchFormulation\",\"PowerSimulations\\nAbstractHydroReservoirFormulation\",\"HydroDispatchReservoirFlow\",\"HydroDispatchReservoirStorage\",\"HydroDispatchRunOfRiver\",\"PowerSimulations\\nAbstractHydroUnitCommitment\"],\"init_expand\":1}};\n",
       "        var rootID = 1-1;\n",
       "        var div = \"treevisdSt4c9Ph\";\n",
       "        var initExpand = 1\n",
       "        var initDuration = 750\n",
       "        var svgHeight = 600\n",
       "        if (typeof $ === 'undefined') {\n",
       "    loadScript(\"https://code.jquery.com/jquery-3.1.1.min.js\", run);\n",
       "} else {\n",
       "    run();\n",
       "}\n",
       "\n",
       "function run() {\n",
       "    if (typeof d3 === 'undefined') {\n",
       "        loadScript(\"https://d3js.org/d3.v3.js\", showTree);\n",
       "    } else {\n",
       "        showTree();\n",
       "    }\n",
       "}\n",
       "\n",
       "function loadScript(url, callback)\n",
       "{\n",
       "    console.log(\"starting script load...\")\n",
       "    // Adding the script tag to the head as suggested before\n",
       "    var head = document.getElementsByTagName('head')[0];\n",
       "    var script = document.createElement('script');\n",
       "    script.type = 'text/javascript';\n",
       "    script.src = url;\n",
       "\n",
       "    // Then bind the event to the callback function.\n",
       "    // There are several events for cross browser compatibility.\n",
       "    script.onreadystatechange = callback;\n",
       "    script.onload = callback;\n",
       "\n",
       "    // Fire the loading\n",
       "    head.appendChild(script);\n",
       "}\n",
       "\n",
       "function showTree() {\n",
       "        \n",
       "    // var margin = {top: 20, right: 120, bottom: 20, left: 120},\n",
       "    var margin = {top: 20, right: 120, bottom: 80, left: 120},\n",
       "        width = $(\"#\"+div).width() - margin.right - margin.left,\n",
       "        height = svgHeight - margin.top - margin.bottom;\n",
       "        // TODO make height a parameter of TreeVisualizer\n",
       "\n",
       "    var i = 0,\n",
       "        root;\n",
       "\n",
       "    var tree = d3.layout.tree()\n",
       "        .size([width, height]);\n",
       "\n",
       "    var diagonal = d3.svg.diagonal();\n",
       "        //.projection(function(d) { return [d.y, d.x]; });\n",
       "        // uncomment above to make the tree go horizontally\n",
       "\n",
       "    // see http://stackoverflow.com/questions/16265123/resize-svg-when-window-is-resized-in-d3-js\n",
       "    if (d3.select(\"#\"+div+\"_svg\").empty()) {\n",
       "        $(\".d3twarn\").remove();\n",
       "        d3.select(\"#\"+div).append(\"svg\")\n",
       "            .attr(\"id\", div+\"_svg\")\n",
       "            .attr(\"width\", width + margin.right + margin.left)\n",
       "            .attr(\"height\", height + margin.top + margin.bottom);\n",
       "    }\n",
       "\n",
       "    d3.select(\"#\"+div+\"_svg\").selectAll(\"*\").remove();\n",
       "\n",
       "    var svg = d3.select(\"#\"+div+\"_svg\")\n",
       "        .append(\"g\")\n",
       "            .attr(\"transform\", \"translate(\" + margin.left + \",\" + margin.top + \")\");\n",
       "\n",
       "    // console.log(\"tree data:\");\n",
       "    // console.log(treeData[rootID]);\n",
       "    root = createDisplayNode(rootID, initExpand);\n",
       "    root.x0 = width / 2;\n",
       "    root.y0 = 0;\n",
       "\n",
       "    update(root, initDuration);\n",
       "    console.log(\"tree should appear\");\n",
       "\n",
       "    function createDisplayNode(id, expandLevel) {\n",
       "      var dnode = {\"dataID\":id,\n",
       "                   \"children\": null,\n",
       "                   \"_children\":null};\n",
       "      if (expandLevel > 0) {\n",
       "        initializeChildren(dnode, expandLevel);\n",
       "      }\n",
       "      return dnode;\n",
       "    }\n",
       "\n",
       "    function initializeChildren(d, expandLevel) {\n",
       "      // create children\n",
       "      var children = treeData.children[d.dataID];\n",
       "      d.children = [];\n",
       "      if (children) {\n",
       "        for (var i = 0; i < children.length; i++) {\n",
       "          var cid = children[i]-1;\n",
       "          d.children.push(createDisplayNode(cid, expandLevel-1));\n",
       "        }\n",
       "      }\n",
       "    }\n",
       "\n",
       "    /**\n",
       "     * Recursively called to update each node in the tree.\n",
       "     * \n",
       "     * source is a d3 node that has position, etc.\n",
       "    */\n",
       "    function update(source, duration) {\n",
       "\n",
       "      width = $(\"#\"+div).width() - margin.right - margin.left,\n",
       "      height = $(\"#\"+div).height() - margin.top - margin.bottom;\n",
       "\n",
       "      tree.size([width,height]);\n",
       "      d3.select(\"#\"+div).attr(\"width\", width + margin.right + margin.left)\n",
       "            .attr(\"height\", height + margin.top + margin.bottom);\n",
       "      d3.select(\"#\"+div+\"_svg\").attr(\"width\", width + margin.right + margin.left)\n",
       "             .attr(\"height\", height + margin.top + margin.bottom);\n",
       "\n",
       "\n",
       "      // Compute the new tree layout.\n",
       "      var nodes = tree.nodes(root).reverse(),\n",
       "          links = tree.links(nodes);\n",
       "\n",
       "\n",
       "      // Update the nodes…\n",
       "      var node = svg.selectAll(\"g.node\")\n",
       "          .data(nodes, function(d) { return d.id || (d.id = ++i); });\n",
       "\n",
       "      // Enter any new nodes at the parent's previous position.\n",
       "      var nodeEnter = node.enter().append(\"g\")\n",
       "          .attr(\"class\", \"node\")\n",
       "          .attr(\"transform\", function(d) { return \"translate(\" + source.x0 + \",\" + source.y0 + \")\"; })\n",
       "          .on(\"click\", click)\n",
       "\n",
       "      nodeEnter.append(\"circle\")\n",
       "          .attr(\"r\", \"10px\")\n",
       "          .attr(\"style\", function(d) { return treeData.style[d.dataID]; } )\n",
       "\n",
       "      var tbox = nodeEnter.append(\"text\")\n",
       "          .attr(\"y\", 25)\n",
       "          .attr(\"text-anchor\", \"middle\")\n",
       "          //.text( function(d) { return treeData.text[d.dataID]; } )\n",
       "          .style(\"fill-opacity\", 1e-6);\n",
       "\n",
       "      tbox.each( function(d) {\n",
       "          var el = d3.select(this)\n",
       "          var text = treeData.text[d.dataID];\n",
       "          var lines = text.split('\\n');\n",
       "          for (var i = 0; i < lines.length; i++) {\n",
       "              var tspan = el.append(\"tspan\").text(lines[i]);\n",
       "              if (i > 0) {\n",
       "                  tspan.attr(\"x\", 0).attr(\"dy\", \"1.2em\");\n",
       "              }\n",
       "          }\n",
       "      });\n",
       "\n",
       "      //tooltip\n",
       "      nodeEnter.append(\"title\").text( function(d) { return treeData.tooltip[d.dataID];} );\n",
       "\n",
       "      // Transition nodes to their new position.\n",
       "      var nodeUpdate = node.transition()\n",
       "          .duration(duration)\n",
       "          .attr(\"transform\", function(d) { return \"translate(\" + d.x + \",\" + d.y + \")\"; });\n",
       "\n",
       "      nodeUpdate.select(\"text\")\n",
       "          .style(\"fill-opacity\", 1);\n",
       "\n",
       "      // Transition exiting nodes to the parent's new position.\n",
       "      var nodeExit = node.exit().transition()\n",
       "          .duration(duration)\n",
       "          .attr(\"transform\", function(d) { return \"translate(\" + source.x + \",\" + source.y + \")\"; })\n",
       "          .remove();\n",
       "\n",
       "      nodeExit.select(\"text\")\n",
       "          .style(\"fill-opacity\", 1e-6);\n",
       "\n",
       "      // Update the links…\n",
       "      var link = svg.selectAll(\"path.link\")\n",
       "          .data(links, function(d) { return d.target.id; });\n",
       "\n",
       "      // Enter any new links at the parent's previous position.\n",
       "      // XXX link width should be based on transition data, not node data\n",
       "      link.enter().insert(\"path\", \"g\")\n",
       "          .attr(\"class\", \"link\")\n",
       "          .attr(\"style\", function(d) {\n",
       "              var ls = treeData.link_style[d.target.dataID];\n",
       "              return ls;\n",
       "          } )\n",
       "          .attr(\"d\", function(d) {\n",
       "            var o = {x: source.x0, y: source.y0};\n",
       "            return diagonal({source: o, target: o});\n",
       "          });\n",
       "\n",
       "      // Transition links to their new position.\n",
       "      link.transition()\n",
       "          .duration(duration)\n",
       "          .attr(\"d\", diagonal);\n",
       "\n",
       "      // Transition exiting nodes to the parent's new position.\n",
       "      link.exit().transition()\n",
       "          .duration(duration)\n",
       "          .attr(\"d\", function(d) {\n",
       "            var o = {x: source.x, y: source.y};\n",
       "            return diagonal({source: o, target: o});\n",
       "          })\n",
       "          .remove();\n",
       "\n",
       "      // Stash the old positions for transition.\n",
       "      nodes.forEach(function(d) {\n",
       "        d.x0 = d.x;\n",
       "        d.y0 = d.y;\n",
       "      });\n",
       "    }\n",
       "\n",
       "    // Toggle children on click.\n",
       "    function click(d) {\n",
       "      if (d.children) {\n",
       "        d._children = d.children;\n",
       "        d.children = null;\n",
       "      } else if (d._children) {\n",
       "        d.children = d._children;\n",
       "        d._children = null;\n",
       "      } else {\n",
       "        initializeChildren(d, 1);\n",
       "      }\n",
       "      update(d, 750);\n",
       "    }\n",
       "\n",
       "}\n",
       "\n",
       "        })();\n",
       "    </script>\n",
       "    <p class=\"d3twarn\">\n",
       "    Attempting to display the tree. If the tree is large, this may take some time.\n",
       "    </p>\n",
       "    <p class=\"d3twarn\">\n",
       "    Note: D3Trees.jl requires an internet connection. If no tree appears, please check your connection. To help fix this, please see <a href=\"https://github.com/sisl/D3Trees.jl/issues/10\">this issue</a>. You may also diagnose errors with the javascript console (Ctrl-Shift-J in chrome).\n",
       "    </p>\n",
       "    </div>\n",
       "    </body>\n",
       "    </html>\n",
       "\n"
      ]
     },
     "metadata": {},
     "execution_count": 7
    }
   ],
   "cell_type": "code",
   "source": [
    "TypeTree(PSI.AbstractDeviceFormulation, scopesep=\"\\n\")"
   ],
   "metadata": {},
   "execution_count": 7
  },
  {
   "cell_type": "markdown",
   "source": [
    "### Branch Formulations\n",
    "Here is an example of relatively standard branch formulations. Other formulations allow\n",
    "for selective enforcement of transmission limits and greater control on transformer settings."
   ],
   "metadata": {}
  },
  {
   "outputs": [
    {
     "output_type": "execute_result",
     "data": {
      "text/plain": "Dict{Symbol,DeviceModel} with 3 entries:\n  :T  => DeviceModel{Transformer2W,StaticTransformer}(Transformer2W, StaticTran…\n  :TT => DeviceModel{TapTransformer,StaticTransformer}(TapTransformer, StaticTr…\n  :L  => DeviceModel{Line,StaticLine}(Line, StaticLine, nothing, ServiceModel[])"
     },
     "metadata": {},
     "execution_count": 8
    }
   ],
   "cell_type": "code",
   "source": [
    "branches = Dict{Symbol, DeviceModel}(\n",
    "    :L => DeviceModel(Line, StaticLine),\n",
    "    :T => DeviceModel(Transformer2W, StaticTransformer),\n",
    "    :TT => DeviceModel(TapTransformer, StaticTransformer),\n",
    ")"
   ],
   "metadata": {},
   "execution_count": 8
  },
  {
   "cell_type": "markdown",
   "source": [
    "### Injection Device Formulations\n",
    "Here we define dictionary entries for all devices that inject or withdraw power on the\n",
    "network. For each device type, we can define a distinct `AbstractDeviceFormulation`. In\n",
    "this case, we're defining a basic unit commitment model for thermal generators,\n",
    "curtailable renewable generators, and fixed dispatch (net-load reduction) formulations\n",
    "for `HydroFix` and `RenewableFix` devices. Additionally, we've enabled a simple load\n",
    "shedding demand response formulation for `InterruptableLoad` devices."
   ],
   "metadata": {}
  },
  {
   "outputs": [
    {
     "output_type": "execute_result",
     "data": {
      "text/plain": "Dict{Symbol,DeviceModel} with 7 entries:\n  :ILoads     => DeviceModel{InterruptibleLoad,InterruptiblePowerLoad}(Interrup…\n  :HydroROR   => DeviceModel{HydroDispatch,FixedOutput}(HydroDispatch, FixedOut…\n  :Generators => DeviceModel{ThermalStandard,ThermalStandardUnitCommitment}(The…\n  :Ren        => DeviceModel{RenewableDispatch,RenewableFullDispatch}(Renewable…\n  :Hydro      => DeviceModel{HydroEnergyReservoir,HydroDispatchRunOfRiver}(Hydr…\n  :Loads      => DeviceModel{PowerLoad,StaticPowerLoad}(PowerLoad, StaticPowerL…\n  :RenFx      => DeviceModel{RenewableFix,FixedOutput}(RenewableFix, FixedOutpu…"
     },
     "metadata": {},
     "execution_count": 9
    }
   ],
   "cell_type": "code",
   "source": [
    "devices = Dict(\n",
    "    :Generators => DeviceModel(ThermalStandard, ThermalStandardUnitCommitment),\n",
    "    :Ren => DeviceModel(RenewableDispatch, RenewableFullDispatch),\n",
    "    :Loads => DeviceModel(PowerLoad, StaticPowerLoad),\n",
    "    :HydroROR => DeviceModel(HydroDispatch, FixedOutput),\n",
    "    :Hydro => DeviceModel(HydroEnergyReservoir, HydroDispatchRunOfRiver),\n",
    "    :RenFx => DeviceModel(RenewableFix, FixedOutput),\n",
    "    :ILoads => DeviceModel(InterruptibleLoad, InterruptiblePowerLoad),\n",
    ")"
   ],
   "metadata": {},
   "execution_count": 9
  },
  {
   "cell_type": "markdown",
   "source": [
    "### Service Formulations\n",
    "We have two `VariableReserve` types, parameterized by their direction. So, similar to\n",
    "creating `DeviceModel`s, we can create `ServiceModel`s. The primary difference being\n",
    "that `DeviceModel` objects define how constraints get created, while `ServiceModel` objects\n",
    "define how constraints get modified."
   ],
   "metadata": {}
  },
  {
   "outputs": [
    {
     "output_type": "execute_result",
     "data": {
      "text/plain": "Dict{Symbol,ServiceModel{D,RangeReserve} where D<:Service} with 2 entries:\n  :ReserveDown => ServiceModel{VariableReserve{ReserveDown},RangeReserve}(Varia…\n  :ReserveUp   => ServiceModel{VariableReserve{ReserveUp},RangeReserve}(Variabl…"
     },
     "metadata": {},
     "execution_count": 10
    }
   ],
   "cell_type": "code",
   "source": [
    "services = Dict(\n",
    "    :ReserveUp => ServiceModel(VariableReserve{ReserveUp}, RangeReserve),\n",
    "    :ReserveDown => ServiceModel(VariableReserve{ReserveDown}, RangeReserve),\n",
    ")"
   ],
   "metadata": {},
   "execution_count": 10
  },
  {
   "cell_type": "markdown",
   "source": [
    "### Wrap it up into an `OperationsProblemTemplate`"
   ],
   "metadata": {}
  },
  {
   "outputs": [],
   "cell_type": "code",
   "source": [
    "template_uc = OperationsProblemTemplate(CopperPlatePowerModel, devices, branches, services);"
   ],
   "metadata": {},
   "execution_count": 11
  },
  {
   "cell_type": "markdown",
   "source": [
    "## `OperationsProblem`\n",
    "Now that we have a `System` and an `OperationsProblemTemplate`, we can put the two together\n",
    "to create an `OperationsProblem` that we solve."
   ],
   "metadata": {}
  },
  {
   "cell_type": "markdown",
   "source": [
    "### Optimizer\n",
    "It's most convenient to define an optimizer instance upfront and pass it into the\n",
    "`OperationsProblem` constructor. For this example, we can use the free Cbc solver with a\n",
    "relatively relaxed MIP gap (`ratioGap`) setting to improve speed."
   ],
   "metadata": {}
  },
  {
   "outputs": [
    {
     "output_type": "execute_result",
     "data": {
      "text/plain": "MathOptInterface.OptimizerWithAttributes(Cbc.Optimizer, Pair{MathOptInterface.AbstractOptimizerAttribute,Any}[MathOptInterface.RawParameter(\"logLevel\") => 1, MathOptInterface.RawParameter(\"ratioGap\") => 0.5])"
     },
     "metadata": {},
     "execution_count": 12
    }
   ],
   "cell_type": "code",
   "source": [
    "solver = optimizer_with_attributes(Cbc.Optimizer, \"logLevel\" => 1, \"ratioGap\" => 0.5)"
   ],
   "metadata": {},
   "execution_count": 12
  },
  {
   "cell_type": "markdown",
   "source": [
    "### Build an `OperationsProblem`\n",
    "The construction of an `OperationsProblem` essentially applies an `OperationsProblemTemplate`\n",
    "to `System` data to create a JuMP model."
   ],
   "metadata": {}
  },
  {
   "outputs": [
    {
     "name": "stdout",
     "output_type": "stream",
     "text": [
      "┌ Info: Unit System changed to SYSTEM_BASE\n",
      "└ @ PowerSystems /Users/cbarrows/Documents/repos/PowerSystems.jl/src/base.jl:353\n",
      "┌ Warning: The data doesn't include devices of type InterruptibleLoad, consider changing the device models\n",
      "└ @ PowerSimulations /Users/cbarrows/Documents/repos/PowerSimulations.jl/src/devices_models/device_constructors/common/constructor_validations.jl:3\n",
      "┌ Warning: Data doesn't contain generators with ramp limits, consider adjusting your formulation\n",
      "└ @ PowerSimulations /Users/cbarrows/Documents/repos/PowerSimulations.jl/src/devices_models/devices/thermal_generation.jl:612\n"
     ]
    },
    {
     "output_type": "execute_result",
     "data": {
      "text/plain": "\nOperations Problem Specification\n============================================\n\n  transmission:  CopperPlatePowerModel\n============================================\n  devices: \n      ILoads:\n        device_type = InterruptibleLoad\n        formulation = InterruptiblePowerLoad\n      HydroROR:\n        device_type = HydroDispatch\n        formulation = FixedOutput\n      Generators:\n        device_type = ThermalStandard\n        formulation = ThermalStandardUnitCommitment\n      Ren:\n        device_type = RenewableDispatch\n        formulation = RenewableFullDispatch\n      Hydro:\n        device_type = HydroEnergyReservoir\n        formulation = HydroDispatchRunOfRiver\n      Loads:\n        device_type = PowerLoad\n        formulation = StaticPowerLoad\n      RenFx:\n        device_type = RenewableFix\n        formulation = FixedOutput\n============================================\n  branches: \n      T:\n        device_type = Transformer2W\n        formulation = StaticTransformer\n      TT:\n        device_type = TapTransformer\n        formulation = StaticTransformer\n      L:\n        device_type = Line\n        formulation = StaticLine\n============================================\n  services: \n      ReserveDown:\n        service_type = VariableReserve{ReserveDown}\n        formulation = RangeReserve\n      ReserveUp:\n        service_type = VariableReserve{ReserveUp}\n        formulation = RangeReserve\n============================================\n"
     },
     "metadata": {},
     "execution_count": 13
    }
   ],
   "cell_type": "code",
   "source": [
    "op_problem =\n",
    "    OperationsProblem(GenericOpProblem, template_uc, sys; optimizer = solver, horizon = 12)"
   ],
   "metadata": {},
   "execution_count": 13
  },
  {
   "cell_type": "markdown",
   "source": [
    "The principal component of the `OperationsProblem` is the JuMP model. For small problems,\n",
    "you can inspect it by simply printing it to the screen:\n",
    "```julia\n",
    "op_problem.psi_container.JuMPmodel\n",
    "```\n",
    "\n",
    "For anything of reasonable size, that will be unmanageable. But you can print to a file:\n",
    "```julia\n",
    "f = open(\"testmodel.txt\",\"w\"); print(f,op_problem.psi_container.JuMPmodel); close(f)\n",
    "```\n",
    "\n",
    "In addition to the JuMP model, an `OperationsProblem` keeps track of a bunch of metadata\n",
    "about the problem and some references to pretty names for constraints and variables.\n",
    "All of these details are contained within the `psi_container` field."
   ],
   "metadata": {}
  },
  {
   "outputs": [
    {
     "name": "stdout",
     "output_type": "stream",
     "text": [
      "mutable struct PowerSimulations.PSIContainer\n",
      "    JuMPmodel::Union{Nothing, JuMP.AbstractModel}\n",
      "    time_steps::UnitRange{Int64}\n",
      "    resolution::TimePeriod\n",
      "    settings::PowerSimulations.PSISettings\n",
      "    settings_copy::PowerSimulations.PSISettings\n",
      "    variables::Dict{Symbol,AbstractArray}\n",
      "    constraints::Dict{Symbol,AbstractArray}\n",
      "    cost_function::JuMP.AbstractJuMPScalar\n",
      "    expressions::Dict{Symbol,JuMP.Containers.DenseAxisArray}\n",
      "    parameters::Union{Nothing, Dict{Symbol,PowerSimulations.ParameterContainer}}\n",
      "    initial_conditions::PowerSimulations.InitialConditions\n",
      "    pm::Union{Nothing, PowerModels.AbstractPowerModel}\n",
      "end\n"
     ]
    }
   ],
   "cell_type": "code",
   "source": [
    "print_struct(typeof(op_problem.psi_container))"
   ],
   "metadata": {},
   "execution_count": 14
  },
  {
   "cell_type": "markdown",
   "source": [
    "### Solve an `OperationsProblem`"
   ],
   "metadata": {}
  },
  {
   "outputs": [],
   "cell_type": "code",
   "source": [
    "res = solve!(op_problem);"
   ],
   "metadata": {},
   "execution_count": 15
  },
  {
   "cell_type": "markdown",
   "source": [
    "## Results Inspection\n",
    "PowerSimulations collects the `OperationsProblem` results into a struct:"
   ],
   "metadata": {}
  },
  {
   "outputs": [
    {
     "name": "stdout",
     "output_type": "stream",
     "text": [
      " struct PowerSimulations.SimulationResults\n",
      "    base_power::Float64\n",
      "    variable_values::Dict{Symbol,DataFrame}\n",
      "    total_cost::Dict\n",
      "    optimizer_log::Dict\n",
      "    time_stamp::DataFrame\n",
      "    dual_values::Dict{Symbol,Any}\n",
      "    results_folder::Union{Nothing, String}\n",
      "    parameter_values::Dict{Symbol,DataFrame}\n",
      "end\n"
     ]
    }
   ],
   "cell_type": "code",
   "source": [
    "print_struct(PSI.SimulationResults)"
   ],
   "metadata": {},
   "execution_count": 16
  },
  {
   "cell_type": "markdown",
   "source": [
    "### Optimizer Log\n",
    "The optimizer summary is included"
   ],
   "metadata": {}
  },
  {
   "outputs": [
    {
     "output_type": "execute_result",
     "data": {
      "text/plain": "Dict{Symbol,Any} with 9 entries:\n  :timed_solve_time   => 15.0073\n  :solve_bytes_alloc  => 1683272021\n  :solve_time         => 1.57828\n  :obj_value          => 313118.0\n  :solver             => \"COIN Branch-and-Cut (Cbc)\"\n  :sec_in_gc          => 0.885816\n  :dual_status        => NO_SOLUTION\n  :primal_status      => FEASIBLE_POINT\n  :termination_status => OPTIMAL"
     },
     "metadata": {},
     "execution_count": 17
    }
   ],
   "cell_type": "code",
   "source": [
    "get_optimizer_log(res)"
   ],
   "metadata": {},
   "execution_count": 17
  },
  {
   "cell_type": "markdown",
   "source": [
    "### Total Cost (objective function value)"
   ],
   "metadata": {}
  },
  {
   "outputs": [
    {
     "output_type": "execute_result",
     "data": {
      "text/plain": "Dict{Symbol,Float64} with 1 entry:\n  :OBJECTIVE_FUNCTION => 313118.0"
     },
     "metadata": {},
     "execution_count": 18
    }
   ],
   "cell_type": "code",
   "source": [
    "get_total_cost(res)"
   ],
   "metadata": {},
   "execution_count": 18
  },
  {
   "cell_type": "markdown",
   "source": [
    "### Variable Values\n",
    "The solution value data frames for variable in the `op_problem.psi_container.variables`\n",
    "dictionary is stored:"
   ],
   "metadata": {}
  },
  {
   "outputs": [
    {
     "output_type": "execute_result",
     "data": {
      "text/plain": "Dict{Symbol,DataFrame} with 13 entries:\n  :P__ThermalStandard       => 12×76 DataFrame. Omitted printing of 70 columns…\n  :P__RenewableDispatch     => 12×30 DataFrame. Omitted printing of 24 columns…\n  :Reg_Down__VariableReser… => 12×102 DataFrame. Omitted printing of 96 columns…\n  :P__HydroEnergyReservoir  => 12×19 DataFrame. Omitted printing of 14 columns…\n  :Flex_Down__VariableRese… => 12×102 DataFrame. Omitted printing of 96 columns…\n  :Reg_Up__VariableReserve… => 12×102 DataFrame. Omitted printing of 96 columns…\n  :Spin_Up_R2__VariableRes… => 12×25 DataFrame. Omitted printing of 19 columns…\n  :On__ThermalStandard      => 12×76 DataFrame. Omitted printing of 70 columns…\n  :Flex_Up__VariableReserv… => 12×102 DataFrame. Omitted printing of 96 columns…\n  :Start__ThermalStandard   => 12×76 DataFrame. Omitted printing of 70 columns…\n  :Stop__ThermalStandard    => 12×76 DataFrame. Omitted printing of 70 columns…\n  :Spin_Up_R1__VariableRes… => 12×34 DataFrame. Omitted printing of 28 columns…\n  :Spin_Up_R3__VariableRes… => 12×43 DataFrame. Omitted printing of 37 columns…"
     },
     "metadata": {},
     "execution_count": 19
    }
   ],
   "cell_type": "code",
   "source": [
    "variable_values = get_variables(res)"
   ],
   "metadata": {},
   "execution_count": 19
  },
  {
   "cell_type": "markdown",
   "source": [
    "Note that the time stamps are missing from the dataframes in `variable_values`...\n",
    "\n",
    "The time stamps for each value in the time series used in the `OperationsProblem` is\n",
    "included separately from the variable value results."
   ],
   "metadata": {}
  },
  {
   "outputs": [
    {
     "output_type": "execute_result",
     "data": {
      "text/plain": "12×1 DataFrame\n│ Row │ Range               │\n│     │ \u001b[90mDateTime\u001b[39m            │\n├─────┼─────────────────────┤\n│ 1   │ 2020-01-01T00:00:00 │\n│ 2   │ 2020-01-01T01:00:00 │\n│ 3   │ 2020-01-01T02:00:00 │\n│ 4   │ 2020-01-01T03:00:00 │\n│ 5   │ 2020-01-01T04:00:00 │\n│ 6   │ 2020-01-01T05:00:00 │\n│ 7   │ 2020-01-01T06:00:00 │\n│ 8   │ 2020-01-01T07:00:00 │\n│ 9   │ 2020-01-01T08:00:00 │\n│ 10  │ 2020-01-01T09:00:00 │\n│ 11  │ 2020-01-01T10:00:00 │\n│ 12  │ 2020-01-01T11:00:00 │",
      "text/html": [
       "<table class=\"data-frame\"><thead><tr><th></th><th>Range</th></tr><tr><th></th><th>DateTime</th></tr></thead><tbody><p>12 rows × 1 columns</p><tr><th>1</th><td>2020-01-01T00:00:00</td></tr><tr><th>2</th><td>2020-01-01T01:00:00</td></tr><tr><th>3</th><td>2020-01-01T02:00:00</td></tr><tr><th>4</th><td>2020-01-01T03:00:00</td></tr><tr><th>5</th><td>2020-01-01T04:00:00</td></tr><tr><th>6</th><td>2020-01-01T05:00:00</td></tr><tr><th>7</th><td>2020-01-01T06:00:00</td></tr><tr><th>8</th><td>2020-01-01T07:00:00</td></tr><tr><th>9</th><td>2020-01-01T08:00:00</td></tr><tr><th>10</th><td>2020-01-01T09:00:00</td></tr><tr><th>11</th><td>2020-01-01T10:00:00</td></tr><tr><th>12</th><td>2020-01-01T11:00:00</td></tr></tbody></table>"
      ]
     },
     "metadata": {},
     "execution_count": 20
    }
   ],
   "cell_type": "code",
   "source": [
    "get_time_stamp(res)"
   ],
   "metadata": {},
   "execution_count": 20
  },
  {
   "cell_type": "markdown",
   "source": [
    "## Plotting\n",
    "Take a look at the examples in [the plotting folder.](../../notebook/PowerSimulations_examples/Plotting)"
   ],
   "metadata": {}
  },
  {
   "cell_type": "markdown",
   "source": [
    "---\n",
    "\n",
    "*This notebook was generated using [Literate.jl](https://github.com/fredrikekre/Literate.jl).*"
   ],
   "metadata": {}
  }
 ],
 "nbformat_minor": 3,
 "metadata": {
  "language_info": {
   "file_extension": ".jl",
   "mimetype": "application/julia",
   "name": "julia",
   "version": "1.4.0"
  },
  "kernelspec": {
   "name": "julia-1.4",
   "display_name": "Julia 1.4.0",
   "language": "julia"
  }
 },
 "nbformat": 4
}
