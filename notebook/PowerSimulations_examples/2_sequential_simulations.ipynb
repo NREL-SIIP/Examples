{
 "cells": [
  {
   "cell_type": "markdown",
   "source": [
    "# Sequential Simulations with [PowerSimulations.jl](https://github.com/NREL-SIIP/PowerSimulations.jl)"
   ],
   "metadata": {}
  },
  {
   "cell_type": "markdown",
   "source": [
    "**Originally Contributed by**: Clayton Barrows"
   ],
   "metadata": {}
  },
  {
   "cell_type": "markdown",
   "source": [
    "## Introduction"
   ],
   "metadata": {}
  },
  {
   "cell_type": "markdown",
   "source": [
    "PowerSimulations.jl supports simulations that consist of sequential optimization problems\n",
    "where results from previous problems inform subsequent problems in a variety of ways. This\n",
    "example demonstrates some of these capabilities to represent electricity market clearing."
   ],
   "metadata": {}
  },
  {
   "cell_type": "markdown",
   "source": [
    "## Dependencies\n",
    "Since the `OperatiotnsProblem` is the fundamental building block of a sequential\n",
    "simulation in PowerSimulations, we will build on the [OperationsProblem example](../../notebook/PowerSimulations_examples/1_operations_problems.ipynb)\n",
    "by sourcing it as a dependency."
   ],
   "metadata": {}
  },
  {
   "outputs": [
    {
     "name": "stdout",
     "output_type": "stream",
     "text": [
      "┌ Info: Parsing csv data in branch.csv ...\n",
      "└ @ PowerSystems /Users/cbarrows/Documents/repos/PowerSystems.jl/src/parsers/power_system_table_data.jl:143\n",
      "┌ Info: Successfully parsed branch.csv\n",
      "└ @ PowerSystems /Users/cbarrows/Documents/repos/PowerSystems.jl/src/parsers/power_system_table_data.jl:148\n",
      "┌ Info: Parsing csv data in bus.csv ...\n",
      "└ @ PowerSystems /Users/cbarrows/Documents/repos/PowerSystems.jl/src/parsers/power_system_table_data.jl:143\n",
      "┌ Info: Successfully parsed bus.csv\n",
      "└ @ PowerSystems /Users/cbarrows/Documents/repos/PowerSystems.jl/src/parsers/power_system_table_data.jl:148\n",
      "┌ Info: Parsing csv data in dc_branch.csv ...\n",
      "└ @ PowerSystems /Users/cbarrows/Documents/repos/PowerSystems.jl/src/parsers/power_system_table_data.jl:143\n",
      "┌ Info: Successfully parsed dc_branch.csv\n",
      "└ @ PowerSystems /Users/cbarrows/Documents/repos/PowerSystems.jl/src/parsers/power_system_table_data.jl:148\n",
      "┌ Info: Parsing csv data in gen.csv ...\n",
      "└ @ PowerSystems /Users/cbarrows/Documents/repos/PowerSystems.jl/src/parsers/power_system_table_data.jl:143\n",
      "┌ Info: Successfully parsed gen.csv\n",
      "└ @ PowerSystems /Users/cbarrows/Documents/repos/PowerSystems.jl/src/parsers/power_system_table_data.jl:148\n",
      "┌ Info: Parsing csv data in reserves.csv ...\n",
      "└ @ PowerSystems /Users/cbarrows/Documents/repos/PowerSystems.jl/src/parsers/power_system_table_data.jl:143\n",
      "┌ Info: Successfully parsed reserves.csv\n",
      "└ @ PowerSystems /Users/cbarrows/Documents/repos/PowerSystems.jl/src/parsers/power_system_table_data.jl:148\n",
      "┌ Info: Parsing csv data in simulation_objects.csv ...\n",
      "└ @ PowerSystems /Users/cbarrows/Documents/repos/PowerSystems.jl/src/parsers/power_system_table_data.jl:143\n",
      "┌ Info: Successfully parsed simulation_objects.csv\n",
      "└ @ PowerSystems /Users/cbarrows/Documents/repos/PowerSystems.jl/src/parsers/power_system_table_data.jl:148\n",
      "┌ Info: Parsing csv data in storage.csv ...\n",
      "└ @ PowerSystems /Users/cbarrows/Documents/repos/PowerSystems.jl/src/parsers/power_system_table_data.jl:143\n",
      "┌ Info: Successfully parsed storage.csv\n",
      "└ @ PowerSystems /Users/cbarrows/Documents/repos/PowerSystems.jl/src/parsers/power_system_table_data.jl:148\n",
      "┌ Info: Parsing csv data in timeseries_pointers.csv ...\n",
      "└ @ PowerSystems /Users/cbarrows/Documents/repos/PowerSystems.jl/src/parsers/power_system_table_data.jl:143\n",
      "┌ Info: Successfully parsed timeseries_pointers.csv\n",
      "└ @ PowerSystems /Users/cbarrows/Documents/repos/PowerSystems.jl/src/parsers/power_system_table_data.jl:148\n",
      "┌ Warning: Missing LOAD data.\n",
      "└ @ PowerSystems /Users/cbarrows/Documents/repos/PowerSystems.jl/src/parsers/power_system_table_data.jl:212\n",
      "┌ Warning: Missing LOAD data.\n",
      "└ @ PowerSystems /Users/cbarrows/Documents/repos/PowerSystems.jl/src/parsers/power_system_table_data.jl:212\n",
      "┌ Info: Adding contributing generators for Spin_Up_R1 by category\n",
      "└ @ PowerSystems /Users/cbarrows/Documents/repos/PowerSystems.jl/src/parsers/power_system_table_data.jl:656\n",
      "┌ Info: Adding contributing generators for Spin_Up_R2 by category\n",
      "└ @ PowerSystems /Users/cbarrows/Documents/repos/PowerSystems.jl/src/parsers/power_system_table_data.jl:656\n",
      "┌ Info: Adding contributing generators for Spin_Up_R3 by category\n",
      "└ @ PowerSystems /Users/cbarrows/Documents/repos/PowerSystems.jl/src/parsers/power_system_table_data.jl:656\n",
      "┌ Info: Adding contributing generators for Flex_Up by category\n",
      "└ @ PowerSystems /Users/cbarrows/Documents/repos/PowerSystems.jl/src/parsers/power_system_table_data.jl:656\n",
      "┌ Info: Adding contributing generators for Flex_Down by category\n",
      "└ @ PowerSystems /Users/cbarrows/Documents/repos/PowerSystems.jl/src/parsers/power_system_table_data.jl:656\n",
      "┌ Info: Adding contributing generators for Reg_Up by category\n",
      "└ @ PowerSystems /Users/cbarrows/Documents/repos/PowerSystems.jl/src/parsers/power_system_table_data.jl:656\n",
      "┌ Info: Adding contributing generators for Reg_Down by category\n",
      "└ @ PowerSystems /Users/cbarrows/Documents/repos/PowerSystems.jl/src/parsers/power_system_table_data.jl:656\n",
      "Welcome to the CBC MILP Solver \n",
      "Version: 2.10.3 \n",
      "Build Date: May 23 2020 \n",
      "\n",
      "command line - Cbc_C_Interface -ratioGap 0.5 -logLevel 1 -solve -quit (default strategy 1)\n",
      "ratioGap was changed from 0 to 0.5\n",
      "Continuous objective value is 308345 - 0.13 seconds\n",
      "Cgl0003I 265 fixed, 0 tightened bounds, 831 strengthened rows, 61 substitutions\n",
      "Cgl0003I 0 fixed, 0 tightened bounds, 931 strengthened rows, 0 substitutions\n",
      "Cgl0003I 0 fixed, 0 tightened bounds, 776 strengthened rows, 0 substitutions\n",
      "Cgl0003I 0 fixed, 0 tightened bounds, 648 strengthened rows, 0 substitutions\n",
      "Cgl0003I 0 fixed, 0 tightened bounds, 329 strengthened rows, 0 substitutions\n",
      "Cgl0003I 0 fixed, 0 tightened bounds, 276 strengthened rows, 0 substitutions\n",
      "Cgl0003I 0 fixed, 0 tightened bounds, 212 strengthened rows, 0 substitutions\n",
      "Cgl0003I 0 fixed, 0 tightened bounds, 181 strengthened rows, 0 substitutions\n",
      "Cgl0003I 0 fixed, 0 tightened bounds, 168 strengthened rows, 0 substitutions\n",
      "Cgl0004I processed model has 5713 rows, 11716 columns (2374 integer (2374 of which binary)) and 33354 elements\n",
      "Cbc0045I Trying just fixing integer variables (and fixingish SOS).\n",
      "Cbc0045I Warning: mipstart values could not be used to build a solution.\n",
      "Cbc0012I Integer solution of 313117.73 found by DiveCoefficient after 0 iterations and 0 nodes (1.19 seconds)\n",
      "Cbc0011I Exiting as integer gap of 4772.8746 less than 1e-10 or 50%\n",
      "Cbc0001I Search completed - best objective 313117.7332483479, took 0 iterations and 0 nodes (1.20 seconds)\n",
      "Cbc0035I Maximum depth 0, 0 variables fixed on reduced cost\n",
      "Cuts at root node changed objective from 308345 to 308345\n",
      "Probing was tried 0 times and created 0 cuts of which 0 were active after adding rounds of cuts (0.000 seconds)\n",
      "Gomory was tried 0 times and created 0 cuts of which 0 were active after adding rounds of cuts (0.000 seconds)\n",
      "Knapsack was tried 0 times and created 0 cuts of which 0 were active after adding rounds of cuts (0.000 seconds)\n",
      "Clique was tried 0 times and created 0 cuts of which 0 were active after adding rounds of cuts (0.000 seconds)\n",
      "MixedIntegerRounding2 was tried 0 times and created 0 cuts of which 0 were active after adding rounds of cuts (0.000 seconds)\n",
      "FlowCover was tried 0 times and created 0 cuts of which 0 were active after adding rounds of cuts (0.000 seconds)\n",
      "TwoMirCuts was tried 0 times and created 0 cuts of which 0 were active after adding rounds of cuts (0.000 seconds)\n",
      "ZeroHalf was tried 0 times and created 0 cuts of which 0 were active after adding rounds of cuts (0.000 seconds)\n",
      "\n",
      "Result - Optimal solution found (within gap tolerance)\n",
      "\n",
      "Objective value:                313117.73324835\n",
      "Lower bound:                    308344.859\n",
      "Gap:                            0.02\n",
      "Enumerated nodes:               0\n",
      "Total iterations:               0\n",
      "Time (CPU seconds):             1.37\n",
      "Time (Wallclock seconds):       1.52\n",
      "\n",
      "Total time (CPU seconds):       1.37   (Wallclock seconds):       1.52\n",
      "\n",
      "┌ Info: Unit System changed to SYSTEM_BASE\n",
      "└ @ PowerSystems /Users/cbarrows/Documents/repos/PowerSystems.jl/src/base.jl:353\n",
      "┌ Warning: The data doesn't include devices of type PowerSystems.InterruptibleLoad, consider changing the device models\n",
      "└ @ PowerSimulations /Users/cbarrows/Documents/repos/PowerSimulations.jl/src/devices_models/device_constructors/common/constructor_validations.jl:3\n",
      "┌ Warning: Data doesn't contain generators with ramp limits, consider adjusting your formulation\n",
      "└ @ PowerSimulations /Users/cbarrows/Documents/repos/PowerSimulations.jl/src/devices_models/devices/thermal_generation.jl:612\n"
     ]
    },
    {
     "output_type": "execute_result",
     "data": {
      "text/plain": "\nOperations Problem Specification\n============================================\n\n  transmission:  PowerSimulations.CopperPlatePowerModel\n============================================\n  devices: \n      ILoads:\n        device_type = PowerSystems.InterruptibleLoad\n        formulation = PowerSimulations.InterruptiblePowerLoad\n      HydroROR:\n        device_type = PowerSystems.HydroDispatch\n        formulation = PowerSimulations.FixedOutput\n      Generators:\n        device_type = PowerSystems.ThermalStandard\n        formulation = PowerSimulations.ThermalStandardUnitCommitment\n      Ren:\n        device_type = PowerSystems.RenewableDispatch\n        formulation = PowerSimulations.RenewableFullDispatch\n      Hydro:\n        device_type = PowerSystems.HydroEnergyReservoir\n        formulation = PowerSimulations.HydroDispatchRunOfRiver\n      Loads:\n        device_type = PowerSystems.PowerLoad\n        formulation = PowerSimulations.StaticPowerLoad\n      RenFx:\n        device_type = PowerSystems.RenewableFix\n        formulation = PowerSimulations.FixedOutput\n============================================\n  branches: \n      T:\n        device_type = PowerSystems.Transformer2W\n        formulation = PowerSimulations.StaticTransformer\n      TT:\n        device_type = PowerSystems.TapTransformer\n        formulation = PowerSimulations.StaticTransformer\n      L:\n        device_type = PowerSystems.Line\n        formulation = PowerSimulations.StaticLine\n============================================\n  services: \n      ReserveDown:\n        service_type = PowerSystems.VariableReserve{PowerSystems.ReserveDown}\n        formulation = PowerSimulations.RangeReserve\n      ReserveUp:\n        service_type = PowerSystems.VariableReserve{PowerSystems.ReserveUp}\n        formulation = PowerSimulations.RangeReserve\n============================================\n"
     },
     "metadata": {},
     "execution_count": 1
    }
   ],
   "cell_type": "code",
   "source": [
    "using SIIPExamples\n",
    "pkgpath = dirname(dirname(pathof(SIIPExamples)))\n",
    "include(joinpath(pkgpath, \"test\", \"PowerSimulations_examples\", \"1_operations_problems.jl\"))"
   ],
   "metadata": {},
   "execution_count": 1
  },
  {
   "cell_type": "markdown",
   "source": [
    "### 5-Minute system\n",
    "We had already created a `sys::System` from hourly RTS data in the OperationsProblem example.\n",
    "The RTS data also includes 5-minute resolution time series data. So, we can create another\n",
    "`System`:"
   ],
   "metadata": {}
  },
  {
   "outputs": [
    {
     "name": "stdout",
     "output_type": "stream",
     "text": [
      "┌ Warning: Missing LOAD data.\n",
      "└ @ PowerSystems /Users/cbarrows/Documents/repos/PowerSystems.jl/src/parsers/power_system_table_data.jl:212\n",
      "┌ Warning: Missing LOAD data.\n",
      "└ @ PowerSystems /Users/cbarrows/Documents/repos/PowerSystems.jl/src/parsers/power_system_table_data.jl:212\n",
      "┌ Info: Adding contributing generators for Spin_Up_R1 by category\n",
      "└ @ PowerSystems /Users/cbarrows/Documents/repos/PowerSystems.jl/src/parsers/power_system_table_data.jl:656\n",
      "┌ Info: Adding contributing generators for Spin_Up_R2 by category\n",
      "└ @ PowerSystems /Users/cbarrows/Documents/repos/PowerSystems.jl/src/parsers/power_system_table_data.jl:656\n",
      "┌ Info: Adding contributing generators for Spin_Up_R3 by category\n",
      "└ @ PowerSystems /Users/cbarrows/Documents/repos/PowerSystems.jl/src/parsers/power_system_table_data.jl:656\n",
      "┌ Info: Adding contributing generators for Flex_Up by category\n",
      "└ @ PowerSystems /Users/cbarrows/Documents/repos/PowerSystems.jl/src/parsers/power_system_table_data.jl:656\n",
      "┌ Info: Adding contributing generators for Flex_Down by category\n",
      "└ @ PowerSystems /Users/cbarrows/Documents/repos/PowerSystems.jl/src/parsers/power_system_table_data.jl:656\n",
      "┌ Info: Adding contributing generators for Reg_Up by category\n",
      "└ @ PowerSystems /Users/cbarrows/Documents/repos/PowerSystems.jl/src/parsers/power_system_table_data.jl:656\n",
      "┌ Info: Adding contributing generators for Reg_Down by category\n",
      "└ @ PowerSystems /Users/cbarrows/Documents/repos/PowerSystems.jl/src/parsers/power_system_table_data.jl:656\n"
     ]
    },
    {
     "output_type": "execute_result",
     "data": {
      "text/plain": "System\n======\nBase Power: 100.0\n\nComponents\n==========\nNum components: 434\n\n15×3 DataFrame. Omitted printing of 2 columns\n│ Row │ ConcreteType                              │\n│     │ \u001b[90mString\u001b[39m                                    │\n├─────┼───────────────────────────────────────────┤\n│ 1   │ Area                                      │\n│ 2   │ Bus                                       │\n│ 3   │ GenericBattery                            │\n│ 4   │ HVDCLine                                  │\n│ 5   │ HydroDispatch                             │\n│ 6   │ HydroEnergyReservoir                      │\n│ 7   │ Line                                      │\n│ 8   │ LoadZone                                  │\n│ 9   │ PowerLoad                                 │\n│ 10  │ RenewableDispatch                         │\n│ 11  │ RenewableFix                              │\n│ 12  │ TapTransformer                            │\n│ 13  │ ThermalStandard                           │\n│ 14  │ VariableReserve{PowerSystems.ReserveDown} │\n│ 15  │ VariableReserve{PowerSystems.ReserveUp}   │\n\nForecasts\n=========\nResolution: 5 minutes\nHorizon: 105408\nInitial Times: 2020-01-01T00:00:00\nInterval: 0 seconds\nComponents with Forecasts: 137\nTotal Forecasts: 177\n",
      "text/html": [
       "<h1>System</h1>\n",
       "<p><b>Base Power</b>: 100.0</p>\n",
       "<h2>Components</h2>\n",
       "<p><b>Num components</b>: 434</p>\n",
       "<table class=\"data-frame\"><thead><tr><th></th><th>ConcreteType</th><th>SuperTypes</th><th>Count</th></tr><tr><th></th><th>String</th><th>String</th><th>Int64</th></tr></thead><tbody><p>15 rows × 3 columns</p><tr><th>1</th><td>Area</td><td>AggregationTopology &lt;: Topology &lt;: Component &lt;: PowerSystemType &lt;: InfrastructureSystemsType &lt;: Any</td><td>3</td></tr><tr><th>2</th><td>Bus</td><td>Topology &lt;: Component &lt;: PowerSystemType &lt;: InfrastructureSystemsType &lt;: Any</td><td>73</td></tr><tr><th>3</th><td>GenericBattery</td><td>Storage &lt;: StaticInjection &lt;: Device &lt;: Component &lt;: PowerSystemType &lt;: InfrastructureSystemsType &lt;: Any</td><td>1</td></tr><tr><th>4</th><td>HVDCLine</td><td>DCBranch &lt;: Branch &lt;: Device &lt;: Component &lt;: PowerSystemType &lt;: InfrastructureSystemsType &lt;: Any</td><td>1</td></tr><tr><th>5</th><td>HydroDispatch</td><td>HydroGen &lt;: Generator &lt;: StaticInjection &lt;: Device &lt;: Component &lt;: PowerSystemType &lt;: InfrastructureSystemsType &lt;: Any</td><td>1</td></tr><tr><th>6</th><td>HydroEnergyReservoir</td><td>HydroGen &lt;: Generator &lt;: StaticInjection &lt;: Device &lt;: Component &lt;: PowerSystemType &lt;: InfrastructureSystemsType &lt;: Any</td><td>19</td></tr><tr><th>7</th><td>Line</td><td>ACBranch &lt;: Branch &lt;: Device &lt;: Component &lt;: PowerSystemType &lt;: InfrastructureSystemsType &lt;: Any</td><td>105</td></tr><tr><th>8</th><td>LoadZone</td><td>AggregationTopology &lt;: Topology &lt;: Component &lt;: PowerSystemType &lt;: InfrastructureSystemsType &lt;: Any</td><td>21</td></tr><tr><th>9</th><td>PowerLoad</td><td>StaticLoad &lt;: ElectricLoad &lt;: StaticInjection &lt;: Device &lt;: Component &lt;: PowerSystemType &lt;: InfrastructureSystemsType &lt;: Any</td><td>51</td></tr><tr><th>10</th><td>RenewableDispatch</td><td>RenewableGen &lt;: Generator &lt;: StaticInjection &lt;: Device &lt;: Component &lt;: PowerSystemType &lt;: InfrastructureSystemsType &lt;: Any</td><td>30</td></tr><tr><th>11</th><td>RenewableFix</td><td>RenewableGen &lt;: Generator &lt;: StaticInjection &lt;: Device &lt;: Component &lt;: PowerSystemType &lt;: InfrastructureSystemsType &lt;: Any</td><td>31</td></tr><tr><th>12</th><td>TapTransformer</td><td>ACBranch &lt;: Branch &lt;: Device &lt;: Component &lt;: PowerSystemType &lt;: InfrastructureSystemsType &lt;: Any</td><td>15</td></tr><tr><th>13</th><td>ThermalStandard</td><td>ThermalGen &lt;: Generator &lt;: StaticInjection &lt;: Device &lt;: Component &lt;: PowerSystemType &lt;: InfrastructureSystemsType &lt;: Any</td><td>76</td></tr><tr><th>14</th><td>VariableReserve{PowerSystems.ReserveDown}</td><td>Reserve{PowerSystems.ReserveDown} &lt;: Service &lt;: Component &lt;: PowerSystemType &lt;: InfrastructureSystemsType &lt;: Any</td><td>2</td></tr><tr><th>15</th><td>VariableReserve{PowerSystems.ReserveUp}</td><td>Reserve{PowerSystems.ReserveUp} &lt;: Service &lt;: Component &lt;: PowerSystemType &lt;: InfrastructureSystemsType &lt;: Any</td><td>5</td></tr></tbody></table>\n",
       "\n",
       "<h2>Forecasts</h2>\n",
       "<p><b>Resolution</b>: 5 minutes</p>\n",
       "<p><b>Horizon</b>: 105408</p>\n",
       "<p><b>Initial Times</b>: 2020-01-01T00:00:00</p>\n",
       "<p><b>Interval</b>: 0 seconds</p>\n",
       "<p><b>Components with Forecasts</b>: 137</p>\n",
       "<p><b>Total Forecasts</b>: 177</p>\n"
      ]
     },
     "metadata": {},
     "execution_count": 2
    }
   ],
   "cell_type": "code",
   "source": [
    "sys_RT = System(rawsys; forecast_resolution = Dates.Minute(5))"
   ],
   "metadata": {},
   "execution_count": 2
  },
  {
   "cell_type": "markdown",
   "source": [
    "## `OperationsProblemTemplate`s define `Stage`s\n",
    "Sequential simulations in PowerSimulations are created by defining `OperationsProblems`\n",
    "that represent `Stages`, and how information flows between executions of a `Stage` and\n",
    "between different `Stage`s.\n",
    "\n",
    "Let's start by defining a two stage simulation that might look like a typical day-Ahead\n",
    "and real-time electricity market clearing process."
   ],
   "metadata": {}
  },
  {
   "cell_type": "markdown",
   "source": [
    "### Define the reference model for the day-ahead unit commitment"
   ],
   "metadata": {}
  },
  {
   "outputs": [
    {
     "output_type": "execute_result",
     "data": {
      "text/plain": "\nOperations Problem Specification\n============================================\n\n  transmission:  PowerSimulations.CopperPlatePowerModel\n============================================\n  devices: \n      HydroROR:\n        device_type = PowerSystems.HydroDispatch\n        formulation = PowerSimulations.FixedOutput\n      Generators:\n        device_type = PowerSystems.ThermalStandard\n        formulation = PowerSimulations.ThermalStandardUnitCommitment\n      Ren:\n        device_type = PowerSystems.RenewableDispatch\n        formulation = PowerSimulations.RenewableFullDispatch\n      Hydro:\n        device_type = PowerSystems.HydroEnergyReservoir\n        formulation = PowerSimulations.HydroDispatchRunOfRiver\n      Loads:\n        device_type = PowerSystems.PowerLoad\n        formulation = PowerSimulations.StaticPowerLoad\n      RenFx:\n        device_type = PowerSystems.RenewableFix\n        formulation = PowerSimulations.FixedOutput\n============================================\n  branches: \n      T:\n        device_type = PowerSystems.Transformer2W\n        formulation = PowerSimulations.StaticTransformer\n      TT:\n        device_type = PowerSystems.TapTransformer\n        formulation = PowerSimulations.StaticTransformer\n      L:\n        device_type = PowerSystems.Line\n        formulation = PowerSimulations.StaticLine\n      DC:\n        device_type = PowerSystems.HVDCLine\n        formulation = PowerSimulations.HVDCDispatch\n============================================\n  services: \n      ReserveDown:\n        service_type = PowerSystems.VariableReserve{PowerSystems.ReserveDown}\n        formulation = PowerSimulations.RangeReserve\n      ReserveUp:\n        service_type = PowerSystems.VariableReserve{PowerSystems.ReserveUp}\n        formulation = PowerSimulations.RangeReserve\n============================================\n"
     },
     "metadata": {},
     "execution_count": 3
    }
   ],
   "cell_type": "code",
   "source": [
    "devices = Dict(\n",
    "    :Generators => DeviceModel(ThermalStandard, ThermalStandardUnitCommitment),\n",
    "    :Ren => DeviceModel(RenewableDispatch, RenewableFullDispatch),\n",
    "    :Loads => DeviceModel(PowerLoad, StaticPowerLoad),\n",
    "    :HydroROR => DeviceModel(HydroDispatch, FixedOutput),\n",
    "    :Hydro => DeviceModel(HydroEnergyReservoir, HydroDispatchRunOfRiver),\n",
    "    :RenFx => DeviceModel(RenewableFix, FixedOutput),\n",
    ")\n",
    "template_uc = template_unit_commitment(devices = devices)"
   ],
   "metadata": {},
   "execution_count": 3
  },
  {
   "cell_type": "markdown",
   "source": [
    "### Define the reference model for the real-time economic dispatch"
   ],
   "metadata": {}
  },
  {
   "outputs": [
    {
     "output_type": "execute_result",
     "data": {
      "text/plain": "\nOperations Problem Specification\n============================================\n\n  transmission:  PowerSimulations.CopperPlatePowerModel\n============================================\n  devices: \n      HydroROR:\n        device_type = PowerSystems.HydroDispatch\n        formulation = PowerSimulations.FixedOutput\n      Generators:\n        device_type = PowerSystems.ThermalStandard\n        formulation = PowerSimulations.ThermalDispatch\n      Ren:\n        device_type = PowerSystems.RenewableDispatch\n        formulation = PowerSimulations.RenewableFullDispatch\n      Hydro:\n        device_type = PowerSystems.HydroEnergyReservoir\n        formulation = PowerSimulations.HydroDispatchRunOfRiver\n      Loads:\n        device_type = PowerSystems.PowerLoad\n        formulation = PowerSimulations.StaticPowerLoad\n      RenFx:\n        device_type = PowerSystems.RenewableFix\n        formulation = PowerSimulations.FixedOutput\n============================================\n  branches: \n      T:\n        device_type = PowerSystems.Transformer2W\n        formulation = PowerSimulations.StaticTransformer\n      TT:\n        device_type = PowerSystems.TapTransformer\n        formulation = PowerSimulations.StaticTransformer\n      L:\n        device_type = PowerSystems.Line\n        formulation = PowerSimulations.StaticLine\n      DC:\n        device_type = PowerSystems.HVDCLine\n        formulation = PowerSimulations.HVDCDispatch\n============================================\n  services: \n============================================\n"
     },
     "metadata": {},
     "execution_count": 4
    }
   ],
   "cell_type": "code",
   "source": [
    "devices = Dict(\n",
    "    :Generators => DeviceModel(ThermalStandard, ThermalDispatch),\n",
    "    :Ren => DeviceModel(RenewableDispatch, RenewableFullDispatch),\n",
    "    :Loads => DeviceModel(PowerLoad, StaticPowerLoad),\n",
    "    :HydroROR => DeviceModel(HydroDispatch, FixedOutput),\n",
    "    :Hydro => DeviceModel(HydroEnergyReservoir, HydroDispatchRunOfRiver),\n",
    "    :RenFx => DeviceModel(RenewableFix, FixedOutput),\n",
    ")\n",
    "template_ed = template_economic_dispatch(devices = devices)"
   ],
   "metadata": {},
   "execution_count": 4
  },
  {
   "cell_type": "markdown",
   "source": [
    "### Define the `Stage`s\n",
    "Stages define models. The actual problem will change as the stage gets updated to represent\n",
    "different time periods, but the formulations applied to the components is constant within\n",
    "a stage. In this case, we want to define two stages with the `OperationsProblemTemplate`s\n",
    "and the `System`s that we've already created."
   ],
   "metadata": {}
  },
  {
   "outputs": [
    {
     "output_type": "execute_result",
     "data": {
      "text/plain": "Dict{String,PowerSimulations.Stage{PowerSimulations.GenericOpProblem}} with 2 entries:\n  \"ED\" => Stage()…\n  \"UC\" => Stage()…"
     },
     "metadata": {},
     "execution_count": 5
    }
   ],
   "cell_type": "code",
   "source": [
    "stages_definition = Dict(\n",
    "    \"UC\" => Stage(GenericOpProblem, template_uc, sys, solver),\n",
    "    \"ED\" => Stage(\n",
    "        GenericOpProblem,\n",
    "        template_ed,\n",
    "        sys_RT,\n",
    "        solver,\n",
    "        balance_slack_variables = true,\n",
    "    ),\n",
    ")"
   ],
   "metadata": {},
   "execution_count": 5
  },
  {
   "cell_type": "markdown",
   "source": [
    "Note that the \"ED\" stage has a `balance_slack_variables = true` argument. This adds slack\n",
    "variables with a default penalty of 1e6 to the nodal energy balance constraint and helps\n",
    "ensure feasibility with some performance impacts."
   ],
   "metadata": {}
  },
  {
   "cell_type": "markdown",
   "source": [
    "### `SimulationSequence`\n",
    "Similar to an `OperationsProblemTemplate`, the `SimulationSequence` provides a template of\n",
    "how to execute a sequential set of operations problems."
   ],
   "metadata": {}
  },
  {
   "cell_type": "markdown",
   "source": [
    "print_struct(SimulationSequence)"
   ],
   "metadata": {}
  },
  {
   "cell_type": "markdown",
   "source": [
    "Let's review some of the `SimulationSequence` arguments."
   ],
   "metadata": {}
  },
  {
   "cell_type": "markdown",
   "source": [
    "### Chronologies\n",
    "In PowerSimulations, chronologies define where information is flowing. There are two types\n",
    "of chronologies.\n",
    " - inter-stage chronologies: Define how information flows between stages. e.g. day-ahead\n",
    "solutions are used to inform economic dispatch problems\n",
    " - intra-stage chronologies: Define how information flows between multiple executions of a\n",
    "single stage. e.g. the dispatch setpoints of the first period of an economic dispatch problem\n",
    "are constrained by the ramping limits from setpoints in the final period of the previous problem."
   ],
   "metadata": {}
  },
  {
   "cell_type": "markdown",
   "source": [
    "Let's define an inter-stage chronology that synchronizes information from 24 periods of\n",
    "the first stage with a set of executions of the second stage:"
   ],
   "metadata": {}
  },
  {
   "outputs": [
    {
     "output_type": "execute_result",
     "data": {
      "text/plain": "Dict{Pair{String,String},PowerSimulations.Synchronize} with 1 entry:\n  \"UC\"=>\"ED\" => Synchronize(24)"
     },
     "metadata": {},
     "execution_count": 6
    }
   ],
   "cell_type": "code",
   "source": [
    "feedforward_chronologies = Dict((\"UC\" => \"ED\") => Synchronize(periods = 24))"
   ],
   "metadata": {},
   "execution_count": 6
  },
  {
   "cell_type": "markdown",
   "source": [
    "### `FeedForward` and `Cache`\n",
    "The definition of exactly what information is passed using the defined chronologies is\n",
    "accomplished with `FeedForward` and `Cache` objects. Specifically, `FeedForward` is used\n",
    "to define what to do with information being passed with an inter-stage chronology. Let's\n",
    "define a `FeedForward` that affects the semi-continuous range constraints of thermal generators\n",
    "in the economic dispatch problems based on the value of the unit-commitment variables."
   ],
   "metadata": {}
  },
  {
   "outputs": [
    {
     "output_type": "execute_result",
     "data": {
      "text/plain": "Dict{Tuple{String,Symbol,Symbol},PowerSimulations.SemiContinuousFF} with 1 entry:\n  (\"ED\", :devices, :Generators) => SemiContinuousFF(:On, [:P], nothing)"
     },
     "metadata": {},
     "execution_count": 7
    }
   ],
   "cell_type": "code",
   "source": [
    "feedforward = Dict(\n",
    "    (\"ED\", :devices, :Generators) => SemiContinuousFF(\n",
    "        binary_source_stage = PSI.ON,\n",
    "        affected_variables = [PSI.ACTIVE_POWER],\n",
    "    ),\n",
    ")"
   ],
   "metadata": {},
   "execution_count": 7
  },
  {
   "cell_type": "markdown",
   "source": [
    "### Sequencing\n",
    "The stage problem length, look-ahead, and other details surrounding the temporal Sequencing\n",
    "of stages are controlled using the `order`, `horizons`, and `intervals` arguments.\n",
    " - order::Dict(Int, String) : the hierarchical order of stages in the simulation\n",
    " - horizons::Dict(String, Int) : defines the number of time periods in each stage (problem length)\n",
    " - intervals::Dict(String, Dates.Period) : defines the interval with which stage problems\n",
    "advance after each execution. e.g. day-ahead problems have an interval of 24-hours\n",
    "\n",
    "So, to define a typical day-ahead - real-time sequence, we can define the following:\n",
    " - Day ahead problems should represent 48 hours, advancing 24 hours after each execution (24-hour look-ahead)\n",
    " - Real time problems should represent 1 hour (12 5-minute periods), advancing 1 hour after each execution (no look-ahead)"
   ],
   "metadata": {}
  },
  {
   "outputs": [
    {
     "output_type": "execute_result",
     "data": {
      "text/plain": "Dict{String,Tuple{Dates.Hour,PowerSimulations.Consecutive}} with 2 entries:\n  \"ED\" => (1 hour, Consecutive())\n  \"UC\" => (24 hours, Consecutive())"
     },
     "metadata": {},
     "execution_count": 8
    }
   ],
   "cell_type": "code",
   "source": [
    "order = Dict(1 => \"UC\", 2 => \"ED\")\n",
    "horizons = Dict(\"UC\" => 24, \"ED\" => 12)\n",
    "intervals = Dict(\"UC\" => (Hour(24), Consecutive()), \"ED\" => (Hour(1), Consecutive()))"
   ],
   "metadata": {},
   "execution_count": 8
  },
  {
   "cell_type": "markdown",
   "source": [
    "Finally, we can put it all together:"
   ],
   "metadata": {}
  },
  {
   "outputs": [
    {
     "output_type": "execute_result",
     "data": {
      "text/plain": "Feed Forward Chronology\n-----------------------\n\nED: PowerSimulations.SemiContinuousFF -> Generators\n\n                     UC--┐ from : On\n                         |\n┌----┬----┬----┬----┬----┼----┬----┬----┬----┬----┬----┐\n|    |    |    |    |    |    |    |    |    |    |    |\n|    |    |    |    |    |    |    |    |    |    |    |\n└─ED └─ED └─ED └─ED └─ED └─ED └─ED └─ED └─ED └─ED └─ED └─ED ... (x24) to : [\"P\"]\n\nInitial Condition Chronology\n----------------------------\n\n1\n|\n|\n2 --> 2 ... (x24)   \n"
     },
     "metadata": {},
     "execution_count": 9
    }
   ],
   "cell_type": "code",
   "source": [
    "DA_RT_sequence = SimulationSequence(\n",
    "    step_resolution = Hour(24),\n",
    "    order = order,\n",
    "    horizons = horizons,\n",
    "    intervals = intervals,\n",
    "    ini_cond_chronology = InterStageChronology(),\n",
    "    feedforward_chronologies = feedforward_chronologies,\n",
    "    feedforward = feedforward,\n",
    ")"
   ],
   "metadata": {},
   "execution_count": 9
  },
  {
   "cell_type": "markdown",
   "source": [
    "## `Simulation`\n",
    "Now, we can build and execute a simulation using the `SimulationSequence` and `Stage`s\n",
    "that we've defined."
   ],
   "metadata": {}
  },
  {
   "outputs": [
    {
     "output_type": "execute_result",
     "data": {
      "text/plain": "Simulation()\n"
     },
     "metadata": {},
     "execution_count": 10
    }
   ],
   "cell_type": "code",
   "source": [
    "sim = Simulation(\n",
    "    name = \"rts-test\",\n",
    "    steps = 1,\n",
    "    stages = stages_definition,\n",
    "    stages_sequence = DA_RT_sequence,\n",
    "    simulation_folder = rts_dir,\n",
    ")"
   ],
   "metadata": {},
   "execution_count": 10
  },
  {
   "cell_type": "markdown",
   "source": [
    "### Build simulation"
   ],
   "metadata": {}
  },
  {
   "outputs": [],
   "cell_type": "code",
   "source": [
    "build!(sim)"
   ],
   "metadata": {},
   "execution_count": 11
  },
  {
   "cell_type": "markdown",
   "source": [
    "### Execute simulation"
   ],
   "metadata": {}
  },
  {
   "outputs": [
    {
     "name": "stdout",
     "output_type": "stream",
     "text": [
      "Executing Step 1\n",
      "Welcome to the CBC MILP Solver \n",
      "Version: 2.10.3 \n",
      "Build Date: May 23 2020 \n",
      "\n",
      "command line - Cbc_C_Interface -ratioGap 0.5 -logLevel 1 -solve -quit (default strategy 1)\n",
      "ratioGap was changed from 0 to 0.5\n",
      "Continuous objective value is 1.06949e+06 - 0.43 seconds\n",
      "Cgl0003I 58 fixed, 0 tightened bounds, 1450 strengthened rows, 0 substitutions\n",
      "Cgl0003I 0 fixed, 0 tightened bounds, 105 strengthened rows, 0 substitutions\n",
      "Cgl0003I 0 fixed, 0 tightened bounds, 1392 strengthened rows, 0 substitutions\n",
      "Cgl0003I 0 fixed, 0 tightened bounds, 1288 strengthened rows, 0 substitutions\n",
      "Cgl0003I 0 fixed, 0 tightened bounds, 1159 strengthened rows, 0 substitutions\n",
      "Cgl0003I 0 fixed, 0 tightened bounds, 558 strengthened rows, 0 substitutions\n",
      "Cgl0003I 0 fixed, 0 tightened bounds, 526 strengthened rows, 0 substitutions\n",
      "Cgl0003I 0 fixed, 0 tightened bounds, 468 strengthened rows, 0 substitutions\n",
      "Cgl0003I 0 fixed, 0 tightened bounds, 456 strengthened rows, 0 substitutions\n",
      "Cgl0003I 0 fixed, 0 tightened bounds, 407 strengthened rows, 0 substitutions\n",
      "Cgl0004I processed model has 11561 rows, 23509 columns (5005 integer (5005 of which binary)) and 66727 elements\n",
      "Cbc0045I Trying just fixing integer variables (and fixingish SOS).\n",
      "Cbc0045I Warning: mipstart values could not be used to build a solution.\n",
      "Cbc0012I Integer solution of 1089922.8 found by DiveCoefficient after 0 iterations and 0 nodes (3.28 seconds)\n",
      "Cbc0011I Exiting as integer gap of 20428.414 less than 1e-10 or 50%\n",
      "Cbc0001I Search completed - best objective 1089922.812583019, took 0 iterations and 0 nodes (3.29 seconds)\n",
      "Cbc0035I Maximum depth 0, 0 variables fixed on reduced cost\n",
      "Cuts at root node changed objective from 1.06949e+06 to 1.06949e+06\n",
      "Probing was tried 0 times and created 0 cuts of which 0 were active after adding rounds of cuts (0.000 seconds)\n",
      "Gomory was tried 0 times and created 0 cuts of which 0 were active after adding rounds of cuts (0.000 seconds)\n",
      "Knapsack was tried 0 times and created 0 cuts of which 0 were active after adding rounds of cuts (0.000 seconds)\n",
      "Clique was tried 0 times and created 0 cuts of which 0 were active after adding rounds of cuts (0.000 seconds)\n",
      "MixedIntegerRounding2 was tried 0 times and created 0 cuts of which 0 were active after adding rounds of cuts (0.000 seconds)\n",
      "FlowCover was tried 0 times and created 0 cuts of which 0 were active after adding rounds of cuts (0.000 seconds)\n",
      "TwoMirCuts was tried 0 times and created 0 cuts of which 0 were active after adding rounds of cuts (0.000 seconds)\n",
      "ZeroHalf was tried 0 times and created 0 cuts of which 0 were active after adding rounds of cuts (0.000 seconds)\n",
      "\n",
      "Result - Optimal solution found (within gap tolerance)\n",
      "\n",
      "Objective value:                1089922.81259025\n",
      "Lower bound:                    1069494.399\n",
      "Gap:                            0.02\n",
      "Enumerated nodes:               0\n",
      "Total iterations:               0\n",
      "Time (CPU seconds):             3.74\n",
      "Time (Wallclock seconds):       4.18\n",
      "\n",
      "Total time (CPU seconds):       3.74   (Wallclock seconds):       4.19\n",
      "\n",
      "Welcome to the CBC MILP Solver \n",
      "Version: 2.10.3 \n",
      "Build Date: May 23 2020 \n",
      "\n",
      "command line - Cbc_C_Interface -ratioGap 0.5 -logLevel 1 -solve -quit (default strategy 1)\n",
      "ratioGap was changed from 0 to 0.5\n",
      "Presolve 180 (-3120) rows, 816 (-4212) columns and 984 (-7332) elements\n",
      "Perturbing problem by 0.001% of 1000000 - largest nonzero change 0.10690343 ( 0.0082657072%) - largest zero change 0.092441989\n",
      "0  Obj 5.8622404 Primal inf 99.839832 (168)\n",
      "78  Obj 10916.863 Primal inf 32.75991 (90)\n",
      "156  Obj 15454.435 Primal inf 3.599988 (12)\n",
      "168  Obj 15961.597\n",
      "Optimal - objective value 15955.018\n",
      "After Postsolve, objective 15955.018, infeasibilities - dual 0 (0), primal 0 (0)\n",
      "Optimal objective 15955.0182 - 168 iterations time 0.002, Presolve 0.00\n",
      "Total time (CPU seconds):       0.00   (Wallclock seconds):       0.00\n",
      "\n",
      "Welcome to the CBC MILP Solver \n",
      "Version: 2.10.3 \n",
      "Build Date: May 23 2020 \n",
      "\n",
      "command line - Cbc_C_Interface -ratioGap 0.5 -logLevel 1 -solve -quit (default strategy 1)\n",
      "ratioGap was changed from 0 to 0.5\n",
      "Presolve 180 (-3120) rows, 816 (-4212) columns and 984 (-7332) elements\n",
      "Perturbing problem by 0.001% of 1000000 - largest nonzero change 0.10690343 ( 0.0082657072%) - largest zero change 0.092441989\n",
      "0  Obj 5.8622404 Primal inf 99.839832 (168)\n",
      "78  Obj 10916.863 Primal inf 32.75991 (90)\n",
      "156  Obj 15454.435 Primal inf 3.599988 (12)\n",
      "168  Obj 15961.597\n",
      "Optimal - objective value 15955.018\n",
      "After Postsolve, objective 15955.018, infeasibilities - dual 0 (0), primal 0 (0)\n",
      "Optimal objective 15955.0182 - 168 iterations time 0.002, Presolve 0.00\n",
      "Total time (CPU seconds):       0.00   (Wallclock seconds):       0.00\n",
      "\n",
      "Welcome to the CBC MILP Solver \n",
      "Version: 2.10.3 \n",
      "Build Date: May 23 2020 \n",
      "\n",
      "command line - Cbc_C_Interface -ratioGap 0.5 -logLevel 1 -solve -quit (default strategy 1)\n",
      "ratioGap was changed from 0 to 0.5\n",
      "Presolve 180 (-3120) rows, 816 (-4212) columns and 984 (-7332) elements\n",
      "Perturbing problem by 0.001% of 1000000 - largest nonzero change 0.10690343 ( 0.0082657072%) - largest zero change 0.092441989\n",
      "0  Obj 5.8622404 Primal inf 99.839832 (168)\n",
      "78  Obj 10916.863 Primal inf 32.75991 (90)\n",
      "156  Obj 15454.435 Primal inf 3.599988 (12)\n",
      "168  Obj 15961.597\n",
      "Optimal - objective value 15955.018\n",
      "After Postsolve, objective 15955.018, infeasibilities - dual 0 (0), primal 0 (0)\n",
      "Optimal objective 15955.0182 - 168 iterations time 0.002, Presolve 0.00\n",
      "Total time (CPU seconds):       0.00   (Wallclock seconds):       0.00\n",
      "\n",
      "Welcome to the CBC MILP Solver \n",
      "Version: 2.10.3 \n",
      "Build Date: May 23 2020 \n",
      "\n",
      "command line - Cbc_C_Interface -ratioGap 0.5 -logLevel 1 -solve -quit (default strategy 1)\n",
      "ratioGap was changed from 0 to 0.5\n",
      "Presolve 180 (-3120) rows, 816 (-4212) columns and 984 (-7332) elements\n",
      "Perturbing problem by 0.001% of 1000000 - largest nonzero change 0.10690343 ( 0.0082657072%) - largest zero change 0.092441989\n",
      "0  Obj 5.8622404 Primal inf 99.839832 (168)\n",
      "78  Obj 10916.863 Primal inf 32.75991 (90)\n",
      "156  Obj 15454.435 Primal inf 3.599988 (12)\n",
      "168  Obj 15961.597\n",
      "Optimal - objective value 15955.018\n",
      "After Postsolve, objective 15955.018, infeasibilities - dual 0 (0), primal 0 (0)\n",
      "Optimal objective 15955.0182 - 168 iterations time 0.002, Presolve 0.00\n",
      "Total time (CPU seconds):       0.00   (Wallclock seconds):       0.00\n",
      "\n",
      "Welcome to the CBC MILP Solver \n",
      "Version: 2.10.3 \n",
      "Build Date: May 23 2020 \n",
      "\n",
      "command line - Cbc_C_Interface -ratioGap 0.5 -logLevel 1 -solve -quit (default strategy 1)\n",
      "ratioGap was changed from 0 to 0.5\n",
      "Presolve 180 (-3120) rows, 816 (-4212) columns and 984 (-7332) elements\n",
      "Perturbing problem by 0.001% of 1000000 - largest nonzero change 0.10690343 ( 0.0082657072%) - largest zero change 0.092441989\n",
      "0  Obj 5.8622404 Primal inf 99.839832 (168)\n",
      "78  Obj 10916.863 Primal inf 32.75991 (90)\n",
      "156  Obj 15454.435 Primal inf 3.599988 (12)\n",
      "168  Obj 15961.597\n",
      "Optimal - objective value 15955.018\n",
      "After Postsolve, objective 15955.018, infeasibilities - dual 0 (0), primal 0 (0)\n",
      "Optimal objective 15955.0182 - 168 iterations time 0.002, Presolve 0.00\n",
      "Total time (CPU seconds):       0.00   (Wallclock seconds):       0.00\n",
      "\n",
      "Welcome to the CBC MILP Solver \n",
      "Version: 2.10.3 \n",
      "Build Date: May 23 2020 \n",
      "\n",
      "command line - Cbc_C_Interface -ratioGap 0.5 -logLevel 1 -solve -quit (default strategy 1)\n",
      "ratioGap was changed from 0 to 0.5\n",
      "Presolve 180 (-3120) rows, 816 (-4212) columns and 984 (-7332) elements\n",
      "Perturbing problem by 0.001% of 1000000 - largest nonzero change 0.10690343 ( 0.0082657072%) - largest zero change 0.092441989\n",
      "0  Obj 5.8622404 Primal inf 99.839832 (168)\n",
      "78  Obj 10916.863 Primal inf 32.75991 (90)\n",
      "156  Obj 15454.435 Primal inf 3.599988 (12)\n",
      "168  Obj 15961.597\n",
      "Optimal - objective value 15955.018\n",
      "After Postsolve, objective 15955.018, infeasibilities - dual 0 (0), primal 0 (0)\n",
      "Optimal objective 15955.0182 - 168 iterations time 0.002, Presolve 0.00\n",
      "Total time (CPU seconds):       0.00   (Wallclock seconds):       0.00\n",
      "\n",
      "Welcome to the CBC MILP Solver \n",
      "Version: 2.10.3 \n",
      "Build Date: May 23 2020 \n",
      "\n",
      "command line - Cbc_C_Interface -ratioGap 0.5 -logLevel 1 -solve -quit (default strategy 1)\n",
      "ratioGap was changed from 0 to 0.5\n",
      "Presolve 180 (-3120) rows, 816 (-4212) columns and 984 (-7332) elements\n",
      "Perturbing problem by 0.001% of 1000000 - largest nonzero change 0.10690343 ( 0.0082657072%) - largest zero change 0.092441989\n",
      "0  Obj 5.8622404 Primal inf 106.69483 (178)\n",
      "78  Obj 9382.7677 Primal inf 65.274434 (125)\n",
      "156  Obj 15020.407 Primal inf 19.326303 (60)\n",
      "230  Obj 16882.386\n",
      "Optimal - objective value 16875.37\n",
      "After Postsolve, objective 16875.37, infeasibilities - dual 33640.487 (231), primal 0 (0)\n",
      "Presolved model was optimal, full model needs cleaning up\n",
      "0  Obj 16875.37\n",
      "Optimal - objective value 16875.37\n",
      "Optimal objective 16875.37012 - 230 iterations time 0.012, Presolve 0.00\n",
      "Total time (CPU seconds):       0.01   (Wallclock seconds):       0.01\n",
      "\n",
      "Welcome to the CBC MILP Solver \n",
      "Version: 2.10.3 \n",
      "Build Date: May 23 2020 \n",
      "\n",
      "command line - Cbc_C_Interface -ratioGap 0.5 -logLevel 1 -solve -quit (default strategy 1)\n",
      "ratioGap was changed from 0 to 0.5\n",
      "Presolve 180 (-3120) rows, 816 (-4212) columns and 984 (-7332) elements\n",
      "Perturbing problem by 0.001% of 1000000 - largest nonzero change 0.10690343 ( 0.0082657072%) - largest zero change 0.092441989\n",
      "0  Obj 5.8622404 Primal inf 101.98387 (172)\n",
      "78  Obj 9991.0184 Primal inf 42.121187 (104)\n",
      "156  Obj 15224.591 Primal inf 8.6740016 (31)\n",
      "190  Obj 16247.747\n",
      "Optimal - objective value 16241.026\n",
      "After Postsolve, objective 16241.026, infeasibilities - dual 17044.996 (122), primal 0 (0)\n",
      "Presolved model was optimal, full model needs cleaning up\n",
      "0  Obj 16241.026\n",
      "Optimal - objective value 16241.026\n",
      "Optimal objective 16241.0262 - 190 iterations time 0.012, Presolve 0.00\n",
      "Total time (CPU seconds):       0.01   (Wallclock seconds):       0.01\n",
      "\n",
      "Welcome to the CBC MILP Solver \n",
      "Version: 2.10.3 \n",
      "Build Date: May 23 2020 \n",
      "\n",
      "command line - Cbc_C_Interface -ratioGap 0.5 -logLevel 1 -solve -quit (default strategy 1)\n",
      "ratioGap was changed from 0 to 0.5\n",
      "Presolve 180 (-3120) rows, 816 (-4212) columns and 984 (-7332) elements\n",
      "Perturbing problem by 0.001% of 1000000 - largest nonzero change 0.10690343 ( 0.0082657072%) - largest zero change 0.092441989\n",
      "0  Obj 5.8622404 Primal inf 99.839832 (168)\n",
      "78  Obj 10916.863 Primal inf 32.75991 (90)\n",
      "156  Obj 15454.435 Primal inf 3.599988 (12)\n",
      "168  Obj 15961.597\n",
      "Optimal - objective value 15955.018\n",
      "After Postsolve, objective 15955.018, infeasibilities - dual 0 (0), primal 0 (0)\n",
      "Optimal objective 15955.0182 - 168 iterations time 0.002, Presolve 0.00\n",
      "Total time (CPU seconds):       0.00   (Wallclock seconds):       0.00\n",
      "\n",
      "Welcome to the CBC MILP Solver \n",
      "Version: 2.10.3 \n",
      "Build Date: May 23 2020 \n",
      "\n",
      "command line - Cbc_C_Interface -ratioGap 0.5 -logLevel 1 -solve -quit (default strategy 1)\n",
      "ratioGap was changed from 0 to 0.5\n",
      "Presolve 180 (-3120) rows, 816 (-4212) columns and 984 (-7332) elements\n",
      "Perturbing problem by 0.001% of 1000000 - largest nonzero change 0.10690343 ( 0.0082657072%) - largest zero change 0.092441989\n",
      "0  Obj 5.8622404 Primal inf 99.839832 (168)\n",
      "78  Obj 10916.863 Primal inf 32.75991 (90)\n",
      "156  Obj 15454.435 Primal inf 3.599988 (12)\n",
      "168  Obj 15961.597\n",
      "Optimal - objective value 15955.018\n",
      "After Postsolve, objective 15955.018, infeasibilities - dual 0 (0), primal 0 (0)\n",
      "Optimal objective 15955.0182 - 168 iterations time 0.002, Presolve 0.00\n",
      "Total time (CPU seconds):       0.00   (Wallclock seconds):       0.00\n",
      "\n",
      "Welcome to the CBC MILP Solver \n",
      "Version: 2.10.3 \n",
      "Build Date: May 23 2020 \n",
      "\n",
      "command line - Cbc_C_Interface -ratioGap 0.5 -logLevel 1 -solve -quit (default strategy 1)\n",
      "ratioGap was changed from 0 to 0.5\n",
      "Presolve 180 (-3120) rows, 816 (-4212) columns and 984 (-7332) elements\n",
      "Perturbing problem by 0.001% of 1000000 - largest nonzero change 0.10690343 ( 0.0082657072%) - largest zero change 0.092441989\n",
      "0  Obj 5.8622404 Primal inf 99.839832 (168)\n",
      "78  Obj 10916.863 Primal inf 32.75991 (90)\n",
      "156  Obj 15454.435 Primal inf 3.599988 (12)\n",
      "168  Obj 15961.597\n",
      "Optimal - objective value 15955.018\n",
      "After Postsolve, objective 15955.018, infeasibilities - dual 0 (0), primal 0 (0)\n",
      "Optimal objective 15955.0182 - 168 iterations time 0.002, Presolve 0.00\n",
      "Total time (CPU seconds):       0.00   (Wallclock seconds):       0.01\n",
      "\n",
      "Welcome to the CBC MILP Solver \n",
      "Version: 2.10.3 \n",
      "Build Date: May 23 2020 \n",
      "\n",
      "command line - Cbc_C_Interface -ratioGap 0.5 -logLevel 1 -solve -quit (default strategy 1)\n",
      "ratioGap was changed from 0 to 0.5\n",
      "Presolve 180 (-3120) rows, 816 (-4212) columns and 984 (-7332) elements\n",
      "Perturbing problem by 0.001% of 1000000 - largest nonzero change 0.10690343 ( 0.0082657072%) - largest zero change 0.092441989\n",
      "0  Obj 5.8622404 Primal inf 108.15439 (175)\n",
      "78  Obj 9097.6649 Primal inf 61.277043 (121)\n",
      "156  Obj 15487.502 Primal inf 13.508449 (46)\n",
      "206  Obj 17149.315\n",
      "Optimal - objective value 17142.191\n",
      "After Postsolve, objective 17142.191, infeasibilities - dual 50587.922 (342), primal 0 (0)\n",
      "Presolved model was optimal, full model needs cleaning up\n",
      "0  Obj 17142.191\n",
      "Optimal - objective value 17142.191\n",
      "Optimal objective 17142.19078 - 206 iterations time 0.012, Presolve 0.00\n",
      "Total time (CPU seconds):       0.01   (Wallclock seconds):       0.01\n",
      "\n",
      "Welcome to the CBC MILP Solver \n",
      "Version: 2.10.3 \n",
      "Build Date: May 23 2020 \n",
      "\n",
      "command line - Cbc_C_Interface -ratioGap 0.5 -logLevel 1 -solve -quit (default strategy 1)\n",
      "ratioGap was changed from 0 to 0.5\n",
      "Presolve 180 (-3120) rows, 817 (-4211) columns and 985 (-7331) elements\n",
      "Perturbing problem by 0.001% of 1000000 - largest nonzero change 0.10690343 ( 0.0082657072%) - largest zero change 0.092441989\n",
      "0  Obj 5.8622404 Primal inf 150.89719 (180)\n",
      "78  Obj 7370.8643 Primal inf 129.99427 (130)\n",
      "156  Obj 19054.075 Primal inf 57.392518 (82)\n",
      "234  Obj 23848.45 Primal inf 10.496927 (19)\n",
      "266  Obj 23888.151\n",
      "Optimal - objective value 23878.192\n",
      "After Postsolve, objective 23878.192, infeasibilities - dual 96363.275 (576), primal 0 (0)\n",
      "Presolved model was optimal, full model needs cleaning up\n",
      "0  Obj 23878.192\n",
      "Optimal - objective value 23878.192\n",
      "Optimal objective 23878.19153 - 266 iterations time 0.012, Presolve 0.00\n",
      "Total time (CPU seconds):       0.01   (Wallclock seconds):       0.01\n",
      "\n",
      "Welcome to the CBC MILP Solver \n",
      "Version: 2.10.3 \n",
      "Build Date: May 23 2020 \n",
      "\n",
      "command line - Cbc_C_Interface -ratioGap 0.5 -logLevel 1 -solve -quit (default strategy 1)\n",
      "ratioGap was changed from 0 to 0.5\n",
      "Presolve 180 (-3120) rows, 817 (-4211) columns and 985 (-7331) elements\n",
      "Perturbing problem by 0.001% of 1000000 - largest nonzero change 0.10690343 ( 0.0082657072%) - largest zero change 0.092441989\n",
      "0  Obj 5.8622404 Primal inf 174.8868 (180)\n",
      "78  Obj 10767.929 Primal inf 135.24237 (129)\n",
      "156  Obj 22286.185 Primal inf 65.674401 (83)\n",
      "234  Obj 27968.632 Primal inf 13.835217 (23)\n",
      "270  Obj 28007.598\n",
      "Optimal - objective value 27996.002\n",
      "After Postsolve, objective 27996.002, infeasibilities - dual 101467.29 (576), primal 0 (0)\n",
      "Presolved model was optimal, full model needs cleaning up\n",
      "0  Obj 27996.002\n",
      "Optimal - objective value 27996.002\n",
      "Optimal objective 27996.00203 - 270 iterations time 0.012, Presolve 0.00\n",
      "Total time (CPU seconds):       0.01   (Wallclock seconds):       0.01\n",
      "\n",
      "Welcome to the CBC MILP Solver \n",
      "Version: 2.10.3 \n",
      "Build Date: May 23 2020 \n",
      "\n",
      "command line - Cbc_C_Interface -ratioGap 0.5 -logLevel 1 -solve -quit (default strategy 1)\n",
      "ratioGap was changed from 0 to 0.5\n",
      "Presolve 204 (-3096) rows, 912 (-4116) columns and 1104 (-7212) elements\n",
      "Perturbing problem by 0.001% of 1000000 - largest nonzero change 0.10572368 ( 0.0084526381%) - largest zero change 0.083532505\n",
      "0  Obj 1411.7706 Primal inf 173.80785 (204)\n",
      "79  Obj 9436.2575 Primal inf 156.14303 (161)\n",
      "158  Obj 21290.276 Primal inf 73.668493 (99)\n",
      "237  Obj 28547.005 Primal inf 25.055759 (35)\n",
      "279  Obj 28652.182\n",
      "Optimal - objective value 28641.6\n",
      "After Postsolve, objective 28641.6, infeasibilities - dual 92205.479 (576), primal 0 (0)\n",
      "Presolved model was optimal, full model needs cleaning up\n",
      "0  Obj 28641.6\n",
      "Optimal - objective value 28641.6\n",
      "Optimal objective 28641.60037 - 279 iterations time 0.012, Presolve 0.00\n",
      "Total time (CPU seconds):       0.01   (Wallclock seconds):       0.01\n",
      "\n",
      "Welcome to the CBC MILP Solver \n",
      "Version: 2.10.3 \n",
      "Build Date: May 23 2020 \n",
      "\n",
      "command line - Cbc_C_Interface -ratioGap 0.5 -logLevel 1 -solve -quit (default strategy 1)\n",
      "ratioGap was changed from 0 to 0.5\n",
      "Presolve 204 (-3096) rows, 912 (-4116) columns and 1104 (-7212) elements\n",
      "Perturbing problem by 0.001% of 1000000 - largest nonzero change 0.10572368 ( 0.0084526381%) - largest zero change 0.083532505\n",
      "0  Obj 1411.7706 Primal inf 203.38754 (204)\n",
      "79  Obj 11047.392 Primal inf 176.40094 (165)\n",
      "158  Obj 25282.843 Primal inf 98.884123 (114)\n",
      "237  Obj 31996.868 Primal inf 43.440847 (56)\n",
      "305  Obj 33676.463\n",
      "Optimal - objective value 33664.184\n",
      "After Postsolve, objective 33664.184, infeasibilities - dual 99205.323 (576), primal 0 (0)\n",
      "Presolved model was optimal, full model needs cleaning up\n",
      "0  Obj 33664.184\n",
      "Optimal - objective value 33664.184\n",
      "Optimal objective 33664.18357 - 305 iterations time 0.012, Presolve 0.00\n",
      "Total time (CPU seconds):       0.01   (Wallclock seconds):       0.01\n",
      "\n",
      "Welcome to the CBC MILP Solver \n",
      "Version: 2.10.3 \n",
      "Build Date: May 23 2020 \n",
      "\n",
      "command line - Cbc_C_Interface -ratioGap 0.5 -logLevel 1 -solve -quit (default strategy 1)\n",
      "ratioGap was changed from 0 to 0.5\n",
      "Presolve 228 (-3072) rows, 1033 (-3995) columns and 1249 (-7067) elements\n",
      "Perturbing problem by 0.001% of 1000000 - largest nonzero change 0.10783133 ( 0.0084223733%) - largest zero change 0.073501563\n",
      "0  Obj 1343.7097 Primal inf 289.48669 (228)\n",
      "79  Obj 18912.111 Primal inf 231.00982 (182)\n",
      "158  Obj 37328.836 Primal inf 138.07866 (126)\n",
      "237  Obj 44571.888 Primal inf 51.963286 (72)\n",
      "316  Obj 49554.005 Primal inf 0.53278399 (2)\n",
      "318  Obj 49554.905\n",
      "Optimal - objective value 49539.608\n",
      "After Postsolve, objective 49539.608, infeasibilities - dual 69205.589 (373), primal 0 (0)\n",
      "Presolved model was optimal, full model needs cleaning up\n",
      "0  Obj 49539.608\n",
      "Optimal - objective value 49539.608\n",
      "Optimal objective 49539.60846 - 318 iterations time 0.012, Presolve 0.00\n",
      "Total time (CPU seconds):       0.01   (Wallclock seconds):       0.01\n",
      "\n",
      "Welcome to the CBC MILP Solver \n",
      "Version: 2.10.3 \n",
      "Build Date: May 23 2020 \n",
      "\n",
      "command line - Cbc_C_Interface -ratioGap 0.5 -logLevel 1 -solve -quit (default strategy 1)\n",
      "ratioGap was changed from 0 to 0.5\n",
      "Presolve 252 (-3048) rows, 1153 (-3875) columns and 1393 (-6923) elements\n",
      "Perturbing problem by 0.001% of 1000000 - largest nonzero change 0.10492099 ( 0.0083908538%) - largest zero change 0.066178098\n",
      "0  Obj 1412.0081 Primal inf 340.47043 (252)\n",
      "80  Obj 23986.272 Primal inf 265.82231 (206)\n",
      "160  Obj 45537.776 Primal inf 129.71392 (150)\n",
      "240  Obj 52092.519 Primal inf 70.928715 (103)\n",
      "320  Obj 59288.763 Primal inf 4.15267 (21)\n",
      "340  Obj 60742.187\n",
      "Optimal - objective value 60725.737\n",
      "After Postsolve, objective 60725.737, infeasibilities - dual 57912.38 (276), primal 0 (0)\n",
      "Presolved model was optimal, full model needs cleaning up\n",
      "0  Obj 60725.737\n",
      "Optimal - objective value 60725.737\n",
      "Optimal objective 60725.737 - 340 iterations time 0.012, Presolve 0.00\n",
      "Total time (CPU seconds):       0.01   (Wallclock seconds):       0.01\n",
      "\n",
      "Welcome to the CBC MILP Solver \n",
      "Version: 2.10.3 \n",
      "Build Date: May 23 2020 \n",
      "\n",
      "command line - Cbc_C_Interface -ratioGap 0.5 -logLevel 1 -solve -quit (default strategy 1)\n",
      "ratioGap was changed from 0 to 0.5\n",
      "Presolve 228 (-3072) rows, 1032 (-3996) columns and 1248 (-7068) elements\n",
      "Perturbing problem by 0.001% of 1000000 - largest nonzero change 0.10783133 ( 0.0084223733%) - largest zero change 0.073501563\n",
      "0  Obj 1412.6993 Primal inf 336.5209 (228)\n",
      "79  Obj 25296.86 Primal inf 263.62155 (178)\n",
      "158  Obj 46155.915 Primal inf 119.49697 (123)\n",
      "237  Obj 53390.113 Primal inf 60.637283 (68)\n",
      "302  Obj 58733.727\n",
      "Optimal - objective value 58716.05\n",
      "After Postsolve, objective 58716.05, infeasibilities - dual 57857.171 (276), primal 0 (0)\n",
      "Presolved model was optimal, full model needs cleaning up\n",
      "0  Obj 58716.05\n",
      "Optimal - objective value 58716.05\n",
      "Optimal objective 58716.0498 - 302 iterations time 0.012, Presolve 0.00\n",
      "Total time (CPU seconds):       0.01   (Wallclock seconds):       0.01\n",
      "\n",
      "Welcome to the CBC MILP Solver \n",
      "Version: 2.10.3 \n",
      "Build Date: May 23 2020 \n",
      "\n",
      "command line - Cbc_C_Interface -ratioGap 0.5 -logLevel 1 -solve -quit (default strategy 1)\n",
      "ratioGap was changed from 0 to 0.5\n",
      "Presolve 228 (-3072) rows, 1032 (-3996) columns and 1248 (-7068) elements\n",
      "Perturbing problem by 0.001% of 1000000 - largest nonzero change 0.10783133 ( 0.0084223733%) - largest zero change 0.073501563\n",
      "0  Obj 1412.6993 Primal inf 314.02596 (228)\n",
      "79  Obj 19867.667 Primal inf 253.82951 (183)\n",
      "158  Obj 42016.939 Primal inf 129.39634 (125)\n",
      "237  Obj 49538.803 Primal inf 57.557422 (72)\n",
      "316  Obj 54269.305 Primal inf 0.090084265 (1)\n",
      "317  Obj 54269.535\n",
      "Optimal - objective value 54252.978\n",
      "After Postsolve, objective 54252.978, infeasibilities - dual 53583.503 (276), primal 0 (0)\n",
      "Presolved model was optimal, full model needs cleaning up\n",
      "0  Obj 54252.978\n",
      "Optimal - objective value 54252.978\n",
      "Optimal objective 54252.97781 - 317 iterations time 0.012, Presolve 0.00\n",
      "Total time (CPU seconds):       0.01   (Wallclock seconds):       0.01\n",
      "\n",
      "Welcome to the CBC MILP Solver \n",
      "Version: 2.10.3 \n",
      "Build Date: May 23 2020 \n",
      "\n",
      "command line - Cbc_C_Interface -ratioGap 0.5 -logLevel 1 -solve -quit (default strategy 1)\n",
      "ratioGap was changed from 0 to 0.5\n",
      "Presolve 228 (-3072) rows, 1032 (-3996) columns and 1248 (-7068) elements\n",
      "Perturbing problem by 0.001% of 1000000 - largest nonzero change 0.10783133 ( 0.0084223733%) - largest zero change 0.073501563\n",
      "0  Obj 1412.6993 Primal inf 283.37357 (228)\n",
      "79  Obj 17507.759 Primal inf 234.30411 (185)\n",
      "158  Obj 34338.038 Primal inf 135.07998 (133)\n",
      "237  Obj 42828.232 Primal inf 55.871567 (83)\n",
      "316  Obj 48409.879 Primal inf 9.8221987 (20)\n",
      "335  Obj 48436.239\n",
      "Optimal - objective value 48421.284\n",
      "After Postsolve, objective 48421.284, infeasibilities - dual 51369.066 (276), primal 0 (0)\n",
      "Presolved model was optimal, full model needs cleaning up\n",
      "0  Obj 48421.284\n",
      "Optimal - objective value 48421.284\n",
      "Optimal objective 48421.28404 - 335 iterations time 0.012, Presolve 0.00\n",
      "Total time (CPU seconds):       0.01   (Wallclock seconds):       0.01\n",
      "\n",
      "Welcome to the CBC MILP Solver \n",
      "Version: 2.10.3 \n",
      "Build Date: May 23 2020 \n",
      "\n",
      "command line - Cbc_C_Interface -ratioGap 0.5 -logLevel 1 -solve -quit (default strategy 1)\n",
      "ratioGap was changed from 0 to 0.5\n",
      "Presolve 180 (-3120) rows, 816 (-4212) columns and 984 (-7332) elements\n",
      "Perturbing problem by 0.001% of 1000000 - largest nonzero change 0.10690343 ( 0.008458935%) - largest zero change 0.092441989\n",
      "0  Obj 1413.5485 Primal inf 247.23101 (180)\n",
      "78  Obj 19431.353 Primal inf 182.73006 (136)\n",
      "156  Obj 36648.445 Primal inf 63.887714 (81)\n",
      "234  Obj 42606.876 Primal inf 14.915283 (18)\n",
      "253  Obj 42640.677\n",
      "Optimal - objective value 42623.599\n",
      "After Postsolve, objective 42623.599, infeasibilities - dual 53504.088 (276), primal 0 (0)\n",
      "Presolved model was optimal, full model needs cleaning up\n",
      "0  Obj 42623.599\n",
      "Optimal - objective value 42623.599\n",
      "Optimal objective 42623.59859 - 253 iterations time 0.012, Presolve 0.00\n",
      "Total time (CPU seconds):       0.01   (Wallclock seconds):       0.01\n",
      "\n",
      "Welcome to the CBC MILP Solver \n",
      "Version: 2.10.3 \n",
      "Build Date: May 23 2020 \n",
      "\n",
      "command line - Cbc_C_Interface -ratioGap 0.5 -logLevel 1 -solve -quit (default strategy 1)\n",
      "ratioGap was changed from 0 to 0.5\n",
      "Presolve 130 (-3170) rows, 600 (-4428) columns and 720 (-7596) elements\n",
      "Perturbing problem by 0.001% of 1000000 - largest nonzero change 0.10511311 ( 0.0084526381%) - largest zero change 0.10433902\n",
      "0  Obj 584032.45 Primal inf 198.96364 (130)\n",
      "77  Obj 609056.02 Primal inf 89.253524 (86)\n",
      "154  Obj 618682.73 Primal inf 6.1326453 (7)\n",
      "159  Obj 619014.6\n",
      "Optimal - objective value 618999.07\n",
      "After Postsolve, objective 618999.07, infeasibilities - dual 74227.634 (326), primal 0 (0)\n",
      "Presolved model was optimal, full model needs cleaning up\n",
      "0  Obj 618999.07 Dual inf 16851.28 (96)\n",
      "24  Obj 618999.07\n",
      "Optimal - objective value 618999.07\n",
      "Optimal objective 618999.0689 - 183 iterations time 0.012, Presolve 0.00\n",
      "Total time (CPU seconds):       0.01   (Wallclock seconds):       0.01\n",
      "\n"
     ]
    },
    {
     "output_type": "execute_result",
     "data": {
      "text/plain": "Simulation Results Reference\n\nResults Folder: /Users/cbarrows/Documents/repos/SIIPExamples.jl/RTS-GMLC-master/rts-test/7/results\n\nReference Tables\n\n________________\n\nstage-UC\n\nP__ThermalStandard: dataframe size (1, 3)\n\nP__RenewableDispatch: dataframe size (1, 3)\n\nReg_Up__VariableReserve_PowerSystems.ReserveUp: dataframe size (1, 3)\n\nFlex_Up__VariableReserve_PowerSystems.ReserveUp: dataframe size (1, 3)\n\nparameter_service_requirement_VariableReserve_PowerSystems.ReserveDown: dataframe size (1, 3)\n\nparameter_service_requirement_VariableReserve_PowerSystems.ReserveUp: dataframe size (1, 3)\n\nparameter_P_PowerLoad: dataframe size (1, 3)\n\nP__HydroEnergyReservoir: dataframe size (1, 3)\n\nFlex_Down__VariableReserve_PowerSystems.ReserveDown: dataframe size (1, 3)\n\nSpin_Up_R1__VariableReserve_PowerSystems.ReserveUp: dataframe size (1, 3)\n\nparameter_P_RenewableDispatch: dataframe size (1, 3)\n\nparameter_P_HydroEnergyReservoir: dataframe size (1, 3)\n\nSpin_Up_R3__VariableReserve_PowerSystems.ReserveUp: dataframe size (1, 3)\n\nparameter_P_RenewableFix: dataframe size (1, 3)\n\nOn__ThermalStandard: dataframe size (1, 3)\n\nparameter_P_HydroDispatch: dataframe size (1, 3)\n\nReg_Down__VariableReserve_PowerSystems.ReserveDown: dataframe size (1, 3)\n\nStart__ThermalStandard: dataframe size (1, 3)\n\nStop__ThermalStandard: dataframe size (1, 3)\n\nSpin_Up_R2__VariableReserve_PowerSystems.ReserveUp: dataframe size (1, 3)\n\nstage-ED\n\nparameter_P_HydroDispatch: dataframe size (24, 3)\n\nparameter_P_RenewableDispatch: dataframe size (24, 3)\n\nP__ThermalStandard: dataframe size (24, 3)\n\nP__RenewableDispatch: dataframe size (24, 3)\n\nparameter_P_HydroEnergyReservoir: dataframe size (24, 3)\n\nparameter_P_RenewableFix: dataframe size (24, 3)\n\nparameter_P_PowerLoad: dataframe size (24, 3)\n\nP__HydroEnergyReservoir: dataframe size (24, 3)\n\nγ⁺__P: dataframe size (24, 3)\n\nγ⁻__P: dataframe size (24, 3)\n\nstage-UC\n\ntime length: 24\n\nstage-ED\n\ntime length: 12\n\n",
      "text/html": [
       "<h1>Simulation Results Reference</h1>\n",
       "<p><b>Results Folder:</b> /Users/cbarrows/Documents/repos/SIIPExamples.jl/RTS-GMLC-master/rts-test/7/results</p>\n",
       "<h2>Reference Tables</h2>\n",
       "<p><b>stage-UC</b></p>\n",
       "<p>P__ThermalStandard: dataframe size (1, 3)</p>\n",
       "<p>P__RenewableDispatch: dataframe size (1, 3)</p>\n",
       "<p>Reg_Up__VariableReserve_PowerSystems.ReserveUp: dataframe size (1, 3)</p>\n",
       "<p>Flex_Up__VariableReserve_PowerSystems.ReserveUp: dataframe size (1, 3)</p>\n",
       "<p>parameter_service_requirement_VariableReserve_PowerSystems.ReserveDown: dataframe size (1, 3)</p>\n",
       "<p>parameter_service_requirement_VariableReserve_PowerSystems.ReserveUp: dataframe size (1, 3)</p>\n",
       "<p>parameter_P_PowerLoad: dataframe size (1, 3)</p>\n",
       "<p>P__HydroEnergyReservoir: dataframe size (1, 3)</p>\n",
       "<p>Flex_Down__VariableReserve_PowerSystems.ReserveDown: dataframe size (1, 3)</p>\n",
       "<p>Spin_Up_R1__VariableReserve_PowerSystems.ReserveUp: dataframe size (1, 3)</p>\n",
       "<p>parameter_P_RenewableDispatch: dataframe size (1, 3)</p>\n",
       "<p>parameter_P_HydroEnergyReservoir: dataframe size (1, 3)</p>\n",
       "<p>Spin_Up_R3__VariableReserve_PowerSystems.ReserveUp: dataframe size (1, 3)</p>\n",
       "<p>parameter_P_RenewableFix: dataframe size (1, 3)</p>\n",
       "<p>On__ThermalStandard: dataframe size (1, 3)</p>\n",
       "<p>parameter_P_HydroDispatch: dataframe size (1, 3)</p>\n",
       "<p>Reg_Down__VariableReserve_PowerSystems.ReserveDown: dataframe size (1, 3)</p>\n",
       "<p>Start__ThermalStandard: dataframe size (1, 3)</p>\n",
       "<p>Stop__ThermalStandard: dataframe size (1, 3)</p>\n",
       "<p>Spin_Up_R2__VariableReserve_PowerSystems.ReserveUp: dataframe size (1, 3)</p>\n",
       "<p><b>stage-ED</b></p>\n",
       "<p>parameter_P_HydroDispatch: dataframe size (24, 3)</p>\n",
       "<p>parameter_P_RenewableDispatch: dataframe size (24, 3)</p>\n",
       "<p>P__ThermalStandard: dataframe size (24, 3)</p>\n",
       "<p>P__RenewableDispatch: dataframe size (24, 3)</p>\n",
       "<p>parameter_P_HydroEnergyReservoir: dataframe size (24, 3)</p>\n",
       "<p>parameter_P_RenewableFix: dataframe size (24, 3)</p>\n",
       "<p>parameter_P_PowerLoad: dataframe size (24, 3)</p>\n",
       "<p>P__HydroEnergyReservoir: dataframe size (24, 3)</p>\n",
       "<p>γ⁺__P: dataframe size (24, 3)</p>\n",
       "<p>γ⁻__P: dataframe size (24, 3)</p>\n",
       "<p><b>stage-UC</b></p>\n",
       "<p>time length: 24</p>\n",
       "<p><b>stage-ED</b></p>\n",
       "<p>time length: 12</p>\n"
      ]
     },
     "metadata": {},
     "execution_count": 12
    }
   ],
   "cell_type": "code",
   "source": [
    "sim_results = execute!(sim)"
   ],
   "metadata": {},
   "execution_count": 12
  },
  {
   "cell_type": "markdown",
   "source": [
    "## Results"
   ],
   "metadata": {}
  },
  {
   "outputs": [],
   "cell_type": "code",
   "source": [
    "uc_results = load_simulation_results(sim_results, \"UC\");\n",
    "ed_results = load_simulation_results(sim_results, \"ED\");"
   ],
   "metadata": {},
   "execution_count": 13
  },
  {
   "cell_type": "markdown",
   "source": [
    "## Plotting\n",
    "Take a look at the examples in [the plotting folder.](../../notebook/PowerSimulations_examples/Plotting)"
   ],
   "metadata": {}
  },
  {
   "cell_type": "markdown",
   "source": [
    "---\n",
    "\n",
    "*This notebook was generated using [Literate.jl](https://github.com/fredrikekre/Literate.jl).*"
   ],
   "metadata": {}
  }
 ],
 "nbformat_minor": 3,
 "metadata": {
  "language_info": {
   "file_extension": ".jl",
   "mimetype": "application/julia",
   "name": "julia",
   "version": "1.4.0"
  },
  "kernelspec": {
   "name": "julia-1.4",
   "display_name": "Julia 1.4.0",
   "language": "julia"
  }
 },
 "nbformat": 4
}
