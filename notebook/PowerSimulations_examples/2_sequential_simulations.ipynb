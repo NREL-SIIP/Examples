{
 "cells": [
  {
   "cell_type": "markdown",
   "source": [
    "# Sequential Simulations with [PowerSimulations.jl](https://github.com/NREL-SIIP/PowerSimulations.jl)"
   ],
   "metadata": {}
  },
  {
   "cell_type": "markdown",
   "source": [
    "**Originally Contributed by**: Clayton Barrows"
   ],
   "metadata": {}
  },
  {
   "cell_type": "markdown",
   "source": [
    "## Introduction"
   ],
   "metadata": {}
  },
  {
   "cell_type": "markdown",
   "source": [
    "PowerSimulations.jl supports simulations that consist of sequential optimization problems\n",
    "where results from previous problems inform subsequent problems in a variety of ways. This\n",
    "example demonstrates some of these capabilities to represent electricity market clearing."
   ],
   "metadata": {}
  },
  {
   "cell_type": "markdown",
   "source": [
    "## Dependencies\n",
    "Since the `OperatiotnsProblem` is the fundamental building block of a sequential\n",
    "simulation in PowerSimulations, we will build on the [OperationsProblem example](../../notebook/PowerSimulations_examples/1_operations_problems.ipynb)\n",
    "by sourcing it as a dependency."
   ],
   "metadata": {}
  },
  {
   "outputs": [
    {
     "name": "stdout",
     "output_type": "stream",
     "text": [
      "┌ Info: Parsing csv data in branch.csv ...\n",
      "└ @ PowerSystems /Users/cbarrows/.julia/packages/PowerSystems/PZn8J/src/parsers/power_system_table_data.jl:143\n",
      "┌ Info: Successfully parsed branch.csv\n",
      "└ @ PowerSystems /Users/cbarrows/.julia/packages/PowerSystems/PZn8J/src/parsers/power_system_table_data.jl:148\n",
      "┌ Info: Parsing csv data in bus.csv ...\n",
      "└ @ PowerSystems /Users/cbarrows/.julia/packages/PowerSystems/PZn8J/src/parsers/power_system_table_data.jl:143\n",
      "┌ Info: Successfully parsed bus.csv\n",
      "└ @ PowerSystems /Users/cbarrows/.julia/packages/PowerSystems/PZn8J/src/parsers/power_system_table_data.jl:148\n",
      "┌ Info: Parsing csv data in dc_branch.csv ...\n",
      "└ @ PowerSystems /Users/cbarrows/.julia/packages/PowerSystems/PZn8J/src/parsers/power_system_table_data.jl:143\n",
      "┌ Info: Successfully parsed dc_branch.csv\n",
      "└ @ PowerSystems /Users/cbarrows/.julia/packages/PowerSystems/PZn8J/src/parsers/power_system_table_data.jl:148\n",
      "┌ Info: Parsing csv data in gen.csv ...\n",
      "└ @ PowerSystems /Users/cbarrows/.julia/packages/PowerSystems/PZn8J/src/parsers/power_system_table_data.jl:143\n",
      "┌ Info: Successfully parsed gen.csv\n",
      "└ @ PowerSystems /Users/cbarrows/.julia/packages/PowerSystems/PZn8J/src/parsers/power_system_table_data.jl:148\n",
      "┌ Info: Parsing csv data in reserves.csv ...\n",
      "└ @ PowerSystems /Users/cbarrows/.julia/packages/PowerSystems/PZn8J/src/parsers/power_system_table_data.jl:143\n",
      "┌ Info: Successfully parsed reserves.csv\n",
      "└ @ PowerSystems /Users/cbarrows/.julia/packages/PowerSystems/PZn8J/src/parsers/power_system_table_data.jl:148\n",
      "┌ Info: Parsing csv data in simulation_objects.csv ...\n",
      "└ @ PowerSystems /Users/cbarrows/.julia/packages/PowerSystems/PZn8J/src/parsers/power_system_table_data.jl:143\n",
      "┌ Info: Successfully parsed simulation_objects.csv\n",
      "└ @ PowerSystems /Users/cbarrows/.julia/packages/PowerSystems/PZn8J/src/parsers/power_system_table_data.jl:148\n",
      "┌ Info: Parsing csv data in storage.csv ...\n",
      "└ @ PowerSystems /Users/cbarrows/.julia/packages/PowerSystems/PZn8J/src/parsers/power_system_table_data.jl:143\n",
      "┌ Info: Successfully parsed storage.csv\n",
      "└ @ PowerSystems /Users/cbarrows/.julia/packages/PowerSystems/PZn8J/src/parsers/power_system_table_data.jl:148\n",
      "┌ Info: Parsing csv data in timeseries_pointers.csv ...\n",
      "└ @ PowerSystems /Users/cbarrows/.julia/packages/PowerSystems/PZn8J/src/parsers/power_system_table_data.jl:143\n",
      "┌ Info: Successfully parsed timeseries_pointers.csv\n",
      "└ @ PowerSystems /Users/cbarrows/.julia/packages/PowerSystems/PZn8J/src/parsers/power_system_table_data.jl:148\n",
      "┌ Warning: Missing LOAD data.\n",
      "└ @ PowerSystems /Users/cbarrows/.julia/packages/PowerSystems/PZn8J/src/parsers/power_system_table_data.jl:212\n",
      "┌ Warning: Missing LOAD data.\n",
      "└ @ PowerSystems /Users/cbarrows/.julia/packages/PowerSystems/PZn8J/src/parsers/power_system_table_data.jl:212\n",
      "┌ Info: Adding contributing generators for Spin_Up_R1 by category\n",
      "└ @ PowerSystems /Users/cbarrows/.julia/packages/PowerSystems/PZn8J/src/parsers/power_system_table_data.jl:656\n",
      "┌ Info: Adding contributing generators for Spin_Up_R2 by category\n",
      "└ @ PowerSystems /Users/cbarrows/.julia/packages/PowerSystems/PZn8J/src/parsers/power_system_table_data.jl:656\n",
      "┌ Info: Adding contributing generators for Spin_Up_R3 by category\n",
      "└ @ PowerSystems /Users/cbarrows/.julia/packages/PowerSystems/PZn8J/src/parsers/power_system_table_data.jl:656\n",
      "┌ Info: Adding contributing generators for Flex_Up by category\n",
      "└ @ PowerSystems /Users/cbarrows/.julia/packages/PowerSystems/PZn8J/src/parsers/power_system_table_data.jl:656\n",
      "┌ Info: Adding contributing generators for Flex_Down by category\n",
      "└ @ PowerSystems /Users/cbarrows/.julia/packages/PowerSystems/PZn8J/src/parsers/power_system_table_data.jl:656\n",
      "┌ Info: Adding contributing generators for Reg_Up by category\n",
      "└ @ PowerSystems /Users/cbarrows/.julia/packages/PowerSystems/PZn8J/src/parsers/power_system_table_data.jl:656\n",
      "┌ Info: Adding contributing generators for Reg_Down by category\n",
      "└ @ PowerSystems /Users/cbarrows/.julia/packages/PowerSystems/PZn8J/src/parsers/power_system_table_data.jl:656\n",
      "Welcome to the CBC MILP Solver \n",
      "Version: 2.10.3 \n",
      "Build Date: May 23 2020 \n",
      "\n",
      "command line - Cbc_C_Interface -ratioGap 0.5 -logLevel 1 -solve -quit (default strategy 1)\n",
      "ratioGap was changed from 0 to 0.5\n",
      "Continuous objective value is 308345 - 0.10 seconds\n",
      "Cgl0003I 265 fixed, 0 tightened bounds, 840 strengthened rows, 61 substitutions\n",
      "Cgl0003I 0 fixed, 0 tightened bounds, 939 strengthened rows, 0 substitutions\n",
      "Cgl0003I 0 fixed, 0 tightened bounds, 780 strengthened rows, 0 substitutions\n",
      "Cgl0003I 0 fixed, 0 tightened bounds, 652 strengthened rows, 0 substitutions\n",
      "Cgl0003I 0 fixed, 0 tightened bounds, 339 strengthened rows, 0 substitutions\n",
      "Cgl0003I 0 fixed, 0 tightened bounds, 282 strengthened rows, 0 substitutions\n",
      "Cgl0003I 0 fixed, 0 tightened bounds, 218 strengthened rows, 0 substitutions\n",
      "Cgl0003I 0 fixed, 0 tightened bounds, 188 strengthened rows, 0 substitutions\n",
      "Cgl0003I 0 fixed, 0 tightened bounds, 173 strengthened rows, 0 substitutions\n",
      "Cgl0004I processed model has 5723 rows, 11716 columns (2374 integer (2374 of which binary)) and 33454 elements\n",
      "Cbc0045I Trying just fixing integer variables (and fixingish SOS).\n",
      "Cbc0045I Warning: mipstart values could not be used to build a solution.\n",
      "Cbc0012I Integer solution of 313117.73 found by DiveCoefficient after 0 iterations and 0 nodes (1.07 seconds)\n",
      "Cbc0011I Exiting as integer gap of 4772.8746 less than 1e-10 or 50%\n",
      "Cbc0001I Search completed - best objective 313117.7332480525, took 0 iterations and 0 nodes (1.07 seconds)\n",
      "Cbc0035I Maximum depth 0, 0 variables fixed on reduced cost\n",
      "Cuts at root node changed objective from 308345 to 308345\n",
      "Probing was tried 0 times and created 0 cuts of which 0 were active after adding rounds of cuts (0.000 seconds)\n",
      "Gomory was tried 0 times and created 0 cuts of which 0 were active after adding rounds of cuts (0.000 seconds)\n",
      "Knapsack was tried 0 times and created 0 cuts of which 0 were active after adding rounds of cuts (0.000 seconds)\n",
      "Clique was tried 0 times and created 0 cuts of which 0 were active after adding rounds of cuts (0.000 seconds)\n",
      "MixedIntegerRounding2 was tried 0 times and created 0 cuts of which 0 were active after adding rounds of cuts (0.000 seconds)\n",
      "FlowCover was tried 0 times and created 0 cuts of which 0 were active after adding rounds of cuts (0.000 seconds)\n",
      "TwoMirCuts was tried 0 times and created 0 cuts of which 0 were active after adding rounds of cuts (0.000 seconds)\n",
      "ZeroHalf was tried 0 times and created 0 cuts of which 0 were active after adding rounds of cuts (0.000 seconds)\n",
      "\n",
      "Result - Optimal solution found (within gap tolerance)\n",
      "\n",
      "Objective value:                313117.73324805\n",
      "Lower bound:                    308344.859\n",
      "Gap:                            0.02\n",
      "Enumerated nodes:               0\n",
      "Total iterations:               0\n",
      "Time (CPU seconds):             1.23\n",
      "Time (Wallclock seconds):       1.34\n",
      "\n",
      "Total time (CPU seconds):       1.23   (Wallclock seconds):       1.35\n",
      "\n",
      "┌ Info: Unit System changed to SYSTEM_BASE\n",
      "└ @ PowerSystems /Users/cbarrows/.julia/packages/PowerSystems/PZn8J/src/base.jl:353\n",
      "┌ Warning: The data doesn't include devices of type PowerSystems.InterruptibleLoad, consider changing the device models\n",
      "└ @ PowerSimulations /Users/cbarrows/.julia/packages/PowerSimulations/7yuhI/src/devices_models/device_constructors/common/constructor_validations.jl:3\n",
      "┌ Warning: Data doesn't contain generators with ramp limits, consider adjusting your formulation\n",
      "└ @ PowerSimulations /Users/cbarrows/.julia/packages/PowerSimulations/7yuhI/src/devices_models/devices/thermal_generation.jl:557\n"
     ]
    },
    {
     "output_type": "execute_result",
     "data": {
      "text/plain": "\nOperations Problem Specification\n============================================\n\n  transmission:  PowerSimulations.CopperPlatePowerModel\n============================================\n  devices: \n      ILoads:\n        device_type = PowerSystems.InterruptibleLoad\n        formulation = PowerSimulations.InterruptiblePowerLoad\n      HydroROR:\n        device_type = PowerSystems.HydroDispatch\n        formulation = PowerSimulations.FixedOutput\n      Generators:\n        device_type = PowerSystems.ThermalStandard\n        formulation = PowerSimulations.ThermalStandardUnitCommitment\n      Ren:\n        device_type = PowerSystems.RenewableDispatch\n        formulation = PowerSimulations.RenewableFullDispatch\n      Hydro:\n        device_type = PowerSystems.HydroEnergyReservoir\n        formulation = PowerSimulations.HydroDispatchRunOfRiver\n      Loads:\n        device_type = PowerSystems.PowerLoad\n        formulation = PowerSimulations.StaticPowerLoad\n      RenFx:\n        device_type = PowerSystems.RenewableFix\n        formulation = PowerSimulations.FixedOutput\n============================================\n  branches: \n      T:\n        device_type = PowerSystems.Transformer2W\n        formulation = PowerSimulations.StaticTransformer\n      TT:\n        device_type = PowerSystems.TapTransformer\n        formulation = PowerSimulations.StaticTransformer\n      L:\n        device_type = PowerSystems.Line\n        formulation = PowerSimulations.StaticLine\n============================================\n  services: \n      ReserveDown:\n        service_type = PowerSystems.VariableReserve{PowerSystems.ReserveDown}\n        formulation = PowerSimulations.RangeReserve\n      ReserveUp:\n        service_type = PowerSystems.VariableReserve{PowerSystems.ReserveUp}\n        formulation = PowerSimulations.RangeReserve\n============================================\n"
     },
     "metadata": {},
     "execution_count": 1
    }
   ],
   "cell_type": "code",
   "source": [
    "using SIIPExamples\n",
    "pkgpath = dirname(dirname(pathof(SIIPExamples)))\n",
    "include(joinpath(pkgpath, \"test\", \"PowerSimulations_examples\", \"1_operations_problems.jl\"))"
   ],
   "metadata": {},
   "execution_count": 1
  },
  {
   "cell_type": "markdown",
   "source": [
    "### 5-Minute system\n",
    "We had already created a `sys::System` from hourly RTS data in the OperationsProblem example.\n",
    "The RTS data also includes 5-minute resolution time series data. So, we can create another\n",
    "`System`:"
   ],
   "metadata": {}
  },
  {
   "outputs": [
    {
     "name": "stdout",
     "output_type": "stream",
     "text": [
      "┌ Warning: Missing LOAD data.\n",
      "└ @ PowerSystems /Users/cbarrows/.julia/packages/PowerSystems/PZn8J/src/parsers/power_system_table_data.jl:212\n",
      "┌ Warning: Missing LOAD data.\n",
      "└ @ PowerSystems /Users/cbarrows/.julia/packages/PowerSystems/PZn8J/src/parsers/power_system_table_data.jl:212\n",
      "┌ Info: Adding contributing generators for Spin_Up_R1 by category\n",
      "└ @ PowerSystems /Users/cbarrows/.julia/packages/PowerSystems/PZn8J/src/parsers/power_system_table_data.jl:656\n",
      "┌ Info: Adding contributing generators for Spin_Up_R2 by category\n",
      "└ @ PowerSystems /Users/cbarrows/.julia/packages/PowerSystems/PZn8J/src/parsers/power_system_table_data.jl:656\n",
      "┌ Info: Adding contributing generators for Spin_Up_R3 by category\n",
      "└ @ PowerSystems /Users/cbarrows/.julia/packages/PowerSystems/PZn8J/src/parsers/power_system_table_data.jl:656\n",
      "┌ Info: Adding contributing generators for Flex_Up by category\n",
      "└ @ PowerSystems /Users/cbarrows/.julia/packages/PowerSystems/PZn8J/src/parsers/power_system_table_data.jl:656\n",
      "┌ Info: Adding contributing generators for Flex_Down by category\n",
      "└ @ PowerSystems /Users/cbarrows/.julia/packages/PowerSystems/PZn8J/src/parsers/power_system_table_data.jl:656\n",
      "┌ Info: Adding contributing generators for Reg_Up by category\n",
      "└ @ PowerSystems /Users/cbarrows/.julia/packages/PowerSystems/PZn8J/src/parsers/power_system_table_data.jl:656\n",
      "┌ Info: Adding contributing generators for Reg_Down by category\n",
      "└ @ PowerSystems /Users/cbarrows/.julia/packages/PowerSystems/PZn8J/src/parsers/power_system_table_data.jl:656\n"
     ]
    },
    {
     "output_type": "execute_result",
     "data": {
      "text/plain": "System\n======\nBase Power: 100.0\n\nComponents\n==========\nNum components: 434\n\n15×3 DataFrame. Omitted printing of 2 columns\n│ Row │ ConcreteType                              │\n│     │ \u001b[90mString\u001b[39m                                    │\n├─────┼───────────────────────────────────────────┤\n│ 1   │ Area                                      │\n│ 2   │ Bus                                       │\n│ 3   │ GenericBattery                            │\n│ 4   │ HVDCLine                                  │\n│ 5   │ HydroDispatch                             │\n│ 6   │ HydroEnergyReservoir                      │\n│ 7   │ Line                                      │\n│ 8   │ LoadZone                                  │\n│ 9   │ PowerLoad                                 │\n│ 10  │ RenewableDispatch                         │\n│ 11  │ RenewableFix                              │\n│ 12  │ TapTransformer                            │\n│ 13  │ ThermalStandard                           │\n│ 14  │ VariableReserve{PowerSystems.ReserveDown} │\n│ 15  │ VariableReserve{PowerSystems.ReserveUp}   │\n\nForecasts\n=========\nResolution: 5 minutes\nHorizon: 105408\nInitial Times: 2020-01-01T00:00:00\nInterval: 0 seconds\nComponents with Forecasts: 137\nTotal Forecasts: 177\n",
      "text/html": [
       "<h1>System</h1>\n",
       "<p><b>Base Power</b>: 100.0</p>\n",
       "<h2>Components</h2>\n",
       "<p><b>Num components</b>: 434</p>\n",
       "<table class=\"data-frame\"><thead><tr><th></th><th>ConcreteType</th><th>SuperTypes</th><th>Count</th></tr><tr><th></th><th>String</th><th>String</th><th>Int64</th></tr></thead><tbody><p>15 rows × 3 columns</p><tr><th>1</th><td>Area</td><td>AggregationTopology &lt;: Topology &lt;: Component &lt;: PowerSystemType &lt;: InfrastructureSystemsType &lt;: Any</td><td>3</td></tr><tr><th>2</th><td>Bus</td><td>Topology &lt;: Component &lt;: PowerSystemType &lt;: InfrastructureSystemsType &lt;: Any</td><td>73</td></tr><tr><th>3</th><td>GenericBattery</td><td>Storage &lt;: StaticInjection &lt;: Device &lt;: Component &lt;: PowerSystemType &lt;: InfrastructureSystemsType &lt;: Any</td><td>1</td></tr><tr><th>4</th><td>HVDCLine</td><td>DCBranch &lt;: Branch &lt;: Device &lt;: Component &lt;: PowerSystemType &lt;: InfrastructureSystemsType &lt;: Any</td><td>1</td></tr><tr><th>5</th><td>HydroDispatch</td><td>HydroGen &lt;: Generator &lt;: StaticInjection &lt;: Device &lt;: Component &lt;: PowerSystemType &lt;: InfrastructureSystemsType &lt;: Any</td><td>1</td></tr><tr><th>6</th><td>HydroEnergyReservoir</td><td>HydroGen &lt;: Generator &lt;: StaticInjection &lt;: Device &lt;: Component &lt;: PowerSystemType &lt;: InfrastructureSystemsType &lt;: Any</td><td>19</td></tr><tr><th>7</th><td>Line</td><td>ACBranch &lt;: Branch &lt;: Device &lt;: Component &lt;: PowerSystemType &lt;: InfrastructureSystemsType &lt;: Any</td><td>105</td></tr><tr><th>8</th><td>LoadZone</td><td>AggregationTopology &lt;: Topology &lt;: Component &lt;: PowerSystemType &lt;: InfrastructureSystemsType &lt;: Any</td><td>21</td></tr><tr><th>9</th><td>PowerLoad</td><td>StaticLoad &lt;: ElectricLoad &lt;: StaticInjection &lt;: Device &lt;: Component &lt;: PowerSystemType &lt;: InfrastructureSystemsType &lt;: Any</td><td>51</td></tr><tr><th>10</th><td>RenewableDispatch</td><td>RenewableGen &lt;: Generator &lt;: StaticInjection &lt;: Device &lt;: Component &lt;: PowerSystemType &lt;: InfrastructureSystemsType &lt;: Any</td><td>30</td></tr><tr><th>11</th><td>RenewableFix</td><td>RenewableGen &lt;: Generator &lt;: StaticInjection &lt;: Device &lt;: Component &lt;: PowerSystemType &lt;: InfrastructureSystemsType &lt;: Any</td><td>31</td></tr><tr><th>12</th><td>TapTransformer</td><td>ACBranch &lt;: Branch &lt;: Device &lt;: Component &lt;: PowerSystemType &lt;: InfrastructureSystemsType &lt;: Any</td><td>15</td></tr><tr><th>13</th><td>ThermalStandard</td><td>ThermalGen &lt;: Generator &lt;: StaticInjection &lt;: Device &lt;: Component &lt;: PowerSystemType &lt;: InfrastructureSystemsType &lt;: Any</td><td>76</td></tr><tr><th>14</th><td>VariableReserve{PowerSystems.ReserveDown}</td><td>Reserve{PowerSystems.ReserveDown} &lt;: Service &lt;: Component &lt;: PowerSystemType &lt;: InfrastructureSystemsType &lt;: Any</td><td>2</td></tr><tr><th>15</th><td>VariableReserve{PowerSystems.ReserveUp}</td><td>Reserve{PowerSystems.ReserveUp} &lt;: Service &lt;: Component &lt;: PowerSystemType &lt;: InfrastructureSystemsType &lt;: Any</td><td>5</td></tr></tbody></table>\n",
       "\n",
       "<h2>Forecasts</h2>\n",
       "<p><b>Resolution</b>: 5 minutes</p>\n",
       "<p><b>Horizon</b>: 105408</p>\n",
       "<p><b>Initial Times</b>: 2020-01-01T00:00:00</p>\n",
       "<p><b>Interval</b>: 0 seconds</p>\n",
       "<p><b>Components with Forecasts</b>: 137</p>\n",
       "<p><b>Total Forecasts</b>: 177</p>\n"
      ]
     },
     "metadata": {},
     "execution_count": 2
    }
   ],
   "cell_type": "code",
   "source": [
    "sys_RT = System(rawsys; forecast_resolution = Dates.Minute(5))"
   ],
   "metadata": {},
   "execution_count": 2
  },
  {
   "cell_type": "markdown",
   "source": [
    "## `OperationsProblemTemplate`s define `Stage`s\n",
    "Sequential simulations in PowerSimulations are created by defining `OperationsProblems`\n",
    "that represent `Stages`, and how information flows between executions of a `Stage` and\n",
    "between different `Stage`s.\n",
    "\n",
    "Let's start by defining a two stage simulation that might look like a typical day-Ahead\n",
    "and real-time electricity market clearing process."
   ],
   "metadata": {}
  },
  {
   "cell_type": "markdown",
   "source": [
    "### Define the reference model for the day-ahead unit commitment"
   ],
   "metadata": {}
  },
  {
   "outputs": [
    {
     "output_type": "execute_result",
     "data": {
      "text/plain": "\nOperations Problem Specification\n============================================\n\n  transmission:  PowerSimulations.CopperPlatePowerModel\n============================================\n  devices: \n      HydroROR:\n        device_type = PowerSystems.HydroDispatch\n        formulation = PowerSimulations.FixedOutput\n      Generators:\n        device_type = PowerSystems.ThermalStandard\n        formulation = PowerSimulations.ThermalStandardUnitCommitment\n      Ren:\n        device_type = PowerSystems.RenewableDispatch\n        formulation = PowerSimulations.RenewableFullDispatch\n      Hydro:\n        device_type = PowerSystems.HydroEnergyReservoir\n        formulation = PowerSimulations.HydroDispatchRunOfRiver\n      Loads:\n        device_type = PowerSystems.PowerLoad\n        formulation = PowerSimulations.StaticPowerLoad\n      RenFx:\n        device_type = PowerSystems.RenewableFix\n        formulation = PowerSimulations.FixedOutput\n============================================\n  branches: \n      T:\n        device_type = PowerSystems.Transformer2W\n        formulation = PowerSimulations.StaticTransformer\n      TT:\n        device_type = PowerSystems.TapTransformer\n        formulation = PowerSimulations.StaticTransformer\n      L:\n        device_type = PowerSystems.Line\n        formulation = PowerSimulations.StaticLine\n      DC:\n        device_type = PowerSystems.HVDCLine\n        formulation = PowerSimulations.HVDCDispatch\n============================================\n  services: \n      ReserveDown:\n        service_type = PowerSystems.VariableReserve{PowerSystems.ReserveDown}\n        formulation = PowerSimulations.RangeReserve\n      ReserveUp:\n        service_type = PowerSystems.VariableReserve{PowerSystems.ReserveUp}\n        formulation = PowerSimulations.RangeReserve\n============================================\n"
     },
     "metadata": {},
     "execution_count": 3
    }
   ],
   "cell_type": "code",
   "source": [
    "devices = Dict(\n",
    "    :Generators => DeviceModel(ThermalStandard, ThermalStandardUnitCommitment),\n",
    "    :Ren => DeviceModel(RenewableDispatch, RenewableFullDispatch),\n",
    "    :Loads => DeviceModel(PowerLoad, StaticPowerLoad),\n",
    "    :HydroROR => DeviceModel(HydroDispatch, FixedOutput),\n",
    "    :Hydro => DeviceModel(HydroEnergyReservoir, HydroDispatchRunOfRiver),\n",
    "    :RenFx => DeviceModel(RenewableFix, FixedOutput),\n",
    ")\n",
    "template_uc = template_unit_commitment(devices = devices)"
   ],
   "metadata": {},
   "execution_count": 3
  },
  {
   "cell_type": "markdown",
   "source": [
    "### Define the reference model for the real-time economic dispatch"
   ],
   "metadata": {}
  },
  {
   "outputs": [
    {
     "output_type": "execute_result",
     "data": {
      "text/plain": "\nOperations Problem Specification\n============================================\n\n  transmission:  PowerSimulations.CopperPlatePowerModel\n============================================\n  devices: \n      HydroROR:\n        device_type = PowerSystems.HydroDispatch\n        formulation = PowerSimulations.FixedOutput\n      Generators:\n        device_type = PowerSystems.ThermalStandard\n        formulation = PowerSimulations.ThermalDispatch\n      Ren:\n        device_type = PowerSystems.RenewableDispatch\n        formulation = PowerSimulations.RenewableFullDispatch\n      Hydro:\n        device_type = PowerSystems.HydroEnergyReservoir\n        formulation = PowerSimulations.HydroDispatchRunOfRiver\n      Loads:\n        device_type = PowerSystems.PowerLoad\n        formulation = PowerSimulations.StaticPowerLoad\n      RenFx:\n        device_type = PowerSystems.RenewableFix\n        formulation = PowerSimulations.FixedOutput\n============================================\n  branches: \n      T:\n        device_type = PowerSystems.Transformer2W\n        formulation = PowerSimulations.StaticTransformer\n      TT:\n        device_type = PowerSystems.TapTransformer\n        formulation = PowerSimulations.StaticTransformer\n      L:\n        device_type = PowerSystems.Line\n        formulation = PowerSimulations.StaticLine\n      DC:\n        device_type = PowerSystems.HVDCLine\n        formulation = PowerSimulations.HVDCDispatch\n============================================\n  services: \n============================================\n"
     },
     "metadata": {},
     "execution_count": 4
    }
   ],
   "cell_type": "code",
   "source": [
    "devices = Dict(\n",
    "    :Generators => DeviceModel(ThermalStandard, ThermalDispatch),\n",
    "    :Ren => DeviceModel(RenewableDispatch, RenewableFullDispatch),\n",
    "    :Loads => DeviceModel(PowerLoad, StaticPowerLoad),\n",
    "    :HydroROR => DeviceModel(HydroDispatch, FixedOutput),\n",
    "    :Hydro => DeviceModel(HydroEnergyReservoir, HydroDispatchRunOfRiver),\n",
    "    :RenFx => DeviceModel(RenewableFix, FixedOutput),\n",
    ")\n",
    "template_ed = template_economic_dispatch(devices = devices)"
   ],
   "metadata": {},
   "execution_count": 4
  },
  {
   "cell_type": "markdown",
   "source": [
    "### Define the `Stage`s\n",
    "Stages define models. The actual problem will change as the stage gets updated to represent\n",
    "different time periods, but the formulations applied to the components is constant within\n",
    "a stage. In this case, we want to define two stages with the `OperationsProblemTemplate`s\n",
    "and the `System`s that we've already created."
   ],
   "metadata": {}
  },
  {
   "outputs": [
    {
     "output_type": "execute_result",
     "data": {
      "text/plain": "Dict{String,PowerSimulations.Stage{PowerSimulations.GenericOpProblem}} with 2 entries:\n  \"ED\" => Stage()…\n  \"UC\" => Stage()…"
     },
     "metadata": {},
     "execution_count": 5
    }
   ],
   "cell_type": "code",
   "source": [
    "stages_definition = Dict(\n",
    "    \"UC\" => Stage(GenericOpProblem, template_uc, sys, solver),\n",
    "    \"ED\" => Stage(\n",
    "        GenericOpProblem,\n",
    "        template_ed,\n",
    "        sys_RT,\n",
    "        solver,\n",
    "        balance_slack_variables = true,\n",
    "    ),\n",
    ")"
   ],
   "metadata": {},
   "execution_count": 5
  },
  {
   "cell_type": "markdown",
   "source": [
    "Note that the \"ED\" stage has a `balance_slack_variables = true` argument. This adds slack\n",
    "variables with a default penalty of 1e6 to the nodal energy balance constraint and helps\n",
    "ensure feasibility with some performance impacts."
   ],
   "metadata": {}
  },
  {
   "cell_type": "markdown",
   "source": [
    "### `SimulationSequence`\n",
    "Similar to an `OperationsProblemTemplate`, the `SimulationSequence` provides a template of\n",
    "how to execute a sequential set of operations problems."
   ],
   "metadata": {}
  },
  {
   "cell_type": "markdown",
   "source": [
    "print_struct(SimulationSequence)"
   ],
   "metadata": {}
  },
  {
   "cell_type": "markdown",
   "source": [
    "Let's review some of the `SimulationSequence` arguments."
   ],
   "metadata": {}
  },
  {
   "cell_type": "markdown",
   "source": [
    "### Chronologies\n",
    "In PowerSimulations, chronologies define where information is flowing. There are two types\n",
    "of chronologies.\n",
    " - inter-stage chronologies: Define how information flows between stages. e.g. day-ahead\n",
    "solutions are used to inform economic dispatch problems\n",
    " - intra-stage chronologies: Define how information flows between multiple executions of a\n",
    "single stage. e.g. the dispatch setpoints of the first period of an economic dispatch problem\n",
    "are constrained by the ramping limits from setpoints in the final period of the previous problem."
   ],
   "metadata": {}
  },
  {
   "cell_type": "markdown",
   "source": [
    "Let's define an inter-stage chronology that synchronizes information from 24 periods of\n",
    "the first stage with a set of executions of the second stage:"
   ],
   "metadata": {}
  },
  {
   "outputs": [
    {
     "output_type": "execute_result",
     "data": {
      "text/plain": "Dict{Pair{String,String},PowerSimulations.Synchronize} with 1 entry:\n  \"UC\"=>\"ED\" => Synchronize(24)"
     },
     "metadata": {},
     "execution_count": 6
    }
   ],
   "cell_type": "code",
   "source": [
    "feedforward_chronologies = Dict((\"UC\" => \"ED\") => Synchronize(periods = 24))"
   ],
   "metadata": {},
   "execution_count": 6
  },
  {
   "cell_type": "markdown",
   "source": [
    "### `FeedForward` and `Cache`\n",
    "The definition of exactly what information is passed using the defined chronologies is\n",
    "accomplished with `FeedForward` and `Cache` objects. Specifically, `FeedForward` is used\n",
    "to define what to do with information being passed with an inter-stage chronology. Let's\n",
    "define a `FeedForward` that affects the semi-continuous range constraints of thermal generators\n",
    "in the economic dispatch problems based on the value of the unit-commitment variables."
   ],
   "metadata": {}
  },
  {
   "outputs": [
    {
     "output_type": "execute_result",
     "data": {
      "text/plain": "Dict{Tuple{String,Symbol,Symbol},PowerSimulations.SemiContinuousFF} with 1 entry:\n  (\"ED\", :devices, :Generators) => SemiContinuousFF(:On, [:P], nothing)"
     },
     "metadata": {},
     "execution_count": 7
    }
   ],
   "cell_type": "code",
   "source": [
    "feedforward = Dict(\n",
    "    (\"ED\", :devices, :Generators) => SemiContinuousFF(\n",
    "        binary_source_stage = PSI.ON,\n",
    "        affected_variables = [PSI.ACTIVE_POWER],\n",
    "    ),\n",
    ")"
   ],
   "metadata": {},
   "execution_count": 7
  },
  {
   "cell_type": "markdown",
   "source": [
    "### Sequencing\n",
    "The stage problem length, look-ahead, and other details surrounding the temporal Sequencing\n",
    "of stages are controlled using the `order`, `horizons`, and `intervals` arguments.\n",
    " - order::Dict(Int, String) : the hierarchical order of stages in the simulation\n",
    " - horizons::Dict(String, Int) : defines the number of time periods in each stage (problem length)\n",
    " - intervals::Dict(String, Dates.Period) : defines the interval with which stage problems\n",
    "advance after each execution. e.g. day-ahead problems have an interval of 24-hours\n",
    "\n",
    "So, to define a typical day-ahead - real-time sequence, we can define the following:\n",
    " - Day ahead problems should represent 48 hours, advancing 24 hours after each execution (24-hour look-ahead)\n",
    " - Real time problems should represent 1 hour (12 5-minute periods), advancing 1 hour after each execution (no look-ahead)"
   ],
   "metadata": {}
  },
  {
   "outputs": [
    {
     "output_type": "execute_result",
     "data": {
      "text/plain": "Dict{String,Tuple{Dates.Hour,PowerSimulations.Consecutive}} with 2 entries:\n  \"ED\" => (1 hour, Consecutive())\n  \"UC\" => (24 hours, Consecutive())"
     },
     "metadata": {},
     "execution_count": 8
    }
   ],
   "cell_type": "code",
   "source": [
    "order = Dict(1 => \"UC\", 2 => \"ED\")\n",
    "horizons = Dict(\"UC\" => 24, \"ED\" => 12)\n",
    "intervals = Dict(\"UC\" => (Hour(24), Consecutive()), \"ED\" => (Hour(1), Consecutive()))"
   ],
   "metadata": {},
   "execution_count": 8
  },
  {
   "cell_type": "markdown",
   "source": [
    "Finally, we can put it all together:"
   ],
   "metadata": {}
  },
  {
   "outputs": [
    {
     "output_type": "execute_result",
     "data": {
      "text/plain": "Feed Forward Chronology\n-----------------------\n\nED: PowerSimulations.SemiContinuousFF -> Generators\n\n                     UC--┐ from : On\n                         |\n┌----┬----┬----┬----┬----┼----┬----┬----┬----┬----┬----┐\n|    |    |    |    |    |    |    |    |    |    |    |\n|    |    |    |    |    |    |    |    |    |    |    |\n└─ED └─ED └─ED └─ED └─ED └─ED └─ED └─ED └─ED └─ED └─ED └─ED ... (x24) to : [\"P\"]\n\nInitial Condition Chronology\n----------------------------\n\n1\n|\n|\n2 --> 2 ... (x24)   \n"
     },
     "metadata": {},
     "execution_count": 9
    }
   ],
   "cell_type": "code",
   "source": [
    "DA_RT_sequence = SimulationSequence(\n",
    "    step_resolution = Hour(24),\n",
    "    order = order,\n",
    "    horizons = horizons,\n",
    "    intervals = intervals,\n",
    "    ini_cond_chronology = InterStageChronology(),\n",
    "    feedforward_chronologies = feedforward_chronologies,\n",
    "    feedforward = feedforward,\n",
    ")"
   ],
   "metadata": {},
   "execution_count": 9
  },
  {
   "cell_type": "markdown",
   "source": [
    "## `Simulation`\n",
    "Now, we can build and execute a simulation using the `SimulationSequence` and `Stage`s\n",
    "that we've defined."
   ],
   "metadata": {}
  },
  {
   "outputs": [
    {
     "output_type": "execute_result",
     "data": {
      "text/plain": "Simulation()\n"
     },
     "metadata": {},
     "execution_count": 10
    }
   ],
   "cell_type": "code",
   "source": [
    "sim = Simulation(\n",
    "    name = \"rts-test\",\n",
    "    steps = 1,\n",
    "    stages = stages_definition,\n",
    "    stages_sequence = DA_RT_sequence,\n",
    "    simulation_folder = rts_dir,\n",
    ")"
   ],
   "metadata": {},
   "execution_count": 10
  },
  {
   "cell_type": "markdown",
   "source": [
    "### Build simulation"
   ],
   "metadata": {}
  },
  {
   "outputs": [],
   "cell_type": "code",
   "source": [
    "build!(sim)"
   ],
   "metadata": {},
   "execution_count": 11
  },
  {
   "cell_type": "markdown",
   "source": [
    "### Execute simulation"
   ],
   "metadata": {}
  },
  {
   "outputs": [
    {
     "name": "stdout",
     "output_type": "stream",
     "text": [
      "Executing Step 1\n",
      "Welcome to the CBC MILP Solver \n",
      "Version: 2.10.3 \n",
      "Build Date: May 23 2020 \n",
      "\n",
      "command line - Cbc_C_Interface -ratioGap 0.5 -logLevel 1 -solve -quit (default strategy 1)\n",
      "ratioGap was changed from 0 to 0.5\n",
      "Continuous objective value is 1.06949e+06 - 0.38 seconds\n",
      "Cgl0003I 58 fixed, 0 tightened bounds, 1450 strengthened rows, 0 substitutions\n",
      "Cgl0003I 0 fixed, 0 tightened bounds, 106 strengthened rows, 0 substitutions\n",
      "Cgl0003I 0 fixed, 0 tightened bounds, 1392 strengthened rows, 0 substitutions\n",
      "Cgl0003I 0 fixed, 0 tightened bounds, 1298 strengthened rows, 0 substitutions\n",
      "Cgl0003I 0 fixed, 0 tightened bounds, 1157 strengthened rows, 0 substitutions\n",
      "Cgl0003I 0 fixed, 0 tightened bounds, 557 strengthened rows, 0 substitutions\n",
      "Cgl0003I 0 fixed, 0 tightened bounds, 517 strengthened rows, 0 substitutions\n",
      "Cgl0003I 0 fixed, 0 tightened bounds, 471 strengthened rows, 0 substitutions\n",
      "Cgl0003I 0 fixed, 0 tightened bounds, 458 strengthened rows, 0 substitutions\n",
      "Cgl0003I 0 fixed, 0 tightened bounds, 408 strengthened rows, 0 substitutions\n",
      "Cgl0004I processed model has 11567 rows, 23509 columns (5005 integer (5005 of which binary)) and 66764 elements\n",
      "Cbc0045I Trying just fixing integer variables (and fixingish SOS).\n",
      "Cbc0045I Warning: mipstart values could not be used to build a solution.\n",
      "Cbc0012I Integer solution of 1091500.9 found by DiveCoefficient after 0 iterations and 0 nodes (3.11 seconds)\n",
      "Cbc0011I Exiting as integer gap of 22006.501 less than 1e-10 or 50%\n",
      "Cbc0001I Search completed - best objective 1091500.899504894, took 0 iterations and 0 nodes (3.13 seconds)\n",
      "Cbc0035I Maximum depth 0, 0 variables fixed on reduced cost\n",
      "Cuts at root node changed objective from 1.06949e+06 to 1.06949e+06\n",
      "Probing was tried 0 times and created 0 cuts of which 0 were active after adding rounds of cuts (0.000 seconds)\n",
      "Gomory was tried 0 times and created 0 cuts of which 0 were active after adding rounds of cuts (0.000 seconds)\n",
      "Knapsack was tried 0 times and created 0 cuts of which 0 were active after adding rounds of cuts (0.000 seconds)\n",
      "Clique was tried 0 times and created 0 cuts of which 0 were active after adding rounds of cuts (0.000 seconds)\n",
      "MixedIntegerRounding2 was tried 0 times and created 0 cuts of which 0 were active after adding rounds of cuts (0.000 seconds)\n",
      "FlowCover was tried 0 times and created 0 cuts of which 0 were active after adding rounds of cuts (0.000 seconds)\n",
      "TwoMirCuts was tried 0 times and created 0 cuts of which 0 were active after adding rounds of cuts (0.000 seconds)\n",
      "ZeroHalf was tried 0 times and created 0 cuts of which 0 were active after adding rounds of cuts (0.000 seconds)\n",
      "\n",
      "Result - Optimal solution found (within gap tolerance)\n",
      "\n",
      "Objective value:                1091500.89950842\n",
      "Lower bound:                    1069494.399\n",
      "Gap:                            0.02\n",
      "Enumerated nodes:               0\n",
      "Total iterations:               0\n",
      "Time (CPU seconds):             3.57\n",
      "Time (Wallclock seconds):       3.98\n",
      "\n",
      "Total time (CPU seconds):       3.57   (Wallclock seconds):       3.98\n",
      "\n",
      "Welcome to the CBC MILP Solver \n",
      "Version: 2.10.3 \n",
      "Build Date: May 23 2020 \n",
      "\n",
      "command line - Cbc_C_Interface -ratioGap 0.5 -logLevel 1 -solve -quit (default strategy 1)\n",
      "ratioGap was changed from 0 to 0.5\n",
      "Presolve 180 (-3120) rows, 816 (-4212) columns and 984 (-7332) elements\n",
      "Perturbing problem by 0.001% of 1000000 - largest nonzero change 0.10690343 ( 0.0082657072%) - largest zero change 0.092441989\n",
      "0  Obj 5.8622404 Primal inf 99.839832 (168)\n",
      "78  Obj 10916.863 Primal inf 32.75991 (90)\n",
      "156  Obj 15454.435 Primal inf 3.599988 (12)\n",
      "168  Obj 15961.597\n",
      "Optimal - objective value 15955.018\n",
      "After Postsolve, objective 15955.018, infeasibilities - dual 0 (0), primal 0 (0)\n",
      "Optimal objective 15955.0182 - 168 iterations time 0.002, Presolve 0.00\n",
      "Total time (CPU seconds):       0.00   (Wallclock seconds):       0.00\n",
      "\n",
      "Welcome to the CBC MILP Solver \n",
      "Version: 2.10.3 \n",
      "Build Date: May 23 2020 \n",
      "\n",
      "command line - Cbc_C_Interface -ratioGap 0.5 -logLevel 1 -solve -quit (default strategy 1)\n",
      "ratioGap was changed from 0 to 0.5\n",
      "Presolve 180 (-3120) rows, 816 (-4212) columns and 984 (-7332) elements\n",
      "Perturbing problem by 0.001% of 1000000 - largest nonzero change 0.10690343 ( 0.0082657072%) - largest zero change 0.092441989\n",
      "0  Obj 5.8622404 Primal inf 99.839832 (168)\n",
      "78  Obj 10916.863 Primal inf 32.75991 (90)\n",
      "156  Obj 15454.435 Primal inf 3.599988 (12)\n",
      "168  Obj 15961.597\n",
      "Optimal - objective value 15955.018\n",
      "After Postsolve, objective 15955.018, infeasibilities - dual 0 (0), primal 0 (0)\n",
      "Optimal objective 15955.0182 - 168 iterations time 0.002, Presolve 0.00\n",
      "Total time (CPU seconds):       0.00   (Wallclock seconds):       0.00\n",
      "\n",
      "Welcome to the CBC MILP Solver \n",
      "Version: 2.10.3 \n",
      "Build Date: May 23 2020 \n",
      "\n",
      "command line - Cbc_C_Interface -ratioGap 0.5 -logLevel 1 -solve -quit (default strategy 1)\n",
      "ratioGap was changed from 0 to 0.5\n",
      "Presolve 180 (-3120) rows, 816 (-4212) columns and 984 (-7332) elements\n",
      "Perturbing problem by 0.001% of 1000000 - largest nonzero change 0.10690343 ( 0.0082657072%) - largest zero change 0.092441989\n",
      "0  Obj 5.8622404 Primal inf 99.839832 (168)\n",
      "78  Obj 10916.863 Primal inf 32.75991 (90)\n",
      "156  Obj 15454.435 Primal inf 3.599988 (12)\n",
      "168  Obj 15961.597\n",
      "Optimal - objective value 15955.018\n",
      "After Postsolve, objective 15955.018, infeasibilities - dual 0 (0), primal 0 (0)\n",
      "Optimal objective 15955.0182 - 168 iterations time 0.002, Presolve 0.00\n",
      "Total time (CPU seconds):       0.00   (Wallclock seconds):       0.00\n",
      "\n",
      "Welcome to the CBC MILP Solver \n",
      "Version: 2.10.3 \n",
      "Build Date: May 23 2020 \n",
      "\n",
      "command line - Cbc_C_Interface -ratioGap 0.5 -logLevel 1 -solve -quit (default strategy 1)\n",
      "ratioGap was changed from 0 to 0.5\n",
      "Presolve 180 (-3120) rows, 816 (-4212) columns and 984 (-7332) elements\n",
      "Perturbing problem by 0.001% of 1000000 - largest nonzero change 0.10690343 ( 0.0082657072%) - largest zero change 0.092441989\n",
      "0  Obj 5.8622404 Primal inf 99.839832 (168)\n",
      "78  Obj 10916.863 Primal inf 32.75991 (90)\n",
      "156  Obj 15454.435 Primal inf 3.599988 (12)\n",
      "168  Obj 15961.597\n",
      "Optimal - objective value 15955.018\n",
      "After Postsolve, objective 15955.018, infeasibilities - dual 0 (0), primal 0 (0)\n",
      "Optimal objective 15955.0182 - 168 iterations time 0.002, Presolve 0.00\n",
      "Total time (CPU seconds):       0.00   (Wallclock seconds):       0.00\n",
      "\n",
      "Welcome to the CBC MILP Solver \n",
      "Version: 2.10.3 \n",
      "Build Date: May 23 2020 \n",
      "\n",
      "command line - Cbc_C_Interface -ratioGap 0.5 -logLevel 1 -solve -quit (default strategy 1)\n",
      "ratioGap was changed from 0 to 0.5\n",
      "Presolve 180 (-3120) rows, 816 (-4212) columns and 984 (-7332) elements\n",
      "Perturbing problem by 0.001% of 1000000 - largest nonzero change 0.10690343 ( 0.0082657072%) - largest zero change 0.092441989\n",
      "0  Obj 5.8622404 Primal inf 99.839832 (168)\n",
      "78  Obj 10916.863 Primal inf 32.75991 (90)\n",
      "156  Obj 15454.435 Primal inf 3.599988 (12)\n",
      "168  Obj 15961.597\n",
      "Optimal - objective value 15955.018\n",
      "After Postsolve, objective 15955.018, infeasibilities - dual 0 (0), primal 0 (0)\n",
      "Optimal objective 15955.0182 - 168 iterations time 0.002, Presolve 0.00\n",
      "Total time (CPU seconds):       0.00   (Wallclock seconds):       0.00\n",
      "\n",
      "Welcome to the CBC MILP Solver \n",
      "Version: 2.10.3 \n",
      "Build Date: May 23 2020 \n",
      "\n",
      "command line - Cbc_C_Interface -ratioGap 0.5 -logLevel 1 -solve -quit (default strategy 1)\n",
      "ratioGap was changed from 0 to 0.5\n",
      "Presolve 180 (-3120) rows, 816 (-4212) columns and 984 (-7332) elements\n",
      "Perturbing problem by 0.001% of 1000000 - largest nonzero change 0.10690343 ( 0.0082657072%) - largest zero change 0.092441989\n",
      "0  Obj 5.8622404 Primal inf 99.839832 (168)\n",
      "78  Obj 10916.863 Primal inf 32.75991 (90)\n",
      "156  Obj 15454.435 Primal inf 3.599988 (12)\n",
      "168  Obj 15961.597\n",
      "Optimal - objective value 15955.018\n",
      "After Postsolve, objective 15955.018, infeasibilities - dual 0 (0), primal 0 (0)\n",
      "Optimal objective 15955.0182 - 168 iterations time 0.002, Presolve 0.00\n",
      "Total time (CPU seconds):       0.00   (Wallclock seconds):       0.00\n",
      "\n",
      "Welcome to the CBC MILP Solver \n",
      "Version: 2.10.3 \n",
      "Build Date: May 23 2020 \n",
      "\n",
      "command line - Cbc_C_Interface -ratioGap 0.5 -logLevel 1 -solve -quit (default strategy 1)\n",
      "ratioGap was changed from 0 to 0.5\n",
      "Presolve 180 (-3120) rows, 816 (-4212) columns and 984 (-7332) elements\n",
      "Perturbing problem by 0.001% of 1000000 - largest nonzero change 0.10690343 ( 0.0082657072%) - largest zero change 0.092441989\n",
      "0  Obj 5.8622404 Primal inf 106.69483 (178)\n",
      "78  Obj 9382.7677 Primal inf 65.274434 (125)\n",
      "156  Obj 15020.407 Primal inf 19.326303 (60)\n",
      "230  Obj 16882.386\n",
      "Optimal - objective value 16875.37\n",
      "After Postsolve, objective 16875.37, infeasibilities - dual 33640.487 (231), primal 0 (0)\n",
      "Presolved model was optimal, full model needs cleaning up\n",
      "0  Obj 16875.37\n",
      "Optimal - objective value 16875.37\n",
      "Optimal objective 16875.37012 - 230 iterations time 0.012, Presolve 0.00\n",
      "Total time (CPU seconds):       0.01   (Wallclock seconds):       0.01\n",
      "\n",
      "Welcome to the CBC MILP Solver \n",
      "Version: 2.10.3 \n",
      "Build Date: May 23 2020 \n",
      "\n",
      "command line - Cbc_C_Interface -ratioGap 0.5 -logLevel 1 -solve -quit (default strategy 1)\n",
      "ratioGap was changed from 0 to 0.5\n",
      "Presolve 180 (-3120) rows, 816 (-4212) columns and 984 (-7332) elements\n",
      "Perturbing problem by 0.001% of 1000000 - largest nonzero change 0.10690343 ( 0.0082657072%) - largest zero change 0.092441989\n",
      "0  Obj 5.8622404 Primal inf 101.98387 (172)\n",
      "78  Obj 9991.0184 Primal inf 42.121187 (104)\n",
      "156  Obj 15224.591 Primal inf 8.6740016 (31)\n",
      "190  Obj 16247.747\n",
      "Optimal - objective value 16241.026\n",
      "After Postsolve, objective 16241.026, infeasibilities - dual 17044.996 (122), primal 0 (0)\n",
      "Presolved model was optimal, full model needs cleaning up\n",
      "0  Obj 16241.026\n",
      "Optimal - objective value 16241.026\n",
      "Optimal objective 16241.0262 - 190 iterations time 0.012, Presolve 0.00\n",
      "Total time (CPU seconds):       0.01   (Wallclock seconds):       0.01\n",
      "\n",
      "Welcome to the CBC MILP Solver \n",
      "Version: 2.10.3 \n",
      "Build Date: May 23 2020 \n",
      "\n",
      "command line - Cbc_C_Interface -ratioGap 0.5 -logLevel 1 -solve -quit (default strategy 1)\n",
      "ratioGap was changed from 0 to 0.5\n",
      "Presolve 180 (-3120) rows, 816 (-4212) columns and 984 (-7332) elements\n",
      "Perturbing problem by 0.001% of 1000000 - largest nonzero change 0.10690343 ( 0.0082657072%) - largest zero change 0.092441989\n",
      "0  Obj 5.8622404 Primal inf 99.839832 (168)\n",
      "78  Obj 10916.863 Primal inf 32.75991 (90)\n",
      "156  Obj 15454.435 Primal inf 3.599988 (12)\n",
      "168  Obj 15961.597\n",
      "Optimal - objective value 15955.018\n",
      "After Postsolve, objective 15955.018, infeasibilities - dual 0 (0), primal 0 (0)\n",
      "Optimal objective 15955.0182 - 168 iterations time 0.002, Presolve 0.00\n",
      "Total time (CPU seconds):       0.00   (Wallclock seconds):       0.00\n",
      "\n",
      "Welcome to the CBC MILP Solver \n",
      "Version: 2.10.3 \n",
      "Build Date: May 23 2020 \n",
      "\n",
      "command line - Cbc_C_Interface -ratioGap 0.5 -logLevel 1 -solve -quit (default strategy 1)\n",
      "ratioGap was changed from 0 to 0.5\n",
      "Presolve 180 (-3120) rows, 816 (-4212) columns and 984 (-7332) elements\n",
      "Perturbing problem by 0.001% of 1000000 - largest nonzero change 0.10690343 ( 0.0082657072%) - largest zero change 0.092441989\n",
      "0  Obj 5.8622404 Primal inf 99.839832 (168)\n",
      "78  Obj 10916.863 Primal inf 32.75991 (90)\n",
      "156  Obj 15454.435 Primal inf 3.599988 (12)\n",
      "168  Obj 15961.597\n",
      "Optimal - objective value 15955.018\n",
      "After Postsolve, objective 15955.018, infeasibilities - dual 0 (0), primal 0 (0)\n",
      "Optimal objective 15955.0182 - 168 iterations time 0.002, Presolve 0.00\n",
      "Total time (CPU seconds):       0.00   (Wallclock seconds):       0.00\n",
      "\n",
      "Welcome to the CBC MILP Solver \n",
      "Version: 2.10.3 \n",
      "Build Date: May 23 2020 \n",
      "\n",
      "command line - Cbc_C_Interface -ratioGap 0.5 -logLevel 1 -solve -quit (default strategy 1)\n",
      "ratioGap was changed from 0 to 0.5\n",
      "Presolve 180 (-3120) rows, 816 (-4212) columns and 984 (-7332) elements\n",
      "Perturbing problem by 0.001% of 1000000 - largest nonzero change 0.10690343 ( 0.0082657072%) - largest zero change 0.092441989\n",
      "0  Obj 5.8622404 Primal inf 99.839832 (168)\n",
      "78  Obj 10916.863 Primal inf 32.75991 (90)\n",
      "156  Obj 15454.435 Primal inf 3.599988 (12)\n",
      "168  Obj 15961.597\n",
      "Optimal - objective value 15955.018\n",
      "After Postsolve, objective 15955.018, infeasibilities - dual 0 (0), primal 0 (0)\n",
      "Optimal objective 15955.0182 - 168 iterations time 0.002, Presolve 0.00\n",
      "Total time (CPU seconds):       0.00   (Wallclock seconds):       0.00\n",
      "\n",
      "Welcome to the CBC MILP Solver \n",
      "Version: 2.10.3 \n",
      "Build Date: May 23 2020 \n",
      "\n",
      "command line - Cbc_C_Interface -ratioGap 0.5 -logLevel 1 -solve -quit (default strategy 1)\n",
      "ratioGap was changed from 0 to 0.5\n",
      "Presolve 180 (-3120) rows, 816 (-4212) columns and 984 (-7332) elements\n",
      "Perturbing problem by 0.001% of 1000000 - largest nonzero change 0.10690343 ( 0.0082657072%) - largest zero change 0.092441989\n",
      "0  Obj 5.8622404 Primal inf 108.15439 (175)\n",
      "78  Obj 9097.6649 Primal inf 61.277043 (121)\n",
      "156  Obj 15487.502 Primal inf 13.508449 (46)\n",
      "206  Obj 17149.315\n",
      "Optimal - objective value 17142.191\n",
      "After Postsolve, objective 17142.191, infeasibilities - dual 50587.922 (342), primal 0 (0)\n",
      "Presolved model was optimal, full model needs cleaning up\n",
      "0  Obj 17142.191\n",
      "Optimal - objective value 17142.191\n",
      "Optimal objective 17142.19078 - 206 iterations time 0.012, Presolve 0.00\n",
      "Total time (CPU seconds):       0.01   (Wallclock seconds):       0.01\n",
      "\n",
      "Welcome to the CBC MILP Solver \n",
      "Version: 2.10.3 \n",
      "Build Date: May 23 2020 \n",
      "\n",
      "command line - Cbc_C_Interface -ratioGap 0.5 -logLevel 1 -solve -quit (default strategy 1)\n",
      "ratioGap was changed from 0 to 0.5\n",
      "Presolve 180 (-3120) rows, 817 (-4211) columns and 985 (-7331) elements\n",
      "Perturbing problem by 0.001% of 1000000 - largest nonzero change 0.10690343 ( 0.0082657072%) - largest zero change 0.092441989\n",
      "0  Obj 5.8622404 Primal inf 150.89719 (180)\n",
      "78  Obj 7370.8643 Primal inf 129.99427 (130)\n",
      "156  Obj 19054.075 Primal inf 57.392518 (82)\n",
      "234  Obj 23848.45 Primal inf 10.496927 (19)\n",
      "266  Obj 23888.151\n",
      "Optimal - objective value 23878.192\n",
      "After Postsolve, objective 23878.192, infeasibilities - dual 96363.275 (576), primal 0 (0)\n",
      "Presolved model was optimal, full model needs cleaning up\n",
      "0  Obj 23878.192\n",
      "Optimal - objective value 23878.192\n",
      "Optimal objective 23878.19153 - 266 iterations time 0.012, Presolve 0.00\n",
      "Total time (CPU seconds):       0.01   (Wallclock seconds):       0.01\n",
      "\n",
      "Welcome to the CBC MILP Solver \n",
      "Version: 2.10.3 \n",
      "Build Date: May 23 2020 \n",
      "\n",
      "command line - Cbc_C_Interface -ratioGap 0.5 -logLevel 1 -solve -quit (default strategy 1)\n",
      "ratioGap was changed from 0 to 0.5\n",
      "Presolve 180 (-3120) rows, 817 (-4211) columns and 985 (-7331) elements\n",
      "Perturbing problem by 0.001% of 1000000 - largest nonzero change 0.10690343 ( 0.0082657072%) - largest zero change 0.092441989\n",
      "0  Obj 5.8622404 Primal inf 174.8868 (180)\n",
      "78  Obj 10767.929 Primal inf 135.24237 (129)\n",
      "156  Obj 22286.185 Primal inf 65.674401 (83)\n",
      "234  Obj 27968.632 Primal inf 13.835217 (23)\n",
      "270  Obj 28007.598\n",
      "Optimal - objective value 27996.002\n",
      "After Postsolve, objective 27996.002, infeasibilities - dual 101467.29 (576), primal 0 (0)\n",
      "Presolved model was optimal, full model needs cleaning up\n",
      "0  Obj 27996.002\n",
      "Optimal - objective value 27996.002\n",
      "Optimal objective 27996.00203 - 270 iterations time 0.012, Presolve 0.00\n",
      "Total time (CPU seconds):       0.01   (Wallclock seconds):       0.01\n",
      "\n",
      "Welcome to the CBC MILP Solver \n",
      "Version: 2.10.3 \n",
      "Build Date: May 23 2020 \n",
      "\n",
      "command line - Cbc_C_Interface -ratioGap 0.5 -logLevel 1 -solve -quit (default strategy 1)\n",
      "ratioGap was changed from 0 to 0.5\n",
      "Presolve 204 (-3096) rows, 925 (-4103) columns and 1117 (-7199) elements\n",
      "Perturbing problem by 0.001% of 1000000 - largest nonzero change 0.10572368 ( 0.0084526381%) - largest zero change 0.082153987\n",
      "0  Obj 834.75468 Primal inf 178.20785 (204)\n",
      "79  Obj 10048.501 Primal inf 147.77354 (152)\n",
      "158  Obj 22768.17 Primal inf 66.180056 (94)\n",
      "237  Obj 29979.238 Primal inf 23.417688 (32)\n",
      "279  Obj 30075.044\n",
      "Optimal - objective value 30064.707\n",
      "After Postsolve, objective 30064.707, infeasibilities - dual 94537.633 (576), primal 0 (0)\n",
      "Presolved model was optimal, full model needs cleaning up\n",
      "0  Obj 30064.707\n",
      "Optimal - objective value 30064.707\n",
      "Optimal objective 30064.70664 - 279 iterations time 0.012, Presolve 0.00\n",
      "Total time (CPU seconds):       0.01   (Wallclock seconds):       0.01\n",
      "\n",
      "Welcome to the CBC MILP Solver \n",
      "Version: 2.10.3 \n",
      "Build Date: May 23 2020 \n",
      "\n",
      "command line - Cbc_C_Interface -ratioGap 0.5 -logLevel 1 -solve -quit (default strategy 1)\n",
      "ratioGap was changed from 0 to 0.5\n",
      "Presolve 204 (-3096) rows, 925 (-4103) columns and 1117 (-7199) elements\n",
      "Perturbing problem by 0.001% of 1000000 - largest nonzero change 0.10572368 ( 0.0084526381%) - largest zero change 0.082153987\n",
      "0  Obj 834.75468 Primal inf 207.78754 (204)\n",
      "79  Obj 12913.742 Primal inf 155.05762 (149)\n",
      "158  Obj 27053.742 Primal inf 73.547613 (99)\n",
      "237  Obj 35021.905 Primal inf 26.467641 (38)\n",
      "286  Obj 35183.174\n",
      "Optimal - objective value 35171.148\n",
      "After Postsolve, objective 35171.148, infeasibilities - dual 100809.07 (576), primal 0 (0)\n",
      "Presolved model was optimal, full model needs cleaning up\n",
      "0  Obj 35171.148\n",
      "Optimal - objective value 35171.148\n",
      "Optimal objective 35171.14843 - 286 iterations time 0.012, Presolve 0.00\n",
      "Total time (CPU seconds):       0.01   (Wallclock seconds):       0.01\n",
      "\n",
      "Welcome to the CBC MILP Solver \n",
      "Version: 2.10.3 \n",
      "Build Date: May 23 2020 \n",
      "\n",
      "command line - Cbc_C_Interface -ratioGap 0.5 -logLevel 1 -solve -quit (default strategy 1)\n",
      "ratioGap was changed from 0 to 0.5\n",
      "Presolve 228 (-3072) rows, 1045 (-3983) columns and 1261 (-7055) elements\n",
      "Perturbing problem by 0.001% of 1000000 - largest nonzero change 0.10963206 ( 0.0084223733%) - largest zero change 0.072696168\n",
      "0  Obj 835.71959 Primal inf 293.52002 (228)\n",
      "79  Obj 20886.981 Primal inf 219.8417 (176)\n",
      "158  Obj 39697.02 Primal inf 106.39255 (113)\n",
      "237  Obj 48332.205 Primal inf 40.694825 (47)\n",
      "296  Obj 51250.907\n",
      "Optimal - objective value 51235.806\n",
      "After Postsolve, objective 51235.806, infeasibilities - dual 70082.624 (373), primal 0 (0)\n",
      "Presolved model was optimal, full model needs cleaning up\n",
      "0  Obj 51235.806\n",
      "Optimal - objective value 51235.806\n",
      "Optimal objective 51235.80581 - 296 iterations time 0.012, Presolve 0.00\n",
      "Total time (CPU seconds):       0.01   (Wallclock seconds):       0.01\n",
      "\n",
      "Welcome to the CBC MILP Solver \n",
      "Version: 2.10.3 \n",
      "Build Date: May 23 2020 \n",
      "\n",
      "command line - Cbc_C_Interface -ratioGap 0.5 -logLevel 1 -solve -quit (default strategy 1)\n",
      "ratioGap was changed from 0 to 0.5\n",
      "Presolve 252 (-3048) rows, 1164 (-3864) columns and 1404 (-6912) elements\n",
      "Perturbing problem by 0.001% of 1000000 - largest nonzero change 0.10748312 ( 0.0084223733%) - largest zero change 0.065185311\n",
      "0  Obj 835.00706 Primal inf 344.87043 (252)\n",
      "80  Obj 25649.781 Primal inf 244.45026 (202)\n",
      "160  Obj 48973.123 Primal inf 121.81978 (136)\n",
      "240  Obj 56122.708 Primal inf 56.278299 (82)\n",
      "319  Obj 62473.681\n",
      "Optimal - objective value 62457.474\n",
      "After Postsolve, objective 62457.474, infeasibilities - dual 57912.38 (276), primal 0 (0)\n",
      "Presolved model was optimal, full model needs cleaning up\n",
      "0  Obj 62457.474\n",
      "Optimal - objective value 62457.474\n",
      "Optimal objective 62457.47408 - 319 iterations time 0.012, Presolve 0.00\n",
      "Total time (CPU seconds):       0.01   (Wallclock seconds):       0.01\n",
      "\n",
      "Welcome to the CBC MILP Solver \n",
      "Version: 2.10.3 \n",
      "Build Date: May 23 2020 \n",
      "\n",
      "command line - Cbc_C_Interface -ratioGap 0.5 -logLevel 1 -solve -quit (default strategy 1)\n",
      "ratioGap was changed from 0 to 0.5\n",
      "Presolve 228 (-3072) rows, 1044 (-3984) columns and 1260 (-7056) elements\n",
      "Perturbing problem by 0.001% of 1000000 - largest nonzero change 0.10963206 ( 0.0084223733%) - largest zero change 0.072907724\n",
      "0  Obj 835.76234 Primal inf 340.9209 (228)\n",
      "79  Obj 25985.697 Primal inf 260.12447 (184)\n",
      "158  Obj 47569.406 Primal inf 128.03235 (125)\n",
      "237  Obj 54943.471 Primal inf 60.034419 (67)\n",
      "300  Obj 60465.479\n",
      "Optimal - objective value 60447.787\n",
      "After Postsolve, objective 60447.787, infeasibilities - dual 57857.171 (276), primal 0 (0)\n",
      "Presolved model was optimal, full model needs cleaning up\n",
      "0  Obj 60447.787\n",
      "Optimal - objective value 60447.787\n",
      "Optimal objective 60447.78688 - 300 iterations time 0.012, Presolve 0.00\n",
      "Total time (CPU seconds):       0.01   (Wallclock seconds):       0.01\n",
      "\n",
      "Welcome to the CBC MILP Solver \n",
      "Version: 2.10.3 \n",
      "Build Date: May 23 2020 \n",
      "\n",
      "command line - Cbc_C_Interface -ratioGap 0.5 -logLevel 1 -solve -quit (default strategy 1)\n",
      "ratioGap was changed from 0 to 0.5\n",
      "Presolve 228 (-3072) rows, 1044 (-3984) columns and 1260 (-7056) elements\n",
      "Perturbing problem by 0.001% of 1000000 - largest nonzero change 0.10963206 ( 0.0084223733%) - largest zero change 0.072907724\n",
      "0  Obj 835.76234 Primal inf 318.42596 (228)\n",
      "79  Obj 20275.007 Primal inf 267.03409 (179)\n",
      "158  Obj 43832.202 Primal inf 106.64002 (111)\n",
      "237  Obj 52478.489 Primal inf 47.379337 (53)\n",
      "296  Obj 55997.929\n",
      "Optimal - objective value 55981.444\n",
      "After Postsolve, objective 55981.444, infeasibilities - dual 53692.878 (276), primal 0 (0)\n",
      "Presolved model was optimal, full model needs cleaning up\n",
      "0  Obj 55981.444\n",
      "Optimal - objective value 55981.444\n",
      "Optimal objective 55981.44395 - 296 iterations time 0.012, Presolve 0.00\n",
      "Total time (CPU seconds):       0.01   (Wallclock seconds):       0.01\n",
      "\n",
      "Welcome to the CBC MILP Solver \n",
      "Version: 2.10.3 \n",
      "Build Date: May 23 2020 \n",
      "\n",
      "command line - Cbc_C_Interface -ratioGap 0.5 -logLevel 1 -solve -quit (default strategy 1)\n",
      "ratioGap was changed from 0 to 0.5\n",
      "Presolve 228 (-3072) rows, 1044 (-3984) columns and 1260 (-7056) elements\n",
      "Perturbing problem by 0.001% of 1000000 - largest nonzero change 0.10963206 ( 0.0084223733%) - largest zero change 0.072907724\n",
      "0  Obj 835.76234 Primal inf 287.77357 (228)\n",
      "79  Obj 17676.54 Primal inf 227.01306 (174)\n",
      "158  Obj 37537.337 Primal inf 118.05857 (112)\n",
      "237  Obj 46954.174 Primal inf 42.024027 (55)\n",
      "302  Obj 50126.15\n",
      "Optimal - objective value 50111.244\n",
      "After Postsolve, objective 50111.244, infeasibilities - dual 52157.312 (276), primal 0 (0)\n",
      "Presolved model was optimal, full model needs cleaning up\n",
      "0  Obj 50111.244\n",
      "Optimal - objective value 50111.244\n",
      "Optimal objective 50111.24411 - 302 iterations time 0.012, Presolve 0.00\n",
      "Total time (CPU seconds):       0.01   (Wallclock seconds):       0.01\n",
      "\n",
      "Welcome to the CBC MILP Solver \n",
      "Version: 2.10.3 \n",
      "Build Date: May 23 2020 \n",
      "\n",
      "command line - Cbc_C_Interface -ratioGap 0.5 -logLevel 1 -solve -quit (default strategy 1)\n",
      "ratioGap was changed from 0 to 0.5\n",
      "Presolve 180 (-3120) rows, 829 (-4199) columns and 997 (-7319) elements\n",
      "Perturbing problem by 0.001% of 1000000 - largest nonzero change 0.10690343 ( 0.0083908538%) - largest zero change 0.090212381\n",
      "0  Obj 836.62321 Primal inf 251.63101 (180)\n",
      "78  Obj 20406.769 Primal inf 179.97792 (135)\n",
      "156  Obj 38851.032 Primal inf 72.520724 (74)\n",
      "234  Obj 44361.435 Primal inf 5.5923232 (8)\n",
      "243  Obj 44367.608\n",
      "Optimal - objective value 44350.81\n",
      "After Postsolve, objective 44350.81, infeasibilities - dual 53616.625 (276), primal 0 (0)\n",
      "Presolved model was optimal, full model needs cleaning up\n",
      "0  Obj 44350.81\n",
      "Optimal - objective value 44350.81\n",
      "Optimal objective 44350.80976 - 243 iterations time 0.012, Presolve 0.00\n",
      "Total time (CPU seconds):       0.01   (Wallclock seconds):       0.01\n",
      "\n",
      "Welcome to the CBC MILP Solver \n",
      "Version: 2.10.3 \n",
      "Build Date: May 23 2020 \n",
      "\n",
      "command line - Cbc_C_Interface -ratioGap 0.5 -logLevel 1 -solve -quit (default strategy 1)\n",
      "ratioGap was changed from 0 to 0.5\n",
      "Presolve 130 (-3170) rows, 600 (-4428) columns and 720 (-7596) elements\n",
      "Perturbing problem by 0.001% of 1000000 - largest nonzero change 0.10511311 ( 0.008372526%) - largest zero change 0.10433902\n",
      "0  Obj 584025.1 Primal inf 198.96364 (130)\n",
      "77  Obj 609176.72 Primal inf 90.160897 (83)\n",
      "154  Obj 618823.95 Primal inf 6.6450823 (8)\n",
      "159  Obj 619093.4\n",
      "Optimal - objective value 619077.09\n",
      "After Postsolve, objective 619077.09, infeasibilities - dual 73334.377 (326), primal 0 (0)\n",
      "Presolved model was optimal, full model needs cleaning up\n",
      "0  Obj 619077.09 Dual inf 16824.847 (96)\n",
      "24  Obj 619077.09\n",
      "Optimal - objective value 619077.09\n",
      "Optimal objective 619077.0932 - 183 iterations time 0.012, Presolve 0.00\n",
      "Total time (CPU seconds):       0.01   (Wallclock seconds):       0.01\n",
      "\n"
     ]
    },
    {
     "output_type": "execute_result",
     "data": {
      "text/plain": "Simulation Results Reference\n\nResults Folder: /Users/cbarrows/Documents/repos/SIIPExamples.jl/RTS-GMLC-master/rts-test/8/results\n\nReference Tables\n\n________________\n\nstage-UC\n\nP__ThermalStandard: dataframe size (1, 3)\n\nP__RenewableDispatch: dataframe size (1, 3)\n\nReg_Up__VariableReserve_PowerSystems.ReserveUp: dataframe size (1, 3)\n\nFlex_Up__VariableReserve_PowerSystems.ReserveUp: dataframe size (1, 3)\n\nparameter_service_requirement_VariableReserve_PowerSystems.ReserveDown: dataframe size (1, 3)\n\nparameter_service_requirement_VariableReserve_PowerSystems.ReserveUp: dataframe size (1, 3)\n\nparameter_P_PowerLoad: dataframe size (1, 3)\n\nP__HydroEnergyReservoir: dataframe size (1, 3)\n\nFlex_Down__VariableReserve_PowerSystems.ReserveDown: dataframe size (1, 3)\n\nSpin_Up_R1__VariableReserve_PowerSystems.ReserveUp: dataframe size (1, 3)\n\nparameter_P_RenewableDispatch: dataframe size (1, 3)\n\nparameter_P_HydroEnergyReservoir: dataframe size (1, 3)\n\nSpin_Up_R3__VariableReserve_PowerSystems.ReserveUp: dataframe size (1, 3)\n\nparameter_P_RenewableFix: dataframe size (1, 3)\n\nOn__ThermalStandard: dataframe size (1, 3)\n\nparameter_P_HydroDispatch: dataframe size (1, 3)\n\nReg_Down__VariableReserve_PowerSystems.ReserveDown: dataframe size (1, 3)\n\nstart__ThermalStandard: dataframe size (1, 3)\n\nstop__ThermalStandard: dataframe size (1, 3)\n\nSpin_Up_R2__VariableReserve_PowerSystems.ReserveUp: dataframe size (1, 3)\n\nstage-ED\n\nparameter_P_HydroDispatch: dataframe size (24, 3)\n\nparameter_P_RenewableDispatch: dataframe size (24, 3)\n\nP__ThermalStandard: dataframe size (24, 3)\n\nP__RenewableDispatch: dataframe size (24, 3)\n\nparameter_P_HydroEnergyReservoir: dataframe size (24, 3)\n\nparameter_P_RenewableFix: dataframe size (24, 3)\n\nparameter_P_PowerLoad: dataframe size (24, 3)\n\nP__HydroEnergyReservoir: dataframe size (24, 3)\n\nγ⁺__P: dataframe size (24, 3)\n\nγ⁻__P: dataframe size (24, 3)\n\nstage-UC\n\ntime length: 24\n\nstage-ED\n\ntime length: 12\n\n",
      "text/html": [
       "<h1>Simulation Results Reference</h1>\n",
       "<p><b>Results Folder:</b> /Users/cbarrows/Documents/repos/SIIPExamples.jl/RTS-GMLC-master/rts-test/8/results</p>\n",
       "<h2>Reference Tables</h2>\n",
       "<p><b>stage-UC</b></p>\n",
       "<p>P__ThermalStandard: dataframe size (1, 3)</p>\n",
       "<p>P__RenewableDispatch: dataframe size (1, 3)</p>\n",
       "<p>Reg_Up__VariableReserve_PowerSystems.ReserveUp: dataframe size (1, 3)</p>\n",
       "<p>Flex_Up__VariableReserve_PowerSystems.ReserveUp: dataframe size (1, 3)</p>\n",
       "<p>parameter_service_requirement_VariableReserve_PowerSystems.ReserveDown: dataframe size (1, 3)</p>\n",
       "<p>parameter_service_requirement_VariableReserve_PowerSystems.ReserveUp: dataframe size (1, 3)</p>\n",
       "<p>parameter_P_PowerLoad: dataframe size (1, 3)</p>\n",
       "<p>P__HydroEnergyReservoir: dataframe size (1, 3)</p>\n",
       "<p>Flex_Down__VariableReserve_PowerSystems.ReserveDown: dataframe size (1, 3)</p>\n",
       "<p>Spin_Up_R1__VariableReserve_PowerSystems.ReserveUp: dataframe size (1, 3)</p>\n",
       "<p>parameter_P_RenewableDispatch: dataframe size (1, 3)</p>\n",
       "<p>parameter_P_HydroEnergyReservoir: dataframe size (1, 3)</p>\n",
       "<p>Spin_Up_R3__VariableReserve_PowerSystems.ReserveUp: dataframe size (1, 3)</p>\n",
       "<p>parameter_P_RenewableFix: dataframe size (1, 3)</p>\n",
       "<p>On__ThermalStandard: dataframe size (1, 3)</p>\n",
       "<p>parameter_P_HydroDispatch: dataframe size (1, 3)</p>\n",
       "<p>Reg_Down__VariableReserve_PowerSystems.ReserveDown: dataframe size (1, 3)</p>\n",
       "<p>start__ThermalStandard: dataframe size (1, 3)</p>\n",
       "<p>stop__ThermalStandard: dataframe size (1, 3)</p>\n",
       "<p>Spin_Up_R2__VariableReserve_PowerSystems.ReserveUp: dataframe size (1, 3)</p>\n",
       "<p><b>stage-ED</b></p>\n",
       "<p>parameter_P_HydroDispatch: dataframe size (24, 3)</p>\n",
       "<p>parameter_P_RenewableDispatch: dataframe size (24, 3)</p>\n",
       "<p>P__ThermalStandard: dataframe size (24, 3)</p>\n",
       "<p>P__RenewableDispatch: dataframe size (24, 3)</p>\n",
       "<p>parameter_P_HydroEnergyReservoir: dataframe size (24, 3)</p>\n",
       "<p>parameter_P_RenewableFix: dataframe size (24, 3)</p>\n",
       "<p>parameter_P_PowerLoad: dataframe size (24, 3)</p>\n",
       "<p>P__HydroEnergyReservoir: dataframe size (24, 3)</p>\n",
       "<p>γ⁺__P: dataframe size (24, 3)</p>\n",
       "<p>γ⁻__P: dataframe size (24, 3)</p>\n",
       "<p><b>stage-UC</b></p>\n",
       "<p>time length: 24</p>\n",
       "<p><b>stage-ED</b></p>\n",
       "<p>time length: 12</p>\n"
      ]
     },
     "metadata": {},
     "execution_count": 12
    }
   ],
   "cell_type": "code",
   "source": [
    "sim_results = execute!(sim)"
   ],
   "metadata": {},
   "execution_count": 12
  },
  {
   "cell_type": "markdown",
   "source": [
    "## Results"
   ],
   "metadata": {}
  },
  {
   "outputs": [],
   "cell_type": "code",
   "source": [
    "uc_results = load_simulation_results(sim_results, \"UC\");\n",
    "ed_results = load_simulation_results(sim_results, \"ED\");"
   ],
   "metadata": {},
   "execution_count": 13
  },
  {
   "cell_type": "markdown",
   "source": [
    "## Plotting\n",
    "Take a look at the examples in [the plotting folder.](../../notebook/PowerSimulations_examples/Plotting)"
   ],
   "metadata": {}
  },
  {
   "cell_type": "markdown",
   "source": [
    "---\n",
    "\n",
    "*This notebook was generated using [Literate.jl](https://github.com/fredrikekre/Literate.jl).*"
   ],
   "metadata": {}
  }
 ],
 "nbformat_minor": 3,
 "metadata": {
  "language_info": {
   "file_extension": ".jl",
   "mimetype": "application/julia",
   "name": "julia",
   "version": "1.4.0"
  },
  "kernelspec": {
   "name": "julia-1.4",
   "display_name": "Julia 1.4.0",
   "language": "julia"
  }
 },
 "nbformat": 4
}
