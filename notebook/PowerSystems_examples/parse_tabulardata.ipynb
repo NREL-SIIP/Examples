{
 "cells": [
  {
   "cell_type": "markdown",
   "source": [
    "# Parsing Tabular Data"
   ],
   "metadata": {}
  },
  {
   "cell_type": "markdown",
   "source": [
    "**Originally Contributed by**: Clayton Barrows"
   ],
   "metadata": {}
  },
  {
   "cell_type": "markdown",
   "source": [
    "## Introduction"
   ],
   "metadata": {}
  },
  {
   "cell_type": "markdown",
   "source": [
    "An example of how to parse tabular files (CSV) files similar to the format established in\n",
    "the [RTS-GMLC](github.com/gridmod/rts-gmlc/RTS_Data/SourceData) and create a `System` using\n",
    "[PowerSystems.jl](github.com/NREL-SIIP/PowerSystems.jl)"
   ],
   "metadata": {}
  },
  {
   "cell_type": "markdown",
   "source": [
    "### Environment\n",
    "This notebook depends on the SIIPExamples.jl environment which is loaded by default"
   ],
   "metadata": {}
  },
  {
   "outputs": [
    {
     "name": "stdout",
     "output_type": "stream",
     "text": [
      "Project SIIPExamples v0.0.1\n",
      "Status `~/Documents/repos/SIIPExamples.jl/Project.toml`\n",
      "  [336ed68f] CSV v0.7.4\n",
      "  [9961bab8] Cbc v0.7.0\n",
      "  [41994980] D3TypeTrees v0.1.1\n",
      "  [a93c6f00] DataFrames v0.21.4\n",
      "  [becb17da] Feather v0.5.6\n",
      "  [2cd47ed4] InfrastructureSystems v0.13.0 [`../InfrastructureSystems.jl`]\n",
      "  [b6b21f68] Ipopt v0.6.2\n",
      "  [2535ab7d] JSON2 v0.3.2\n",
      "  [4076af6c] JuMP v0.21.3\n",
      "  [98b081ad] Literate v2.5.0\n",
      "  [47be7bcc] ORCA v0.4.0\n",
      "  [f0f68f2c] PlotlyJS v0.13.1\n",
      "  [91a5bcdd] Plots v1.5.5\n",
      "  [5f7eddb3] PowerGraphics v0.4.2 [`../PowerGraphics.jl`]\n",
      "  [e690365d] PowerSimulations v0.6.0 [`../PowerSimulations.jl`]\n",
      "  [bcd98974] PowerSystems v0.23.2 [`../PowerSystems.jl`]\n",
      "  [9e3dc215] TimeSeries v0.18.0\n",
      "  [f269a46b] TimeZones v1.3.1\n",
      "  [0f1e0344] WebIO v0.8.14\n",
      "  [ade2ca70] Dates \n",
      "  [56ddb016] Logging \n",
      "  [44cfe95a] Pkg \n",
      "  [9a3f8284] Random \n",
      "  [10745b16] Statistics \n",
      "  [8dfed614] Test \n"
     ]
    }
   ],
   "cell_type": "code",
   "source": [
    "using Pkg\n",
    "Pkg.status()"
   ],
   "metadata": {},
   "execution_count": 1
  },
  {
   "cell_type": "markdown",
   "source": [
    "### Dependencies"
   ],
   "metadata": {}
  },
  {
   "outputs": [],
   "cell_type": "code",
   "source": [
    "using SIIPExamples\n",
    "using PowerSystems\n",
    "using TimeSeries\n",
    "using Dates"
   ],
   "metadata": {},
   "execution_count": 2
  },
  {
   "cell_type": "markdown",
   "source": [
    "### Fetch Data\n",
    "PowerSystems.jl links to some test data that is suitable for this example.\n",
    "Let's download the test data"
   ],
   "metadata": {}
  },
  {
   "outputs": [],
   "cell_type": "code",
   "source": [
    "PowerSystems.download(PowerSystems.TestData; branch = \"master\") # *note* add `force=true` to get a fresh copy\n",
    "base_dir = dirname(dirname(pathof(PowerSystems)));"
   ],
   "metadata": {},
   "execution_count": 3
  },
  {
   "cell_type": "markdown",
   "source": [
    "### The tabular data format relies on a folder containing `*.csv` files and a `user_descriptors.yaml` file\n",
    "First, we'll read the tabular data"
   ],
   "metadata": {}
  },
  {
   "outputs": [
    {
     "name": "stdout",
     "output_type": "stream",
     "text": [
      "┌ Info: Parsing csv files in Reserves ...\n",
      "└ @ PowerSystems /Users/cbarrows/Documents/repos/PowerSystems.jl/src/parsers/power_system_table_data.jl:125\n",
      "┌ Info: Parsing csv data in DAY_AHEAD_regional_Flex_Down.csv ...\n",
      "└ @ PowerSystems /Users/cbarrows/Documents/repos/PowerSystems.jl/src/parsers/power_system_table_data.jl:129\n",
      "┌ Info: Parsing csv data in DAY_AHEAD_regional_Flex_Up.csv ...\n",
      "└ @ PowerSystems /Users/cbarrows/Documents/repos/PowerSystems.jl/src/parsers/power_system_table_data.jl:129\n",
      "┌ Info: Parsing csv data in DAY_AHEAD_regional_Reg_Down.csv ...\n",
      "└ @ PowerSystems /Users/cbarrows/Documents/repos/PowerSystems.jl/src/parsers/power_system_table_data.jl:129\n",
      "┌ Info: Parsing csv data in DAY_AHEAD_regional_Reg_Up.csv ...\n",
      "└ @ PowerSystems /Users/cbarrows/Documents/repos/PowerSystems.jl/src/parsers/power_system_table_data.jl:129\n",
      "┌ Info: Parsing csv data in DAY_AHEAD_regional_Spin_Up_R1.csv ...\n",
      "└ @ PowerSystems /Users/cbarrows/Documents/repos/PowerSystems.jl/src/parsers/power_system_table_data.jl:129\n",
      "┌ Info: Parsing csv data in DAY_AHEAD_regional_Spin_Up_R2.csv ...\n",
      "└ @ PowerSystems /Users/cbarrows/Documents/repos/PowerSystems.jl/src/parsers/power_system_table_data.jl:129\n",
      "┌ Info: Parsing csv data in DAY_AHEAD_regional_Spin_Up_R3.csv ...\n",
      "└ @ PowerSystems /Users/cbarrows/Documents/repos/PowerSystems.jl/src/parsers/power_system_table_data.jl:129\n",
      "┌ Info: Parsing csv data in REAL_TIME_regional_Reg_Down.csv ...\n",
      "└ @ PowerSystems /Users/cbarrows/Documents/repos/PowerSystems.jl/src/parsers/power_system_table_data.jl:129\n",
      "┌ Info: Parsing csv data in REAL_TIME_regional_Reg_Up.csv ...\n",
      "└ @ PowerSystems /Users/cbarrows/Documents/repos/PowerSystems.jl/src/parsers/power_system_table_data.jl:129\n",
      "┌ Info: Parsing csv data in REAL_TIME_regional_Spin_Up_R1.csv ...\n",
      "└ @ PowerSystems /Users/cbarrows/Documents/repos/PowerSystems.jl/src/parsers/power_system_table_data.jl:129\n",
      "┌ Info: Parsing csv data in REAL_TIME_regional_Spin_Up_R2.csv ...\n",
      "└ @ PowerSystems /Users/cbarrows/Documents/repos/PowerSystems.jl/src/parsers/power_system_table_data.jl:129\n",
      "┌ Info: Parsing csv data in REAL_TIME_regional_Spin_Up_R3.csv ...\n",
      "└ @ PowerSystems /Users/cbarrows/Documents/repos/PowerSystems.jl/src/parsers/power_system_table_data.jl:129\n",
      "┌ Info: Successfully parsed Reserves\n",
      "└ @ PowerSystems /Users/cbarrows/Documents/repos/PowerSystems.jl/src/parsers/power_system_table_data.jl:139\n",
      "┌ Info: Parsing csv data in branch.csv ...\n",
      "└ @ PowerSystems /Users/cbarrows/Documents/repos/PowerSystems.jl/src/parsers/power_system_table_data.jl:143\n",
      "┌ Info: Successfully parsed branch.csv\n",
      "└ @ PowerSystems /Users/cbarrows/Documents/repos/PowerSystems.jl/src/parsers/power_system_table_data.jl:148\n",
      "┌ Info: Parsing csv data in bus.csv ...\n",
      "└ @ PowerSystems /Users/cbarrows/Documents/repos/PowerSystems.jl/src/parsers/power_system_table_data.jl:143\n",
      "┌ Info: Successfully parsed bus.csv\n",
      "└ @ PowerSystems /Users/cbarrows/Documents/repos/PowerSystems.jl/src/parsers/power_system_table_data.jl:148\n",
      "┌ Info: Parsing csv data in dc_branch.csv ...\n",
      "└ @ PowerSystems /Users/cbarrows/Documents/repos/PowerSystems.jl/src/parsers/power_system_table_data.jl:143\n",
      "┌ Info: Successfully parsed dc_branch.csv\n",
      "└ @ PowerSystems /Users/cbarrows/Documents/repos/PowerSystems.jl/src/parsers/power_system_table_data.jl:148\n",
      "┌ Info: Parsing csv data in gen.csv ...\n",
      "└ @ PowerSystems /Users/cbarrows/Documents/repos/PowerSystems.jl/src/parsers/power_system_table_data.jl:143\n",
      "┌ Info: Successfully parsed gen.csv\n",
      "└ @ PowerSystems /Users/cbarrows/Documents/repos/PowerSystems.jl/src/parsers/power_system_table_data.jl:148\n",
      "┌ Info: Parsing csv data in reserves.csv ...\n",
      "└ @ PowerSystems /Users/cbarrows/Documents/repos/PowerSystems.jl/src/parsers/power_system_table_data.jl:143\n",
      "┌ Info: Successfully parsed reserves.csv\n",
      "└ @ PowerSystems /Users/cbarrows/Documents/repos/PowerSystems.jl/src/parsers/power_system_table_data.jl:148\n",
      "┌ Info: Parsing csv data in simulation_objects.csv ...\n",
      "└ @ PowerSystems /Users/cbarrows/Documents/repos/PowerSystems.jl/src/parsers/power_system_table_data.jl:143\n",
      "┌ Info: Successfully parsed simulation_objects.csv\n",
      "└ @ PowerSystems /Users/cbarrows/Documents/repos/PowerSystems.jl/src/parsers/power_system_table_data.jl:148\n",
      "┌ Info: Parsing csv data in storage.csv ...\n",
      "└ @ PowerSystems /Users/cbarrows/Documents/repos/PowerSystems.jl/src/parsers/power_system_table_data.jl:143\n",
      "┌ Info: Successfully parsed storage.csv\n",
      "└ @ PowerSystems /Users/cbarrows/Documents/repos/PowerSystems.jl/src/parsers/power_system_table_data.jl:148\n",
      "┌ Info: Parsing csv data in timeseries_pointers.csv ...\n",
      "└ @ PowerSystems /Users/cbarrows/Documents/repos/PowerSystems.jl/src/parsers/power_system_table_data.jl:143\n",
      "┌ Info: Successfully parsed timeseries_pointers.csv\n",
      "└ @ PowerSystems /Users/cbarrows/Documents/repos/PowerSystems.jl/src/parsers/power_system_table_data.jl:148\n"
     ]
    },
    {
     "output_type": "execute_result",
     "data": {
      "text/plain": "PowerSystems.PowerSystemTableData:\n  directory:  /Users/cbarrows/Documents/repos/PowerSystems.jl/data/RTS_GMLC\n  timeseries_metadata_file:  /Users/cbarrows/Documents/repos/PowerSystems.jl/data/RTS_GMLC/timeseries_pointers.json\n  base_power:  100.0\n  BRANCH:  120×14 DataFrame\n  BUS:  73×15 DataFrame\n  GENERATOR:  158×58 DataFrame\n  RESERVE:  7×7 DataFrame\n  DC_BRANCH:  1×60 DataFrame\n  STORAGE:  22×7 DataFrame\n"
     },
     "metadata": {},
     "execution_count": 4
    }
   ],
   "cell_type": "code",
   "source": [
    "RTS_GMLC_DIR = joinpath(base_dir, \"data\", \"RTS_GMLC\");\n",
    "rawsys = PowerSystems.PowerSystemTableData(\n",
    "    RTS_GMLC_DIR,\n",
    "    100.0,\n",
    "    joinpath(RTS_GMLC_DIR, \"user_descriptors.yaml\"),\n",
    "    timeseries_metadata_file = joinpath(RTS_GMLC_DIR, \"timeseries_pointers.json\"),\n",
    "    generator_mapping_file = joinpath(RTS_GMLC_DIR, \"generator_mapping.yaml\"),\n",
    ")"
   ],
   "metadata": {},
   "execution_count": 4
  },
  {
   "cell_type": "markdown",
   "source": [
    "### Create a `System`\n",
    "Next, we'll create a `System` from the `rawsys` data. Since a `System` is predicated on a\n",
    "forecast resolution and the `rawsys` data includes both 5-minute and 1-hour resolution\n",
    "forecasts, we also need to specify which forecasts we want to include in the `System`.\n",
    "The `forecast_resolution` kwarg filters to only include forecasts with a matching resolution."
   ],
   "metadata": {}
  },
  {
   "outputs": [
    {
     "name": "stdout",
     "output_type": "stream",
     "text": [
      "┌ Warning: Missing LOAD data.\n",
      "└ @ PowerSystems /Users/cbarrows/Documents/repos/PowerSystems.jl/src/parsers/power_system_table_data.jl:212\n",
      "┌ Warning: User-defined column name Startup Ramp Rate MW/min is not in dataframe.\n",
      "└ @ PowerSystems /Users/cbarrows/Documents/repos/PowerSystems.jl/src/parsers/power_system_table_data.jl:1196\n",
      "┌ Warning: User-defined column name Shutdown Ramp Rate MW/min is not in dataframe.\n",
      "└ @ PowerSystems /Users/cbarrows/Documents/repos/PowerSystems.jl/src/parsers/power_system_table_data.jl:1196\n",
      "┌ Warning: User-defined column name Status at Start is not in dataframe.\n",
      "└ @ PowerSystems /Users/cbarrows/Documents/repos/PowerSystems.jl/src/parsers/power_system_table_data.jl:1196\n",
      "┌ Warning: User-defined column name Time at Status is not in dataframe.\n",
      "└ @ PowerSystems /Users/cbarrows/Documents/repos/PowerSystems.jl/src/parsers/power_system_table_data.jl:1196\n",
      "┌ Warning: User-defined column name Start Cost Cold is not in dataframe.\n",
      "└ @ PowerSystems /Users/cbarrows/Documents/repos/PowerSystems.jl/src/parsers/power_system_table_data.jl:1196\n",
      "┌ Warning: User-defined column name Start Cost Warm is not in dataframe.\n",
      "└ @ PowerSystems /Users/cbarrows/Documents/repos/PowerSystems.jl/src/parsers/power_system_table_data.jl:1196\n",
      "┌ Warning: User-defined column name Start Cost Hot is not in dataframe.\n",
      "└ @ PowerSystems /Users/cbarrows/Documents/repos/PowerSystems.jl/src/parsers/power_system_table_data.jl:1196\n",
      "┌ Warning: User-defined column name Must Run is not in dataframe.\n",
      "└ @ PowerSystems /Users/cbarrows/Documents/repos/PowerSystems.jl/src/parsers/power_system_table_data.jl:1196\n",
      "┌ Warning: Missing LOAD data.\n",
      "└ @ PowerSystems /Users/cbarrows/Documents/repos/PowerSystems.jl/src/parsers/power_system_table_data.jl:212\n",
      "┌ Info: Adding contributing generators for Spin_Up_R1 by category\n",
      "└ @ PowerSystems /Users/cbarrows/Documents/repos/PowerSystems.jl/src/parsers/power_system_table_data.jl:656\n",
      "┌ Warning: User-defined column name Startup Ramp Rate MW/min is not in dataframe.\n",
      "└ @ PowerSystems /Users/cbarrows/Documents/repos/PowerSystems.jl/src/parsers/power_system_table_data.jl:1196\n",
      "┌ Warning: User-defined column name Shutdown Ramp Rate MW/min is not in dataframe.\n",
      "└ @ PowerSystems /Users/cbarrows/Documents/repos/PowerSystems.jl/src/parsers/power_system_table_data.jl:1196\n",
      "┌ Warning: User-defined column name Status at Start is not in dataframe.\n",
      "└ @ PowerSystems /Users/cbarrows/Documents/repos/PowerSystems.jl/src/parsers/power_system_table_data.jl:1196\n",
      "┌ Warning: User-defined column name Time at Status is not in dataframe.\n",
      "└ @ PowerSystems /Users/cbarrows/Documents/repos/PowerSystems.jl/src/parsers/power_system_table_data.jl:1196\n",
      "┌ Warning: User-defined column name Start Cost Cold is not in dataframe.\n",
      "└ @ PowerSystems /Users/cbarrows/Documents/repos/PowerSystems.jl/src/parsers/power_system_table_data.jl:1196\n",
      "┌ Warning: User-defined column name Start Cost Warm is not in dataframe.\n",
      "└ @ PowerSystems /Users/cbarrows/Documents/repos/PowerSystems.jl/src/parsers/power_system_table_data.jl:1196\n",
      "┌ Warning: User-defined column name Start Cost Hot is not in dataframe.\n",
      "└ @ PowerSystems /Users/cbarrows/Documents/repos/PowerSystems.jl/src/parsers/power_system_table_data.jl:1196\n",
      "┌ Warning: User-defined column name Must Run is not in dataframe.\n",
      "└ @ PowerSystems /Users/cbarrows/Documents/repos/PowerSystems.jl/src/parsers/power_system_table_data.jl:1196\n",
      "┌ Info: Adding contributing generators for Spin_Up_R2 by category\n",
      "└ @ PowerSystems /Users/cbarrows/Documents/repos/PowerSystems.jl/src/parsers/power_system_table_data.jl:656\n",
      "┌ Warning: User-defined column name Startup Ramp Rate MW/min is not in dataframe.\n",
      "└ @ PowerSystems /Users/cbarrows/Documents/repos/PowerSystems.jl/src/parsers/power_system_table_data.jl:1196\n",
      "┌ Warning: User-defined column name Shutdown Ramp Rate MW/min is not in dataframe.\n",
      "└ @ PowerSystems /Users/cbarrows/Documents/repos/PowerSystems.jl/src/parsers/power_system_table_data.jl:1196\n",
      "┌ Warning: User-defined column name Status at Start is not in dataframe.\n",
      "└ @ PowerSystems /Users/cbarrows/Documents/repos/PowerSystems.jl/src/parsers/power_system_table_data.jl:1196\n",
      "┌ Warning: User-defined column name Time at Status is not in dataframe.\n",
      "└ @ PowerSystems /Users/cbarrows/Documents/repos/PowerSystems.jl/src/parsers/power_system_table_data.jl:1196\n",
      "┌ Warning: User-defined column name Start Cost Cold is not in dataframe.\n",
      "└ @ PowerSystems /Users/cbarrows/Documents/repos/PowerSystems.jl/src/parsers/power_system_table_data.jl:1196\n",
      "┌ Warning: User-defined column name Start Cost Warm is not in dataframe.\n",
      "└ @ PowerSystems /Users/cbarrows/Documents/repos/PowerSystems.jl/src/parsers/power_system_table_data.jl:1196\n",
      "┌ Warning: User-defined column name Start Cost Hot is not in dataframe.\n",
      "└ @ PowerSystems /Users/cbarrows/Documents/repos/PowerSystems.jl/src/parsers/power_system_table_data.jl:1196\n",
      "┌ Warning: User-defined column name Must Run is not in dataframe.\n",
      "└ @ PowerSystems /Users/cbarrows/Documents/repos/PowerSystems.jl/src/parsers/power_system_table_data.jl:1196\n",
      "┌ Info: Adding contributing generators for Spin_Up_R3 by category\n",
      "└ @ PowerSystems /Users/cbarrows/Documents/repos/PowerSystems.jl/src/parsers/power_system_table_data.jl:656\n",
      "┌ Warning: User-defined column name Startup Ramp Rate MW/min is not in dataframe.\n",
      "└ @ PowerSystems /Users/cbarrows/Documents/repos/PowerSystems.jl/src/parsers/power_system_table_data.jl:1196\n",
      "┌ Warning: User-defined column name Shutdown Ramp Rate MW/min is not in dataframe.\n",
      "└ @ PowerSystems /Users/cbarrows/Documents/repos/PowerSystems.jl/src/parsers/power_system_table_data.jl:1196\n",
      "┌ Warning: User-defined column name Status at Start is not in dataframe.\n",
      "└ @ PowerSystems /Users/cbarrows/Documents/repos/PowerSystems.jl/src/parsers/power_system_table_data.jl:1196\n",
      "┌ Warning: User-defined column name Time at Status is not in dataframe.\n",
      "└ @ PowerSystems /Users/cbarrows/Documents/repos/PowerSystems.jl/src/parsers/power_system_table_data.jl:1196\n",
      "┌ Warning: User-defined column name Start Cost Cold is not in dataframe.\n",
      "└ @ PowerSystems /Users/cbarrows/Documents/repos/PowerSystems.jl/src/parsers/power_system_table_data.jl:1196\n",
      "┌ Warning: User-defined column name Start Cost Warm is not in dataframe.\n",
      "└ @ PowerSystems /Users/cbarrows/Documents/repos/PowerSystems.jl/src/parsers/power_system_table_data.jl:1196\n",
      "┌ Warning: User-defined column name Start Cost Hot is not in dataframe.\n",
      "└ @ PowerSystems /Users/cbarrows/Documents/repos/PowerSystems.jl/src/parsers/power_system_table_data.jl:1196\n",
      "┌ Warning: User-defined column name Must Run is not in dataframe.\n",
      "└ @ PowerSystems /Users/cbarrows/Documents/repos/PowerSystems.jl/src/parsers/power_system_table_data.jl:1196\n",
      "┌ Info: Adding contributing generators for Flex_Up by category\n",
      "└ @ PowerSystems /Users/cbarrows/Documents/repos/PowerSystems.jl/src/parsers/power_system_table_data.jl:656\n",
      "┌ Warning: User-defined column name Startup Ramp Rate MW/min is not in dataframe.\n",
      "└ @ PowerSystems /Users/cbarrows/Documents/repos/PowerSystems.jl/src/parsers/power_system_table_data.jl:1196\n",
      "┌ Warning: User-defined column name Shutdown Ramp Rate MW/min is not in dataframe.\n",
      "└ @ PowerSystems /Users/cbarrows/Documents/repos/PowerSystems.jl/src/parsers/power_system_table_data.jl:1196\n",
      "┌ Warning: User-defined column name Status at Start is not in dataframe.\n",
      "└ @ PowerSystems /Users/cbarrows/Documents/repos/PowerSystems.jl/src/parsers/power_system_table_data.jl:1196\n",
      "┌ Warning: User-defined column name Time at Status is not in dataframe.\n",
      "└ @ PowerSystems /Users/cbarrows/Documents/repos/PowerSystems.jl/src/parsers/power_system_table_data.jl:1196\n",
      "┌ Warning: User-defined column name Start Cost Cold is not in dataframe.\n",
      "└ @ PowerSystems /Users/cbarrows/Documents/repos/PowerSystems.jl/src/parsers/power_system_table_data.jl:1196\n",
      "┌ Warning: User-defined column name Start Cost Warm is not in dataframe.\n",
      "└ @ PowerSystems /Users/cbarrows/Documents/repos/PowerSystems.jl/src/parsers/power_system_table_data.jl:1196\n",
      "┌ Warning: User-defined column name Start Cost Hot is not in dataframe.\n",
      "└ @ PowerSystems /Users/cbarrows/Documents/repos/PowerSystems.jl/src/parsers/power_system_table_data.jl:1196\n",
      "┌ Warning: User-defined column name Must Run is not in dataframe.\n",
      "└ @ PowerSystems /Users/cbarrows/Documents/repos/PowerSystems.jl/src/parsers/power_system_table_data.jl:1196\n",
      "┌ Info: Adding contributing generators for Flex_Down by category\n",
      "└ @ PowerSystems /Users/cbarrows/Documents/repos/PowerSystems.jl/src/parsers/power_system_table_data.jl:656\n",
      "┌ Warning: User-defined column name Startup Ramp Rate MW/min is not in dataframe.\n",
      "└ @ PowerSystems /Users/cbarrows/Documents/repos/PowerSystems.jl/src/parsers/power_system_table_data.jl:1196\n",
      "┌ Warning: User-defined column name Shutdown Ramp Rate MW/min is not in dataframe.\n",
      "└ @ PowerSystems /Users/cbarrows/Documents/repos/PowerSystems.jl/src/parsers/power_system_table_data.jl:1196\n",
      "┌ Warning: User-defined column name Status at Start is not in dataframe.\n",
      "└ @ PowerSystems /Users/cbarrows/Documents/repos/PowerSystems.jl/src/parsers/power_system_table_data.jl:1196\n",
      "┌ Warning: User-defined column name Time at Status is not in dataframe.\n",
      "└ @ PowerSystems /Users/cbarrows/Documents/repos/PowerSystems.jl/src/parsers/power_system_table_data.jl:1196\n",
      "┌ Warning: User-defined column name Start Cost Cold is not in dataframe.\n",
      "└ @ PowerSystems /Users/cbarrows/Documents/repos/PowerSystems.jl/src/parsers/power_system_table_data.jl:1196\n",
      "┌ Warning: User-defined column name Start Cost Warm is not in dataframe.\n",
      "└ @ PowerSystems /Users/cbarrows/Documents/repos/PowerSystems.jl/src/parsers/power_system_table_data.jl:1196\n",
      "┌ Warning: User-defined column name Start Cost Hot is not in dataframe.\n",
      "└ @ PowerSystems /Users/cbarrows/Documents/repos/PowerSystems.jl/src/parsers/power_system_table_data.jl:1196\n",
      "┌ Warning: User-defined column name Must Run is not in dataframe.\n",
      "└ @ PowerSystems /Users/cbarrows/Documents/repos/PowerSystems.jl/src/parsers/power_system_table_data.jl:1196\n",
      "┌ Info: Adding contributing generators for Reg_Up by category\n",
      "└ @ PowerSystems /Users/cbarrows/Documents/repos/PowerSystems.jl/src/parsers/power_system_table_data.jl:656\n",
      "┌ Warning: User-defined column name Startup Ramp Rate MW/min is not in dataframe.\n",
      "└ @ PowerSystems /Users/cbarrows/Documents/repos/PowerSystems.jl/src/parsers/power_system_table_data.jl:1196\n",
      "┌ Warning: User-defined column name Shutdown Ramp Rate MW/min is not in dataframe.\n",
      "└ @ PowerSystems /Users/cbarrows/Documents/repos/PowerSystems.jl/src/parsers/power_system_table_data.jl:1196\n",
      "┌ Warning: User-defined column name Status at Start is not in dataframe.\n",
      "└ @ PowerSystems /Users/cbarrows/Documents/repos/PowerSystems.jl/src/parsers/power_system_table_data.jl:1196\n",
      "┌ Warning: User-defined column name Time at Status is not in dataframe.\n",
      "└ @ PowerSystems /Users/cbarrows/Documents/repos/PowerSystems.jl/src/parsers/power_system_table_data.jl:1196\n",
      "┌ Warning: User-defined column name Start Cost Cold is not in dataframe.\n",
      "└ @ PowerSystems /Users/cbarrows/Documents/repos/PowerSystems.jl/src/parsers/power_system_table_data.jl:1196\n",
      "┌ Warning: User-defined column name Start Cost Warm is not in dataframe.\n",
      "└ @ PowerSystems /Users/cbarrows/Documents/repos/PowerSystems.jl/src/parsers/power_system_table_data.jl:1196\n",
      "┌ Warning: User-defined column name Start Cost Hot is not in dataframe.\n",
      "└ @ PowerSystems /Users/cbarrows/Documents/repos/PowerSystems.jl/src/parsers/power_system_table_data.jl:1196\n",
      "┌ Warning: User-defined column name Must Run is not in dataframe.\n",
      "└ @ PowerSystems /Users/cbarrows/Documents/repos/PowerSystems.jl/src/parsers/power_system_table_data.jl:1196\n",
      "┌ Info: Adding contributing generators for Reg_Down by category\n",
      "└ @ PowerSystems /Users/cbarrows/Documents/repos/PowerSystems.jl/src/parsers/power_system_table_data.jl:656\n",
      "┌ Warning: User-defined column name Startup Ramp Rate MW/min is not in dataframe.\n",
      "└ @ PowerSystems /Users/cbarrows/Documents/repos/PowerSystems.jl/src/parsers/power_system_table_data.jl:1196\n",
      "┌ Warning: User-defined column name Shutdown Ramp Rate MW/min is not in dataframe.\n",
      "└ @ PowerSystems /Users/cbarrows/Documents/repos/PowerSystems.jl/src/parsers/power_system_table_data.jl:1196\n",
      "┌ Warning: User-defined column name Status at Start is not in dataframe.\n",
      "└ @ PowerSystems /Users/cbarrows/Documents/repos/PowerSystems.jl/src/parsers/power_system_table_data.jl:1196\n",
      "┌ Warning: User-defined column name Time at Status is not in dataframe.\n",
      "└ @ PowerSystems /Users/cbarrows/Documents/repos/PowerSystems.jl/src/parsers/power_system_table_data.jl:1196\n",
      "┌ Warning: User-defined column name Start Cost Cold is not in dataframe.\n",
      "└ @ PowerSystems /Users/cbarrows/Documents/repos/PowerSystems.jl/src/parsers/power_system_table_data.jl:1196\n",
      "┌ Warning: User-defined column name Start Cost Warm is not in dataframe.\n",
      "└ @ PowerSystems /Users/cbarrows/Documents/repos/PowerSystems.jl/src/parsers/power_system_table_data.jl:1196\n",
      "┌ Warning: User-defined column name Start Cost Hot is not in dataframe.\n",
      "└ @ PowerSystems /Users/cbarrows/Documents/repos/PowerSystems.jl/src/parsers/power_system_table_data.jl:1196\n",
      "┌ Warning: User-defined column name Must Run is not in dataframe.\n",
      "└ @ PowerSystems /Users/cbarrows/Documents/repos/PowerSystems.jl/src/parsers/power_system_table_data.jl:1196\n"
     ]
    },
    {
     "output_type": "execute_result",
     "data": {
      "text/plain": "System\n======\nBase Power: 100.0\n\nComponents\n==========\nNum components: 434\n\n15×3 DataFrame. Omitted printing of 2 columns\n│ Row │ ConcreteType                              │\n│     │ \u001b[90mString\u001b[39m                                    │\n├─────┼───────────────────────────────────────────┤\n│ 1   │ Area                                      │\n│ 2   │ Bus                                       │\n│ 3   │ GenericBattery                            │\n│ 4   │ HVDCLine                                  │\n│ 5   │ HydroDispatch                             │\n│ 6   │ HydroEnergyReservoir                      │\n│ 7   │ Line                                      │\n│ 8   │ LoadZone                                  │\n│ 9   │ PowerLoad                                 │\n│ 10  │ RenewableDispatch                         │\n│ 11  │ RenewableFix                              │\n│ 12  │ TapTransformer                            │\n│ 13  │ ThermalStandard                           │\n│ 14  │ VariableReserve{PowerSystems.ReserveDown} │\n│ 15  │ VariableReserve{PowerSystems.ReserveUp}   │\n\nForecasts\n=========\nResolution: 60 minutes\nHorizon: 24\nInitial Times: 2020-01-01T00:00:00\nInterval: 0 seconds\nComponents with Forecasts: 139\nTotal Forecasts: 179\n",
      "text/html": [
       "<h1>System</h1>\n",
       "<p><b>Base Power</b>: 100.0</p>\n",
       "<h2>Components</h2>\n",
       "<p><b>Num components</b>: 434</p>\n",
       "<table class=\"data-frame\"><thead><tr><th></th><th>ConcreteType</th><th>SuperTypes</th><th>Count</th></tr><tr><th></th><th>String</th><th>String</th><th>Int64</th></tr></thead><tbody><p>15 rows × 3 columns</p><tr><th>1</th><td>Area</td><td>AggregationTopology &lt;: Topology &lt;: Component &lt;: PowerSystemType &lt;: InfrastructureSystemsType &lt;: Any</td><td>3</td></tr><tr><th>2</th><td>Bus</td><td>Topology &lt;: Component &lt;: PowerSystemType &lt;: InfrastructureSystemsType &lt;: Any</td><td>73</td></tr><tr><th>3</th><td>GenericBattery</td><td>Storage &lt;: StaticInjection &lt;: Device &lt;: Component &lt;: PowerSystemType &lt;: InfrastructureSystemsType &lt;: Any</td><td>1</td></tr><tr><th>4</th><td>HVDCLine</td><td>DCBranch &lt;: Branch &lt;: Device &lt;: Component &lt;: PowerSystemType &lt;: InfrastructureSystemsType &lt;: Any</td><td>1</td></tr><tr><th>5</th><td>HydroDispatch</td><td>HydroGen &lt;: Generator &lt;: StaticInjection &lt;: Device &lt;: Component &lt;: PowerSystemType &lt;: InfrastructureSystemsType &lt;: Any</td><td>1</td></tr><tr><th>6</th><td>HydroEnergyReservoir</td><td>HydroGen &lt;: Generator &lt;: StaticInjection &lt;: Device &lt;: Component &lt;: PowerSystemType &lt;: InfrastructureSystemsType &lt;: Any</td><td>19</td></tr><tr><th>7</th><td>Line</td><td>ACBranch &lt;: Branch &lt;: Device &lt;: Component &lt;: PowerSystemType &lt;: InfrastructureSystemsType &lt;: Any</td><td>105</td></tr><tr><th>8</th><td>LoadZone</td><td>AggregationTopology &lt;: Topology &lt;: Component &lt;: PowerSystemType &lt;: InfrastructureSystemsType &lt;: Any</td><td>21</td></tr><tr><th>9</th><td>PowerLoad</td><td>StaticLoad &lt;: ElectricLoad &lt;: StaticInjection &lt;: Device &lt;: Component &lt;: PowerSystemType &lt;: InfrastructureSystemsType &lt;: Any</td><td>51</td></tr><tr><th>10</th><td>RenewableDispatch</td><td>RenewableGen &lt;: Generator &lt;: StaticInjection &lt;: Device &lt;: Component &lt;: PowerSystemType &lt;: InfrastructureSystemsType &lt;: Any</td><td>30</td></tr><tr><th>11</th><td>RenewableFix</td><td>RenewableGen &lt;: Generator &lt;: StaticInjection &lt;: Device &lt;: Component &lt;: PowerSystemType &lt;: InfrastructureSystemsType &lt;: Any</td><td>31</td></tr><tr><th>12</th><td>TapTransformer</td><td>ACBranch &lt;: Branch &lt;: Device &lt;: Component &lt;: PowerSystemType &lt;: InfrastructureSystemsType &lt;: Any</td><td>15</td></tr><tr><th>13</th><td>ThermalStandard</td><td>ThermalGen &lt;: Generator &lt;: StaticInjection &lt;: Device &lt;: Component &lt;: PowerSystemType &lt;: InfrastructureSystemsType &lt;: Any</td><td>76</td></tr><tr><th>14</th><td>VariableReserve{PowerSystems.ReserveDown}</td><td>Reserve{PowerSystems.ReserveDown} &lt;: Service &lt;: Component &lt;: PowerSystemType &lt;: InfrastructureSystemsType &lt;: Any</td><td>2</td></tr><tr><th>15</th><td>VariableReserve{PowerSystems.ReserveUp}</td><td>Reserve{PowerSystems.ReserveUp} &lt;: Service &lt;: Component &lt;: PowerSystemType &lt;: InfrastructureSystemsType &lt;: Any</td><td>5</td></tr></tbody></table>\n",
       "\n",
       "<h2>Forecasts</h2>\n",
       "<p><b>Resolution</b>: 60 minutes</p>\n",
       "<p><b>Horizon</b>: 24</p>\n",
       "<p><b>Initial Times</b>: 2020-01-01T00:00:00</p>\n",
       "<p><b>Interval</b>: 0 seconds</p>\n",
       "<p><b>Components with Forecasts</b>: 139</p>\n",
       "<p><b>Total Forecasts</b>: 179</p>\n"
      ]
     },
     "metadata": {},
     "execution_count": 5
    }
   ],
   "cell_type": "code",
   "source": [
    "sys = System(rawsys; forecast_resolution = Dates.Hour(1));\n",
    "sys"
   ],
   "metadata": {},
   "execution_count": 5
  },
  {
   "cell_type": "markdown",
   "source": [
    "---\n",
    "\n",
    "*This notebook was generated using [Literate.jl](https://github.com/fredrikekre/Literate.jl).*"
   ],
   "metadata": {}
  }
 ],
 "nbformat_minor": 3,
 "metadata": {
  "language_info": {
   "file_extension": ".jl",
   "mimetype": "application/julia",
   "name": "julia",
   "version": "1.4.0"
  },
  "kernelspec": {
   "name": "julia-1.4",
   "display_name": "Julia 1.4.0",
   "language": "julia"
  }
 },
 "nbformat": 4
}
