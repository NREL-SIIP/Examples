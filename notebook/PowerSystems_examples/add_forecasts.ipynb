{
 "cells": [
  {
   "cell_type": "markdown",
   "source": [
    "# Add Forecasts to `System`"
   ],
   "metadata": {}
  },
  {
   "cell_type": "markdown",
   "source": [
    "**Originally Contributed by**: Clayton Barrows"
   ],
   "metadata": {}
  },
  {
   "cell_type": "markdown",
   "source": [
    "## Introduction"
   ],
   "metadata": {}
  },
  {
   "cell_type": "markdown",
   "source": [
    "An example of how to parse add time series data to a `System` using [PowerSystems.jl](github.com/NREL-SIIP/PowerSystems.jl)\n",
    "\n",
    "For example, a `System` created by [parsing a MATPOWER file](../../notebook/PowerSystems_examples/parse_matpower.ipynb)\n",
    "doesn't contain any time series data. So a user may want to add forecasts to the `System`\n",
    "### Dependencies\n",
    "Let's use the 5-bus dataset we parsed in the MATPOWER example"
   ],
   "metadata": {}
  },
  {
   "outputs": [
    {
     "name": "stdout",
     "output_type": "stream",
     "text": [
      "Project SIIPExamples v0.0.1\n",
      "Status `~/Documents/repos/SIIPExamples.jl/Project.toml`\n",
      "  [336ed68f] CSV v0.7.7\n",
      "  [9961bab8] Cbc v0.7.0\n",
      "  [41994980] D3TypeTrees v0.1.1\n",
      "  [a93c6f00] DataFrames v0.21.6\n",
      "  [becb17da] Feather v0.5.6\n",
      "  [60bf3e95] GLPK v0.13.0\n",
      "  [2cd47ed4] InfrastructureSystems v0.15.0\n",
      "  [b6b21f68] Ipopt v0.6.3\n",
      "  [2535ab7d] JSON2 v0.3.2\n",
      "  [4076af6c] JuMP v0.21.3\n",
      "  [98b081ad] Literate v2.5.1\n",
      "  [47be7bcc] ORCA v0.4.0\n",
      "  [f0f68f2c] PlotlyJS v0.13.1\n",
      "  [91a5bcdd] Plots v1.5.8\n",
      "  [5f7eddb3] PowerGraphics v0.5.1\n",
      "  [e690365d] PowerSimulations v0.6.2\n",
      "  [bcd98974] PowerSystems v0.25.0\n",
      "  [9e3dc215] TimeSeries v0.18.0\n",
      "  [f269a46b] TimeZones v1.3.1\n",
      "  [0f1e0344] WebIO v0.8.14\n",
      "  [ade2ca70] Dates \n",
      "  [56ddb016] Logging \n",
      "  [44cfe95a] Pkg \n",
      "  [9a3f8284] Random \n",
      "  [10745b16] Statistics \n",
      "  [8dfed614] Test \n",
      "┌ Info: extending matpower format with data: areas 1x3\n",
      "└ @ PowerSystems /Users/cbarrows/.julia/packages/PowerSystems/PkG3S/src/parsers/pm_io/matpower.jl:332\n",
      "┌ Info: extending matpower format with data: gen_name 7x4\n",
      "└ @ PowerSystems /Users/cbarrows/.julia/packages/PowerSystems/PkG3S/src/parsers/pm_io/matpower.jl:332\n",
      "┌ Info: extending matpower format by appending matrix \"gen_name\" in to \"gen\"\n",
      "└ @ PowerSystems /Users/cbarrows/.julia/packages/PowerSystems/PkG3S/src/parsers/pm_io/matpower.jl:665\n",
      "┌ Info: reversing the orientation of branch 6 (4, 3) to be consistent with other parallel branches\n",
      "└ @ PowerSystems /Users/cbarrows/.julia/packages/PowerSystems/PkG3S/src/parsers/pm_io/data.jl:1218\n",
      "┌ Info: the voltage setpoint on generator 4 does not match the value at bus 4\n",
      "└ @ PowerSystems /Users/cbarrows/.julia/packages/PowerSystems/PkG3S/src/parsers/pm_io/data.jl:1686\n",
      "┌ Info: the voltage setpoint on generator 1 does not match the value at bus 1\n",
      "└ @ PowerSystems /Users/cbarrows/.julia/packages/PowerSystems/PkG3S/src/parsers/pm_io/data.jl:1686\n",
      "┌ Info: the voltage setpoint on generator 5 does not match the value at bus 10\n",
      "└ @ PowerSystems /Users/cbarrows/.julia/packages/PowerSystems/PkG3S/src/parsers/pm_io/data.jl:1686\n",
      "┌ Info: the voltage setpoint on generator 2 does not match the value at bus 1\n",
      "└ @ PowerSystems /Users/cbarrows/.julia/packages/PowerSystems/PkG3S/src/parsers/pm_io/data.jl:1686\n",
      "┌ Info: the voltage setpoint on generator 3 does not match the value at bus 3\n",
      "└ @ PowerSystems /Users/cbarrows/.julia/packages/PowerSystems/PkG3S/src/parsers/pm_io/data.jl:1686\n",
      "┌ Info: removing 1 cost terms from generator 4: [4000.0, 0.0]\n",
      "└ @ PowerSystems /Users/cbarrows/.julia/packages/PowerSystems/PkG3S/src/parsers/pm_io/data.jl:1867\n",
      "┌ Info: removing 1 cost terms from generator 1: [1400.0, 0.0]\n",
      "└ @ PowerSystems /Users/cbarrows/.julia/packages/PowerSystems/PkG3S/src/parsers/pm_io/data.jl:1867\n",
      "┌ Info: removing 1 cost terms from generator 5: [1000.0, 0.0]\n",
      "└ @ PowerSystems /Users/cbarrows/.julia/packages/PowerSystems/PkG3S/src/parsers/pm_io/data.jl:1867\n",
      "┌ Info: removing 1 cost terms from generator 2: [1500.0, 0.0]\n",
      "└ @ PowerSystems /Users/cbarrows/.julia/packages/PowerSystems/PkG3S/src/parsers/pm_io/data.jl:1867\n",
      "┌ Info: removing 3 cost terms from generator 6: Float64[]\n",
      "└ @ PowerSystems /Users/cbarrows/.julia/packages/PowerSystems/PkG3S/src/parsers/pm_io/data.jl:1867\n",
      "┌ Info: removing 3 cost terms from generator 7: Float64[]\n",
      "└ @ PowerSystems /Users/cbarrows/.julia/packages/PowerSystems/PkG3S/src/parsers/pm_io/data.jl:1867\n",
      "┌ Info: removing 1 cost terms from generator 3: [3000.0, 0.0]\n",
      "└ @ PowerSystems /Users/cbarrows/.julia/packages/PowerSystems/PkG3S/src/parsers/pm_io/data.jl:1867\n",
      "┌ Info: Constructing System from Power Models\n",
      "│   data[\"name\"] = nesta_case5_pjm\n",
      "│   data[\"source_type\"] = matpower\n",
      "└ @ PowerSystems /Users/cbarrows/.julia/packages/PowerSystems/PkG3S/src/parsers/power_models_data.jl:39\n",
      "┌ Info: Reading bus data\n",
      "└ @ PowerSystems /Users/cbarrows/.julia/packages/PowerSystems/PkG3S/src/parsers/power_models_data.jl:140\n",
      "┌ Info: Reading generator data\n",
      "└ @ PowerSystems /Users/cbarrows/.julia/packages/PowerSystems/PkG3S/src/parsers/power_models_data.jl:418\n",
      "┌ Info: Reading branch data\n",
      "└ @ PowerSystems /Users/cbarrows/.julia/packages/PowerSystems/PkG3S/src/parsers/power_models_data.jl:575\n",
      "┌ Info: Reading branch data\n",
      "└ @ PowerSystems /Users/cbarrows/.julia/packages/PowerSystems/PkG3S/src/parsers/power_models_data.jl:638\n",
      "┌ Info: Reading DC Line data\n",
      "└ @ PowerSystems /Users/cbarrows/.julia/packages/PowerSystems/PkG3S/src/parsers/power_models_data.jl:609\n"
     ]
    },
    {
     "output_type": "execute_result",
     "data": {
      "text/plain": "System\n======\nSystem Units Base: SYSTEM_BASE\nBase Power: 100.0\nBase Frequency: 60.0\n\nComponents\n==========\nNum components: 24\n\n8×3 DataFrame. Omitted printing of 2 columns\n│ Row │ ConcreteType             │\n│     │ \u001b[90mString\u001b[39m                   │\n├─────┼──────────────────────────┤\n│ 1   │ Area                     │\n│ 2   │ Bus                      │\n│ 3   │ Line                     │\n│ 4   │ LoadZone                 │\n│ 5   │ PhaseShiftingTransformer │\n│ 6   │ PowerLoad                │\n│ 7   │ RenewableDispatch        │\n│ 8   │ ThermalStandard          │\n\nForecasts\n=========\nResolution: 0 seconds\nHorizon: 0\nInitial Times: \nInterval: 0 seconds\nComponents with Forecasts: 0\nTotal Forecasts: 0\n",
      "text/html": [
       "<h1>System</h1>\n",
       "<p><b>Base Power</b>: 100.0</p>\n",
       "<h2>Components</h2>\n",
       "<p><b>Num components</b>: 24</p>\n",
       "<table class=\"data-frame\"><thead><tr><th></th><th>ConcreteType</th><th>SuperTypes</th><th>Count</th></tr><tr><th></th><th>String</th><th>String</th><th>Int64</th></tr></thead><tbody><p>8 rows × 3 columns</p><tr><th>1</th><td>Area</td><td>AggregationTopology &lt;: Topology &lt;: Component &lt;: PowerSystemType &lt;: InfrastructureSystemsType &lt;: Any</td><td>1</td></tr><tr><th>2</th><td>Bus</td><td>Topology &lt;: Component &lt;: PowerSystemType &lt;: InfrastructureSystemsType &lt;: Any</td><td>5</td></tr><tr><th>3</th><td>Line</td><td>ACBranch &lt;: Branch &lt;: Device &lt;: Component &lt;: PowerSystemType &lt;: InfrastructureSystemsType &lt;: Any</td><td>5</td></tr><tr><th>4</th><td>LoadZone</td><td>AggregationTopology &lt;: Topology &lt;: Component &lt;: PowerSystemType &lt;: InfrastructureSystemsType &lt;: Any</td><td>1</td></tr><tr><th>5</th><td>PhaseShiftingTransformer</td><td>ACBranch &lt;: Branch &lt;: Device &lt;: Component &lt;: PowerSystemType &lt;: InfrastructureSystemsType &lt;: Any</td><td>2</td></tr><tr><th>6</th><td>PowerLoad</td><td>StaticLoad &lt;: ElectricLoad &lt;: StaticInjection &lt;: Device &lt;: Component &lt;: PowerSystemType &lt;: InfrastructureSystemsType &lt;: Any</td><td>3</td></tr><tr><th>7</th><td>RenewableDispatch</td><td>RenewableGen &lt;: Generator &lt;: StaticInjection &lt;: Device &lt;: Component &lt;: PowerSystemType &lt;: InfrastructureSystemsType &lt;: Any</td><td>2</td></tr><tr><th>8</th><td>ThermalStandard</td><td>ThermalGen &lt;: Generator &lt;: StaticInjection &lt;: Device &lt;: Component &lt;: PowerSystemType &lt;: InfrastructureSystemsType &lt;: Any</td><td>5</td></tr></tbody></table>\n",
       "\n",
       "<h2>Forecasts</h2>\n",
       "<p><b>Resolution</b>: 0 seconds</p>\n",
       "<p><b>Horizon</b>: 0</p>\n",
       "<p><b>Initial Times</b>: </p>\n",
       "<p><b>Interval</b>: 0 seconds</p>\n",
       "<p><b>Components with Forecasts</b>: 0</p>\n",
       "<p><b>Total Forecasts</b>: 0</p>\n"
      ]
     },
     "metadata": {},
     "execution_count": 1
    }
   ],
   "cell_type": "code",
   "source": [
    "using SIIPExamples\n",
    "pkgpath = dirname(dirname(pathof(SIIPExamples)))\n",
    "include(joinpath(pkgpath, \"test\", \"PowerSystems_examples\", \"parse_matpower.jl\"))"
   ],
   "metadata": {},
   "execution_count": 1
  },
  {
   "cell_type": "markdown",
   "source": [
    "### Define pointers to time series files\n",
    "For example, if we want to add a bunch of time series files, say one for each load and\n",
    "one for each renewable generator, we need to define pointers to each .csv file containing\n",
    "the time series in the following format (PowerSystems.jl also supports a CSV format for this file)"
   ],
   "metadata": {}
  },
  {
   "outputs": [
    {
     "name": "stdout",
     "output_type": "stream",
     "text": [
      "[\n",
      "    {\n",
      "        \"simulation\": \"DAY_AHEAD\",\n",
      "        \"category\": \"Generator\",\n",
      "        \"component_name\": \"SolarBusC\",\n",
      "        \"label\": \"get_max_active_power\",\n",
      "        \"scaling_factor\": 1.0,\n",
      "        \"data_file\": \"./gen/Renewable/PV/da_solar5.csv\"\n",
      "    },\n",
      "    {\n",
      "        \"simulation\": \"DAY_AHEAD\",\n",
      "        \"category\": \"Generator\",\n",
      "        \"component_name\": \"WindBusA\",\n",
      "        \"label\": \"get_max_active_power\",\n",
      "        \"scaling_factor\": 1.0,\n",
      "        \"data_file\": \"./gen/Renewable/WIND/da_wind5.csv\"\n",
      "    },\n",
      "    {\n",
      "        \"simulation\": \"DAY_AHEAD\",\n",
      "        \"category\": \"ElectricLoad\",\n",
      "        \"component_name\": \"bus2\",\n",
      "        \"label\": \"get_max_active_power\",\n",
      "        \"scaling_factor\": 1.0,\n",
      "        \"data_file\": \"./load/da_load5.csv\"\n",
      "    },\n",
      "    {\n",
      "        \"simulation\": \"DAY_AHEAD\",\n",
      "        \"category\": \"ElectricLoad\",\n",
      "        \"component_name\": \"bus3\",\n",
      "        \"label\": \"get_max_active_power\",\n",
      "        \"scaling_factor\": 1.0,\n",
      "        \"data_file\": \"./load/da_load5.csv\"\n",
      "    },\n",
      "    {\n",
      "        \"simulation\": \"DAY_AHEAD\",\n",
      "        \"category\": \"ElectricLoad\",\n",
      "        \"component_name\": \"bus4\",\n",
      "        \"label\": \"get_max_active_power\",\n",
      "        \"scaling_factor\": 1.0,\n",
      "        \"data_file\": \"./load/da_load5.csv\"\n",
      "    }\n",
      "]\n"
     ]
    }
   ],
   "cell_type": "code",
   "source": [
    "FORECASTS_DIR = joinpath(base_dir, \"forecasts\", \"5bus_ts\")\n",
    "fname = joinpath(FORECASTS_DIR, \"timeseries_pointers_da.json\")\n",
    "open(fname, \"r\") do f\n",
    "    for line in eachline(f)\n",
    "        println(line)\n",
    "    end\n",
    "end"
   ],
   "metadata": {},
   "execution_count": 2
  },
  {
   "cell_type": "markdown",
   "source": [
    "### Read the pointers"
   ],
   "metadata": {}
  },
  {
   "outputs": [
    {
     "output_type": "execute_result",
     "data": {
      "text/plain": "5-element Array{InfrastructureSystems.TimeseriesFileMetadata,1}:\n InfrastructureSystems.TimeseriesFileMetadata(\"DAY_AHEAD\", \"Generator\", \"SolarBusC\", \"get_max_active_power\", 1.0, \"/Users/cbarrows/.julia/packages/PowerSystems/PkG3S/data/forecasts/5bus_ts/gen/Renewable/PV/da_solar5.csv\", Float64[], \"DeterministicInternal\", nothing)\n InfrastructureSystems.TimeseriesFileMetadata(\"DAY_AHEAD\", \"Generator\", \"WindBusA\", \"get_max_active_power\", 1.0, \"/Users/cbarrows/.julia/packages/PowerSystems/PkG3S/data/forecasts/5bus_ts/gen/Renewable/WIND/da_wind5.csv\", Float64[], \"DeterministicInternal\", nothing)\n InfrastructureSystems.TimeseriesFileMetadata(\"DAY_AHEAD\", \"ElectricLoad\", \"bus2\", \"get_max_active_power\", 1.0, \"/Users/cbarrows/.julia/packages/PowerSystems/PkG3S/data/forecasts/5bus_ts/load/da_load5.csv\", Float64[], \"DeterministicInternal\", nothing)\n InfrastructureSystems.TimeseriesFileMetadata(\"DAY_AHEAD\", \"ElectricLoad\", \"bus3\", \"get_max_active_power\", 1.0, \"/Users/cbarrows/.julia/packages/PowerSystems/PkG3S/data/forecasts/5bus_ts/load/da_load5.csv\", Float64[], \"DeterministicInternal\", nothing)\n InfrastructureSystems.TimeseriesFileMetadata(\"DAY_AHEAD\", \"ElectricLoad\", \"bus4\", \"get_max_active_power\", 1.0, \"/Users/cbarrows/.julia/packages/PowerSystems/PkG3S/data/forecasts/5bus_ts/load/da_load5.csv\", Float64[], \"DeterministicInternal\", nothing)"
     },
     "metadata": {},
     "execution_count": 3
    }
   ],
   "cell_type": "code",
   "source": [
    "ts_pointers = PowerSystems.IS.read_time_series_metadata(fname)"
   ],
   "metadata": {},
   "execution_count": 3
  },
  {
   "cell_type": "markdown",
   "source": [
    "### Read and assign forecasts to `System` using the `ts_pointers` struct"
   ],
   "metadata": {}
  },
  {
   "outputs": [
    {
     "output_type": "execute_result",
     "data": {
      "text/plain": "System\n======\nSystem Units Base: SYSTEM_BASE\nBase Power: 100.0\nBase Frequency: 60.0\n\nComponents\n==========\nNum components: 24\n\n8×3 DataFrame. Omitted printing of 2 columns\n│ Row │ ConcreteType             │\n│     │ \u001b[90mString\u001b[39m                   │\n├─────┼──────────────────────────┤\n│ 1   │ Area                     │\n│ 2   │ Bus                      │\n│ 3   │ Line                     │\n│ 4   │ LoadZone                 │\n│ 5   │ PhaseShiftingTransformer │\n│ 6   │ PowerLoad                │\n│ 7   │ RenewableDispatch        │\n│ 8   │ ThermalStandard          │\n\nForecasts\n=========\nResolution: 60 minutes\nHorizon: 24\nInitial Times: 2020-08-06T00:00:00\nInterval: 0 seconds\nComponents with Forecasts: 5\nTotal Forecasts: 5\n",
      "text/html": [
       "<h1>System</h1>\n",
       "<p><b>Base Power</b>: 100.0</p>\n",
       "<h2>Components</h2>\n",
       "<p><b>Num components</b>: 24</p>\n",
       "<table class=\"data-frame\"><thead><tr><th></th><th>ConcreteType</th><th>SuperTypes</th><th>Count</th></tr><tr><th></th><th>String</th><th>String</th><th>Int64</th></tr></thead><tbody><p>8 rows × 3 columns</p><tr><th>1</th><td>Area</td><td>AggregationTopology &lt;: Topology &lt;: Component &lt;: PowerSystemType &lt;: InfrastructureSystemsType &lt;: Any</td><td>1</td></tr><tr><th>2</th><td>Bus</td><td>Topology &lt;: Component &lt;: PowerSystemType &lt;: InfrastructureSystemsType &lt;: Any</td><td>5</td></tr><tr><th>3</th><td>Line</td><td>ACBranch &lt;: Branch &lt;: Device &lt;: Component &lt;: PowerSystemType &lt;: InfrastructureSystemsType &lt;: Any</td><td>5</td></tr><tr><th>4</th><td>LoadZone</td><td>AggregationTopology &lt;: Topology &lt;: Component &lt;: PowerSystemType &lt;: InfrastructureSystemsType &lt;: Any</td><td>1</td></tr><tr><th>5</th><td>PhaseShiftingTransformer</td><td>ACBranch &lt;: Branch &lt;: Device &lt;: Component &lt;: PowerSystemType &lt;: InfrastructureSystemsType &lt;: Any</td><td>2</td></tr><tr><th>6</th><td>PowerLoad</td><td>StaticLoad &lt;: ElectricLoad &lt;: StaticInjection &lt;: Device &lt;: Component &lt;: PowerSystemType &lt;: InfrastructureSystemsType &lt;: Any</td><td>3</td></tr><tr><th>7</th><td>RenewableDispatch</td><td>RenewableGen &lt;: Generator &lt;: StaticInjection &lt;: Device &lt;: Component &lt;: PowerSystemType &lt;: InfrastructureSystemsType &lt;: Any</td><td>2</td></tr><tr><th>8</th><td>ThermalStandard</td><td>ThermalGen &lt;: Generator &lt;: StaticInjection &lt;: Device &lt;: Component &lt;: PowerSystemType &lt;: InfrastructureSystemsType &lt;: Any</td><td>5</td></tr></tbody></table>\n",
       "\n",
       "<h2>Forecasts</h2>\n",
       "<p><b>Resolution</b>: 60 minutes</p>\n",
       "<p><b>Horizon</b>: 24</p>\n",
       "<p><b>Initial Times</b>: 2020-08-06T00:00:00</p>\n",
       "<p><b>Interval</b>: 0 seconds</p>\n",
       "<p><b>Components with Forecasts</b>: 5</p>\n",
       "<p><b>Total Forecasts</b>: 5</p>\n"
      ]
     },
     "metadata": {},
     "execution_count": 4
    }
   ],
   "cell_type": "code",
   "source": [
    "add_forecasts!(sys, ts_pointers)\n",
    "sys"
   ],
   "metadata": {},
   "execution_count": 4
  },
  {
   "cell_type": "markdown",
   "source": [
    "---\n",
    "\n",
    "*This notebook was generated using [Literate.jl](https://github.com/fredrikekre/Literate.jl).*"
   ],
   "metadata": {}
  }
 ],
 "nbformat_minor": 3,
 "metadata": {
  "language_info": {
   "file_extension": ".jl",
   "mimetype": "application/julia",
   "name": "julia",
   "version": "1.4.0"
  },
  "kernelspec": {
   "name": "julia-1.4",
   "display_name": "Julia 1.4.0",
   "language": "julia"
  }
 },
 "nbformat": 4
}
